{
  "nbformat": 4,
  "nbformat_minor": 0,
  "metadata": {
    "colab": {
      "provenance": [],
      "authorship_tag": "ABX9TyOlUYWlfabif5dVj+nbHSJy",
      "include_colab_link": true
    },
    "kernelspec": {
      "name": "python3",
      "display_name": "Python 3"
    },
    "language_info": {
      "name": "python"
    }
  },
  "cells": [
    {
      "cell_type": "markdown",
      "metadata": {
        "id": "view-in-github",
        "colab_type": "text"
      },
      "source": [
        "<a href=\"https://colab.research.google.com/github/csanicola74/Important_Reference_Repo/blob/main/w3resource_python.ipynb\" target=\"_parent\"><img src=\"https://colab.research.google.com/assets/colab-badge.svg\" alt=\"Open In Colab\"/></a>"
      ]
    },
    {
      "cell_type": "markdown",
      "source": [
        "# Learning Python through W3Resource.com\n",
        "Links:\n",
        "  * [Python](https://www.w3resource.com/python/python-syntax.php)\n",
        "  * [Exercises](https://www.w3resource.com/python-exercises/)"
      ],
      "metadata": {
        "id": "7IYzQ9H6rZtY"
      }
    },
    {
      "cell_type": "code",
      "execution_count": null,
      "metadata": {
        "colab": {
          "base_uri": "https://localhost:8080/"
        },
        "id": "U2Vc3eOpqfUx",
        "outputId": "ffb922eb-0367-431f-ae0c-c9aa19c67be1"
      },
      "outputs": [
        {
          "output_type": "stream",
          "name": "stdout",
          "text": [
            "Twinkle, twinkle, little star, \n",
            "\tHow I wonder what you are! \n",
            "\t\tUp above the world so high, \n",
            "\t\tLike a diamond in the sky. \n",
            "Twinkle, twinkle, little star, \n",
            "\tHow I wonder what you are!\n"
          ]
        }
      ],
      "source": [
        "# Excercise 1: Write a Python program to print the following string in a specific format (see the output).\n",
        "# Sample String: \"Twinkle, twinkle, little star, How I wonder what you are! Up above the world so high, Like a diamond in the sky. Twinkle, twinkle, little star, How I wonder what you are\"\n",
        "# Output:\n",
        "  # Twinkle, twinkle, little star,\n",
        "\t    # How I wonder what you are!\n",
        "\t            #\tUp above the world so high,\n",
        "\t            #\tLike a diamond in the sky.\n",
        "  # Twinkle, twinkle, little star,\n",
        "\t    # How I wonder what you are\n",
        "#################\n",
        "### REFERENCE ###\n",
        "#################\n",
        "# \\n_________ = new line\n",
        "# \\n\\t_______ = new line and a tab in\n",
        "# \\n\\t\\t_____ = new line and 2 tabs in\n",
        "print(\"Twinkle, twinkle, little star, \\n\\tHow I wonder what you are! \\n\\t\\tUp above the world so high, \\n\\t\\tLike a diamond in the sky. \\nTwinkle, twinkle, little star, \\n\\tHow I wonder what you are!\")"
      ]
    },
    {
      "cell_type": "code",
      "source": [
        "# Exercise 2: Write a Python program to find out what version fo Python you are using.\n",
        "# version 1\n",
        "import sys  # Import the sys module to access system-specific parameters and functions\n",
        "\n",
        "# Print the Python version to the console\n",
        "print(\"Python version\")\n",
        "\n",
        "# Use the sys.version attribute to get the Python version and print it\n",
        "print(sys.version)\n",
        "\n",
        "# Print information about the Python version\n",
        "print(\"Version info.\")\n",
        "\n",
        "# Use the sys.version_info attribute to get detailed version information and print it\n",
        "print(sys.version_info)\n",
        "\n",
        "\n",
        "# version 2\n",
        "import platform\n",
        "print(platform.python_version())"
      ],
      "metadata": {
        "colab": {
          "base_uri": "https://localhost:8080/"
        },
        "id": "h4Uhetyxtv18",
        "outputId": "4866c106-d99b-412d-fe1a-9a422e688cb9"
      },
      "execution_count": null,
      "outputs": [
        {
          "output_type": "stream",
          "name": "stdout",
          "text": [
            "Python version\n",
            "3.10.12 (main, Nov 20 2023, 15:14:05) [GCC 11.4.0]\n",
            "Version info.\n",
            "sys.version_info(major=3, minor=10, micro=12, releaselevel='final', serial=0)\n",
            "3.10.12\n"
          ]
        }
      ]
    },
    {
      "cell_type": "code",
      "source": [
        "# Exercise 3: Write a Python program to display the current date and time.\n",
        "# Sample Output:\n",
        "# Current date and time :\n",
        "# 2014-07-05 14:34:14\n",
        "\n",
        "# Import the 'datetime' module to work with date and time\n",
        "import datetime\n",
        "\n",
        "# Get the current date and time\n",
        "now = datetime.datetime.now()\n",
        "\n",
        "# Create a datetime object representing the current date and time\n",
        "\n",
        "# Display a message indicating what is being printed\n",
        "print(\"Current date and time: \")\n",
        "\n",
        "# Print the current date and time in a specific format\n",
        "print(now.strftime(\"%Y-%m-%d %H:%M:%S\"))\n",
        "\n",
        "# Use the 'strftime' method to format the datetime object as a string with the desired format"
      ],
      "metadata": {
        "colab": {
          "base_uri": "https://localhost:8080/"
        },
        "id": "_NASPp0cyseB",
        "outputId": "679df7ac-bef3-45b0-a880-90672041137f"
      },
      "execution_count": null,
      "outputs": [
        {
          "output_type": "stream",
          "name": "stdout",
          "text": [
            "Current date and time: \n",
            "2024-03-18 18:32:39\n"
          ]
        }
      ]
    },
    {
      "cell_type": "code",
      "source": [
        "# Exercise 4: Write a Python program that calculates the area of a circle based on the radius entered by the user.\n",
        "# Sample Output:\n",
        "# r = 1.1\n",
        "# Area = 3.8013271108436504\n",
        "\n",
        "# Import the 'pi' constant from the 'math' module to calculate the are of a circle\n",
        "from math import pi\n",
        "\n",
        "# Prompt the user to input the radius of the circle\n",
        "r = float(input(\"Input the radius of the circle: \"))\n",
        "\n",
        "# Calculate the are of the circle using the formula: area = π * r^2\n",
        "area = pi * r ** 2\n",
        "\n",
        "# Dispaly the result, including the radius and calculated area\n",
        "print(\"The area of the circle with radius \" + str(r) + \" is: \" + str(area))\n"
      ],
      "metadata": {
        "colab": {
          "base_uri": "https://localhost:8080/"
        },
        "id": "6Zit_DzP1_Rf",
        "outputId": "d031c496-6d49-4da6-a531-9465d27ccb36"
      },
      "execution_count": null,
      "outputs": [
        {
          "output_type": "stream",
          "name": "stdout",
          "text": [
            "Input the radius of the circle: 15\n",
            "The area of the circle with radius 15.0 is: 706.8583470577034\n"
          ]
        }
      ]
    },
    {
      "cell_type": "code",
      "source": [
        "# Exercise 5: Write a Python program that accepts the user's first and last name and prints them in reverse order with a space between them\n",
        "\n",
        "first_name = input(\"What is your first name: \")\n",
        "last_name = input(\"What is your last name: \")\n",
        "print(last_name + \" \" + first_name)"
      ],
      "metadata": {
        "colab": {
          "base_uri": "https://localhost:8080/"
        },
        "id": "epYh_8kR-h8f",
        "outputId": "a4dfa45e-a6f5-4ea5-97af-c8ad9cf8f554"
      },
      "execution_count": null,
      "outputs": [
        {
          "output_type": "stream",
          "name": "stdout",
          "text": [
            "What is your first name: Caroline\n",
            "What is your last name: Sanicola\n",
            "Sanicola Caroline\n"
          ]
        }
      ]
    },
    {
      "cell_type": "code",
      "source": [
        "# Exercise 6: Write a Python program that accepts a sequence of comma-separated numbers from the user and generates a list of a tuple from those numbers.\n",
        "# Sample data: 3, 5, 7, 23\n",
        "# Output:\n",
        "#   List: ['3', '5', '7', '23']\n",
        "#   Tuple: ('3', '5', '7', '23')\n",
        "\n",
        "# Prompt the user to input a sequence of comma-separated numbers and store it in the 'values' variable\n",
        "values = input(\"Input some comma-separated numbers: \")\n",
        "\n",
        "# Split the 'values' string into a list using commas as separators and store it in the 'list' variable\n",
        "list = values.split(\",\")\n",
        "\n",
        "# Convert the 'list' into a tuple and store it in the 'tuple' variable\n",
        "tuple = tuple(list)\n",
        "\n",
        "# Print the list\n",
        "print('List: ', list)\n",
        "\n",
        "# Print the tuple\n",
        "print('Tuble: ', tuple)"
      ],
      "metadata": {
        "colab": {
          "base_uri": "https://localhost:8080/"
        },
        "id": "MXuFg50a_c2x",
        "outputId": "cb27aa4f-2b64-4304-d83d-51de86009e0b"
      },
      "execution_count": null,
      "outputs": [
        {
          "output_type": "stream",
          "name": "stdout",
          "text": [
            "Input some comma-separated numbers: 5, 65, 86, 2510, 8, 100\n",
            "List:  ['5', ' 65', ' 86', ' 2510', ' 8', ' 100']\n",
            "Tuble:  ('5', ' 65', ' 86', ' 2510', ' 8', ' 100')\n"
          ]
        }
      ]
    }
  ]
}