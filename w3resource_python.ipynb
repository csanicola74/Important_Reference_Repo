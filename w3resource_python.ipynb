{
  "nbformat": 4,
  "nbformat_minor": 0,
  "metadata": {
    "colab": {
      "provenance": [],
      "authorship_tag": "ABX9TyPjCyIWrIrOuZZJDr88nU1P",
      "include_colab_link": true
    },
    "kernelspec": {
      "name": "python3",
      "display_name": "Python 3"
    },
    "language_info": {
      "name": "python"
    }
  },
  "cells": [
    {
      "cell_type": "markdown",
      "metadata": {
        "id": "view-in-github",
        "colab_type": "text"
      },
      "source": [
        "<a href=\"https://colab.research.google.com/github/csanicola74/Important_Reference_Repo/blob/main/w3resource_python.ipynb\" target=\"_parent\"><img src=\"https://colab.research.google.com/assets/colab-badge.svg\" alt=\"Open In Colab\"/></a>"
      ]
    },
    {
      "cell_type": "markdown",
      "source": [
        "# Learning Python through W3Resource.com\n",
        "Links:\n",
        "  * [Python](https://www.w3resource.com/python/python-syntax.php)\n",
        "  * [Exercises](https://www.w3resource.com/python-exercises/)"
      ],
      "metadata": {
        "id": "7IYzQ9H6rZtY"
      }
    },
    {
      "cell_type": "markdown",
      "source": [
        "# Exercise"
      ],
      "metadata": {
        "id": "tgm9kgvfSvLh"
      }
    },
    {
      "cell_type": "markdown",
      "source": [
        "## #1\n",
        "Write a Python program to print the following string in a specific format (see the output)."
      ],
      "metadata": {
        "id": "qZ7JSXaASyYG"
      }
    },
    {
      "cell_type": "code",
      "execution_count": 27,
      "metadata": {
        "colab": {
          "base_uri": "https://localhost:8080/"
        },
        "id": "U2Vc3eOpqfUx",
        "outputId": "59bf93fe-ab79-4e68-8f31-45819e0988e8"
      },
      "outputs": [
        {
          "output_type": "stream",
          "name": "stdout",
          "text": [
            "Twinkle, twinkle, little star, \n",
            "\tHow I wonder what you are! \n",
            "\t\tUp above the world so high, \n",
            "\t\tLike a diamond in the sky. \n",
            "Twinkle, twinkle, little star, \n",
            "\tHow I wonder what you are!\n"
          ]
        }
      ],
      "source": [
        "# Sample String: \"Twinkle, twinkle, little star, How I wonder what you are! Up above the world so high, Like a diamond in the sky. Twinkle, twinkle, little star, How I wonder what you are\"\n",
        "# Output:\n",
        "  # Twinkle, twinkle, little star,\n",
        "\t    # How I wonder what you are!\n",
        "\t            #\tUp above the world so high,\n",
        "\t            #\tLike a diamond in the sky.\n",
        "  # Twinkle, twinkle, little star,\n",
        "\t    # How I wonder what you are\n",
        "#################\n",
        "### REFERENCE ###\n",
        "#################\n",
        "# \\n_________ = new line\n",
        "# \\n\\t_______ = new line and a tab in\n",
        "# \\n\\t\\t_____ = new line and 2 tabs in\n",
        "print(\"Twinkle, twinkle, little star, \\n\\tHow I wonder what you are! \\n\\t\\tUp above the world so high, \\n\\t\\tLike a diamond in the sky. \\nTwinkle, twinkle, little star, \\n\\tHow I wonder what you are!\")"
      ]
    },
    {
      "cell_type": "markdown",
      "source": [
        "The print statement (Python 2.6) has been replaced with a print() function(Python 2.6), with keyword arguments to replace most of the special syntax of  the old print statement .\n",
        "The print() function doesn’t support the “softspace” feature of the old print statement. For example, in Python 2.x, print \"A\\n\", \"B\" would write \"A\\nB\\n\"; but in Python 3.0, print(\"A\\n\", \"B\") writes \"A\\n B\\n\".\n",
        "Initially, you’ll be finding yourself typing the old print x a lot in interactive mode. Time to retrain your fingers to type print(x) instead!\n",
        "When using the 2to3 source-to-source conversion tool, all print statements are automatically converted to print() function calls, so this is mostly a non-issue for larger projects."
      ],
      "metadata": {
        "id": "HqNzhfX1S5Gq"
      }
    },
    {
      "cell_type": "markdown",
      "source": [
        "## #2\n",
        "Write a Python program to find out what version fo Python you are using."
      ],
      "metadata": {
        "id": "UBOGEOgiTF03"
      }
    },
    {
      "cell_type": "code",
      "source": [
        "# version 1\n",
        "import sys  # Import the sys module to access system-specific parameters and functions\n",
        "\n",
        "# Print the Python version to the console\n",
        "print(\"Python version\")\n",
        "\n",
        "# Use the sys.version attribute to get the Python version and print it\n",
        "print(sys.version)\n",
        "\n",
        "# Print information about the Python version\n",
        "print(\"Version info.\")\n",
        "\n",
        "# Use the sys.version_info attribute to get detailed version information and print it\n",
        "print(sys.version_info)\n",
        "\n",
        "\n",
        "# version 2\n",
        "import platform\n",
        "print(platform.python_version())"
      ],
      "metadata": {
        "colab": {
          "base_uri": "https://localhost:8080/"
        },
        "id": "h4Uhetyxtv18",
        "outputId": "3d0efae4-5fd3-4d7c-d3bb-117f885cf525"
      },
      "execution_count": 28,
      "outputs": [
        {
          "output_type": "stream",
          "name": "stdout",
          "text": [
            "Python version\n",
            "3.10.12 (main, Nov 20 2023, 15:14:05) [GCC 11.4.0]\n",
            "Version info.\n",
            "sys.version_info(major=3, minor=10, micro=12, releaselevel='final', serial=0)\n",
            "3.10.12\n"
          ]
        }
      ]
    },
    {
      "cell_type": "markdown",
      "source": [
        "**Explanation:**\n",
        "The said code imports the \"sys\" module and then uses it to print the version of Python currently being used, as well as additional version information.\n",
        "The first line imports the \"sys\" module provides access to some variables used or maintained by the interpreter and to functions that interact strongly with the interpreter. It is always available.\n",
        "The second line prints the string \"Python version\".\n",
        "The third line prints the version of Python currently being used to the console.\n",
        "The fourth line prints the string \"Version info.\".\n",
        "The fifth line prints version information of the current Python interpreter. It returns a named tuple (version_info) containing the five components of the version number: major, minor, micro, releaselevel, and serial.\n"
      ],
      "metadata": {
        "id": "nAENcJ_4TPd9"
      }
    },
    {
      "cell_type": "markdown",
      "source": [
        "## #3\n",
        "Write a Python program to display the current date and time."
      ],
      "metadata": {
        "id": "fflC0MgzTYNv"
      }
    },
    {
      "cell_type": "code",
      "source": [
        "# Sample Output:\n",
        "# Current date and time :\n",
        "# 2014-07-05 14:34:14\n",
        "\n",
        "# Import the 'datetime' module to work with date and time\n",
        "import datetime\n",
        "\n",
        "# Get the current date and time\n",
        "now = datetime.datetime.now()\n",
        "\n",
        "# Create a datetime object representing the current date and time\n",
        "\n",
        "# Display a message indicating what is being printed\n",
        "print(\"Current date and time: \")\n",
        "\n",
        "# Print the current date and time in a specific format\n",
        "print(now.strftime(\"%Y-%m-%d %H:%M:%S\"))\n",
        "\n",
        "# Use the 'strftime' method to format the datetime object as a string with the desired format"
      ],
      "metadata": {
        "colab": {
          "base_uri": "https://localhost:8080/"
        },
        "id": "_NASPp0cyseB",
        "outputId": "57d9c897-ced5-41bc-f625-e17813e1af22"
      },
      "execution_count": 29,
      "outputs": [
        {
          "output_type": "stream",
          "name": "stdout",
          "text": [
            "Current date and time: \n",
            "2024-03-20 19:56:29\n"
          ]
        }
      ]
    },
    {
      "cell_type": "markdown",
      "source": [
        "**Explanation:**\n",
        "The said code imports the \"datetime\" module, gets the current date and time, and finally prints it in a formatted string.\n",
        "The first line import datetime imports the datetime module which supplies classes for manipulating dates and times.\n",
        "The second line now = datetime.datetime.now() creates a datetime object for the current date and time.\n",
        "The third line print (\"Current date and time : \") prints the string \"Current date and time : \" to the console.\n",
        "The fourth line print (now.strftime(\"%Y-%m-%d %H:%M:%S\")) uses the strftime() method of the datetime object to format the date and time as a string in the format \"YYYY-MM-DD HH:MM:SS\" and prints it to the console.\n",
        "The strftime() method returns a string representing the date, controlled by an explicit format string. The format codes used in this example are:\n",
        "%Y: year with century as a decimal number.\n",
        "%m: month as a zero-padded decimal number.\n",
        "%d: day of the month as a zero-padded decimal number.\n",
        "%H: hour (24-hour clock) as a zero-padded decimal number.\n",
        "%M: minute as a zero-padded decimal number.\n",
        "%S: second as a zero-padded decimal number.\n",
        "This code can be useful for logging or timestamping events in a program, or for displaying the current date and time in a user interface."
      ],
      "metadata": {
        "id": "qMHD3yG1TdQ0"
      }
    },
    {
      "cell_type": "markdown",
      "source": [
        "## #4\n",
        "Write a Python program that calculates the area of a circle based on the radius entered by the user."
      ],
      "metadata": {
        "id": "SJAMs0lOTiAy"
      }
    },
    {
      "cell_type": "code",
      "source": [
        "# Sample Output:\n",
        "# r = 1.1\n",
        "# Area = 3.8013271108436504\n",
        "\n",
        "# Import the 'pi' constant from the 'math' module to calculate the are of a circle\n",
        "from math import pi\n",
        "\n",
        "# Prompt the user to input the radius of the circle\n",
        "r = float(input(\"Input the radius of the circle: \"))\n",
        "\n",
        "# Calculate the are of the circle using the formula: area = π * r^2\n",
        "area = pi * r ** 2\n",
        "\n",
        "# Dispaly the result, including the radius and calculated area\n",
        "print(\"The area of the circle with radius \" + str(r) + \" is: \" + str(area))"
      ],
      "metadata": {
        "colab": {
          "base_uri": "https://localhost:8080/"
        },
        "id": "6Zit_DzP1_Rf",
        "outputId": "a7c113a3-3b6c-46ce-f0fd-d8c67ee5db89"
      },
      "execution_count": 30,
      "outputs": [
        {
          "output_type": "stream",
          "name": "stdout",
          "text": [
            "Input the radius of the circle: 12\n",
            "The area of the circle with radius 12.0 is: 452.3893421169302\n"
          ]
        }
      ]
    },
    {
      "cell_type": "markdown",
      "source": [
        "**Explanation:**\n",
        "The said code calculates the area of a circle based on the radius entered by the user. The code uses the \"math\" module's pi constant and the \"input\" function to get the radius from the user, then it uses the formula to calculate the area of the circle.\n",
        "The first line from math import pi imports the pi constant from the math module, which is the mathematical constant. It represents the ratio of a circle's circumference to its diameter (approximately equal to 3.14).\n",
        "The second line r = float(input (\"Input the radius of the circle : \")) gets the radius of the circle from the user using the input() function. input() function assigns it to the variable r, it's then cast to float, so the user can input decimal number also.\n",
        "The third line print (\"The area of the circle with radius \" + str(r) + \" is: \" + str(pi * r**2)) uses the formula to calculate the area of the circle (pi*r**2) . Then it concatenates the string and the value of the radius and area using the + operator and prints the final string.\n",
        "This code is useful to calculate the area of a circle when the radius is known, it can be used in physics and mathematical calculations or in applications that require the area of a circle to be calculated."
      ],
      "metadata": {
        "id": "UGfc75w0Tmpk"
      }
    },
    {
      "cell_type": "markdown",
      "source": [
        "## #5\n",
        "Write a Python program that accepts the user's first and last name and prints them in reverse order with a space between them"
      ],
      "metadata": {
        "id": "qZs7HF1wTq38"
      }
    },
    {
      "cell_type": "code",
      "source": [
        "first_name = input(\"What is your first name: \")\n",
        "last_name = input(\"What is your last name: \")\n",
        "print(last_name + \" \" + first_name)"
      ],
      "metadata": {
        "colab": {
          "base_uri": "https://localhost:8080/"
        },
        "id": "epYh_8kR-h8f",
        "outputId": "65cb1ce3-2da0-48b9-b6c8-66ccff1746c3"
      },
      "execution_count": 31,
      "outputs": [
        {
          "output_type": "stream",
          "name": "stdout",
          "text": [
            "What is your first name: Caroline\n",
            "What is your last name: Sanicola\n",
            "Sanicola Caroline\n"
          ]
        }
      ]
    },
    {
      "cell_type": "markdown",
      "source": [
        "**Explanation:**\n",
        "This code prompts the user to input their first and last name, and then it prints a message that combines the first name and last name in a specific order.\n",
        "The first line fname = input(\"Input your First Name : \") gets the user's first name using the input() function and assigns it to the variable 'fname'.\n",
        "The second line lname = input(\"Input your Last Name : \") gets the user's last name using the input() function and assigns it to the variable 'lname'.\n",
        "The third line print (\"Hello \" + lname + \" \" + fname) prints a message that combines the last name and first name, concatenating them with the + operator and separated by a space."
      ],
      "metadata": {
        "id": "Coh3llHbTwYw"
      }
    },
    {
      "cell_type": "markdown",
      "source": [
        "## #6\n",
        "Write a Python program that accepts a sequence of comma-separated numbers from the user and generates a list of a tuple from those numbers."
      ],
      "metadata": {
        "id": "5Y4pvLO0T0IW"
      }
    },
    {
      "cell_type": "code",
      "source": [
        "# Sample data: 3, 5, 7, 23\n",
        "# Output:\n",
        "#   List: ['3', '5', '7', '23']\n",
        "#   Tuple: ('3', '5', '7', '23')\n",
        "\n",
        "# Prompt the user to input a sequence of comma-separated numbers and store it in the 'values' variable\n",
        "values = input(\"Input some comma-separated numbers: \")\n",
        "\n",
        "# Split the 'values' string into a list using commas as separators and store it in the 'list' variable\n",
        "list = values.split(\",\")\n",
        "\n",
        "# Convert the 'list' into a tuple and store it in the 'tuple' variable\n",
        "tuple = tuple(list)\n",
        "\n",
        "# Print the list\n",
        "print('List: ', list)\n",
        "\n",
        "# Print the tuple\n",
        "print('Tuble: ', tuple)"
      ],
      "metadata": {
        "colab": {
          "base_uri": "https://localhost:8080/"
        },
        "id": "MXuFg50a_c2x",
        "outputId": "f30a4394-a6f6-4cef-adf4-472690ed938a"
      },
      "execution_count": 32,
      "outputs": [
        {
          "output_type": "stream",
          "name": "stdout",
          "text": [
            "Input some comma-separated numbers: 4, 5, 23, 87, 22, 314\n",
            "List:  ['4', ' 5', ' 23', ' 87', ' 22', ' 314']\n",
            "Tuble:  ('4', ' 5', ' 23', ' 87', ' 22', ' 314')\n"
          ]
        }
      ]
    },
    {
      "cell_type": "markdown",
      "source": [
        "**Explanation:**\n",
        "The said code prompts the user to input a list of numbers separated by commas. Then it converts the string of numbers into a list and a tuple, and finally it prints both the list and the tuple.\n",
        "The first line values = input(\"Input some comma seprated numbers : \") gets a string of numbers separated by commas from the user using the input() function and assigns it to the variable 'values'.\n",
        "The second line splits the string of numbers into a list of individual numbers using the split() method and assigns it to the variable 'list'. This method takes a separator as input, in this case ',' (comma) and returns a list of substrings that were separated by the separator.\n",
        "The third line converts the list into a tuple using the tuple() function and assigns it to the variable 'tuple'.\n",
        "The fourth line prints the list to the console.\n",
        "The fifth line prints the tuple to the console."
      ],
      "metadata": {
        "id": "vOSaL90dT47v"
      }
    },
    {
      "cell_type": "markdown",
      "source": [
        "## #7\n",
        "Write a Python program that accepts a filename from the user and prints the extension of the file."
      ],
      "metadata": {
        "id": "thCmvfhMT9ld"
      }
    },
    {
      "cell_type": "code",
      "source": [
        "# Sample filename: abc.java\n",
        "# Output: java\n",
        "\n",
        "# Prompt the user to input a filename and store it in the 'filename' variable\n",
        "filename = input(\"Input the Filename: \")\n",
        "\n",
        "# Split the 'filename' string into a list using the period (.) as a separator and store it in the 'f_extns' variable\n",
        "f_extns = filename.split(\".\")\n",
        "\n",
        "# Print the extension of the file, which is the last element in the 'f_extns' list\n",
        "print(\"The extension of the file is: \" + repr(f_extns[-1]))"
      ],
      "metadata": {
        "id": "AwUX1MlLn6Tq",
        "outputId": "9aa44fc4-a020-4b40-b3bc-21e35a18973b",
        "colab": {
          "base_uri": "https://localhost:8080/"
        }
      },
      "execution_count": 33,
      "outputs": [
        {
          "output_type": "stream",
          "name": "stdout",
          "text": [
            "Input the Filename: data.xlsx\n",
            "The extension of the file is: 'xlsx'\n"
          ]
        }
      ]
    },
    {
      "cell_type": "markdown",
      "source": [
        "**Explanation:**\n",
        "At first the siad code prompts the user to input a filename and stores it in the variable \"filename\". It then uses the string method split() to split the value of \"filename\" by \".\"(dot) and assigns the result to the variable \"f_extns\".\n",
        "The code then uses the index -1 to access the last element of the list \"f_extns\" which is the file extension and prints the message \"The extension of the file is : \" followed by the last element.\n",
        "The repr() function returns a string containing a printable representation of an object.\n",
        "For example, if the user inputs \"abc.txt\" as the filename, the code will print \"Th e extension of the file is : 'txt'\""
      ],
      "metadata": {
        "id": "UG1pSVMYWMKT"
      }
    },
    {
      "cell_type": "markdown",
      "source": [
        "## #8\n",
        "Write a Python program to display the first and last colors from the follow list."
      ],
      "metadata": {
        "id": "roSMjWyIWO-X"
      }
    },
    {
      "cell_type": "code",
      "source": [
        "\n",
        "# color_list = [\"Red\", \"Green\", \"White\", \"Black\"]\n",
        "\n",
        "# Create a list called 'color_list' containing color names\n",
        "color_list = [\"Red\", \"Green\", \"White\", \"Black\"]\n",
        "# Print the first and last elements of the 'color_list' using string formatting\n",
        "# The '%s' placeholders are filled witht he values of 'color_list[0]' (Red) and 'color_list[-1]' (Black)\n",
        "print(\"%s %s\" % (color_list[0], color_list[-1]))"
      ],
      "metadata": {
        "id": "NaitvbbMpI4Q",
        "outputId": "b325155f-854c-46eb-d37a-6aba1297340c",
        "colab": {
          "base_uri": "https://localhost:8080/"
        }
      },
      "execution_count": 34,
      "outputs": [
        {
          "output_type": "stream",
          "name": "stdout",
          "text": [
            "Red Black\n"
          ]
        }
      ]
    },
    {
      "cell_type": "markdown",
      "source": [
        "**Explanation:**\n",
        "The said code creates a list named \"color_list\" which includes four different colors, \"Red\", \"Green\", \"White\", and \"Black\". Then, it utilizes string formatting to print the first (Index 0) and the last (Index -1) color of the list together with a space in between. The output would be \"Red Black\"."
      ],
      "metadata": {
        "id": "MUdbiZguWVye"
      }
    },
    {
      "cell_type": "markdown",
      "source": [
        "## #9\n",
        "Write a Python program to display the examination schedule. (extract the date from exam_st_date)."
      ],
      "metadata": {
        "id": "6-c2GhugW0q9"
      }
    },
    {
      "cell_type": "code",
      "source": [
        "# exam_st_date = (11, 12, 2014)\n",
        "# Sample Output: The examination will start from: 11/12/2014\n",
        "\n",
        "# Define a tuple called 'exam_st_date' containing the exam start date in the format (day, month, year)\n",
        "exam_st_date = (11, 12, 2014)\n",
        "\n",
        "# Print the exam start date using string formatting\n",
        "# The '%i' placeholders are filled with the values from the 'exam_st_date' tuple\n",
        "print(\"The examination will start from: %i/%i/%i\" % exam_st_date)"
      ],
      "metadata": {
        "id": "C6Gg-Tg7p_q3",
        "outputId": "3d053d8b-2b6a-4c60-de33-9440b9a711d3",
        "colab": {
          "base_uri": "https://localhost:8080/"
        }
      },
      "execution_count": 35,
      "outputs": [
        {
          "output_type": "stream",
          "name": "stdout",
          "text": [
            "The examination will start from: 11/12/2014\n"
          ]
        }
      ]
    },
    {
      "cell_type": "markdown",
      "source": [
        "**Explanation:**\n",
        "The said code creates a tuple called \"exam_st_date\" containing three integers: 11, 12, and 2014. It then uses string formatting to print a string that states \"The examination will start from :\" followed by the integers in the tuple in the order they appear, formatted as day/month/year. The placeholders %i are used to format the integers.\n",
        "The output would be: \"The examination will start from : 11 / 12 / 2014\"."
      ],
      "metadata": {
        "id": "trENrlWXW44O"
      }
    },
    {
      "cell_type": "markdown",
      "source": [
        "## #10\n",
        "Write a Python program that accepts an integer (n) and computes the value of n+nn+nnn\n"
      ],
      "metadata": {
        "id": "fULdBzXbW8VC"
      }
    },
    {
      "cell_type": "code",
      "source": [
        "# Sample value of n is 5\n",
        "# Expected Result: 615\n",
        "\n",
        "# Prompt the user to input an integer and store it in the variable 'a'\n",
        "a = int(input(\"Input an integer: \"))\n",
        "\n",
        "# Create new integers 'n1', 'n2', and 'n3' by concatenating 'a' with itself one, two, and three times, respectively\n",
        "n1 = int(\"%s\" % a)              # Convert 'a' to an integer\n",
        "n2 = int(\"%s%s\" % (a, a))       # Concatenate 'a' with iteself and convert to an integer\n",
        "n3 = int(\"%s%s%s\" % (a, a, a))  # Concatenate 'a' with itself twice and convert to an integer\n",
        "\n",
        "# Calculate the sum of 'n1', 'n2', and 'n3' and print the result\n",
        "print(n1 + n2 + n3)"
      ],
      "metadata": {
        "id": "P0CYPwbbqvPu",
        "outputId": "9e8cfb00-e93e-42e9-f2f3-43cbc5b356a0",
        "colab": {
          "base_uri": "https://localhost:8080/"
        }
      },
      "execution_count": 36,
      "outputs": [
        {
          "output_type": "stream",
          "name": "stdout",
          "text": [
            "Input an integer: 63\n",
            "642789\n"
          ]
        }
      ]
    },
    {
      "cell_type": "markdown",
      "source": [
        "**Explanation:**\n",
        "The said code prompts the user to input an integer, which is then stored in the variable \"a\".\n",
        "There after the first variable n1 is created by converting the input integer \"a\" to a string and then back to an integer.\n",
        "The second variable n2 is created by concatenating two copies of the input integer \"a\" as a string and then converting that string to an integer.\n",
        "The third variable n3 is created by concatenating three copies of the input integer \"a\" as a string and then converting that string to an integer.\n",
        "Finally, the code sums the three variables n1, n2 and n3 and print the result."
      ],
      "metadata": {
        "id": "lKqJVofeXDPi"
      }
    },
    {
      "cell_type": "markdown",
      "source": [
        "## #11\n",
        "Write a Python program to print the documents (syntax, description etc.) of Python built-in function(s)."
      ],
      "metadata": {
        "id": "8NWDhW8CXHJZ"
      }
    },
    {
      "cell_type": "code",
      "source": [
        "# Sample function: abs()\n",
        "# Expected Result:\n",
        "# abs(number) -> number\n",
        "# Return the absolute value of the argument\n",
        "\n",
        "# Print the docstring (documentation) of the 'abs' function\n",
        "print(abs.__doc__)"
      ],
      "metadata": {
        "id": "btbS0CxWsFEu",
        "outputId": "6e50c588-2728-4d94-c454-375059a891d5",
        "colab": {
          "base_uri": "https://localhost:8080/"
        }
      },
      "execution_count": 37,
      "outputs": [
        {
          "output_type": "stream",
          "name": "stdout",
          "text": [
            "Return the absolute value of the argument.\n"
          ]
        }
      ]
    },
    {
      "cell_type": "markdown",
      "source": [
        "Python Docstring:\n",
        "A docstring is a string literal that occurs as the first statement in a module, function, class, or method definition. Such a docstring becomes the __doc__ special attribute of that object.\n",
        "All modules should normally have docstrings, and all functions and classes exported by a module should also have docstrings. Public methods (including the __init__ constructor) should also have docstrings."
      ],
      "metadata": {
        "id": "dTd_rCDrXKti"
      }
    },
    {
      "cell_type": "markdown",
      "source": [
        "## #12\n",
        "Write a Python program that prints the calendar for a given month and year."
      ],
      "metadata": {
        "id": "-ni6reHSXNrs"
      }
    },
    {
      "cell_type": "code",
      "source": [
        "# Note: Use 'calendar' module\n",
        "\n",
        "# Import the 'calendar' module\n",
        "import calendar\n",
        "\n",
        "# Prompt the user to input the year and month\n",
        "y = int(input(\"Input the year: \"))\n",
        "m = int(input(\"Input the month: \"))\n",
        "\n",
        "# Print the calendar for the specified year and month\n",
        "print(calendar.month(y, m))"
      ],
      "metadata": {
        "id": "ZmqaE6KZsjTr",
        "outputId": "16fbf31d-4375-43ca-ca60-ae9b766b722e",
        "colab": {
          "base_uri": "https://localhost:8080/"
        }
      },
      "execution_count": 38,
      "outputs": [
        {
          "output_type": "stream",
          "name": "stdout",
          "text": [
            "Input the year: 2024\n",
            "Input the month: 3\n",
            "     March 2024\n",
            "Mo Tu We Th Fr Sa Su\n",
            "             1  2  3\n",
            " 4  5  6  7  8  9 10\n",
            "11 12 13 14 15 16 17\n",
            "18 19 20 21 22 23 24\n",
            "25 26 27 28 29 30 31\n",
            "\n"
          ]
        }
      ]
    },
    {
      "cell_type": "markdown",
      "source": [
        "**Explanation:**\n",
        "The said code imports the calendar module, which allows you to output calendars like the Unix cal program, and provides additional useful functions related to the calendar. It then asks the user to input an integer for the year and month.\n",
        "The code then uses the month() function from the calendar module, which takes the year and month as arguments and returns a string containing an ASCII calendar for that month of that year."
      ],
      "metadata": {
        "id": "3EdCtWsxXSQ2"
      }
    },
    {
      "cell_type": "markdown",
      "source": [
        "## #13\n",
        "Write a Python program to print the following 'here document'."
      ],
      "metadata": {
        "id": "zyLMVERPYH2N"
      }
    },
    {
      "cell_type": "code",
      "source": [
        "# Sample string:\n",
        "# a string that you \"don't\" have to escape\n",
        "# This\n",
        "# is a ..... multi-line\n",
        "# heredoc string ------> example\n",
        "\n",
        "print(\"\"\"\n",
        "a string that you \"don't\" have to escape\n",
        "This\n",
        "is a ....... multi-line\n",
        "heredoc string --------> example\n",
        "\"\"\")"
      ],
      "metadata": {
        "id": "LCsU9eB2tMiZ",
        "outputId": "58b511ee-8982-4521-c809-c113cc40c167",
        "colab": {
          "base_uri": "https://localhost:8080/"
        }
      },
      "execution_count": 39,
      "outputs": [
        {
          "output_type": "stream",
          "name": "stdout",
          "text": [
            "\n",
            "a string that you \"don't\" have to escape\n",
            "This\n",
            "is a ....... multi-line\n",
            "heredoc string --------> example\n",
            "\n"
          ]
        }
      ]
    },
    {
      "cell_type": "markdown",
      "source": [
        "**Explanation:**\n",
        "A here document (or \"heredoc\") is a way of specifying a text block, preserving the line breaks, indents, and other whitespace within the text. The said code uses triple quotes to define a multi-line string, also known as a heredoc string. It allows the string to span multiple lines without the need to escape newline characters.\n",
        "The output will be the string exactly as it appears in the code, including the newline characters."
      ],
      "metadata": {
        "id": "24Lo27cjYMKJ"
      }
    },
    {
      "cell_type": "markdown",
      "source": [
        "## #14\n",
        "Write a Python program to calculate the number of days between two dates."
      ],
      "metadata": {
        "id": "arWtQZbrYRCY"
      }
    },
    {
      "cell_type": "code",
      "source": [
        "# Sample dates: (2014, 7, 2), (2014, 7, 11)\n",
        "# Expected output: 9 days\n",
        "\n",
        "# Import the 'date' class from the 'datetime' module\n",
        "from datetime import date\n",
        "\n",
        "# Define a start date as July 2, 2014\n",
        "f_date = date(2014, 7, 2)\n",
        "\n",
        "# Define an end date as July 11, 2014\n",
        "l_date = date(2014, 7, 11)\n",
        "\n",
        "# Calculate the difference between the end date and start date\n",
        "delta = l_date - f_date\n",
        "\n",
        "# Print the number of days in the time difference\n",
        "print(delta.days)"
      ],
      "metadata": {
        "id": "bc76w7C3tmBL",
        "outputId": "9b3c0b73-d5c7-47b8-9064-dfbeef585d99",
        "colab": {
          "base_uri": "https://localhost:8080/"
        }
      },
      "execution_count": 40,
      "outputs": [
        {
          "output_type": "stream",
          "name": "stdout",
          "text": [
            "9\n"
          ]
        }
      ]
    },
    {
      "cell_type": "markdown",
      "source": [
        "**Explanation:**\n",
        "This script imports the \"date\" class from the \"datetime\" module.\n",
        "It then creates two date objects (<class 'datetime.date'>), 'f_date 'and 'l_date'.\n",
        "The script then calculates the difference between these two dates and stores it in a variable called 'delta'.\n",
        "The 'delta' variable is then printed, specifically the attribute \"days\" which returns the number of days between the said two dates.\n",
        "In this case, the output would be 9, as there are 9 days between July 2nd and July 11th in 2014."
      ],
      "metadata": {
        "id": "jKMK2lRZYT-x"
      }
    },
    {
      "cell_type": "markdown",
      "source": [
        "## #15\n",
        "Write a Python program to get the volume of a sphere with radius six"
      ],
      "metadata": {
        "id": "Deb4XH9wYX52"
      }
    },
    {
      "cell_type": "code",
      "source": [
        "# Define the value of pi\n",
        "pi = 3.1415926535897931\n",
        "\n",
        "# Define the radius of the sphere\n",
        "r = 6.0\n",
        "\n",
        "# Calculate the volume of the sphere using the formula\n",
        "V = 4.0/3.0 * pi * r**3\n",
        "\n",
        "# Print the calculated volume of the sphere\n",
        "print('The volumne of the sphere is: ', V)"
      ],
      "metadata": {
        "id": "Z-NmzOFGuhTm",
        "outputId": "7d786e71-85f1-492f-f83e-c2ba286faf07",
        "colab": {
          "base_uri": "https://localhost:8080/"
        }
      },
      "execution_count": 41,
      "outputs": [
        {
          "output_type": "stream",
          "name": "stdout",
          "text": [
            "The volumne of the sphere is:  904.7786842338603\n"
          ]
        }
      ]
    },
    {
      "cell_type": "markdown",
      "source": [
        "**Explanation:**\n",
        "The said code assigns the value of pi as 3.1415926535897931 to the variable \"pi\" and 6.0 to the variable \"r\". The code uses the formula V = 4/3 * pi * r^3 to calculate the volume of a sphere. Volume of the sphere is stored in the variable \"V\".\n",
        "It then prints the message \"The volume of the sphere is:\" followed by the volume of the sphere using print statement.\n",
        "In this case, the code will output \"The volume of the sphere is: 904.7786842338603\"."
      ],
      "metadata": {
        "id": "InosTi4zYdE4"
      }
    },
    {
      "cell_type": "markdown",
      "source": [
        "## #16\n",
        "Write a Python program to calculate the difference between a given number and 17."
      ],
      "metadata": {
        "id": "sCcyhmwkYg2N"
      }
    },
    {
      "cell_type": "code",
      "source": [
        "# If the number is greater than 17, return twice the absolute difference.\n",
        "\n",
        "# Define a function named \"difference\" that takes an integer parameter \"n\"\n",
        "def difference(n):\n",
        "  # Check if n is less than or equal to 17\n",
        "  if n <= 17:\n",
        "    # If n is less than or equal to 17, return the absolute difference between 17 and n\n",
        "    return 17 - n\n",
        "  else:\n",
        "    # If n is greater than 17, return the absolute difference between n and 17 multiplied by 2\n",
        "    return (n - 17) * 2\n",
        "\n",
        "# Call the \"difference\" function with the argument 22 and print the result\n",
        "print(difference(22))\n",
        "\n",
        "# Call the \"difference\" function with the argument 14 and print the result\n",
        "print(difference(14))"
      ],
      "metadata": {
        "id": "jW9GLPrKvBfL",
        "outputId": "cc8d8724-1cab-4bb4-93fb-0c73fa8f2c97",
        "colab": {
          "base_uri": "https://localhost:8080/"
        }
      },
      "execution_count": 42,
      "outputs": [
        {
          "output_type": "stream",
          "name": "stdout",
          "text": [
            "10\n",
            "3\n"
          ]
        }
      ]
    },
    {
      "cell_type": "markdown",
      "source": [
        "**Explanation:**\n",
        "The said script defines a function called 'difference' that takes input(n) as an argument. Using an if-else statement the function checks whether the input value of n is less than or equal to 17. If the input value of n is less than or equal to 17, the function will return the difference of 17 - n. If the input value of n is greater than 17, the function will return double the difference of n - 17.\n",
        "Now the script calls the function twice with the input values of 22 and 14, respectively.\n",
        "In the first case the input is greater than 17, so the function returns (22-17)*2 = 10. Therefore, the script will print 10.\n",
        "In the second case the input value is less than or equal to 17, so the function returns 17-14 = 3. Therefore, the script will print 3."
      ],
      "metadata": {
        "id": "CBoiuGv4YkRD"
      }
    },
    {
      "cell_type": "markdown",
      "source": [
        "## #17\n",
        "Write a Python program to test whether a number is within 100 of 1000 or 2000."
      ],
      "metadata": {
        "id": "NhiY5QL-YoKD"
      }
    },
    {
      "cell_type": "code",
      "source": [
        "# Define a function named \"near_thousand\" that takes an integer parameter \"n\"\n",
        "def near_thousand(n):\n",
        "  # Check if the absolute difference between 1000 and n is less than or equal to 100\n",
        "  # OR check if the absoluate difference between 2000 and n is less than or equal to 100\n",
        "  return ((abs(1000 - n) <= 100) or (abs(2000 - n) <= 100))\n",
        "\n",
        "# Call the \"near_thousand\" function with the argument 1000 and print the result\n",
        "print(near_thousand(1000))\n",
        "\n",
        "# Call the \"near_thousand\" function with the argument 900 and print the result\n",
        "print(near_thousand(900))\n",
        "\n",
        "# Call the \"near_thousand\" function with the argument 800 and print the result\n",
        "print(near_thousand(800))\n",
        "\n",
        "# Call the \"near_thousand\" function with the argument 2200 and print the result\n",
        "print(near_thousand(2200))"
      ],
      "metadata": {
        "id": "P9hFyEp3wDgI",
        "outputId": "f1d84272-4747-4d64-9e5a-1a46718dd10f",
        "colab": {
          "base_uri": "https://localhost:8080/"
        }
      },
      "execution_count": 43,
      "outputs": [
        {
          "output_type": "stream",
          "name": "stdout",
          "text": [
            "True\n",
            "True\n",
            "False\n",
            "False\n"
          ]
        }
      ]
    },
    {
      "cell_type": "markdown",
      "source": [
        "**Explanation:**\n",
        "The said script defines a function called near_thousand(n) that takes an integer as an argument and returns True if the input is within 100 of either 1000 or 2000, and False otherwise. The function uses the abs() function, which returns the absolute value of a number, to determine the difference between the input and 1000 or 2000.\n",
        "Now the script calls the function four time with the input values of 1000, 900, 800 and 2200 respectively.\n",
        "When the input value is 1000, it returns True because the difference between 1000 and 1000 is 0, which is less than 100.\n",
        "When the input value is t 900, it returns True because the difference between 900 and 1000 is 100, which is less than 100.\n",
        "When the input value is 800, it returns False because the difference between 800 and 1000 is 200, which is not less than or equal to 100.\n",
        "When the input value is 2200, it returns False because the difference between 2200 and 2000 is 200, which is not less than or equal to 100."
      ],
      "metadata": {
        "id": "x1lpj7q6Yshw"
      }
    },
    {
      "cell_type": "markdown",
      "source": [
        "## #18\n",
        "Write a Python program to calculate the sum of three given numbers."
      ],
      "metadata": {
        "id": "47Tqz3MGYwnT"
      }
    },
    {
      "cell_type": "code",
      "source": [
        "# If the values are equal, return three times their sum.\n",
        "\n",
        "# Define a function named \"sum_thrice\" that takes three integer parameters: x, y, and z\n",
        "def sum_thrice(x, y, z):\n",
        "  # Calculate the sum of x, y, and z\n",
        "  sum = x + y + z\n",
        "\n",
        "  # Check if x, y, and z are all equal (all three numbers are the same)\n",
        "  if x == y == z:\n",
        "    # If they are equal, triple the sum\n",
        "    sum = sum * 3\n",
        "\n",
        "  # Return the final sum\n",
        "  return sum\n",
        "\n",
        "# Call the \"sum_thrice\" function with the arguments (1, 2, 3) and print the result\n",
        "print(sum_thrice(1, 2, 3))\n",
        "\n",
        "# Call the \"sum_thrice\" function with the arguments (3, 3, 3) and print the result\n",
        "print(sum_thrice(3, 3, 3))"
      ],
      "metadata": {
        "id": "WxzsbCPqw3ju",
        "outputId": "eb42fd76-f938-451b-cd41-a370a1086592",
        "colab": {
          "base_uri": "https://localhost:8080/"
        }
      },
      "execution_count": 44,
      "outputs": [
        {
          "output_type": "stream",
          "name": "stdout",
          "text": [
            "6\n",
            "27\n"
          ]
        }
      ]
    },
    {
      "cell_type": "markdown",
      "source": [
        "**Explanation:**\n",
        "The said script defines a function called sum_thrice(x, y, z) that takes three integers as arguments and returns their sum. The function, however, multiplies the sum by 3 if all three integers are equal.\n",
        "Now the script calls the function twice with the input values (1,2,3) and (3,3,3).\n",
        "Whenever 1, 2, and 3 are input values, the three inputs are not equal, so it returns 6.\n",
        "Whenever 3, 3, and 3 are input values, the three inputs are equal so the function multiplies the sum by 3 and returns 27.\n",
        "Depending on the inputs, the if statement holds true only if x == y == z, otherwise it holds False."
      ],
      "metadata": {
        "id": "4TRUArG6Y2JL"
      }
    },
    {
      "cell_type": "markdown",
      "source": [
        "## #19\n",
        "Write a Python program to get a newly-generated string from a given string where \"ls\" has been added to the front."
      ],
      "metadata": {
        "id": "P0urZaLxY6uL"
      }
    },
    {
      "cell_type": "code",
      "source": [
        "# Return the string unchanged if the given string already begins with \"ls\"\n",
        "\n",
        "# Define a function named \"new_string\" that takes a string parameter called \"text\"\n",
        "def new_string(text):\n",
        "  # Check if the length of the \"text\" is greater than or equal to 2 and if the first two characters of \"text\" are \"Is\"\n",
        "  if len(text) >= 2 and text[:2] == \"Is\":\n",
        "    # If the conditions are met, return the original \"text\" unchanged\n",
        "    return text\n",
        "  else:\n",
        "    # If the conditions are not met, prepend \"Is\" to the \"text\" and return the modified string\n",
        "    return \"Is\" + text\n",
        "\n",
        "# Call the \"new_string\" function with the argument \"Array\" and print the result\n",
        "print(new_string(\"Array\"))\n",
        "\n",
        "# Call the \"new_string\" function with the argument \"IsEmpty\" and print the result\n",
        "print(new_string(\"IsEmpty\"))"
      ],
      "metadata": {
        "id": "LiiZffCBxwLl",
        "outputId": "6c649ae2-90ba-4809-b170-3f5d307258bd",
        "colab": {
          "base_uri": "https://localhost:8080/"
        }
      },
      "execution_count": 45,
      "outputs": [
        {
          "output_type": "stream",
          "name": "stdout",
          "text": [
            "IsArray\n",
            "IsEmpty\n"
          ]
        }
      ]
    },
    {
      "cell_type": "markdown",
      "source": [
        "**Explanation:**\n",
        "The said script defines a function \"new_string(text)\" takes a string as an argument, and checks whether the string's length is greater than or equal to 2 and the first two characters of the string are \"Is\". If both conditions are true, the function returns the original string. Otherwise, the function returns a new string \"Is\" concatenated with the original string.\n",
        "The first print statement will display \"IsArray\" and the second will display \"IsEmpty\"."
      ],
      "metadata": {
        "id": "OH7kF0-OY_Oi"
      }
    },
    {
      "cell_type": "markdown",
      "source": [
        "## #20\n",
        "Write a Python program that returns a string that is n (non-negative integer) copies of a given string."
      ],
      "metadata": {
        "id": "heVz14JYZC-8"
      }
    },
    {
      "cell_type": "code",
      "source": [
        "# Define a function named \"larger_string\" that takes two parameters, \"text\" and \"n\"\n",
        "def larger_string(text, n):\n",
        "    # Initialize an empty string variable named \"result\"\n",
        "    result = \"\"\n",
        "\n",
        "    # Use a for loop to repeat the \"text\" \"n\" times and concatenate it to the \"result\"\n",
        "    for i in range(n):\n",
        "        result = result + text\n",
        "\n",
        "    # Return the final \"result\" string\n",
        "    return result\n",
        "\n",
        "# Call the \"larger_string\" function with the arguments 'abc' and 2, then print the result\n",
        "print(larger_string('abc', 2))\n",
        "\n",
        "# Call the \"larger_string\" function with the arguments '.py' and 3, then print the result\n",
        "print(larger_string('.py', 3))"
      ],
      "metadata": {
        "id": "-MTqXZwKyszu",
        "outputId": "beacbfed-ba94-40ce-eb43-a82231dd0d0c",
        "colab": {
          "base_uri": "https://localhost:8080/"
        }
      },
      "execution_count": 46,
      "outputs": [
        {
          "output_type": "stream",
          "name": "stdout",
          "text": [
            "abcabc\n",
            ".py.py.py\n"
          ]
        }
      ]
    },
    {
      "cell_type": "markdown",
      "source": [
        "**Explanation:**\n",
        "The said code defines a function called \"larger_string\" which takes two arguments: \"text\" and \"n\". The function will concatenate the \"text\" argument \"n\" number of times and return the result as a new string.\n",
        "The function starts by initializing an empty string variable called \"result\". Then, it uses a for loop to iterate over a range of numbers, starting from 0 and ending at \"n\". On each iteration, the function takes the current value of \"result\" and adds the \"text\" argument to it, effectively concatenating the \"text\" argument with itself \"n\" times.\n",
        "The last two lines of code call the function, with different arguments.\n",
        "In the first case the function takes 'abc' as text and 2 as the n, the function will concatenate 'abc' two times and return 'abcabc'\n",
        "In the second case the function takes '.py' as text and 3 as the n, the function will concatenate '.py' three times and return '.py.py.py'\n",
        "The function returns the concatenated string as the final output."
      ],
      "metadata": {
        "id": "gNRbzftwZHie"
      }
    },
    {
      "cell_type": "markdown",
      "source": [
        "## #21\n",
        "Write a Python program that determines whether a given number (accepted from the user) is even or odd, and prints an appropriate message to the user"
      ],
      "metadata": {
        "id": "nVzS2YDTZLY3"
      }
    },
    {
      "cell_type": "code",
      "source": [
        "# Prompt the user to enter a number and convert the input to an integer\n",
        "num = int(input(\"Enter a number: \"))\n",
        "\n",
        "# Calculate the remainder when the number is divided by 2\n",
        "mod = num % 2\n",
        "\n",
        "# Check if the remainder is greater than 0, indicating an odd number\n",
        "if mod > 0:\n",
        "  # Print a message indicating that the number is odd\n",
        "  print(\"this is an odd number.\")\n",
        "else:\n",
        "  # Print a message indicating that the number is even\n",
        "  print(\"this is an even number.\")"
      ],
      "metadata": {
        "colab": {
          "base_uri": "https://localhost:8080/"
        },
        "id": "kxSSf2RL6IgF",
        "outputId": "5d4c67d2-0634-4d17-e2a8-d8073c04f7bf"
      },
      "execution_count": 47,
      "outputs": [
        {
          "output_type": "stream",
          "name": "stdout",
          "text": [
            "Enter a number: 6\n",
            "this is an even number.\n"
          ]
        }
      ]
    },
    {
      "cell_type": "markdown",
      "source": [
        "**Explanation:**\n",
        "The said code prompts the user to input a number, then converts the input to an integer and assigns it to the variable 'num'. Then it calculates the remainder of 'num' and 2 and assigns it to the variable 'mod'. Next, it checks the value of 'mod'. If the value of 'mod' is greater than 0, it prints \"This is an odd number.\" otherwise prints \"This is an even number.\"."
      ],
      "metadata": {
        "id": "DACh7ITsZO3z"
      }
    },
    {
      "cell_type": "markdown",
      "source": [
        "## #22\n",
        "Write a Python program to count the number 4 in a given list."
      ],
      "metadata": {
        "id": "zU0gSESQZYLT"
      }
    },
    {
      "cell_type": "code",
      "source": [
        "# Define a function called list_count_4 that takes a list of numbers (nums) as a parameter.\n",
        "def list_count_4(nums):\n",
        "  # Initialize a variable count to keep track of the count of occurrences of the number 4.\n",
        "  count = 0\n",
        "\n",
        "  # Iterate through each element (num) in the input list (nums).\n",
        "  for num in nums:\n",
        "    # Check if the current element (num) is equal to 4.\n",
        "    if num == 4:\n",
        "      # If the element is 4, increment the count by 1.\n",
        "      count = count + 1\n",
        "\n",
        "  # Return the final count after iterating through the list.\n",
        "  return count\n",
        "\n",
        "# Call the list_count_4 function with two different input lists and print the results.\n",
        "print(list_count_4([1, 4, 6, 7, 4]))  # Output: 2 (There are two occurrences of 4 in the list.)\n",
        "print(list_count_4([1, 4, 6, 4, 7, 4]))  # Output: 3 (There are three occurrences of 4 in the list.)"
      ],
      "metadata": {
        "colab": {
          "base_uri": "https://localhost:8080/"
        },
        "id": "TssdLzOh7pfW",
        "outputId": "c3e9690d-1cd6-421f-8389-12770200a8d6"
      },
      "execution_count": 48,
      "outputs": [
        {
          "output_type": "stream",
          "name": "stdout",
          "text": [
            "2\n",
            "3\n"
          ]
        }
      ]
    },
    {
      "cell_type": "markdown",
      "source": [
        "**Explanation:**\n",
        "The said code defines a function called \"list_count_4\" that takes a list of numbers as its argument, \"nums\". Inside the function, it initializes a variable \"count\" to zero. Next, it uses a for loop to iterate through each element in the \"nums\" list. For each iteration, it checks if the current element i.e. num is equal to 4, if true it increments the \"count\" by 1. After the for loop completes, the function returns the final \"count\" of how many times the number 4 appears in the list.\n",
        "The last two lines of code call the function, with the input values ([1, 4, 6, 7, 4]) and ([1, 4, 6, 4, 7, 4]) and print the results.\n",
        "The first call will return 2, and the second call will return 3."
      ],
      "metadata": {
        "id": "GRiqa3BAZbt6"
      }
    },
    {
      "cell_type": "markdown",
      "source": [
        "## #23\n",
        "Write a Python program to get n (non-negative integer) copies of the first 2 characters of a given string."
      ],
      "metadata": {
        "id": "CkcrSK-9ZeWa"
      }
    },
    {
      "cell_type": "code",
      "source": [
        "# Return n copies of the whole string if the length is less than 2.\n",
        "\n",
        "# Define a function called substring_copy that takes two parameters: text (a string) and n (an integer).\n",
        "def substring_copy(text, n):\n",
        "  # Set the initial value of flen (substring length) to 2.\n",
        "  flen = 2\n",
        "\n",
        "  # Check if flen is greater than the length of the input text.\n",
        "  if flen > len(text):\n",
        "    # If flen is greater, set it to the length of the text to avoid going out of bounds.\n",
        "    flen = len(text)\n",
        "\n",
        "  # Extract a substring of length flen from the beginning of the text.\n",
        "  substr = text[:flen]\n",
        "\n",
        "  # Initialize an empty string result to store the concatenated substrings.\n",
        "  result = \"\"\n",
        "\n",
        "  # Iterate n times to concatenate the substring to the result.\n",
        "  for i in range(n):\n",
        "    result = result + substr\n",
        "\n",
        "  #Return the final result after concatenating substrings.\n",
        "  return result\n",
        "\n",
        "# Call the substring_copy function with two different inputs and print the results\n",
        "print(substring_copy('abcdef', 2)) # Output: \"abab\" (substring \"ab\" repeated 2 times)\n",
        "print(substring_copy('p', 3)) # Output: \"ppp\" (substring \"p\" repeated 3 times)"
      ],
      "metadata": {
        "colab": {
          "base_uri": "https://localhost:8080/"
        },
        "id": "LjT6pR0L8_Gw",
        "outputId": "f02e9c40-6595-4de2-d892-a922c7d814b8"
      },
      "execution_count": 49,
      "outputs": [
        {
          "output_type": "stream",
          "name": "stdout",
          "text": [
            "abab\n",
            "ppp\n"
          ]
        }
      ]
    },
    {
      "cell_type": "markdown",
      "source": [
        "**Explanation:**\n",
        "The said code defines a function called \"substring_copy\" that takes two arguments, a string \"text\" and an integer \"n\".\n",
        "Inside the function, it creates a variable \"flen\" and assigns it the value of 2. Next, it checks whether the value of \"flen\" is greater than the length of the input string \"text\". If true it assigns the value of len(text) to \"flen\" otherwise it creates a variable \"substr\" and assigns it the value of the first two characters of the input string \"text\" using string slicing method.\n",
        "Then it creates an empty string called \"result\" and uses a for loop to iterate \"n\" times. During each iteration it concatenates the \"substr\" to the \"result\" string. Finally, it returns the value of the \"result\" variable.\n",
        "The last two lines of code call the function, with the input values ('abcdef', 2) and ('p', 3) and print the results. The first call will return 'abab' and the second will return 'ppp'.\n"
      ],
      "metadata": {
        "id": "RO9URZoUZjhv"
      }
    },
    {
      "cell_type": "markdown",
      "source": [
        "## #24\n",
        "Write a Python program to test whether a passed letter is a vowel or not."
      ],
      "metadata": {
        "id": "Qq9ZdH2UZoLg"
      }
    },
    {
      "cell_type": "code",
      "source": [
        "# Define a function called is_vowel that takes one parameter: char (a character).\n",
        "def is_vowel(char):\n",
        "  # Define a string called all_vowels containing all lowercase vowel characters.\n",
        "  all_vowels = 'aeiou'\n",
        "\n",
        "  # Check if the input character (char) is present in the all_vowels string.\n",
        "  return char in all_vowels\n",
        "\n",
        "# Call the is_vowel function with two different characters and print the results\n",
        "print(is_vowel('c')) # Output: False (character 'c' is not a vowel)\n",
        "print(is_vowel('e')) # Output: True (character 'e' is a vowel)"
      ],
      "metadata": {
        "colab": {
          "base_uri": "https://localhost:8080/"
        },
        "id": "LS34i3eo_2aN",
        "outputId": "757e82d8-327a-481e-e33a-d0d81aff4015"
      },
      "execution_count": 50,
      "outputs": [
        {
          "output_type": "stream",
          "name": "stdout",
          "text": [
            "False\n",
            "True\n"
          ]
        }
      ]
    },
    {
      "cell_type": "markdown",
      "source": [
        "**Explanation:**\n",
        "The said code defines a function called \"is_vowel\" which takes in one parameter \"char\". First, the function declares a variable \"all_vowels\" containing all lowercase vowels. The function then uses the \"in\" operator to check whether the value of \"char\" parameter is present within the \"all_vowels\" string, and returns the result.\n",
        "In the last two lines the code call the function \"is_vowel\" twice, with the input values 'c' and 'e' and print the results.\n",
        "In the first case, False will be returned, while in the second case, True will be returned."
      ],
      "metadata": {
        "id": "g5zkO5xjbDzq"
      }
    },
    {
      "cell_type": "markdown",
      "source": [
        "## #25\n",
        "Write a Python program that checks whether a specified value is contained within a group of values."
      ],
      "metadata": {
        "id": "7q99uUuKbHVX"
      }
    },
    {
      "cell_type": "code",
      "source": [
        "# Define a function called is_group_member that takes two parameters: group_data (a list) and n (an integer)\n",
        "def is_group_member(group_data, n):\n",
        "  # Iterate through the elements (values) in the group_data list.\n",
        "  for value in group_data:\n",
        "    # Check if the current value is equal to the given integer, n.\n",
        "    if n == value:\n",
        "      return True # If found, return True.\n",
        "  return False # If the loop completes and no match is found, return False.\n",
        "\n",
        "# Call the is_group_member function with two different lists and integers, and print the results.\n",
        "print(is_group_member([1, 5, 8, 3], 3)) # Output: True (3 is in the list)\n",
        "print(is_group_member([5, 8, 3], -1)) # Output: False (-1 is not in the list)"
      ],
      "metadata": {
        "colab": {
          "base_uri": "https://localhost:8080/"
        },
        "id": "q6sOXFAlAjyK",
        "outputId": "826e191e-0e7e-4df4-ad45-d42b2ef24f95"
      },
      "execution_count": 51,
      "outputs": [
        {
          "output_type": "stream",
          "name": "stdout",
          "text": [
            "True\n",
            "False\n"
          ]
        }
      ]
    },
    {
      "cell_type": "markdown",
      "source": [
        "**Explanation:**\n",
        "The said code defines a function called \"is_group_member\" that takes two arguments \"group_data\" a list and an integer \"n\". First, the function declares a for loop to iterate through each element in the \"group_data\" list. When the current element (value) value matches the value of \"n\", it returns True, which means the input integer is present in the \"group_data\" list. The function returns False if the for loop fails to find a match, meaning the input integer does not exist in \"group_data\".\n",
        "In the last two lines the code call the function \"is_group_member\" twice, with the input values ([1, 5, 8, 3], 3) and ([5, 8, 3], -1) and print the results.\n",
        "In the first case, False will be returned, while in the second case, True will be returned."
      ],
      "metadata": {
        "id": "X5ZhdRNUbLMC"
      }
    },
    {
      "cell_type": "markdown",
      "source": [
        "## #26\n",
        "Write a Python program to create a histogram from a given list of integers"
      ],
      "metadata": {
        "id": "1lvzZYb8bOU-"
      }
    },
    {
      "cell_type": "code",
      "source": [
        "# Define a function called histogram that takes a list of items as a parameter.\n",
        "def histogram(items):\n",
        "  # Iterate through the items in the list.\n",
        "  for n in items:\n",
        "    output = '' # Initialize an empty string called output.\n",
        "    times = n   # Set the times variable to the value of n\n",
        "\n",
        "    # Use a while loop to append '*' to the output string 'times' number of times\n",
        "    while times > 0:\n",
        "      output += '*'\n",
        "      times = times - 1 # Decrement the times variable\n",
        "\n",
        "    # Print the resulting output string.\n",
        "    print(output)\n",
        "\n",
        "# Call the histogram function with a list of numbers and print the histogram\n",
        "histogram([2, 3, 6, 5])"
      ],
      "metadata": {
        "colab": {
          "base_uri": "https://localhost:8080/"
        },
        "id": "hBv4jcdWBpPO",
        "outputId": "c1610d62-47c1-49b2-a6fe-2b58143ca43a"
      },
      "execution_count": 52,
      "outputs": [
        {
          "output_type": "stream",
          "name": "stdout",
          "text": [
            "**\n",
            "***\n",
            "******\n",
            "*****\n"
          ]
        }
      ]
    },
    {
      "cell_type": "markdown",
      "source": [
        "**Explanation:**\n",
        "The function \"histogram\" takes a parameter \"items \", a list of integers. To iterate through each item in the \"items\" list, the function uses a for loop. For each iteration, it creates a varaible \"output\", and assigns the current element (n) of the loop to the variable \"times\".\n",
        "Then it uses a while loop which will run as long as the value of \"times\" is greater than 0. Inside the while loop, it concatenates an asterisk (*) character to the \"output\" variable and decrements the value of \"times\" by 1 at each iteration. After the while loop completes, it prints the final value of \"output\" variable.\n",
        "The last line of code calls the \"histogram\" function with a list of integers ([2, 3, 6, 5]) as an argument, it will print a histogram of asterisks, where the number of asterisks corresponds to the value of the integers in the list."
      ],
      "metadata": {
        "id": "FKPF6HpubR51"
      }
    },
    {
      "cell_type": "markdown",
      "source": [
        "## #27\n",
        "Write a Python program that concatenates all elements in a list into a string and returns it"
      ],
      "metadata": {
        "id": "AUNpKsMFbb0P"
      }
    },
    {
      "cell_type": "code",
      "source": [
        "# Define a function called concatenate_list_data that takes a list as a parameter.\n",
        "def concatenate_list_data(lst):\n",
        "  result = '' # Initialize an empty string called result.\n",
        "\n",
        "  # Iterate through the elements in the list.\n",
        "  for element in lst:\n",
        "    result += str(element) # Convert each element to a string and concatenate it to the result\n",
        "\n",
        "  return result # Return the concatenated string.\n",
        "\n",
        "# Call the concatenate_list_data function with a list of numbers and print the result.\n",
        "print(concatenate_list_data([1, 5, 12, 2]))"
      ],
      "metadata": {
        "colab": {
          "base_uri": "https://localhost:8080/"
        },
        "id": "aODjwPNBDZFu",
        "outputId": "529ceb29-e139-440b-ead6-8ad28683be92"
      },
      "execution_count": 53,
      "outputs": [
        {
          "output_type": "stream",
          "name": "stdout",
          "text": [
            "15122\n"
          ]
        }
      ]
    },
    {
      "cell_type": "markdown",
      "source": [
        "**Explanation:**\n",
        "The said code defines a function called \"concatenate_list_data\" that takes a list as its argument. Inside the function, it creates an empty string variable called \"result\".\n",
        "Then it uses a for loop to iterate through each element in the input list. For each iteration, it converts the current element to a string using the str() function and concatenates it to the \"result\" variable.\n",
        "Upon completion of the for loop, the variable \"result\" is returned.\n",
        "The last line of code calls the \"concatenate_list_data\" function with a list of integers ([1, 5, 12, 2]) as an argument, it will print a string \"15122\"."
      ],
      "metadata": {
        "id": "31zLZ-_0bfVA"
      }
    },
    {
      "cell_type": "markdown",
      "source": [
        "## #28\n",
        "Write a Python program to print all even numbers from a given list of numbers in the same order and stop printing any after 237 in the sequence."
      ],
      "metadata": {
        "id": "Sqq49PzlbiRD"
      }
    },
    {
      "cell_type": "code",
      "source": [
        "# Define a list of numbers.\n",
        "numbers = [\n",
        "    386, 462, 47, 418, 907, 344, 236, 375, 823, 566, 597, 978, 328, 615, 953, 345,\n",
        "    399, 162, 758, 219, 918, 237, 412, 566, 826, 248, 866, 950, 626, 949, 687, 217,\n",
        "    815, 67, 104, 58, 512, 24, 892, 894, 767, 553, 81, 379, 843, 831, 445, 742, 717,\n",
        "    958,743, 527\n",
        "]\n",
        "\n",
        "# Iterate through the numbers in the list.\n",
        "for x in numbers:\n",
        "  if x == 237:\n",
        "      print(x) # Print the number if its 237\n",
        "      break # Exit the loop if 237 is found.\n",
        "  elif x % 2 == 0:\n",
        "      print(x) # Print the number if its even."
      ],
      "metadata": {
        "colab": {
          "base_uri": "https://localhost:8080/"
        },
        "id": "Ps5bir-eEH4A",
        "outputId": "e6516daa-e8c7-44ee-a3b0-9337100cb2b5"
      },
      "execution_count": 54,
      "outputs": [
        {
          "output_type": "stream",
          "name": "stdout",
          "text": [
            "386\n",
            "462\n",
            "418\n",
            "344\n",
            "236\n",
            "566\n",
            "978\n",
            "328\n",
            "162\n",
            "758\n",
            "918\n",
            "237\n"
          ]
        }
      ]
    },
    {
      "cell_type": "markdown",
      "source": [
        "**Explanation:**\n",
        "The said code defines a list called \"numbers\" with a set of integers. Then it uses a for loop to iterate through each element in the \"numbers\" list.\n",
        "For each iteration, it checks if the current element is equal to 237, if true it prints the current element and exit the loop using the \"break\" statement.\n",
        "If the current element is not equal to 237, it checks if the current element is even, if true it prints the current element.\n",
        "Using this logic, the code will only print the number 237 and even numbers of the list. If 237 was not found in the list, the code will print all the even numbers in the list."
      ],
      "metadata": {
        "id": "f9o2jTEJblfI"
      }
    },
    {
      "cell_type": "markdown",
      "source": [
        "## #29\n",
        "Write a Python program that prints out all colors from color_list_1 that are not present in color_list_2."
      ],
      "metadata": {
        "id": "2y94PuYCbrLL"
      }
    },
    {
      "cell_type": "code",
      "source": [
        "# Create two sets, color_list_1 and color_list_2.\n",
        "color_list_1 = set([\"White\", \"BlacK\", \"Red\"])\n",
        "color_list_2 = set([\"Red\", \"Green\"])\n",
        "\n",
        "# Print the original elements of the sets.\n",
        "print(\"Original set elements:\")\n",
        "print(color_list_1)\n",
        "print(color_list_2)\n",
        "\n",
        "# Calculate and print the difference of color_list_1 and color_list_2.\n",
        "print(\"\\nDifference of color_list_1 and color_list_2:\")\n",
        "print(color_list_1.difference(color_list_2))\n",
        "\n",
        "# Calculate and print the difference of color_list_2 and color_list_1.\n",
        "print(\"\\nDifference of color_list_2 and color_list_1:\")\n",
        "print(color_list_2.difference(color_list_1))"
      ],
      "metadata": {
        "colab": {
          "base_uri": "https://localhost:8080/"
        },
        "id": "XnuWjbkaEygo",
        "outputId": "20624aff-be26-4c00-d807-53234b44d810"
      },
      "execution_count": 55,
      "outputs": [
        {
          "output_type": "stream",
          "name": "stdout",
          "text": [
            "Original set elements:\n",
            "{'White', 'Red', 'BlacK'}\n",
            "{'Green', 'Red'}\n",
            "\n",
            "Difference of color_list_1 and color_list_2:\n",
            "{'White', 'BlacK'}\n",
            "\n",
            "Difference of color_list_2 and color_list_1:\n",
            "{'Green'}\n"
          ]
        }
      ]
    },
    {
      "cell_type": "markdown",
      "source": [
        "**Explanation:**\n",
        "The said code defines two sets called \"color_list_1\" and \"color_list_2\" containing string elements.\n",
        "The elements of both sets are then printed.\n",
        "After that, it uses the difference() method on \"color_list_1\" and passes \"color_list_2\" as an argument to it. This method returns the elements that are in the \"color_list_1\" but not in \"color_list_2\".\n",
        "Again it uses the difference() method on \"color_list_2\" and passes \"color_list_1\" as an argument to it. This method returns the elements that are in the \"color_list_2\" but not in \"color_list_1\".\n",
        "The output of the code will be:\n",
        "Original set elements:\n",
        "{'Red', 'White', 'Black'}\n",
        "{'Red', 'Green'}\n",
        "Differenct of color_list_1 and color_list_2:\n",
        "{'White', 'Black'}\n",
        "Differenct of color_list_2 and color_list_1:\n",
        "{'Green'}"
      ],
      "metadata": {
        "id": "2n6bNYJCbu_p"
      }
    },
    {
      "cell_type": "markdown",
      "source": [
        "## #30\n",
        "Write a Python program that will accept the base and height of a triangle and compute its area."
      ],
      "metadata": {
        "id": "Z7k0BBegb1kh"
      }
    },
    {
      "cell_type": "code",
      "source": [
        "# Prompt the user to input the base and height of a triangle as integers.\n",
        "b = int(input(\"Input the base: \"))\n",
        "h = int(input(\"Input the height: \"))\n",
        "\n",
        "# Calculate the area of the triangle using the formula: (base * height) / 2\n",
        "area = b * h / 2\n",
        "\n",
        "# Print the calculated area of the triangle.\n",
        "print(\"area = \", area)"
      ],
      "metadata": {
        "colab": {
          "base_uri": "https://localhost:8080/"
        },
        "id": "dfperNgsGBAB",
        "outputId": "ff5524e2-ec9f-40df-eee0-247d559ad6f4"
      },
      "execution_count": 56,
      "outputs": [
        {
          "output_type": "stream",
          "name": "stdout",
          "text": [
            "Input the base: 54\n",
            "Input the height: 18\n",
            "area =  486.0\n"
          ]
        }
      ]
    },
    {
      "cell_type": "markdown",
      "source": [
        "**Explanation:**\n",
        "The said code prompts the user to input an integer value for the base and height of a triangle. Stores these values in variables \"b\" and \"h\" respectively. It then calculates the area of the triangle by multiplying the base and height and dividing the result by 2 and assigns the result to the variable \"area\". Finally, it prints the calculated area."
      ],
      "metadata": {
        "id": "8XRdp6YUb5b9"
      }
    },
    {
      "cell_type": "markdown",
      "source": [
        "## #31\n",
        "Write a Python program that computes the greatest common divisor (GCD) of two positive integers"
      ],
      "metadata": {
        "id": "F9xzIn1mcKvQ"
      }
    },
    {
      "cell_type": "code",
      "source": [
        "# Define a function to calculate the greatest common divisor (GCD) of two numbers.\n",
        "def gcd(x, y):\n",
        "  # Initialize gcd to 1.\n",
        "  gcd = 1\n",
        "\n",
        "  # Check if y is a divisor of x (x is divisible by y)\n",
        "  if x % y == 0:\n",
        "    return y\n",
        "\n",
        "  # Iterate from half of y down to 1.\n",
        "  for k in range(int(y / 2), 0, -1):\n",
        "    # Check if both x and y are divisible by k.\n",
        "    if x % k == 0 and y % k == 0:\n",
        "      # Update the GCD to the current value of k and exit the loop.\n",
        "      gcd = k\n",
        "      break\n",
        "\n",
        "  # Return the calculated GCD\n",
        "  return gcd\n",
        "\n",
        "# Print the GCD of specific pairs of numbers.\n",
        "print(\"GCD of 12 & 17 =\", gcd(12, 17))\n",
        "print(\"GCD of 4 & 6 =\", gcd(4, 6))\n",
        "print(\"GCD of 336 & 360 =\", gcd(336, 360))"
      ],
      "metadata": {
        "id": "SaEX3jeUcr1C",
        "outputId": "cc14f9e7-fc69-4284-f555-ac91036b6b09",
        "colab": {
          "base_uri": "https://localhost:8080/"
        }
      },
      "execution_count": 57,
      "outputs": [
        {
          "output_type": "stream",
          "name": "stdout",
          "text": [
            "GCD of 12 & 17 = 1\n",
            "GCD of 4 & 6 = 2\n",
            "GCD of 336 & 360 = 24\n"
          ]
        }
      ]
    },
    {
      "cell_type": "markdown",
      "source": [
        "**Explanation:**\n",
        "\n",
        "Here is a simple implementation of the Euclidean algorithm for finding the greatest common divisor (GCD) of two integers.\n",
        "\n",
        "The function \"gcd(x,y)\" starts by initializing the variable \"gcd\" to 1, and then checks if \"x\" is divisible by \"y\". If it is, it returns \"y\" as the GCD.\n",
        "\n",
        "If \"x\" is not divisible by \"y\", it enters a \"for\" loop. In each iteration, it checks if \"k\" is a common divisor of \"x\" and \"y\", and if it is, it assigns the value of k to the variable \"gcd\" and breaks out of the loop. Finally, the function returns the value of GCD of \"x\" and \"y\".\n",
        "\n",
        "Last three print statements of the said code call the function with different inputs, and print the output as \"GCD of 12 & 17 = 1\", \"GCD of 4 & 6 = 2\" and \"GCD of 336 & 360 = 24\"."
      ],
      "metadata": {
        "id": "5bPcw4UgdrSn"
      }
    },
    {
      "cell_type": "markdown",
      "source": [
        "## #32\n",
        "Write a Python program to find the least common multiple (LCM) of two positive integers"
      ],
      "metadata": {
        "id": "N7Bh-aihdxCV"
      }
    },
    {
      "cell_type": "code",
      "source": [
        "# Define a function 'lcm' that calculates the least common multiple (LCM) of two numbers, 'x' and 'y'.\n",
        "def lcm(x, y):\n",
        "  # Compare 'x' and 'y' to determine the larger number and store it in 'z'.\n",
        "  if x > y:\n",
        "    z = x\n",
        "  else:\n",
        "    z = y\n",
        "\n",
        "  # Use a 'while' loop to find the LCM.\n",
        "  while True:\n",
        "    # Check if 'z' is divisible by both 'x' and 'y' with no remainder.\n",
        "    if (z % x == 0) and (z % y == 0):\n",
        "      # If both conditions are met, 'z' is the LCM, so store it in 'lcm' and break the loop.\n",
        "      lcm = z\n",
        "      break\n",
        "    # If the conditions are not met, increment 'z' and continue checking.\n",
        "    z += 1\n",
        "\n",
        "  # Return the calculated LCM.\n",
        "  return lcm\n",
        "\n",
        "# Calculate and print the LCM of 4 and 6\n",
        "print(lcm(4, 6))\n",
        "# Calculate and print the LCM of 15 and 17.\n",
        "print(lcm(15, 17))"
      ],
      "metadata": {
        "id": "o_JUbBX-d5s5",
        "outputId": "8e1ec565-6ee9-47d9-a348-1d0d9a8f0895",
        "colab": {
          "base_uri": "https://localhost:8080/"
        }
      },
      "execution_count": 58,
      "outputs": [
        {
          "output_type": "stream",
          "name": "stdout",
          "text": [
            "12\n",
            "255\n"
          ]
        }
      ]
    },
    {
      "cell_type": "markdown",
      "source": [
        "**Explanation:**\n",
        "\n",
        "The said code defines a function \"lcm(x, y)\" that takes two integers as its argument and will return the least common multiple (LCM) of two arguments, \"x\" and \"y\".\n",
        "\n",
        "First, the function determines which number is larger and assigns that value to a variable named \"z\". It then enters a loop that continues indefinitely (while(True)) until the LCM is found.\n",
        "\n",
        "Inside the loop, the code checks if the current value of \"z\" is divisible by both \"x\" and \"y\" (if((z % x == 0) and (z % y == 0))). If it is true then the LCM is assigned to the variable \"lcm\" and the loop is broken. Otherwise, the value of \"z\" is incremented by 1 and the check is repeated.\n",
        "\n",
        "Finally, the function returns the value of \"lcm\" as the output.\n",
        "\n",
        "After the function definition, the code calls the function twice, first with the arguments 4 and 6, then with the arguments 15 and 17 and prints the results."
      ],
      "metadata": {
        "id": "Hx4wf5lDd7lq"
      }
    },
    {
      "cell_type": "markdown",
      "source": [
        "## #33\n",
        "Write a Python program to sum three given integers. However, if two values are equal, the sum will be zero."
      ],
      "metadata": {
        "id": "tTVeqXzOe0Ce"
      }
    },
    {
      "cell_type": "code",
      "source": [
        "# Define a function 'sum_three' that takes three integer inputs: x, y, and z.\n",
        "def sum_three(x, y, z):\n",
        "  # Check if any of the two input calues are equal. If so, set 'sum' to 0.\n",
        "  if x == y or y == x or x == z:\n",
        "    sum = 0\n",
        "  else:\n",
        "    # If all three input values are distinct, calculate the sum of x, y, and z.\n",
        "    sum = x + y + z\n",
        "  # Return the calculated sum.\n",
        "  return sum\n",
        "\n",
        "# Test the 'sum_three' function with different sets of input values and print the results.\n",
        "print(sum_three(2, 1, 2))\n",
        "print(sum_three(3, 2, 2))\n",
        "print(sum_three(2, 2, 2))\n",
        "print(sum_three(1, 2, 3))"
      ],
      "metadata": {
        "id": "2qlzPwgZe6XI",
        "outputId": "d16fde9e-2c6e-47ca-9625-10a2d1ef7e7f",
        "colab": {
          "base_uri": "https://localhost:8080/"
        }
      },
      "execution_count": 59,
      "outputs": [
        {
          "output_type": "stream",
          "name": "stdout",
          "text": [
            "0\n",
            "7\n",
            "0\n",
            "6\n"
          ]
        }
      ]
    },
    {
      "cell_type": "markdown",
      "source": [
        "**Explanation:**\n",
        "\n",
        "The said code defines a function \"sum_three(x, y, z)\" that takes three integers as its argument and returns their sum.\n",
        "\n",
        "The function first checks if any of the three integers (x,y,z) are equal, if any two or three integers are equal, it assigns 0 to the variable \"sum\".\n",
        "\n",
        "Otherwise, it assigns the sum of the three integers to the variable \"sum\".\n",
        "\n",
        "Finally, it returns the value of \"sum\".\n",
        "\n",
        "At the end, the function is called four times with different inputs and prints the sum of the inputs.\n"
      ],
      "metadata": {
        "id": "HB-AMzTce624"
      }
    },
    {
      "cell_type": "markdown",
      "source": [
        "## #34\n",
        "Write a Python program to sum two given integers. However if the sum is between 15 and 20 it will return 20."
      ],
      "metadata": {
        "id": "nDb9QU43fpEa"
      }
    },
    {
      "cell_type": "code",
      "source": [
        "# Define a function 'sum' that takes two integer inputs: x and y\n",
        "def sum(x, y):\n",
        "  # Calculate the sum of x and y and store it in the 'sum' variable\n",
        "  sum = x + y\n",
        "  # Check if the calculated sum is within the range [15, 20) (inclusive on 15, exclusive on 20).\n",
        "  if sum in range(15, 20):\n",
        "    # If the sum is within the range, return 20.\n",
        "    return 20\n",
        "  else:\n",
        "    # If the sum is outside the range, return the calculated sum.\n",
        "    return sum\n",
        "\n",
        "# Test the 'sum' function with different sets of input values and print the results\n",
        "print(sum(10, 6))\n",
        "print(sum(10, 2))\n",
        "print(sum(10, 12))"
      ],
      "metadata": {
        "id": "oJRhW8vKfzkK",
        "outputId": "7547708d-2300-4186-c5bd-43937d4c8925",
        "colab": {
          "base_uri": "https://localhost:8080/"
        }
      },
      "execution_count": 60,
      "outputs": [
        {
          "output_type": "stream",
          "name": "stdout",
          "text": [
            "20\n",
            "12\n",
            "22\n"
          ]
        }
      ]
    },
    {
      "cell_type": "markdown",
      "source": [
        "**Explanation:**\n",
        "\n",
        "The said code defines a function \"sum(x, y)\" that takes two integers as arguments and returns their sum.\n",
        "\n",
        "It first calculates the sum of the two integers and assigns it to the variable \"sum\".\n",
        "\n",
        "Then it checks whether the value of \"sum\" is in the range of 15 to 20 (inclusive) using the in-built Python function \"range()\".\n",
        "\n",
        "If the value of \"sum\" is in the range of 15 to 20, the function returns 20 otherwise, it returns the value of \"sum\".\n",
        "\n",
        "At the end, the function is called three times with different inputs and prints the sum of the inputs."
      ],
      "metadata": {
        "id": "kLKFO-P6fybc"
      }
    },
    {
      "cell_type": "markdown",
      "source": [
        "## #35\n",
        "Write a Python program that returns true if the two given integer values are equal or their sum or difference is 5."
      ],
      "metadata": {
        "id": "TddJGQTlgddf"
      }
    },
    {
      "cell_type": "code",
      "source": [
        "# Define a function 'test_number5' that takes two integer inputs: x and y.\n",
        "def test_number5(x, y):\n",
        "  # Check if any of the following conditions are met:\n",
        "  # 1. x is equal to y.\n",
        "  # 2. The absolute difference between x and y is equal to 5\n",
        "  # 3. The sum of x and y is equal to 5.\n",
        "  if x == y or abs(x - y) == 5 or (x + y) == 5:\n",
        "    # If any of the conditions are met, return True.\n",
        "    return True\n",
        "  else:\n",
        "    # If none of the conditions are met, return False.\n",
        "    return False\n",
        "\n",
        "# Test the 'test_number5' function with different sets of input values and print the results.\n",
        "print(test_number5(7, 2))\n",
        "print(test_number5(3, 2))\n",
        "print(test_number5(2, 2))\n",
        "print(test_number5(7, 3))\n",
        "print(test_number5(27, 53))"
      ],
      "metadata": {
        "id": "3lMoveXDglQh",
        "outputId": "9e2b436b-2881-49d0-921a-d685dc364cfe",
        "colab": {
          "base_uri": "https://localhost:8080/"
        }
      },
      "execution_count": 61,
      "outputs": [
        {
          "output_type": "stream",
          "name": "stdout",
          "text": [
            "True\n",
            "True\n",
            "True\n",
            "False\n",
            "False\n"
          ]
        }
      ]
    },
    {
      "cell_type": "markdown",
      "source": [
        "**Explanation:**\n",
        "\n",
        "The said code defines a function \"test_number5(x, y)\" that takes two integers \"x\" and \"y\" as arguments and check if they are equal, or if their sum or difference is equal to 5. If any of these conditions is true, the program would return \"True\", otherwise, it would return \"False\".\n",
        "\n",
        "At the end, the function is called five times with different inputs and prints the outputs of the inputs."
      ],
      "metadata": {
        "id": "hbdIglLPglh6"
      }
    },
    {
      "cell_type": "markdown",
      "source": [
        "## #36"
      ],
      "metadata": {
        "id": "w5h-z4ZQh4vU"
      }
    }
  ]
}