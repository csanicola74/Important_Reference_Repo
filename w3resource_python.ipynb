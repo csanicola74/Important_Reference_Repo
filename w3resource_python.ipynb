{
  "nbformat": 4,
  "nbformat_minor": 0,
  "metadata": {
    "colab": {
      "provenance": [],
      "authorship_tag": "ABX9TyOb1ndCTpoHPTMLHR8GgY6M",
      "include_colab_link": true
    },
    "kernelspec": {
      "name": "python3",
      "display_name": "Python 3"
    },
    "language_info": {
      "name": "python"
    }
  },
  "cells": [
    {
      "cell_type": "markdown",
      "metadata": {
        "id": "view-in-github",
        "colab_type": "text"
      },
      "source": [
        "<a href=\"https://colab.research.google.com/github/csanicola74/Important_Reference_Repo/blob/main/w3resource_python.ipynb\" target=\"_parent\"><img src=\"https://colab.research.google.com/assets/colab-badge.svg\" alt=\"Open In Colab\"/></a>"
      ]
    },
    {
      "cell_type": "markdown",
      "source": [
        "# Learning Python through W3Resource.com\n",
        "Links:\n",
        "  * [Python](https://www.w3resource.com/python/python-syntax.php)\n",
        "  * [Exercises](https://www.w3resource.com/python-exercises/)"
      ],
      "metadata": {
        "id": "7IYzQ9H6rZtY"
      }
    },
    {
      "cell_type": "code",
      "execution_count": null,
      "metadata": {
        "colab": {
          "base_uri": "https://localhost:8080/"
        },
        "id": "U2Vc3eOpqfUx",
        "outputId": "7dd45a81-a4a7-4527-889c-e96c24e99249"
      },
      "outputs": [
        {
          "output_type": "stream",
          "name": "stdout",
          "text": [
            "Twinkle, twinkle, little star, \n",
            "\tHow I wonder what you are! \n",
            "\t\tUp above the world so high, \n",
            "\t\tLike a diamond in the sky. \n",
            "Twinkle, twinkle, little star, \n",
            "\tHow I wonder what you are!\n"
          ]
        }
      ],
      "source": [
        "# Excercise 1: Write a Python program to print the following string in a specific format (see the output).\n",
        "# Sample String: \"Twinkle, twinkle, little star, How I wonder what you are! Up above the world so high, Like a diamond in the sky. Twinkle, twinkle, little star, How I wonder what you are\"\n",
        "# Output:\n",
        "  # Twinkle, twinkle, little star,\n",
        "\t    # How I wonder what you are!\n",
        "\t            #\tUp above the world so high,\n",
        "\t            #\tLike a diamond in the sky.\n",
        "  # Twinkle, twinkle, little star,\n",
        "\t    # How I wonder what you are\n",
        "#################\n",
        "### REFERENCE ###\n",
        "#################\n",
        "# \\n_________ = new line\n",
        "# \\n\\t_______ = new line and a tab in\n",
        "# \\n\\t\\t_____ = new line and 2 tabs in\n",
        "print(\"Twinkle, twinkle, little star, \\n\\tHow I wonder what you are! \\n\\t\\tUp above the world so high, \\n\\t\\tLike a diamond in the sky. \\nTwinkle, twinkle, little star, \\n\\tHow I wonder what you are!\")\n",
        "\n",
        "\"\"\"\n",
        "The print statement (Python 2.6) has been replaced with a print() function (Python 2.6), with keyword arguments to replace most of the special syntax of the old print statement .\n",
        "The print() function doesn’t support the “softspace” feature of the old print statement. For example, in Python 2.x, print \"A\\n\", \"B\" would write \"A\\nB\\n\"; but in Python 3.0, print(\"A\\n\", \"B\") writes \"A\\n B\\n\".\n",
        "Initially, you’ll be finding yourself typing the old print x a lot in interactive mode. Time to retrain your fingers to type print(x) instead!\n",
        "When using the 2to3 source-to-source conversion tool, all print statements are automatically converted to print() function calls, so this is mostly a non-issue for larger projects.\n",
        "\"\"\""
      ]
    },
    {
      "cell_type": "code",
      "source": [
        "# Exercise 2: Write a Python program to find out what version fo Python you are using.\n",
        "# version 1\n",
        "import sys  # Import the sys module to access system-specific parameters and functions\n",
        "\n",
        "# Print the Python version to the console\n",
        "print(\"Python version\")\n",
        "\n",
        "# Use the sys.version attribute to get the Python version and print it\n",
        "print(sys.version)\n",
        "\n",
        "# Print information about the Python version\n",
        "print(\"Version info.\")\n",
        "\n",
        "# Use the sys.version_info attribute to get detailed version information and print it\n",
        "print(sys.version_info)\n",
        "\n",
        "\n",
        "# version 2\n",
        "import platform\n",
        "print(platform.python_version())\n",
        "\n",
        "\"\"\"\n",
        "Explanation:\n",
        "The said code imports the \"sys\" module and then uses it to print the version of Python currently being used, as well as additional version information.\n",
        "The first line imports the \"sys\" module provides access to some variables used or maintained by the interpreter and to functions that interact strongly with the interpreter. It is always available.\n",
        "The second line prints the string \"Python version\".\n",
        "The third line prints the version of Python currently being used to the console.\n",
        "The fourth line prints the string \"Version info.\".\n",
        "The fifth line prints version information of the current Python interpreter. It returns a named tuple (version_info) containing the five components of the version number: major, minor, micro, releaselevel, and serial.\n",
        "\"\"\""
      ],
      "metadata": {
        "colab": {
          "base_uri": "https://localhost:8080/"
        },
        "id": "h4Uhetyxtv18",
        "outputId": "4cb4f84b-02a7-491d-c3a1-7450f34b92f9"
      },
      "execution_count": null,
      "outputs": [
        {
          "output_type": "stream",
          "name": "stdout",
          "text": [
            "Python version\n",
            "3.10.12 (main, Nov 20 2023, 15:14:05) [GCC 11.4.0]\n",
            "Version info.\n",
            "sys.version_info(major=3, minor=10, micro=12, releaselevel='final', serial=0)\n",
            "3.10.12\n"
          ]
        }
      ]
    },
    {
      "cell_type": "code",
      "source": [
        "# Exercise 3: Write a Python program to display the current date and time.\n",
        "# Sample Output:\n",
        "# Current date and time :\n",
        "# 2014-07-05 14:34:14\n",
        "\n",
        "# Import the 'datetime' module to work with date and time\n",
        "import datetime\n",
        "\n",
        "# Get the current date and time\n",
        "now = datetime.datetime.now()\n",
        "\n",
        "# Create a datetime object representing the current date and time\n",
        "\n",
        "# Display a message indicating what is being printed\n",
        "print(\"Current date and time: \")\n",
        "\n",
        "# Print the current date and time in a specific format\n",
        "print(now.strftime(\"%Y-%m-%d %H:%M:%S\"))\n",
        "\n",
        "# Use the 'strftime' method to format the datetime object as a string with the desired format\n",
        "\n",
        "\"\"\"\n",
        "Explanation:\n",
        "The said code imports the \"datetime\" module, gets the current date and time, and finally prints it in a formatted string.\n",
        "The first line import datetime imports the datetime module which supplies classes for manipulating dates and times.\n",
        "The second line now = datetime.datetime.now() creates a datetime object for the current date and time.\n",
        "The third line print (\"Current date and time : \") prints the string \"Current date and time : \" to the console.\n",
        "The fourth line print (now.strftime(\"%Y-%m-%d %H:%M:%S\")) uses the strftime() method of the datetime object to format the date and time as a string in the format \"YYYY-MM-DD HH:MM:SS\" and prints it to the console.\n",
        "The strftime() method returns a string representing the date, controlled by an explicit format string. The format codes used in this example are:\n",
        "%Y: year with century as a decimal number.\n",
        "%m: month as a zero-padded decimal number.\n",
        "%d: day of the month as a zero-padded decimal number.\n",
        "%H: hour (24-hour clock) as a zero-padded decimal number.\n",
        "%M: minute as a zero-padded decimal number.\n",
        "%S: second as a zero-padded decimal number.\n",
        "This code can be useful for logging or timestamping events in a program, or for displaying the current date and time in a user interface.\n",
        "\"\"\""
      ],
      "metadata": {
        "colab": {
          "base_uri": "https://localhost:8080/"
        },
        "id": "_NASPp0cyseB",
        "outputId": "17dd0117-adb5-4001-b3f3-c7efd13d1c50"
      },
      "execution_count": null,
      "outputs": [
        {
          "output_type": "stream",
          "name": "stdout",
          "text": [
            "Current date and time: \n",
            "2024-03-19 17:43:18\n"
          ]
        }
      ]
    },
    {
      "cell_type": "code",
      "source": [
        "# Exercise 4: Write a Python program that calculates the area of a circle based on the radius entered by the user.\n",
        "# Sample Output:\n",
        "# r = 1.1\n",
        "# Area = 3.8013271108436504\n",
        "\n",
        "# Import the 'pi' constant from the 'math' module to calculate the are of a circle\n",
        "from math import pi\n",
        "\n",
        "# Prompt the user to input the radius of the circle\n",
        "r = float(input(\"Input the radius of the circle: \"))\n",
        "\n",
        "# Calculate the are of the circle using the formula: area = π * r^2\n",
        "area = pi * r ** 2\n",
        "\n",
        "# Dispaly the result, including the radius and calculated area\n",
        "print(\"The area of the circle with radius \" + str(r) + \" is: \" + str(area))\n",
        "\n",
        "\"\"\"\n",
        "Explanation:\n",
        "The said code calculates the area of a circle based on the radius entered by the user. The code uses the \"math\" module's pi constant and the \"input\" function to get the radius from the user, then it uses the formula to calculate the area of the circle.\n",
        "The first line from math import pi imports the pi constant from the math module, which is the mathematical constant. It represents the ratio of a circle's circumference to its diameter (approximately equal to 3.14).\n",
        "The second line r = float(input (\"Input the radius of the circle : \")) gets the radius of the circle from the user using the input() function. input() function assigns it to the variable r, it's then cast to float, so the user can input decimal number also.\n",
        "The third line print (\"The area of the circle with radius \" + str(r) + \" is: \" + str(pi * r**2)) uses the formula to calculate the area of the circle (pi*r**2) . Then it concatenates the string and the value of the radius and area using the + operator and prints the final string.\n",
        "This code is useful to calculate the area of a circle when the radius is known, it can be used in physics and mathematical calculations or in applications that require the area of a circle to be calculated.\n",
        "\"\"\""
      ],
      "metadata": {
        "colab": {
          "base_uri": "https://localhost:8080/"
        },
        "id": "6Zit_DzP1_Rf",
        "outputId": "0a3a927a-490c-4c67-eefc-b4e2fcbbea70"
      },
      "execution_count": null,
      "outputs": [
        {
          "output_type": "stream",
          "name": "stdout",
          "text": [
            "Input the radius of the circle: 3.2\n",
            "The area of the circle with radius 3.2 is: 32.169908772759484\n"
          ]
        }
      ]
    },
    {
      "cell_type": "code",
      "source": [
        "# Exercise 5: Write a Python program that accepts the user's first and last name and prints them in reverse order with a space between them\n",
        "\n",
        "first_name = input(\"What is your first name: \")\n",
        "last_name = input(\"What is your last name: \")\n",
        "print(last_name + \" \" + first_name)\n",
        "\n",
        "\"\"\"\n",
        "Explanation:\n",
        "This code prompts the user to input their first and last name, and then it prints a message that combines the first name and last name in a specific order.\n",
        "The first line fname = input(\"Input your First Name : \") gets the user's first name using the input() function and assigns it to the variable 'fname'.\n",
        "The second line lname = input(\"Input your Last Name : \") gets the user's last name using the input() function and assigns it to the variable 'lname'.\n",
        "The third line print (\"Hello \" + lname + \" \" + fname) prints a message that combines the last name and first name, concatenating them with the + operator and separated by a space.\n",
        "\"\"\""
      ],
      "metadata": {
        "colab": {
          "base_uri": "https://localhost:8080/"
        },
        "id": "epYh_8kR-h8f",
        "outputId": "8cf757c3-6a98-4a27-af7b-574c549b6430"
      },
      "execution_count": null,
      "outputs": [
        {
          "output_type": "stream",
          "name": "stdout",
          "text": [
            "What is your first name: Caroline\n",
            "What is your last name: Sanicola\n",
            "Sanicola Caroline\n"
          ]
        }
      ]
    },
    {
      "cell_type": "code",
      "source": [
        "# Exercise 6: Write a Python program that accepts a sequence of comma-separated numbers from the user and generates a list of a tuple from those numbers.\n",
        "# Sample data: 3, 5, 7, 23\n",
        "# Output:\n",
        "#   List: ['3', '5', '7', '23']\n",
        "#   Tuple: ('3', '5', '7', '23')\n",
        "\n",
        "# Prompt the user to input a sequence of comma-separated numbers and store it in the 'values' variable\n",
        "values = input(\"Input some comma-separated numbers: \")\n",
        "\n",
        "# Split the 'values' string into a list using commas as separators and store it in the 'list' variable\n",
        "list = values.split(\",\")\n",
        "\n",
        "# Convert the 'list' into a tuple and store it in the 'tuple' variable\n",
        "tuple = tuple(list)\n",
        "\n",
        "# Print the list\n",
        "print('List: ', list)\n",
        "\n",
        "# Print the tuple\n",
        "print('Tuble: ', tuple)\n",
        "\n",
        "\"\"\"\n",
        "Explanation:\n",
        "The said code prompts the user to input a list of numbers separated by commas. Then it converts the string of numbers into a list and a tuple, and finally it prints both the list and the tuple.\n",
        "The first line values = input(\"Input some comma seprated numbers : \") gets a string of numbers separated by commas from the user using the input() function and assigns it to the variable 'values'.\n",
        "The second line splits the string of numbers into a list of individual numbers using the split() method and assigns it to the variable 'list'. This method takes a separator as input, in this case ',' (comma) and returns a list of substrings that were separated by the separator.\n",
        "The third line converts the list into a tuple using the tuple() function and assigns it to the variable 'tuple'.\n",
        "The fourth line prints the list to the console.\n",
        "The fifth line prints the tuple to the console.\n",
        "\"\"\"\n"
      ],
      "metadata": {
        "colab": {
          "base_uri": "https://localhost:8080/"
        },
        "id": "MXuFg50a_c2x",
        "outputId": "44ade641-b98b-4107-c931-81ac4441a7fd"
      },
      "execution_count": null,
      "outputs": [
        {
          "output_type": "stream",
          "name": "stdout",
          "text": [
            "Input some comma-separated numbers: 4, 25, 62, 734, 11\n",
            "List:  ['4', ' 25', ' 62', ' 734', ' 11']\n",
            "Tuble:  ('4', ' 25', ' 62', ' 734', ' 11')\n"
          ]
        }
      ]
    },
    {
      "cell_type": "code",
      "source": [
        "# Exercise 7: Write a Python program that accepts a filename from the user and prints the extension of the file.\n",
        "# Sample filename: abc.java\n",
        "# Output: java\n",
        "\n",
        "# Prompt the user to input a filename and store it in the 'filename' variable\n",
        "filename = input(\"Input the Filename: \")\n",
        "\n",
        "# Split the 'filename' string into a list using the period (.) as a separator and store it in the 'f_extns' variable\n",
        "f_extns = filename.split(\".\")\n",
        "\n",
        "# Print the extension of the file, which is the last element in the 'f_extns' list\n",
        "print(\"The extension of the file is: \" + repr(f_extns[-1]))\n",
        "\n",
        "\"\"\"\n",
        "Explanation:\n",
        "At first the siad code prompts the user to input a filename and stores it in the variable \"filename\". It then uses the string method split() to split the value of \"filename\" by \".\"(dot) and assigns the result to the variable \"f_extns\".\n",
        "The code then uses the index -1 to access the last element of the list \"f_extns\" which is the file extension and prints the message \"The extension of the file is : \" followed by the last element.\n",
        "The repr() function returns a string containing a printable representation of an object.\n",
        "For example, if the user inputs \"abc.txt\" as the filename, the code will print \"Th e extension of the file is : 'txt'\"\n",
        "\"\"\""
      ],
      "metadata": {
        "id": "AwUX1MlLn6Tq",
        "outputId": "8511542d-fc9d-4142-bc8b-df9e00f588c3",
        "colab": {
          "base_uri": "https://localhost:8080/"
        }
      },
      "execution_count": null,
      "outputs": [
        {
          "output_type": "stream",
          "name": "stdout",
          "text": [
            "Input the Filename: data.xlsx\n",
            "The extension of the file is: 'xlsx'\n"
          ]
        }
      ]
    },
    {
      "cell_type": "code",
      "source": [
        "# Exercise 8: Write a Python program to display the first and last colors from the follow list.\n",
        "# color_list = [\"Red\", \"Green\", \"White\", \"Black\"]\n",
        "\n",
        "# Create a list called 'color_list' containing color names\n",
        "color_list = [\"Red\", \"Green\", \"White\", \"Black\"]\n",
        "# Print the first and last elements of the 'color_list' using string formatting\n",
        "# The '%s' placeholders are filled witht he values of 'color_list[0]' (Red) and 'color_list[-1]' (Black)\n",
        "print(\"%s %s\" % (color_list[0], color_list[-1]))\n",
        "\n",
        "\"\"\"\n",
        "Explanation:\n",
        "The said code creates a list named \"color_list\" which includes four different colors, \"Red\", \"Green\", \"White\", and \"Black\". Then, it utilizes string formatting to print the first (Index 0) and the last (Index -1) color of the list together with a space in between. The output would be \"Red Black\".\n",
        "\"\"\""
      ],
      "metadata": {
        "id": "NaitvbbMpI4Q",
        "outputId": "27c78a88-9a03-458f-8658-322b952b48b4",
        "colab": {
          "base_uri": "https://localhost:8080/"
        }
      },
      "execution_count": null,
      "outputs": [
        {
          "output_type": "stream",
          "name": "stdout",
          "text": [
            "Red Black\n"
          ]
        }
      ]
    },
    {
      "cell_type": "code",
      "source": [
        "# Exercise 9: Write a Python program to display the examination schedule. (extract the date from exam_st_date).\n",
        "# exam_st_date = (11, 12, 2014)\n",
        "# Sample Output: The examination will start from: 11/12/2014\n",
        "\n",
        "# Define a tuple called 'exam_st_date' containing the exam start date in the format (day, month, year)\n",
        "exam_st_date = (11, 12, 2014)\n",
        "\n",
        "# Print the exam start date using string formatting\n",
        "# The '%i' placeholders are filled with the values from the 'exam_st_date' tuple\n",
        "print(\"The examination will start from: %i/%i/%i\" % exam_st_date)\n",
        "\n",
        "\"\"\"\n",
        "Explanation:\n",
        "The said code creates a tuple called \"exam_st_date\" containing three integers: 11, 12, and 2014. It then uses string formatting to print a string that states \"The examination will start from :\" followed by the integers in the tuple in the order they appear, formatted as day/month/year. The placeholders %i are used to format the integers.\n",
        "The output would be: \"The examination will start from : 11 / 12 / 2014\".\n",
        "\"\"\""
      ],
      "metadata": {
        "id": "C6Gg-Tg7p_q3",
        "outputId": "da0198e8-b197-4ebf-f019-d501206c3ca0",
        "colab": {
          "base_uri": "https://localhost:8080/"
        }
      },
      "execution_count": null,
      "outputs": [
        {
          "output_type": "stream",
          "name": "stdout",
          "text": [
            "The examination will start from: 11/12/2014\n"
          ]
        }
      ]
    },
    {
      "cell_type": "code",
      "source": [
        "# Exercise 10: Write a Python program that accepts an integer (n) and computes the value of n+nn+nnn\n",
        "# Sample value of n is 5\n",
        "# Expected Result: 615\n",
        "\n",
        "# Prompt the user to input an integer and store it in the variable 'a'\n",
        "a = int(input(\"Input an integer: \"))\n",
        "\n",
        "# Create new integers 'n1', 'n2', and 'n3' by concatenating 'a' with itself one, two, and three times, respectively\n",
        "n1 = int(\"%s\" % a)              # Convert 'a' to an integer\n",
        "n2 = int(\"%s%s\" % (a, a))       # Concatenate 'a' with iteself and convert to an integer\n",
        "n3 = int(\"%s%s%s\" % (a, a, a))  # Concatenate 'a' with itself twice and convert to an integer\n",
        "\n",
        "# Calculate the sum of 'n1', 'n2', and 'n3' and print the result\n",
        "print(n1 + n2 + n3)\n",
        "\n",
        "\"\"\"\n",
        "Explanation:\n",
        "The said code prompts the user to input an integer, which is then stored in the variable \"a\".\n",
        "There after the first variable n1 is created by converting the input integer \"a\" to a string and then back to an integer.\n",
        "The second variable n2 is created by concatenating two copies of the input integer \"a\" as a string and then converting that string to an integer.\n",
        "The third variable n3 is created by concatenating three copies of the input integer \"a\" as a string and then converting that string to an integer.\n",
        "Finally, the code sums the three variables n1, n2 and n3 and print the result.\n",
        "\"\"\""
      ],
      "metadata": {
        "id": "P0CYPwbbqvPu",
        "outputId": "31336c5d-dfb0-4fc7-d716-f9c7a9752a52",
        "colab": {
          "base_uri": "https://localhost:8080/"
        }
      },
      "execution_count": null,
      "outputs": [
        {
          "output_type": "stream",
          "name": "stdout",
          "text": [
            "Input an integer: 3\n",
            "369\n"
          ]
        }
      ]
    },
    {
      "cell_type": "code",
      "source": [
        "# Exercise 11: Write a Python program to print the documents (syntax, description etc.) of Python built-in function(s).\n",
        "# Sample function: abs()\n",
        "# Expected Result:\n",
        "# abs(number) -> number\n",
        "# Return the absolute value of the argument\n",
        "\n",
        "# Print the docstring (documentation) of the 'abs' function\n",
        "print(abs.__doc__)\n",
        "\n",
        "\"\"\"\n",
        "Python Docstring:\n",
        "A docstring is a string literal that occurs as the first statement in a module, function, class, or method definition. Such a docstring becomes the __doc__ special attribute of that object.\n",
        "All modules should normally have docstrings, and all functions and classes exported by a module should also have docstrings. Public methods (including the __init__ constructor) should also have docstrings.\n",
        "\"\"\""
      ],
      "metadata": {
        "id": "btbS0CxWsFEu",
        "outputId": "bea90473-a36f-42bf-b465-5509b99d7e45",
        "colab": {
          "base_uri": "https://localhost:8080/"
        }
      },
      "execution_count": null,
      "outputs": [
        {
          "output_type": "stream",
          "name": "stdout",
          "text": [
            "Return the absolute value of the argument.\n"
          ]
        }
      ]
    },
    {
      "cell_type": "code",
      "source": [
        "# Exercise 12: Write a Python program that prints the calendar for a given month and year .\n",
        "# Note: Use 'calendar' module\n",
        "\n",
        "# Import the 'calendar' module\n",
        "import calendar\n",
        "\n",
        "# Prompt the user to input the year and month\n",
        "y = int(input(\"Input the year: \"))\n",
        "m = int(input(\"Input the month: \"))\n",
        "\n",
        "# Print the calendar for the specified year and month\n",
        "print(calendar.month(y, m))\n",
        "\n",
        "\"\"\"\n",
        "Explanation:\n",
        "The said code imports the calendar module, which allows you to output calendars like the Unix cal program, and provides additional useful functions related to the calendar. It then asks the user to input an integer for the year and month.\n",
        "The code then uses the month() function from the calendar module, which takes the year and month as arguments and returns a string containing an ASCII calendar for that month of that year.\n",
        "\"\"\""
      ],
      "metadata": {
        "id": "ZmqaE6KZsjTr",
        "outputId": "a1ba6ac0-36a6-444e-d8cf-03d4841e9ecf",
        "colab": {
          "base_uri": "https://localhost:8080/"
        }
      },
      "execution_count": null,
      "outputs": [
        {
          "output_type": "stream",
          "name": "stdout",
          "text": [
            "Input the year: 2024\n",
            "Input the month: 3\n",
            "     March 2024\n",
            "Mo Tu We Th Fr Sa Su\n",
            "             1  2  3\n",
            " 4  5  6  7  8  9 10\n",
            "11 12 13 14 15 16 17\n",
            "18 19 20 21 22 23 24\n",
            "25 26 27 28 29 30 31\n",
            "\n"
          ]
        }
      ]
    },
    {
      "cell_type": "code",
      "source": [
        "# Exercise 13: Write a Python program to print the following 'here document'.\n",
        "# Sample string:\n",
        "# a string that you \"don't\" have to escape\n",
        "# This\n",
        "# is a ..... multi-line\n",
        "# heredoc string ------> example\n",
        "\n",
        "print(\"\"\"\n",
        "a string that you \"don't\" have to escape\n",
        "This\n",
        "is a ....... multi-line\n",
        "heredoc string --------> example\n",
        "\"\"\")\n",
        "\n",
        "\"\"\"\n",
        "Explanation:\n",
        "A here document (or \"heredoc\") is a way of specifying a text block, preserving the line breaks, indents, and other whitespace within the text. The said code uses triple quotes to define a multi-line string, also known as a heredoc string. It allows the string to span multiple lines without the need to escape newline characters.\n",
        "The output will be the string exactly as it appears in the code, including the newline characters.\n",
        "\"\"\""
      ],
      "metadata": {
        "id": "LCsU9eB2tMiZ",
        "outputId": "78f912c5-b15b-4719-c38c-f009a9b4de2c",
        "colab": {
          "base_uri": "https://localhost:8080/"
        }
      },
      "execution_count": null,
      "outputs": [
        {
          "output_type": "stream",
          "name": "stdout",
          "text": [
            "\n",
            "a string that you \"don't\" have to escape\n",
            "This\n",
            "is a ....... multi-line\n",
            "heredoc string --------> example\n",
            "\n"
          ]
        }
      ]
    },
    {
      "cell_type": "code",
      "source": [
        "# Exercise 14: Write a Python program to calculate the number of days between two dates.\n",
        "# Sample dates: (2014, 7, 2), (2014, 7, 11)\n",
        "# Expected output: 9 days\n",
        "\n",
        "# Import the 'date' class from the 'datetime' module\n",
        "from datetime import date\n",
        "\n",
        "# Define a start date as July 2, 2014\n",
        "f_date = date(2014, 7, 2)\n",
        "\n",
        "# Define an end date as July 11, 2014\n",
        "l_date = date(2014, 7, 11)\n",
        "\n",
        "# Calculate the difference between the end date and start date\n",
        "delta = l_date - f_date\n",
        "\n",
        "# Print the number of days in the time difference\n",
        "print(delta.days)\n",
        "\n",
        "\"\"\"\n",
        "Explanation:\n",
        "This script imports the \"date\" class from the \"datetime\" module.\n",
        "It then creates two date objects (<class 'datetime.date'>), 'f_date 'and 'l_date'.\n",
        "The script then calculates the difference between these two dates and stores it in a variable called 'delta'.\n",
        "The 'delta' variable is then printed, specifically the attribute \"days\" which returns the number of days between the said two dates.\n",
        "In this case, the output would be 9, as there are 9 days between July 2nd and July 11th in 2014.\n",
        "\"\"\""
      ],
      "metadata": {
        "id": "bc76w7C3tmBL",
        "outputId": "73f7b639-be17-49c4-8606-ee5f902d9e9e",
        "colab": {
          "base_uri": "https://localhost:8080/"
        }
      },
      "execution_count": null,
      "outputs": [
        {
          "output_type": "stream",
          "name": "stdout",
          "text": [
            "9\n"
          ]
        }
      ]
    },
    {
      "cell_type": "code",
      "source": [
        "# Excerise 15: Write a Python program to get the volume of a sphere with radius six\n",
        "\n",
        "# Define the value of pi\n",
        "pi = 3.1415926535897931\n",
        "\n",
        "# Define the radius of the sphere\n",
        "r = 6.0\n",
        "\n",
        "# Calculate the volume of the sphere using the formula\n",
        "V = 4.0/3.0 * pi * r**3\n",
        "\n",
        "# Print the calculated volume of the sphere\n",
        "print('The volumne of the sphere is: ', V)\n",
        "\n",
        "\"\"\"\n",
        "Explanation:\n",
        "The said code assigns the value of pi as 3.1415926535897931 to the variable \"pi\" and 6.0 to the variable \"r\". The code uses the formula V = 4/3 * pi * r^3 to calculate the volume of a sphere. Volume of the sphere is stored in the variable \"V\".\n",
        "It then prints the message \"The volume of the sphere is:\" followed by the volume of the sphere using print statement.\n",
        "In this case, the code will output \"The volume of the sphere is: 904.7786842338603\".\n",
        "\"\"\""
      ],
      "metadata": {
        "id": "Z-NmzOFGuhTm",
        "outputId": "4c89fe31-08a1-4b19-bd8f-37998a157ffa",
        "colab": {
          "base_uri": "https://localhost:8080/"
        }
      },
      "execution_count": null,
      "outputs": [
        {
          "output_type": "stream",
          "name": "stdout",
          "text": [
            "The volumne of the sphere is:  904.7786842338603\n"
          ]
        }
      ]
    },
    {
      "cell_type": "code",
      "source": [
        "# Exercise 16: Write a Python program to calculate the difference between a given number and 17.\n",
        "# If the number is greater than 17, return twice the absolute difference.\n",
        "\n",
        "# Define a function named \"difference\" that takes an integer parameter \"n\"\n",
        "def difference(n):\n",
        "  # Check if n is less than or equal to 17\n",
        "  if n <= 17:\n",
        "    # If n is less than or equal to 17, return the absolute difference between 17 and n\n",
        "    return 17 - n\n",
        "  else:\n",
        "    # If n is greater than 17, return the absolute difference between n and 17 multiplied by 2\n",
        "    return (n - 17) * 2\n",
        "\n",
        "# Call the \"difference\" function with the argument 22 and print the result\n",
        "print(difference(22))\n",
        "\n",
        "# Call the \"difference\" function with the argument 14 and print the result\n",
        "print(difference(14))\n",
        "\n",
        "\"\"\"\n",
        "Explanation:\n",
        "The said script defines a function called 'difference' that takes input(n) as an argument. Using an if-else statement the function checks whether the input value of n is less than or equal to 17. If the input value of n is less than or equal to 17, the function will return the difference of 17 - n. If the input value of n is greater than 17, the function will return double the difference of n - 17.\n",
        "Now the script calls the function twice with the input values of 22 and 14, respectively.\n",
        "In the first case the input is greater than 17, so the function returns (22-17)*2 = 10. Therefore, the script will print 10.\n",
        "In the second case the input value is less than or equal to 17, so the function returns 17-14 = 3. Therefore, the script will print 3.\n",
        "\"\"\""
      ],
      "metadata": {
        "id": "jW9GLPrKvBfL",
        "outputId": "5f785a56-7562-4379-cd0c-0449c3234c2a",
        "colab": {
          "base_uri": "https://localhost:8080/"
        }
      },
      "execution_count": null,
      "outputs": [
        {
          "output_type": "stream",
          "name": "stdout",
          "text": [
            "10\n",
            "3\n"
          ]
        }
      ]
    },
    {
      "cell_type": "code",
      "source": [
        "# Exercise 17: Write a Python program to test whether a number is within 100 of 1000 or 2000.\n",
        "\n",
        "# Define a function named \"near_thousand\" that takes an integer parameter \"n\"\n",
        "def near_thousand(n):\n",
        "  # Check if the absolute difference between 1000 and n is less than or equal to 100\n",
        "  # OR check if the absoluate difference between 2000 and n is less than or equal to 100\n",
        "  return ((abs(1000 - n) <= 100) or (abs(2000 - n) <= 100))\n",
        "\n",
        "# Call the \"near_thousand\" function with the argument 1000 and print the result\n",
        "print(near_thousand(1000))\n",
        "\n",
        "# Call the \"near_thousand\" function with the argument 900 and print the result\n",
        "print(near_thousand(900))\n",
        "\n",
        "# Call the \"near_thousand\" function with the argument 800 and print the result\n",
        "print(near_thousand(800))\n",
        "\n",
        "# Call the \"near_thousand\" function with the argument 2200 and print the result\n",
        "print(near_thousand(2200))\n",
        "\n",
        "\"\"\"\n",
        "Explanation:\n",
        "The said script defines a function called near_thousand(n) that takes an integer as an argument and returns True if the input is within 100 of either 1000 or 2000, and False otherwise. The function uses the abs() function, which returns the absolute value of a number, to determine the difference between the input and 1000 or 2000.\n",
        "Now the script calls the function four time with the input values of 1000, 900, 800 and 2200 respectively.\n",
        "When the input value is 1000, it returns True because the difference between 1000 and 1000 is 0, which is less than 100.\n",
        "When the input value is t 900, it returns True because the difference between 900 and 1000 is 100, which is less than 100.\n",
        "When the input value is 800, it returns False because the difference between 800 and 1000 is 200, which is not less than or equal to 100.\n",
        "When the input value is 2200, it returns False because the difference between 2200 and 2000 is 200, which is not less than or equal to 100.\n",
        "\"\"\""
      ],
      "metadata": {
        "id": "P9hFyEp3wDgI",
        "outputId": "bf0df927-a69a-433d-df73-1f4f2098aac3",
        "colab": {
          "base_uri": "https://localhost:8080/"
        }
      },
      "execution_count": null,
      "outputs": [
        {
          "output_type": "stream",
          "name": "stdout",
          "text": [
            "True\n",
            "True\n",
            "False\n",
            "False\n"
          ]
        }
      ]
    },
    {
      "cell_type": "code",
      "source": [
        "# Exercise 18: Write a Python program to calculate the sum of three given numbers.\n",
        "# If the values are equal, return three times their sum.\n",
        "\n",
        "# Define a function named \"sum_thrice\" that takes three integer parameters: x, y, and z\n",
        "def sum_thrice(x, y, z):\n",
        "  # Calculate the sum of x, y, and z\n",
        "  sum = x + y + z\n",
        "\n",
        "  # Check if x, y, and z are all equal (all three numbers are the same)\n",
        "  if x == y == z:\n",
        "    # If they are equal, triple the sum\n",
        "    sum = sum * 3\n",
        "\n",
        "  # Return the final sum\n",
        "  return sum\n",
        "\n",
        "# Call the \"sum_thrice\" function with the arguments (1, 2, 3) and print the result\n",
        "print(sum_thrice(1, 2, 3))\n",
        "\n",
        "# Call the \"sum_thrice\" function with the arguments (3, 3, 3) and print the result\n",
        "print(sum_thrice(3, 3, 3))\n",
        "\n",
        "\"\"\"\n",
        "Explanation:\n",
        "The said script defines a function called sum_thrice(x, y, z) that takes three integers as arguments and returns their sum. The function, however, multiplies the sum by 3 if all three integers are equal.\n",
        "Now the script calls the function twice with the input values (1,2,3) and (3,3,3).\n",
        "Whenever 1, 2, and 3 are input values, the three inputs are not equal, so it returns 6.\n",
        "Whenever 3, 3, and 3 are input values, the three inputs are equal so the function multiplies the sum by 3 and returns 27.\n",
        "Depending on the inputs, the if statement holds true only if x == y == z, otherwise it holds False.\n",
        "\"\"\""
      ],
      "metadata": {
        "id": "WxzsbCPqw3ju",
        "outputId": "4934659b-e5f3-453f-f22d-02fa6c9346ba",
        "colab": {
          "base_uri": "https://localhost:8080/"
        }
      },
      "execution_count": null,
      "outputs": [
        {
          "output_type": "stream",
          "name": "stdout",
          "text": [
            "6\n",
            "27\n"
          ]
        }
      ]
    },
    {
      "cell_type": "code",
      "source": [
        "# Exercise 19: Write a Python program to get a newly-generated string from a given string where \"ls\" has been added to the front.\n",
        "# Return the string unchanged if the given string already begins with \"ls\"\n",
        "\n",
        "# Define a function named \"new_string\" that takes a string parameter called \"text\"\n",
        "def new_string(text):\n",
        "  # Check if the length of the \"text\" is greater than or equal to 2 and if the first two characters of \"text\" are \"Is\"\n",
        "  if len(text) >= 2 and text[:2] == \"Is\":\n",
        "    # If the conditions are met, return the original \"text\" unchanged\n",
        "    return text\n",
        "  else:\n",
        "    # If the conditions are not met, prepend \"Is\" to the \"text\" and return the modified string\n",
        "    return \"Is\" + text\n",
        "\n",
        "# Call the \"new_string\" function with the argument \"Array\" and print the result\n",
        "print(new_string(\"Array\"))\n",
        "\n",
        "# Call the \"new_string\" function with the argument \"IsEmpty\" and print the result\n",
        "print(new_string(\"IsEmpty\"))\n",
        "\n",
        "\"\"\"\n",
        "Explanation:\n",
        "The said script defines a function \"new_string(text)\" takes a string as an argument, and checks whether the string's length is greater than or equal to 2 and the first two characters of the string are \"Is\". If both conditions are true, the function returns the original string. Otherwise, the function returns a new string \"Is\" concatenated with the original string.\n",
        "The first print statement will display \"IsArray\" and the second will display \"IsEmpty\".\n",
        "\"\"\""
      ],
      "metadata": {
        "id": "LiiZffCBxwLl",
        "outputId": "8c615f71-fd37-4d86-bc64-9086ec68592b",
        "colab": {
          "base_uri": "https://localhost:8080/",
          "height": 106
        }
      },
      "execution_count": 21,
      "outputs": [
        {
          "output_type": "error",
          "ename": "SyntaxError",
          "evalue": "incomplete input (<ipython-input-21-9038f37b3e8c>, line 20)",
          "traceback": [
            "\u001b[0;36m  File \u001b[0;32m\"<ipython-input-21-9038f37b3e8c>\"\u001b[0;36m, line \u001b[0;32m20\u001b[0m\n\u001b[0;31m    \"\"\"\u001b[0m\n\u001b[0m    ^\u001b[0m\n\u001b[0;31mSyntaxError\u001b[0m\u001b[0;31m:\u001b[0m incomplete input\n"
          ]
        }
      ]
    },
    {
      "cell_type": "code",
      "source": [
        "# Exercise 20: Write a Python program that returns a string that is n (non-negative integer) copies of a given string.\n",
        "\n",
        "# Define a function named \"larger_string\" that takes two parameters, \"text\" and \"n\"\n",
        "def larger_string(text, n):\n",
        "    # Initialize an empty string variable named \"result\"\n",
        "    result = \"\"\n",
        "\n",
        "    # Use a for loop to repeat the \"text\" \"n\" times and concatenate it to the \"result\"\n",
        "    for i in range(n):\n",
        "        result = result + text\n",
        "\n",
        "    # Return the final \"result\" string\n",
        "    return result\n",
        "\n",
        "# Call the \"larger_string\" function with the arguments 'abc' and 2, then print the result\n",
        "print(larger_string('abc', 2))\n",
        "\n",
        "# Call the \"larger_string\" function with the arguments '.py' and 3, then print the result\n",
        "print(larger_string('.py', 3))\n",
        "\n",
        "\"\"\"\n",
        "Explanation:\n",
        "The said code defines a function called \"larger_string\" which takes two arguments: \"text\" and \"n\". The function will concatenate the \"text\" argument \"n\" number of times and return the result as a new string.\n",
        "The function starts by initializing an empty string variable called \"result\". Then, it uses a for loop to iterate over a range of numbers, starting from 0 and ending at \"n\". On each iteration, the function takes the current value of \"result\" and adds the \"text\" argument to it, effectively concatenating the \"text\" argument with itself \"n\" times.\n",
        "The last two lines of code call the function, with different arguments.\n",
        "In the first case the function takes 'abc' as text and 2 as the n, the function will concatenate 'abc' two times and return 'abcabc'\n",
        "In the second case the function takes '.py' as text and 3 as the n, the function will concatenate '.py' three times and return '.py.py.py'\n",
        "The function returns the concatenated string as the final output.\n",
        "\"\"\""
      ],
      "metadata": {
        "id": "-MTqXZwKyszu",
        "outputId": "c201271c-03de-44c0-e946-fe984ac47069",
        "colab": {
          "base_uri": "https://localhost:8080/",
          "height": 140
        }
      },
      "execution_count": 23,
      "outputs": [
        {
          "output_type": "stream",
          "name": "stdout",
          "text": [
            "abcabc\n",
            ".py.py.py\n"
          ]
        },
        {
          "output_type": "execute_result",
          "data": {
            "text/plain": [
              "'\\nExplanation:\\nThe said code defines a function called \"larger_string\" which takes two arguments: \"text\" and \"n\". The function will concatenate the \"text\" argument \"n\" number of times and return the result as a new string.\\nThe function starts by initializing an empty string variable called \"result\". Then, it uses a for loop to iterate over a range of numbers, starting from 0 and ending at \"n\". On each iteration, the function takes the current value of \"result\" and adds the \"text\" argument to it, effectively concatenating the \"text\" argument with itself \"n\" times.\\nThe last two lines of code call the function, with different arguments.\\nIn the first case the function takes \\'abc\\' as text and 2 as the n, the function will concatenate \\'abc\\' two times and return \\'abcabc\\'\\nIn the second case the function takes \\'.py\\' as text and 3 as the n, the function will concatenate \\'.py\\' three times and return \\'.py.py.py\\'\\nThe function returns the concatenated string as the final output.\\n'"
            ],
            "application/vnd.google.colaboratory.intrinsic+json": {
              "type": "string"
            }
          },
          "metadata": {},
          "execution_count": 23
        }
      ]
    },
    {
      "cell_type": "code",
      "source": [
        "# Exercise 21: Write a Python program that determines whether a given number (accepted from the user) is even or odd, and prints an appropriate message to the user\n",
        "\n",
        "# Prompt the user to enter a number and convert the input to an integer\n",
        "num = int(input(\"Enter a number: \"))\n",
        "\n",
        "# Calculate the remainder when the number is divided by 2\n",
        "mod = num % 2\n",
        "\n",
        "# Check if the remainder is greater than 0, indicating an odd number\n",
        "if mod > 0:\n",
        "  # Print a message indicating that the number is odd\n",
        "  print(\"this is an odd number.\")\n",
        "else:\n",
        "  # Print a message indicating that the number is even\n",
        "  print(\"this is an even number.\")\n",
        "\n",
        "\"\"\"\n",
        "Explanation:\n",
        "The said code prompts the user to input a number, then converts the input to an integer and assigns it to the variable 'num'. Then it calculates the remainder of 'num' and 2 and assigns it to the variable 'mod'. Next, it checks the value of 'mod'. If the value of 'mod' is greater than 0, it prints \"This is an odd number.\" otherwise prints \"This is an even number.\".\n",
        "\"\"\""
      ],
      "metadata": {
        "id": "kxSSf2RL6IgF",
        "outputId": "de82cd77-bff1-446e-9cb7-fa2794f369ac",
        "colab": {
          "base_uri": "https://localhost:8080/",
          "height": 87
        }
      },
      "execution_count": 26,
      "outputs": [
        {
          "output_type": "stream",
          "name": "stdout",
          "text": [
            "Enter a number: 7\n",
            "this is an odd number.\n"
          ]
        },
        {
          "output_type": "execute_result",
          "data": {
            "text/plain": [
              "'\\nExplanation:\\nThe said code prompts the user to input a number, then converts the input to an integer and assigns it to the variable \\'num\\'. Then it calculates the remainder of \\'num\\' and 2 and assigns it to the variable \\'mod\\'. Next, it checks the value of \\'mod\\'. If the value of \\'mod\\' is greater than 0, it prints \"This is an odd number.\" otherwise prints \"This is an even number.\".\\n'"
            ],
            "application/vnd.google.colaboratory.intrinsic+json": {
              "type": "string"
            }
          },
          "metadata": {},
          "execution_count": 26
        }
      ]
    },
    {
      "cell_type": "code",
      "source": [
        "# Exercise 22: Write a Python program to count the number 4 in a given list.\n",
        "\n",
        "# Define a function called list_count_4 that takes a list of numbers (nums) as a parameter.\n",
        "def list_count_4(nums):\n",
        "  # Initialize a variable count to keep track of the count of occurrences of the number 4.\n",
        "  count = 0\n",
        "\n",
        "  # Iterate through each element (num) in the input list (nums).\n",
        "  for num in nums:\n",
        "    # Check if the current element (num) is equal to 4.\n",
        "    if num == 4:\n",
        "      # If the element is 4, increment the count by 1.\n",
        "      count = count + 1\n",
        "\n",
        "  # Return the final count after iterating through the list.\n",
        "  return count\n",
        "\n",
        "# Call the list_count_4 function with two different input lists and print the results.\n",
        "print(list_count_4([1, 4, 6, 7, 4]))  # Output: 2 (There are two occurrences of 4 in the list.)\n",
        "print(list_count_4([1, 4, 6, 4, 7, 4]))  # Output: 3 (There are three occurrences of 4 in the list.)\n",
        "\n",
        "\"\"\"\n",
        "Explanation:\n",
        "The said code defines a function called \"list_count_4\" that takes a list of numbers as its argument, \"nums\". Inside the function, it initializes a variable \"count\" to zero. Next, it uses a for loop to iterate through each element in the \"nums\" list. For each iteration, it checks if the current element i.e. num is equal to 4, if true it increments the \"count\" by 1. After the for loop completes, the function returns the final \"count\" of how many times the number 4 appears in the list.\n",
        "The last two lines of code call the function, with the input values ([1, 4, 6, 7, 4]) and ([1, 4, 6, 4, 7, 4]) and print the results.\n",
        "The first call will return 2, and the second call will return 3.\n",
        "\"\"\"\n"
      ],
      "metadata": {
        "id": "TssdLzOh7pfW",
        "outputId": "9e3e273f-13d1-438f-ded4-e30f48888cf7",
        "colab": {
          "base_uri": "https://localhost:8080/"
        }
      },
      "execution_count": 4,
      "outputs": [
        {
          "output_type": "stream",
          "name": "stdout",
          "text": [
            "2\n",
            "3\n"
          ]
        }
      ]
    },
    {
      "cell_type": "code",
      "source": [
        "# Exercise 23: Write a Python program to get n (non-negative integer) copies of the first 2 characters of a given string.\n",
        "# Return n copies of the whole string if the length is less than 2.\n",
        "\n",
        "# Define a function called substring_copy that takes two parameters: text (a string) and n (an integer).\n",
        "def substring_copy(text, n):\n",
        "  # Set the initial value of flen (substring length) to 2.\n",
        "  flen = 2\n",
        "\n",
        "  # Check if flen is greater than the length of the input text.\n",
        "  if flen > len(text):\n",
        "    # If flen is greater, set it to the length of the text to avoid going out of bounds.\n",
        "    flen = len(text)\n",
        "\n",
        "  # Extract a substring of length flen from the beginning of the text.\n",
        "  substr = text[:flen]\n",
        "\n",
        "  # Initialize an empty string result to store the concatenated substrings.\n",
        "  result = \"\"\n",
        "\n",
        "  # Iterate n times to concatenate the substring to the result.\n",
        "  for i in range(n):\n",
        "    result = result + substr\n",
        "\n",
        "  #Return the final result after concatenating substrings.\n",
        "  return result\n",
        "\n",
        "# Call the substring_copy function with two different inputs and print the results\n",
        "print(substring_copy('abcdef', 2)) # Output: \"abab\" (substring \"ab\" repeated 2 times)\n",
        "print(substring_copy('p', 3)) # Output: \"ppp\" (substring \"p\" repeated 3 times)\n",
        "\n",
        "\"\"\"\n",
        "Explanation:\n",
        "The said code defines a function called \"substring_copy\" that takes two arguments, a string \"text\" and an integer \"n\".\n",
        "Inside the function, it creates a variable \"flen\" and assigns it the value of 2. Next, it checks whether the value of \"flen\" is greater than the length of the input string \"text\". If true it assigns the value of len(text) to \"flen\" otherwise it creates a variable \"substr\" and assigns it the value of the first two characters of the input string \"text\" using string slicing method.\n",
        "Then it creates an empty string called \"result\" and uses a for loop to iterate \"n\" times. During each iteration it concatenates the \"substr\" to the \"result\" string. Finally, it returns the value of the \"result\" variable.\n",
        "The last two lines of code call the function, with the input values ('abcdef', 2) and ('p', 3) and print the results. The first call will return 'abab' and the second will return 'ppp'.\n",
        "\"\"\"\n"
      ],
      "metadata": {
        "id": "LjT6pR0L8_Gw",
        "outputId": "f2337a28-ea18-45fd-fa76-06c0edb861b7",
        "colab": {
          "base_uri": "https://localhost:8080/"
        }
      },
      "execution_count": 5,
      "outputs": [
        {
          "output_type": "stream",
          "name": "stdout",
          "text": [
            "abab\n",
            "ppp\n"
          ]
        }
      ]
    },
    {
      "cell_type": "code",
      "source": [
        "# Exercise 24: Write a Python program to test whether a passed letter is a vowel or not.\n",
        "\n",
        "# Define a function called is_vowel that takes one parameter: char (a character).\n",
        "def is_vowel(char):\n",
        "  # Define a string called all_vowels containing all lowercase vowel characters.\n",
        "  all_vowels = 'aeiou'\n",
        "\n",
        "  # Check if the input character (char) is present in the all_vowels string.\n",
        "  return char in all_vowels\n",
        "\n",
        "# Call the is_vowel function with two different characters and print the results\n",
        "print(is_vowel('c')) # Output: False (character 'c' is not a vowel)\n",
        "print(is_vowel('e')) # Output: True (character 'e' is a vowel)\n",
        "\n",
        "\"\"\"\n",
        "Explanation:\n",
        "The said code defines a function called \"is_vowel\" which takes in one parameter \"char\". First, the function declares a variable \"all_vowels\" containing all lowercase vowels. The function then uses the \"in\" operator to check whether the value of \"char\" parameter is present within the \"all_vowels\" string, and returns the result.\n",
        "In the last two lines the code call the function \"is_vowel\" twice, with the input values 'c' and 'e' and print the results.\n",
        "In the first case, False will be returned, while in the second case, True will be returned.\n",
        "\"\"\""
      ],
      "metadata": {
        "id": "LS34i3eo_2aN",
        "outputId": "1d50560e-d9e2-4f69-f511-dc1d307dce2c",
        "colab": {
          "base_uri": "https://localhost:8080/"
        }
      },
      "execution_count": 6,
      "outputs": [
        {
          "output_type": "stream",
          "name": "stdout",
          "text": [
            "False\n",
            "True\n"
          ]
        }
      ]
    },
    {
      "cell_type": "code",
      "source": [
        "# Exercise 25: Write a Python program that checks whether a specified value is contained within a group of values.\n",
        "\n",
        "# Define a function called is_group_member that takes two parameters: group_data (a list) and n (an integer)\n",
        "def is_group_member(group_data, n):\n",
        "  # Iterate through the elements (values) in the group_data list.\n",
        "  for value in group_data:\n",
        "    # Check if the current value is equal to the given integer, n.\n",
        "    if n == value:\n",
        "      return True # If found, return True.\n",
        "  return False # If the loop completes and no match is found, return False.\n",
        "\n",
        "# Call the is_group_member function with two different lists and integers, and print the results.\n",
        "print(is_group_member([1, 5, 8, 3], 3)) # Output: True (3 is in the list)\n",
        "print(is_group_member([5, 8, 3], -1)) # Output: False (-1 is not in the list)\n",
        "\n",
        "\"\"\"\n",
        "Explanation:\n",
        "The said code defines a function called \"is_group_member\" that takes two arguments \"group_data\" a list and an integer \"n\". First, the function declares a for loop to iterate through each element in the \"group_data\" list. When the current element (value) value matches the value of \"n\", it returns True, which means the input integer is present in the \"group_data\" list. The function returns False if the for loop fails to find a match, meaning the input integer does not exist in \"group_data\".\n",
        "In the last two lines the code call the function \"is_group_member\" twice, with the input values ([1, 5, 8, 3], 3) and ([5, 8, 3], -1) and print the results.\n",
        "In the first case, False will be returned, while in the second case, True will be returned.\n",
        "\"\"\""
      ],
      "metadata": {
        "id": "q6sOXFAlAjyK",
        "outputId": "b2c76449-3d15-4552-d988-467b0b67f927",
        "colab": {
          "base_uri": "https://localhost:8080/"
        }
      },
      "execution_count": 7,
      "outputs": [
        {
          "output_type": "stream",
          "name": "stdout",
          "text": [
            "True\n",
            "False\n"
          ]
        }
      ]
    },
    {
      "cell_type": "code",
      "source": [
        "# Exercise 26: Write a Python program to create a histogram from a given list of integers\n",
        "\n",
        "# Define a function called histogram that takes a list of items as a parameter.\n",
        "def histogram(items):\n",
        "  # Iterate through the items in the list.\n",
        "  for n in items:\n",
        "    output = '' # Initialize an empty string called output.\n",
        "    times = n   # Set the times variable to the value of n\n",
        "\n",
        "    # Use a while loop to append '*' to the output string 'times' number of times\n",
        "    while times > 0:\n",
        "      output += '*'\n",
        "      times = times - 1 # Decrement the times variable\n",
        "\n",
        "    # Print the resulting output string.\n",
        "    print(output)\n",
        "\n",
        "# Call the histogram function with a list of numbers and print the histogram\n",
        "histogram([2, 3, 6, 5])\n",
        "\n",
        "\"\"\"\n",
        "Explanation:\n",
        "The function \"histogram\" takes a parameter \"items \", a list of integers. To iterate through each item in the \"items\" list, the function uses a for loop. For each iteration, it creates a varaible \"output\", and assigns the current element (n) of the loop to the variable \"times\".\n",
        "Then it uses a while loop which will run as long as the value of \"times\" is greater than 0. Inside the while loop, it concatenates an asterisk (*) character to the \"output\" variable and decrements the value of \"times\" by 1 at each iteration. After the while loop completes, it prints the final value of \"output\" variable.\n",
        "The last line of code calls the \"histogram\" function with a list of integers ([2, 3, 6, 5]) as an argument, it will print a histogram of asterisks, where the number of asterisks corresponds to the value of the integers in the list.\n",
        "\"\"\""
      ],
      "metadata": {
        "id": "hBv4jcdWBpPO",
        "outputId": "54169183-bbe4-4431-effc-534d0577e319",
        "colab": {
          "base_uri": "https://localhost:8080/"
        }
      },
      "execution_count": 12,
      "outputs": [
        {
          "output_type": "stream",
          "name": "stdout",
          "text": [
            "**\n",
            "***\n",
            "******\n",
            "*****\n"
          ]
        }
      ]
    },
    {
      "cell_type": "code",
      "source": [
        "# Exercise 27: Write a Python program that concatenates all elements in a list into a string and returns it\n",
        "\n",
        "# Define a function called concatenate_list_data that takes a list as a parameter.\n",
        "def concatenate_list_data(lst):\n",
        "  result = '' # Initialize an empty string called result.\n",
        "\n",
        "  # Iterate through the elements in the list.\n",
        "  for element in lst:\n",
        "    result += str(element) # Convert each element to a string and concatenate it to the result\n",
        "\n",
        "  return result # Return the concatenated string.\n",
        "\n",
        "# Call the concatenate_list_data function with a list of numbers and print the result.\n",
        "print(concatenate_list_data([1, 5, 12, 2]))\n",
        "\n",
        "\"\"\"\n",
        "Explanation:\n",
        "The said code defines a function called \"concatenate_list_data\" that takes a list as its argument. Inside the function, it creates an empty string variable called \"result\".\n",
        "Then it uses a for loop to iterate through each element in the input list. For each iteration, it converts the current element to a string using the str() function and concatenates it to the \"result\" variable.\n",
        "Upon completion of the for loop, the variable \"result\" is returned.\n",
        "The last line of code calls the \"concatenate_list_data\" function with a list of integers ([1, 5, 12, 2]) as an argument, it will print a string \"15122\".\n",
        "\"\"\""
      ],
      "metadata": {
        "id": "aODjwPNBDZFu",
        "outputId": "63238535-63ec-47c0-a690-4afa657efe96",
        "colab": {
          "base_uri": "https://localhost:8080/"
        }
      },
      "execution_count": 13,
      "outputs": [
        {
          "output_type": "stream",
          "name": "stdout",
          "text": [
            "15122\n"
          ]
        }
      ]
    },
    {
      "cell_type": "code",
      "source": [
        "# Exercise 28: Write a Python program to print all even numbers from a given list of numbers in the same order and stop printing any after 237 in the sequence.\n",
        "\n",
        "# Define a list of numbers.\n",
        "numbers = [\n",
        "    386, 462, 47, 418, 907, 344, 236, 375, 823, 566, 597, 978, 328, 615, 953, 345,\n",
        "    399, 162, 758, 219, 918, 237, 412, 566, 826, 248, 866, 950, 626, 949, 687, 217,\n",
        "    815, 67, 104, 58, 512, 24, 892, 894, 767, 553, 81, 379, 843, 831, 445, 742, 717,\n",
        "    958,743, 527\n",
        "]\n",
        "\n",
        "# Iterate through the numbers in the list.\n",
        "for x in numbers:\n",
        "  if x == 237:\n",
        "      print(x) # Print the number if its 237\n",
        "      break # Exit the loop if 237 is found.\n",
        "  elif x % 2 == 0:\n",
        "      print(x) # Print the number if its even.\n",
        "\n",
        "\"\"\"\n",
        "Explanation:\n",
        "The said code defines a list called \"numbers\" with a set of integers. Then it uses a for loop to iterate through each element in the \"numbers\" list.\n",
        "For each iteration, it checks if the current element is equal to 237, if true it prints the current element and exit the loop using the \"break\" statement.\n",
        "If the current element is not equal to 237, it checks if the current element is even, if true it prints the current element.\n",
        "Using this logic, the code will only print the number 237 and even numbers of the list. If 237 was not found in the list, the code will print all the even numbers in the list.\n",
        "\"\"\""
      ],
      "metadata": {
        "id": "Ps5bir-eEH4A",
        "outputId": "3a728f11-b26b-4301-dd0a-252666ad1796",
        "colab": {
          "base_uri": "https://localhost:8080/"
        }
      },
      "execution_count": 16,
      "outputs": [
        {
          "output_type": "stream",
          "name": "stdout",
          "text": [
            "386\n",
            "462\n",
            "418\n",
            "344\n",
            "236\n",
            "566\n",
            "978\n",
            "328\n",
            "162\n",
            "758\n",
            "918\n",
            "237\n"
          ]
        }
      ]
    },
    {
      "cell_type": "code",
      "source": [
        "# Exercise 29: Write a Python program that prints out all colors from color_list_1 that are not present in color_list_2.\n",
        "\n",
        "# Create two sets, color_list_1 and color_list_2.\n",
        "color_list_1 = set([\"White\", \"BlacK\", \"Red\"])\n",
        "color_list_2 = set([\"Red\", \"Green\"])\n",
        "\n",
        "# Print the original elements of the sets.\n",
        "print(\"Original set elements:\")\n",
        "print(color_list_1)\n",
        "print(color_list_2)\n",
        "\n",
        "# Calculate and print the difference of color_list_1 and color_list_2.\n",
        "print(\"\\nDifference of color_list_1 and color_list_2:\")\n",
        "print(color_list_1.difference(color_list_2))\n",
        "\n",
        "# Calculate and print the difference of color_list_2 and color_list_1.\n",
        "print(\"\\nDifference of color_list_2 and color_list_1:\")\n",
        "print(color_list_2.difference(color_list_1))\n",
        "\n",
        "\"\"\"\n",
        "Explanation:\n",
        "The said code defines two sets called \"color_list_1\" and \"color_list_2\" containing string elements.\n",
        "The elements of both sets are then printed.\n",
        "After that, it uses the difference() method on \"color_list_1\" and passes \"color_list_2\" as an argument to it. This method returns the elements that are in the \"color_list_1\" but not in \"color_list_2\".\n",
        "Again it uses the difference() method on \"color_list_2\" and passes \"color_list_1\" as an argument to it. This method returns the elements that are in the \"color_list_2\" but not in \"color_list_1\".\n",
        "The output of the code will be:\n",
        "Original set elements:\n",
        "{'Red', 'White', 'Black'}\n",
        "{'Red', 'Green'}\n",
        "Differenct of color_list_1 and color_list_2:\n",
        "{'White', 'Black'}\n",
        "Differenct of color_list_2 and color_list_1:\n",
        "{'Green'}\n",
        "\"\"\"\n"
      ],
      "metadata": {
        "id": "XnuWjbkaEygo",
        "outputId": "1295a855-79a7-48e8-abe2-e2a8554f6657",
        "colab": {
          "base_uri": "https://localhost:8080/"
        }
      },
      "execution_count": 19,
      "outputs": [
        {
          "output_type": "stream",
          "name": "stdout",
          "text": [
            "Original set elements:\n",
            "{'White', 'Red', 'BlacK'}\n",
            "{'Green', 'Red'}\n",
            "\n",
            "Difference of color_list_1 and color_list_2:\n",
            "{'White', 'BlacK'}\n",
            "\n",
            "Difference of color_list_2 and color_list_1:\n",
            "{'Green'}\n"
          ]
        }
      ]
    },
    {
      "cell_type": "code",
      "source": [
        "# Exercise 30: Write a Python program that will accept the base and height of a triangle and compute its area.\n",
        "\n",
        "# Prompt the user to input the base and height of a triangle as integers.\n",
        "b = int(input(\"Input the base: \"))\n",
        "h = int(input(\"Input the height: \"))\n",
        "\n",
        "# Calculate the area of the triangle using the formula: (base * height) / 2\n",
        "area = b * h / 2\n",
        "\n",
        "# Print the calculated area of the triangle.\n",
        "print(\"area = \", area)\n",
        "\n",
        "\"\"\"\n",
        "Explanation:\n",
        "The said code prompts the user to input an integer value for the base and height of a triangle. Stores these values in variables \"b\" and \"h\" respectively. It then calculates the area of the triangle by multiplying the base and height and dividing the result by 2 and assigns the result to the variable \"area\". Finally, it prints the calculated area.\n",
        "\"\"\""
      ],
      "metadata": {
        "id": "dfperNgsGBAB",
        "outputId": "3af096af-8d80-4b40-b329-288df31c1e3f",
        "colab": {
          "base_uri": "https://localhost:8080/"
        }
      },
      "execution_count": 20,
      "outputs": [
        {
          "output_type": "stream",
          "name": "stdout",
          "text": [
            "Input the base: 12\n",
            "Input the height: 9\n",
            "area =  54.0\n"
          ]
        }
      ]
    }
  ]
}