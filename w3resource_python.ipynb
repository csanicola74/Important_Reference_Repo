{
  "nbformat": 4,
  "nbformat_minor": 0,
  "metadata": {
    "colab": {
      "provenance": [],
      "authorship_tag": "ABX9TyM9bYi0YoPl6oNF148NOMVO",
      "include_colab_link": true
    },
    "kernelspec": {
      "name": "python3",
      "display_name": "Python 3"
    },
    "language_info": {
      "name": "python"
    }
  },
  "cells": [
    {
      "cell_type": "markdown",
      "metadata": {
        "id": "view-in-github",
        "colab_type": "text"
      },
      "source": [
        "<a href=\"https://colab.research.google.com/github/csanicola74/Important_Reference_Repo/blob/main/w3resource_python.ipynb\" target=\"_parent\"><img src=\"https://colab.research.google.com/assets/colab-badge.svg\" alt=\"Open In Colab\"/></a>"
      ]
    },
    {
      "cell_type": "markdown",
      "source": [
        "# Learning Python through W3Resource.com\n",
        "Links:\n",
        "  * [Python](https://www.w3resource.com/python/python-syntax.php)\n",
        "  * [Exercises](https://www.w3resource.com/python-exercises/)"
      ],
      "metadata": {
        "id": "7IYzQ9H6rZtY"
      }
    },
    {
      "cell_type": "code",
      "execution_count": 19,
      "metadata": {
        "colab": {
          "base_uri": "https://localhost:8080/"
        },
        "id": "U2Vc3eOpqfUx",
        "outputId": "7dd45a81-a4a7-4527-889c-e96c24e99249"
      },
      "outputs": [
        {
          "output_type": "stream",
          "name": "stdout",
          "text": [
            "Twinkle, twinkle, little star, \n",
            "\tHow I wonder what you are! \n",
            "\t\tUp above the world so high, \n",
            "\t\tLike a diamond in the sky. \n",
            "Twinkle, twinkle, little star, \n",
            "\tHow I wonder what you are!\n"
          ]
        }
      ],
      "source": [
        "# Excercise 1: Write a Python program to print the following string in a specific format (see the output).\n",
        "# Sample String: \"Twinkle, twinkle, little star, How I wonder what you are! Up above the world so high, Like a diamond in the sky. Twinkle, twinkle, little star, How I wonder what you are\"\n",
        "# Output:\n",
        "  # Twinkle, twinkle, little star,\n",
        "\t    # How I wonder what you are!\n",
        "\t            #\tUp above the world so high,\n",
        "\t            #\tLike a diamond in the sky.\n",
        "  # Twinkle, twinkle, little star,\n",
        "\t    # How I wonder what you are\n",
        "#################\n",
        "### REFERENCE ###\n",
        "#################\n",
        "# \\n_________ = new line\n",
        "# \\n\\t_______ = new line and a tab in\n",
        "# \\n\\t\\t_____ = new line and 2 tabs in\n",
        "print(\"Twinkle, twinkle, little star, \\n\\tHow I wonder what you are! \\n\\t\\tUp above the world so high, \\n\\t\\tLike a diamond in the sky. \\nTwinkle, twinkle, little star, \\n\\tHow I wonder what you are!\")"
      ]
    },
    {
      "cell_type": "code",
      "source": [
        "# Exercise 2: Write a Python program to find out what version fo Python you are using.\n",
        "# version 1\n",
        "import sys  # Import the sys module to access system-specific parameters and functions\n",
        "\n",
        "# Print the Python version to the console\n",
        "print(\"Python version\")\n",
        "\n",
        "# Use the sys.version attribute to get the Python version and print it\n",
        "print(sys.version)\n",
        "\n",
        "# Print information about the Python version\n",
        "print(\"Version info.\")\n",
        "\n",
        "# Use the sys.version_info attribute to get detailed version information and print it\n",
        "print(sys.version_info)\n",
        "\n",
        "\n",
        "# version 2\n",
        "import platform\n",
        "print(platform.python_version())"
      ],
      "metadata": {
        "colab": {
          "base_uri": "https://localhost:8080/"
        },
        "id": "h4Uhetyxtv18",
        "outputId": "4cb4f84b-02a7-491d-c3a1-7450f34b92f9"
      },
      "execution_count": 20,
      "outputs": [
        {
          "output_type": "stream",
          "name": "stdout",
          "text": [
            "Python version\n",
            "3.10.12 (main, Nov 20 2023, 15:14:05) [GCC 11.4.0]\n",
            "Version info.\n",
            "sys.version_info(major=3, minor=10, micro=12, releaselevel='final', serial=0)\n",
            "3.10.12\n"
          ]
        }
      ]
    },
    {
      "cell_type": "code",
      "source": [
        "# Exercise 3: Write a Python program to display the current date and time.\n",
        "# Sample Output:\n",
        "# Current date and time :\n",
        "# 2014-07-05 14:34:14\n",
        "\n",
        "# Import the 'datetime' module to work with date and time\n",
        "import datetime\n",
        "\n",
        "# Get the current date and time\n",
        "now = datetime.datetime.now()\n",
        "\n",
        "# Create a datetime object representing the current date and time\n",
        "\n",
        "# Display a message indicating what is being printed\n",
        "print(\"Current date and time: \")\n",
        "\n",
        "# Print the current date and time in a specific format\n",
        "print(now.strftime(\"%Y-%m-%d %H:%M:%S\"))\n",
        "\n",
        "# Use the 'strftime' method to format the datetime object as a string with the desired format"
      ],
      "metadata": {
        "colab": {
          "base_uri": "https://localhost:8080/"
        },
        "id": "_NASPp0cyseB",
        "outputId": "17dd0117-adb5-4001-b3f3-c7efd13d1c50"
      },
      "execution_count": 21,
      "outputs": [
        {
          "output_type": "stream",
          "name": "stdout",
          "text": [
            "Current date and time: \n",
            "2024-03-19 17:43:18\n"
          ]
        }
      ]
    },
    {
      "cell_type": "code",
      "source": [
        "# Exercise 4: Write a Python program that calculates the area of a circle based on the radius entered by the user.\n",
        "# Sample Output:\n",
        "# r = 1.1\n",
        "# Area = 3.8013271108436504\n",
        "\n",
        "# Import the 'pi' constant from the 'math' module to calculate the are of a circle\n",
        "from math import pi\n",
        "\n",
        "# Prompt the user to input the radius of the circle\n",
        "r = float(input(\"Input the radius of the circle: \"))\n",
        "\n",
        "# Calculate the are of the circle using the formula: area = π * r^2\n",
        "area = pi * r ** 2\n",
        "\n",
        "# Dispaly the result, including the radius and calculated area\n",
        "print(\"The area of the circle with radius \" + str(r) + \" is: \" + str(area))\n"
      ],
      "metadata": {
        "colab": {
          "base_uri": "https://localhost:8080/"
        },
        "id": "6Zit_DzP1_Rf",
        "outputId": "0a3a927a-490c-4c67-eefc-b4e2fcbbea70"
      },
      "execution_count": 22,
      "outputs": [
        {
          "output_type": "stream",
          "name": "stdout",
          "text": [
            "Input the radius of the circle: 3.2\n",
            "The area of the circle with radius 3.2 is: 32.169908772759484\n"
          ]
        }
      ]
    },
    {
      "cell_type": "code",
      "source": [
        "# Exercise 5: Write a Python program that accepts the user's first and last name and prints them in reverse order with a space between them\n",
        "\n",
        "first_name = input(\"What is your first name: \")\n",
        "last_name = input(\"What is your last name: \")\n",
        "print(last_name + \" \" + first_name)"
      ],
      "metadata": {
        "colab": {
          "base_uri": "https://localhost:8080/"
        },
        "id": "epYh_8kR-h8f",
        "outputId": "8cf757c3-6a98-4a27-af7b-574c549b6430"
      },
      "execution_count": 23,
      "outputs": [
        {
          "output_type": "stream",
          "name": "stdout",
          "text": [
            "What is your first name: Caroline\n",
            "What is your last name: Sanicola\n",
            "Sanicola Caroline\n"
          ]
        }
      ]
    },
    {
      "cell_type": "code",
      "source": [
        "# Exercise 6: Write a Python program that accepts a sequence of comma-separated numbers from the user and generates a list of a tuple from those numbers.\n",
        "# Sample data: 3, 5, 7, 23\n",
        "# Output:\n",
        "#   List: ['3', '5', '7', '23']\n",
        "#   Tuple: ('3', '5', '7', '23')\n",
        "\n",
        "# Prompt the user to input a sequence of comma-separated numbers and store it in the 'values' variable\n",
        "values = input(\"Input some comma-separated numbers: \")\n",
        "\n",
        "# Split the 'values' string into a list using commas as separators and store it in the 'list' variable\n",
        "list = values.split(\",\")\n",
        "\n",
        "# Convert the 'list' into a tuple and store it in the 'tuple' variable\n",
        "tuple = tuple(list)\n",
        "\n",
        "# Print the list\n",
        "print('List: ', list)\n",
        "\n",
        "# Print the tuple\n",
        "print('Tuble: ', tuple)"
      ],
      "metadata": {
        "colab": {
          "base_uri": "https://localhost:8080/"
        },
        "id": "MXuFg50a_c2x",
        "outputId": "44ade641-b98b-4107-c931-81ac4441a7fd"
      },
      "execution_count": 24,
      "outputs": [
        {
          "output_type": "stream",
          "name": "stdout",
          "text": [
            "Input some comma-separated numbers: 4, 25, 62, 734, 11\n",
            "List:  ['4', ' 25', ' 62', ' 734', ' 11']\n",
            "Tuble:  ('4', ' 25', ' 62', ' 734', ' 11')\n"
          ]
        }
      ]
    },
    {
      "cell_type": "code",
      "source": [
        "# Exercise 7: Write a Python program that accepts a filename from the user and prints the extension of the file.\n",
        "# Sample filename: abc.java\n",
        "# Output: java\n",
        "\n",
        "# Prompt the user to input a filename and store it in the 'filename' variable\n",
        "filename = input(\"Input the Filename: \")\n",
        "\n",
        "# Split the 'filename' string into a list using the period (.) as a separator and store it in the 'f_extns' variable\n",
        "f_extns = filename.split(\".\")\n",
        "\n",
        "# Print the extension of the file, which is the last element in the 'f_extns' list\n",
        "print(\"The extension of the file is: \" + repr(f_extns[-1]))"
      ],
      "metadata": {
        "id": "AwUX1MlLn6Tq",
        "outputId": "8511542d-fc9d-4142-bc8b-df9e00f588c3",
        "colab": {
          "base_uri": "https://localhost:8080/"
        }
      },
      "execution_count": 25,
      "outputs": [
        {
          "output_type": "stream",
          "name": "stdout",
          "text": [
            "Input the Filename: data.xlsx\n",
            "The extension of the file is: 'xlsx'\n"
          ]
        }
      ]
    },
    {
      "cell_type": "code",
      "source": [
        "# Exercise 8: Write a Python program to display the first and last colors from the follow list.\n",
        "# color_list = [\"Red\", \"Green\", \"White\", \"Black\"]\n",
        "\n",
        "# Create a list called 'color_list' containing color names\n",
        "color_list = [\"Red\", \"Green\", \"White\", \"Black\"]\n",
        "# Print the first and last elements of the 'color_list' using string formatting\n",
        "# The '%s' placeholders are filled witht he values of 'color_list[0]' (Red) and 'color_list[-1]' (Black)\n",
        "print(\"%s %s\" % (color_list[0], color_list[-1]))"
      ],
      "metadata": {
        "id": "NaitvbbMpI4Q",
        "outputId": "27c78a88-9a03-458f-8658-322b952b48b4",
        "colab": {
          "base_uri": "https://localhost:8080/"
        }
      },
      "execution_count": 26,
      "outputs": [
        {
          "output_type": "stream",
          "name": "stdout",
          "text": [
            "Red Black\n"
          ]
        }
      ]
    },
    {
      "cell_type": "code",
      "source": [
        "# Exercise 9: Write a Python program to display the examination schedule. (extract the date from exam_st_date).\n",
        "# exam_st_date = (11, 12, 2014)\n",
        "# Sample Output: The examination will start from: 11/12/2014\n",
        "\n",
        "# Define a tuple called 'exam_st_date' containing the exam start date in the format (day, month, year)\n",
        "exam_st_date = (11, 12, 2014)\n",
        "\n",
        "# Print the exam start date using string formatting\n",
        "# The '%i' placeholders are filled with the values from the 'exam_st_date' tuple\n",
        "print(\"The examination will start from: %i/%i/%i\" % exam_st_date)"
      ],
      "metadata": {
        "id": "C6Gg-Tg7p_q3",
        "outputId": "da0198e8-b197-4ebf-f019-d501206c3ca0",
        "colab": {
          "base_uri": "https://localhost:8080/"
        }
      },
      "execution_count": 27,
      "outputs": [
        {
          "output_type": "stream",
          "name": "stdout",
          "text": [
            "The examination will start from: 11/12/2014\n"
          ]
        }
      ]
    },
    {
      "cell_type": "code",
      "source": [
        "# Exercise 10: Write a Python program that accepts an integer (n) and computes the value of n+nn+nnn\n",
        "# Sample value of n is 5\n",
        "# Expected Result: 615\n",
        "\n",
        "# Prompt the user to input an integer and store it in the variable 'a'\n",
        "a = int(input(\"Input an integer: \"))\n",
        "\n",
        "# Create new integers 'n1', 'n2', and 'n3' by concatenating 'a' with itself one, two, and three times, respectively\n",
        "n1 = int(\"%s\" % a)              # Convert 'a' to an integer\n",
        "n2 = int(\"%s%s\" % (a, a))       # Concatenate 'a' with iteself and convert to an integer\n",
        "n3 = int(\"%s%s%s\" % (a, a, a))  # Concatenate 'a' with itself twice and convert to an integer\n",
        "\n",
        "# Calculate the sum of 'n1', 'n2', and 'n3' and print the result\n",
        "print(n1 + n2 + n3)"
      ],
      "metadata": {
        "id": "P0CYPwbbqvPu",
        "outputId": "31336c5d-dfb0-4fc7-d716-f9c7a9752a52",
        "colab": {
          "base_uri": "https://localhost:8080/"
        }
      },
      "execution_count": 28,
      "outputs": [
        {
          "output_type": "stream",
          "name": "stdout",
          "text": [
            "Input an integer: 3\n",
            "369\n"
          ]
        }
      ]
    },
    {
      "cell_type": "code",
      "source": [
        "# Exercise 11: Write a Python program to print the documents (syntax, description etc.) of Python built-in function(s).\n",
        "# Sample function: abs()\n",
        "# Expected Result:\n",
        "# abs(number) -> number\n",
        "# Return the absolute value of the argument\n",
        "\n",
        "# Print the docstring (documentation) of the 'abs' function\n",
        "print(abs.__doc__)"
      ],
      "metadata": {
        "id": "btbS0CxWsFEu",
        "outputId": "bea90473-a36f-42bf-b465-5509b99d7e45",
        "colab": {
          "base_uri": "https://localhost:8080/"
        }
      },
      "execution_count": 29,
      "outputs": [
        {
          "output_type": "stream",
          "name": "stdout",
          "text": [
            "Return the absolute value of the argument.\n"
          ]
        }
      ]
    },
    {
      "cell_type": "code",
      "source": [
        "# Exercise 12: Write a Python program that prints the calendar for a given month and year .\n",
        "# Note: Use 'calendar' module\n",
        "\n",
        "# Import the 'calendar' module\n",
        "import calendar\n",
        "\n",
        "# Prompt the user to input the year and month\n",
        "y = int(input(\"Input the year: \"))\n",
        "m = int(input(\"Input the month: \"))\n",
        "\n",
        "# Print the calendar for the specified year and month\n",
        "print(calendar.month(y, m))"
      ],
      "metadata": {
        "id": "ZmqaE6KZsjTr",
        "outputId": "a1ba6ac0-36a6-444e-d8cf-03d4841e9ecf",
        "colab": {
          "base_uri": "https://localhost:8080/"
        }
      },
      "execution_count": 30,
      "outputs": [
        {
          "output_type": "stream",
          "name": "stdout",
          "text": [
            "Input the year: 2024\n",
            "Input the month: 3\n",
            "     March 2024\n",
            "Mo Tu We Th Fr Sa Su\n",
            "             1  2  3\n",
            " 4  5  6  7  8  9 10\n",
            "11 12 13 14 15 16 17\n",
            "18 19 20 21 22 23 24\n",
            "25 26 27 28 29 30 31\n",
            "\n"
          ]
        }
      ]
    },
    {
      "cell_type": "code",
      "source": [
        "# Exercise 13: Write a Python program to print the following 'here document'.\n",
        "# Sample string:\n",
        "# a string that you \"don't\" have to escape\n",
        "# This\n",
        "# is a ..... multi-line\n",
        "# heredoc string ------> example\n",
        "\n",
        "print(\"\"\"\n",
        "a string that you \"don't\" have to escape\n",
        "This\n",
        "is a ....... multi-line\n",
        "heredoc string --------> example\n",
        "\"\"\")"
      ],
      "metadata": {
        "id": "LCsU9eB2tMiZ",
        "outputId": "78f912c5-b15b-4719-c38c-f009a9b4de2c",
        "colab": {
          "base_uri": "https://localhost:8080/"
        }
      },
      "execution_count": 31,
      "outputs": [
        {
          "output_type": "stream",
          "name": "stdout",
          "text": [
            "\n",
            "a string that you \"don't\" have to escape\n",
            "This\n",
            "is a ....... multi-line\n",
            "heredoc string --------> example\n",
            "\n"
          ]
        }
      ]
    },
    {
      "cell_type": "code",
      "source": [
        "# Exercise 14: Write a Python program to calculate the number of days between two dates.\n",
        "# Sample dates: (2014, 7, 2), (2014, 7, 11)\n",
        "# Expected output: 9 days\n",
        "\n",
        "# Import the 'date' class from the 'datetime' module\n",
        "from datetime import date\n",
        "\n",
        "# Define a start date as July 2, 2014\n",
        "f_date = date(2014, 7, 2)\n",
        "\n",
        "# Define an end date as July 11, 2014\n",
        "l_date = date(2014, 7, 11)\n",
        "\n",
        "# Calculate the difference between the end date and start date\n",
        "delta = l_date - f_date\n",
        "\n",
        "# Print the number of days in the time difference\n",
        "print(delta.days)"
      ],
      "metadata": {
        "id": "bc76w7C3tmBL",
        "outputId": "73f7b639-be17-49c4-8606-ee5f902d9e9e",
        "colab": {
          "base_uri": "https://localhost:8080/"
        }
      },
      "execution_count": 32,
      "outputs": [
        {
          "output_type": "stream",
          "name": "stdout",
          "text": [
            "9\n"
          ]
        }
      ]
    },
    {
      "cell_type": "code",
      "source": [
        "# Excerise 15: Write a Python program to get the volume of a sphere with radius six\n",
        "\n",
        "# Define the value of pi\n",
        "pi = 3.1415926535897931\n",
        "\n",
        "# Define the radius of the sphere\n",
        "r = 6.0\n",
        "\n",
        "# Calculate the volume of the sphere using the formula\n",
        "V = 4.0/3.0 * pi * r**3\n",
        "\n",
        "# Print the calculated volume of the sphere\n",
        "print('The volumne of the sphere is: ', V)"
      ],
      "metadata": {
        "id": "Z-NmzOFGuhTm",
        "outputId": "4c89fe31-08a1-4b19-bd8f-37998a157ffa",
        "colab": {
          "base_uri": "https://localhost:8080/"
        }
      },
      "execution_count": 33,
      "outputs": [
        {
          "output_type": "stream",
          "name": "stdout",
          "text": [
            "The volumne of the sphere is:  904.7786842338603\n"
          ]
        }
      ]
    },
    {
      "cell_type": "code",
      "source": [
        "# Exercise 16: Write a Python program to calculate the difference between a given number and 17.\n",
        "# If the number is greater than 17, return twice the absolute difference.\n",
        "\n",
        "# Define a function named \"difference\" that takes an integer parameter \"n\"\n",
        "def difference(n):\n",
        "  # Check if n is less than or equal to 17\n",
        "  if n <= 17:\n",
        "    # If n is less than or equal to 17, return the absolute difference between 17 and n\n",
        "    return 17 - n\n",
        "  else:\n",
        "    # If n is greater than 17, return the absolute difference between n and 17 multiplied by 2\n",
        "    return (n - 17) * 2\n",
        "\n",
        "# Call the \"difference\" function with the argument 22 and print the result\n",
        "print(difference(22))\n",
        "\n",
        "# Call the \"difference\" function with the argument 14 and print the result\n",
        "print(difference(14))"
      ],
      "metadata": {
        "id": "jW9GLPrKvBfL",
        "outputId": "5f785a56-7562-4379-cd0c-0449c3234c2a",
        "colab": {
          "base_uri": "https://localhost:8080/"
        }
      },
      "execution_count": 34,
      "outputs": [
        {
          "output_type": "stream",
          "name": "stdout",
          "text": [
            "10\n",
            "3\n"
          ]
        }
      ]
    },
    {
      "cell_type": "code",
      "source": [
        "# Exercise 17: Write a Python program to test whether a number is within 100 of 1000 or 2000.\n",
        "\n",
        "# Define a function named \"near_thousand\" that takes an integer parameter \"n\"\n",
        "def near_thousand(n):\n",
        "  # Check if the absolute difference between 1000 and n is less than or equal to 100\n",
        "  # OR check if the absoluate difference between 2000 and n is less than or equal to 100\n",
        "  return ((abs(1000 - n) <= 100) or (abs(2000 - n) <= 100))\n",
        "\n",
        "# Call the \"near_thousand\" function with the argument 1000 and print the result\n",
        "print(near_thousand(1000))\n",
        "\n",
        "# Call the \"near_thousand\" function with the argument 900 and print the result\n",
        "print(near_thousand(900))\n",
        "\n",
        "# Call the \"near_thousand\" function with the argument 800 and print the result\n",
        "print(near_thousand(800))\n",
        "\n",
        "# Call the \"near_thousand\" function with the argument 2200 and print the result\n",
        "print(near_thousand(2200))"
      ],
      "metadata": {
        "id": "P9hFyEp3wDgI",
        "outputId": "bf0df927-a69a-433d-df73-1f4f2098aac3",
        "colab": {
          "base_uri": "https://localhost:8080/"
        }
      },
      "execution_count": 35,
      "outputs": [
        {
          "output_type": "stream",
          "name": "stdout",
          "text": [
            "True\n",
            "True\n",
            "False\n",
            "False\n"
          ]
        }
      ]
    },
    {
      "cell_type": "code",
      "source": [
        "# Exercise 18: Write a Python program to calculate the sum of three given numbers.\n",
        "# If the values are equal, return three times their sum.\n",
        "\n",
        "# Define a function named \"sum_thrice\" that takes three integer parameters: x, y, and z\n",
        "def sum_thrice(x, y, z):\n",
        "  # Calculate the sum of x, y, and z\n",
        "  sum = x + y + z\n",
        "\n",
        "  # Check if x, y, and z are all equal (all three numbers are the same)\n",
        "  if x == y == z:\n",
        "    # If they are equal, triple the sum\n",
        "    sum = sum * 3\n",
        "\n",
        "  # Return the final sum\n",
        "  return sum\n",
        "\n",
        "# Call the \"sum_thrice\" function with the arguments (1, 2, 3) and print the result\n",
        "print(sum_thrice(1, 2, 3))\n",
        "\n",
        "# Call the \"sum_thrice\" function with the arguments (3, 3, 3) and print the result\n",
        "print(sum_thrice(3, 3, 3))"
      ],
      "metadata": {
        "id": "WxzsbCPqw3ju",
        "outputId": "4934659b-e5f3-453f-f22d-02fa6c9346ba",
        "colab": {
          "base_uri": "https://localhost:8080/"
        }
      },
      "execution_count": 36,
      "outputs": [
        {
          "output_type": "stream",
          "name": "stdout",
          "text": [
            "6\n",
            "27\n"
          ]
        }
      ]
    },
    {
      "cell_type": "code",
      "source": [
        "# Exercise 19: Write a Python program to get a newly-generated string from a given string where \"ls\" has been added to the front.\n",
        "# Return the string unchanged if the given string already begins with \"ls\"\n",
        "\n",
        "# Define a function named \"new_string\" that takes a string parameter called \"text\"\n",
        "def new_string(text):\n",
        "  # Check if the length of the \"text\" is greater than or equal to 2 and if the first two characters of \"text\" are \"Is\"\n",
        "  if len(text) >= 2 and text[:2] == \"Is\":\n",
        "    # If the conditions are met, return the original \"text\" unchanged\n",
        "    return text\n",
        "  else:\n",
        "    # If the conditions are not met, prepend \"Is\" to the \"text\" and return the modified string\n",
        "    return \"Is\" + text\n",
        "\n",
        "# Call the \"new_string\" function with the argument \"Array\" and print the result\n",
        "print(new_string(\"Array\"))\n",
        "\n",
        "# Call the \"new_string\" function with the argument \"IsEmpty\" and print the result\n",
        "print(new_string(\"IsEmpty\"))"
      ],
      "metadata": {
        "id": "LiiZffCBxwLl",
        "outputId": "ef1b8f90-067d-4a62-ff52-cd240b3952cb",
        "colab": {
          "base_uri": "https://localhost:8080/"
        }
      },
      "execution_count": 37,
      "outputs": [
        {
          "output_type": "stream",
          "name": "stdout",
          "text": [
            "IsArray\n",
            "IsEmpty\n"
          ]
        }
      ]
    },
    {
      "cell_type": "code",
      "source": [
        "# Exercise 20: Write a Python program that returns a string that is n (non-negative integer) copies of a given string.\n",
        "\n",
        "# Define a function named \"larger_string\" that takes two parameters, \"text\" and \"n\"\n",
        "def larger_string(text, n):\n",
        "    # Initialize an empty string variable named \"result\"\n",
        "    result = \"\"\n",
        "\n",
        "    # Use a for loop to repeat the \"text\" \"n\" times and concatenate it to the \"result\"\n",
        "    for i in range(n):\n",
        "        result = result + text\n",
        "\n",
        "    # Return the final \"result\" string\n",
        "    return result\n",
        "\n",
        "# Call the \"larger_string\" function with the arguments 'abc' and 2, then print the result\n",
        "print(larger_string('abc', 2))\n",
        "\n",
        "# Call the \"larger_string\" function with the arguments '.py' and 3, then print the result\n",
        "print(larger_string('.py', 3))"
      ],
      "metadata": {
        "id": "-MTqXZwKyszu",
        "outputId": "659ac7cc-464a-4604-a4aa-59dba8d1bf03",
        "colab": {
          "base_uri": "https://localhost:8080/"
        }
      },
      "execution_count": 40,
      "outputs": [
        {
          "output_type": "stream",
          "name": "stdout",
          "text": [
            "abcabc\n",
            ".py.py.py\n"
          ]
        }
      ]
    }
  ]
}