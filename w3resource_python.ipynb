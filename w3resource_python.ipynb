{
  "nbformat": 4,
  "nbformat_minor": 0,
  "metadata": {
    "colab": {
      "provenance": [],
      "authorship_tag": "ABX9TyOabzq4Exmoke0M1S7xOLLo",
      "include_colab_link": true
    },
    "kernelspec": {
      "name": "python3",
      "display_name": "Python 3"
    },
    "language_info": {
      "name": "python"
    }
  },
  "cells": [
    {
      "cell_type": "markdown",
      "metadata": {
        "id": "view-in-github",
        "colab_type": "text"
      },
      "source": [
        "<a href=\"https://colab.research.google.com/github/csanicola74/Important_Reference_Repo/blob/main/w3resource_python.ipynb\" target=\"_parent\"><img src=\"https://colab.research.google.com/assets/colab-badge.svg\" alt=\"Open In Colab\"/></a>"
      ]
    },
    {
      "cell_type": "markdown",
      "source": [
        "# Learning Python through W3Resource.com\n",
        "Links:\n",
        "  * [Python](https://www.w3resource.com/python/python-syntax.php)\n",
        "  * [Exercises](https://www.w3resource.com/python-exercises/)"
      ],
      "metadata": {
        "id": "7IYzQ9H6rZtY"
      }
    },
    {
      "cell_type": "markdown",
      "source": [
        "# Exercise"
      ],
      "metadata": {
        "id": "tgm9kgvfSvLh"
      }
    },
    {
      "cell_type": "markdown",
      "source": [
        "## #1\n",
        "Write a Python program to print the following string in a specific format (see the output)."
      ],
      "metadata": {
        "id": "qZ7JSXaASyYG"
      }
    },
    {
      "cell_type": "code",
      "execution_count": 46,
      "metadata": {
        "colab": {
          "base_uri": "https://localhost:8080/"
        },
        "id": "U2Vc3eOpqfUx",
        "outputId": "3b4e7b64-6a26-4183-ea38-aa84c9a89481"
      },
      "outputs": [
        {
          "output_type": "stream",
          "name": "stdout",
          "text": [
            "Twinkle, twinkle, little star, \n",
            "\tHow I wonder what you are! \n",
            "\t\tUp above the world so high, \n",
            "\t\tLike a diamond in the sky. \n",
            "Twinkle, twinkle, little star, \n",
            "\tHow I wonder what you are!\n"
          ]
        }
      ],
      "source": [
        "# Sample String: \"Twinkle, twinkle, little star, How I wonder what you are! Up above the world so high, Like a diamond in the sky. Twinkle, twinkle, little star, How I wonder what you are\"\n",
        "# Output:\n",
        "  # Twinkle, twinkle, little star,\n",
        "\t    # How I wonder what you are!\n",
        "\t            #\tUp above the world so high,\n",
        "\t            #\tLike a diamond in the sky.\n",
        "  # Twinkle, twinkle, little star,\n",
        "\t    # How I wonder what you are\n",
        "#################\n",
        "### REFERENCE ###\n",
        "#################\n",
        "# \\n_________ = new line\n",
        "# \\n\\t_______ = new line and a tab in\n",
        "# \\n\\t\\t_____ = new line and 2 tabs in\n",
        "print(\"Twinkle, twinkle, little star, \\n\\tHow I wonder what you are! \\n\\t\\tUp above the world so high, \\n\\t\\tLike a diamond in the sky. \\nTwinkle, twinkle, little star, \\n\\tHow I wonder what you are!\")"
      ]
    },
    {
      "cell_type": "markdown",
      "source": [
        "The print statement (Python 2.6) has been replaced with a print() function(Python 2.6), with keyword arguments to replace most of the special syntax of  the old print statement .\n",
        "The print() function doesn’t support the “softspace” feature of the old print statement. For example, in Python 2.x, print \"A\\n\", \"B\" would write \"A\\nB\\n\"; but in Python 3.0, print(\"A\\n\", \"B\") writes \"A\\n B\\n\".\n",
        "Initially, you’ll be finding yourself typing the old print x a lot in interactive mode. Time to retrain your fingers to type print(x) instead!\n",
        "When using the 2to3 source-to-source conversion tool, all print statements are automatically converted to print() function calls, so this is mostly a non-issue for larger projects."
      ],
      "metadata": {
        "id": "HqNzhfX1S5Gq"
      }
    },
    {
      "cell_type": "markdown",
      "source": [
        "## #2\n",
        "Write a Python program to find out what version fo Python you are using."
      ],
      "metadata": {
        "id": "UBOGEOgiTF03"
      }
    },
    {
      "cell_type": "code",
      "source": [
        "# version 1\n",
        "import sys  # Import the sys module to access system-specific parameters and functions\n",
        "\n",
        "# Print the Python version to the console\n",
        "print(\"Python version\")\n",
        "\n",
        "# Use the sys.version attribute to get the Python version and print it\n",
        "print(sys.version)\n",
        "\n",
        "# Print information about the Python version\n",
        "print(\"Version info.\")\n",
        "\n",
        "# Use the sys.version_info attribute to get detailed version information and print it\n",
        "print(sys.version_info)\n",
        "\n",
        "\n",
        "# version 2\n",
        "import platform\n",
        "print(platform.python_version())"
      ],
      "metadata": {
        "colab": {
          "base_uri": "https://localhost:8080/"
        },
        "id": "h4Uhetyxtv18",
        "outputId": "5b522caa-f1a6-4e96-d5d2-96199e0575b8"
      },
      "execution_count": 47,
      "outputs": [
        {
          "output_type": "stream",
          "name": "stdout",
          "text": [
            "Python version\n",
            "3.10.12 (main, Nov 20 2023, 15:14:05) [GCC 11.4.0]\n",
            "Version info.\n",
            "sys.version_info(major=3, minor=10, micro=12, releaselevel='final', serial=0)\n",
            "3.10.12\n"
          ]
        }
      ]
    },
    {
      "cell_type": "markdown",
      "source": [
        "**Explanation:**\n",
        "The said code imports the \"sys\" module and then uses it to print the version of Python currently being used, as well as additional version information.\n",
        "The first line imports the \"sys\" module provides access to some variables used or maintained by the interpreter and to functions that interact strongly with the interpreter. It is always available.\n",
        "The second line prints the string \"Python version\".\n",
        "The third line prints the version of Python currently being used to the console.\n",
        "The fourth line prints the string \"Version info.\".\n",
        "The fifth line prints version information of the current Python interpreter. It returns a named tuple (version_info) containing the five components of the version number: major, minor, micro, releaselevel, and serial.\n"
      ],
      "metadata": {
        "id": "nAENcJ_4TPd9"
      }
    },
    {
      "cell_type": "markdown",
      "source": [
        "## #3\n",
        "Write a Python program to display the current date and time."
      ],
      "metadata": {
        "id": "fflC0MgzTYNv"
      }
    },
    {
      "cell_type": "code",
      "source": [
        "# Sample Output:\n",
        "# Current date and time :\n",
        "# 2014-07-05 14:34:14\n",
        "\n",
        "# Import the 'datetime' module to work with date and time\n",
        "import datetime\n",
        "\n",
        "# Get the current date and time\n",
        "now = datetime.datetime.now()\n",
        "\n",
        "# Create a datetime object representing the current date and time\n",
        "\n",
        "# Display a message indicating what is being printed\n",
        "print(\"Current date and time: \")\n",
        "\n",
        "# Print the current date and time in a specific format\n",
        "print(now.strftime(\"%Y-%m-%d %H:%M:%S\"))\n",
        "\n",
        "# Use the 'strftime' method to format the datetime object as a string with the desired format"
      ],
      "metadata": {
        "colab": {
          "base_uri": "https://localhost:8080/"
        },
        "id": "_NASPp0cyseB",
        "outputId": "bb35ba3a-5ff9-4d78-fb8e-25d8e1482027"
      },
      "execution_count": 48,
      "outputs": [
        {
          "output_type": "stream",
          "name": "stdout",
          "text": [
            "Current date and time: \n",
            "2024-03-21 19:01:21\n"
          ]
        }
      ]
    },
    {
      "cell_type": "markdown",
      "source": [
        "**Explanation:**\n",
        "The said code imports the \"datetime\" module, gets the current date and time, and finally prints it in a formatted string.\n",
        "The first line import datetime imports the datetime module which supplies classes for manipulating dates and times.\n",
        "The second line now = datetime.datetime.now() creates a datetime object for the current date and time.\n",
        "The third line print (\"Current date and time : \") prints the string \"Current date and time : \" to the console.\n",
        "The fourth line print (now.strftime(\"%Y-%m-%d %H:%M:%S\")) uses the strftime() method of the datetime object to format the date and time as a string in the format \"YYYY-MM-DD HH:MM:SS\" and prints it to the console.\n",
        "The strftime() method returns a string representing the date, controlled by an explicit format string. The format codes used in this example are:\n",
        "%Y: year with century as a decimal number.\n",
        "%m: month as a zero-padded decimal number.\n",
        "%d: day of the month as a zero-padded decimal number.\n",
        "%H: hour (24-hour clock) as a zero-padded decimal number.\n",
        "%M: minute as a zero-padded decimal number.\n",
        "%S: second as a zero-padded decimal number.\n",
        "This code can be useful for logging or timestamping events in a program, or for displaying the current date and time in a user interface."
      ],
      "metadata": {
        "id": "qMHD3yG1TdQ0"
      }
    },
    {
      "cell_type": "markdown",
      "source": [
        "## #4\n",
        "Write a Python program that calculates the area of a circle based on the radius entered by the user."
      ],
      "metadata": {
        "id": "SJAMs0lOTiAy"
      }
    },
    {
      "cell_type": "code",
      "source": [
        "# Sample Output:\n",
        "# r = 1.1\n",
        "# Area = 3.8013271108436504\n",
        "\n",
        "# Import the 'pi' constant from the 'math' module to calculate the are of a circle\n",
        "from math import pi\n",
        "\n",
        "# Prompt the user to input the radius of the circle\n",
        "r = float(input(\"Input the radius of the circle: \"))\n",
        "\n",
        "# Calculate the are of the circle using the formula: area = π * r^2\n",
        "area = pi * r ** 2\n",
        "\n",
        "# Dispaly the result, including the radius and calculated area\n",
        "print(\"The area of the circle with radius \" + str(r) + \" is: \" + str(area))"
      ],
      "metadata": {
        "colab": {
          "base_uri": "https://localhost:8080/"
        },
        "id": "6Zit_DzP1_Rf",
        "outputId": "a55721dc-ac7b-4505-aad5-1dbd94f31dfe"
      },
      "execution_count": 49,
      "outputs": [
        {
          "output_type": "stream",
          "name": "stdout",
          "text": [
            "Input the radius of the circle: 28\n",
            "The area of the circle with radius 28.0 is: 2463.0086404143976\n"
          ]
        }
      ]
    },
    {
      "cell_type": "markdown",
      "source": [
        "**Explanation:**\n",
        "The said code calculates the area of a circle based on the radius entered by the user. The code uses the \"math\" module's pi constant and the \"input\" function to get the radius from the user, then it uses the formula to calculate the area of the circle.\n",
        "The first line from math import pi imports the pi constant from the math module, which is the mathematical constant. It represents the ratio of a circle's circumference to its diameter (approximately equal to 3.14).\n",
        "The second line r = float(input (\"Input the radius of the circle : \")) gets the radius of the circle from the user using the input() function. input() function assigns it to the variable r, it's then cast to float, so the user can input decimal number also.\n",
        "The third line print (\"The area of the circle with radius \" + str(r) + \" is: \" + str(pi * r**2)) uses the formula to calculate the area of the circle (pi*r**2) . Then it concatenates the string and the value of the radius and area using the + operator and prints the final string.\n",
        "This code is useful to calculate the area of a circle when the radius is known, it can be used in physics and mathematical calculations or in applications that require the area of a circle to be calculated."
      ],
      "metadata": {
        "id": "UGfc75w0Tmpk"
      }
    },
    {
      "cell_type": "markdown",
      "source": [
        "## #5\n",
        "Write a Python program that accepts the user's first and last name and prints them in reverse order with a space between them"
      ],
      "metadata": {
        "id": "qZs7HF1wTq38"
      }
    },
    {
      "cell_type": "code",
      "source": [
        "first_name = input(\"What is your first name: \")\n",
        "last_name = input(\"What is your last name: \")\n",
        "print(last_name + \" \" + first_name)"
      ],
      "metadata": {
        "colab": {
          "base_uri": "https://localhost:8080/"
        },
        "id": "epYh_8kR-h8f",
        "outputId": "344e8aad-17ec-48d7-f94a-bd4bc36c39a5"
      },
      "execution_count": 50,
      "outputs": [
        {
          "output_type": "stream",
          "name": "stdout",
          "text": [
            "What is your first name: Caroline\n",
            "What is your last name: Sanicola\n",
            "Sanicola Caroline\n"
          ]
        }
      ]
    },
    {
      "cell_type": "markdown",
      "source": [
        "**Explanation:**\n",
        "This code prompts the user to input their first and last name, and then it prints a message that combines the first name and last name in a specific order.\n",
        "The first line fname = input(\"Input your First Name : \") gets the user's first name using the input() function and assigns it to the variable 'fname'.\n",
        "The second line lname = input(\"Input your Last Name : \") gets the user's last name using the input() function and assigns it to the variable 'lname'.\n",
        "The third line print (\"Hello \" + lname + \" \" + fname) prints a message that combines the last name and first name, concatenating them with the + operator and separated by a space."
      ],
      "metadata": {
        "id": "Coh3llHbTwYw"
      }
    },
    {
      "cell_type": "markdown",
      "source": [
        "## #6\n",
        "Write a Python program that accepts a sequence of comma-separated numbers from the user and generates a list of a tuple from those numbers."
      ],
      "metadata": {
        "id": "5Y4pvLO0T0IW"
      }
    },
    {
      "cell_type": "code",
      "source": [
        "# Sample data: 3, 5, 7, 23\n",
        "# Output:\n",
        "#   List: ['3', '5', '7', '23']\n",
        "#   Tuple: ('3', '5', '7', '23')\n",
        "\n",
        "# Prompt the user to input a sequence of comma-separated numbers and store it in the 'values' variable\n",
        "values = input(\"Input some comma-separated numbers: \")\n",
        "\n",
        "# Split the 'values' string into a list using commas as separators and store it in the 'list' variable\n",
        "list = values.split(\",\")\n",
        "\n",
        "# Convert the 'list' into a tuple and store it in the 'tuple' variable\n",
        "tuple = tuple(list)\n",
        "\n",
        "# Print the list\n",
        "print('List: ', list)\n",
        "\n",
        "# Print the tuple\n",
        "print('Tuble: ', tuple)"
      ],
      "metadata": {
        "colab": {
          "base_uri": "https://localhost:8080/"
        },
        "id": "MXuFg50a_c2x",
        "outputId": "e494b048-0f3e-45c9-a1f8-72f6471a5759"
      },
      "execution_count": 51,
      "outputs": [
        {
          "output_type": "stream",
          "name": "stdout",
          "text": [
            "Input some comma-separated numbers: 5, 6, 84, 16, 22\n",
            "List:  ['5', ' 6', ' 84', ' 16', ' 22']\n",
            "Tuble:  ('5', ' 6', ' 84', ' 16', ' 22')\n"
          ]
        }
      ]
    },
    {
      "cell_type": "markdown",
      "source": [
        "**Explanation:**\n",
        "The said code prompts the user to input a list of numbers separated by commas. Then it converts the string of numbers into a list and a tuple, and finally it prints both the list and the tuple.\n",
        "The first line values = input(\"Input some comma seprated numbers : \") gets a string of numbers separated by commas from the user using the input() function and assigns it to the variable 'values'.\n",
        "The second line splits the string of numbers into a list of individual numbers using the split() method and assigns it to the variable 'list'. This method takes a separator as input, in this case ',' (comma) and returns a list of substrings that were separated by the separator.\n",
        "The third line converts the list into a tuple using the tuple() function and assigns it to the variable 'tuple'.\n",
        "The fourth line prints the list to the console.\n",
        "The fifth line prints the tuple to the console."
      ],
      "metadata": {
        "id": "vOSaL90dT47v"
      }
    },
    {
      "cell_type": "markdown",
      "source": [
        "## #7\n",
        "Write a Python program that accepts a filename from the user and prints the extension of the file."
      ],
      "metadata": {
        "id": "thCmvfhMT9ld"
      }
    },
    {
      "cell_type": "code",
      "source": [
        "# Sample filename: abc.java\n",
        "# Output: java\n",
        "\n",
        "# Prompt the user to input a filename and store it in the 'filename' variable\n",
        "filename = input(\"Input the Filename: \")\n",
        "\n",
        "# Split the 'filename' string into a list using the period (.) as a separator and store it in the 'f_extns' variable\n",
        "f_extns = filename.split(\".\")\n",
        "\n",
        "# Print the extension of the file, which is the last element in the 'f_extns' list\n",
        "print(\"The extension of the file is: \" + repr(f_extns[-1]))"
      ],
      "metadata": {
        "id": "AwUX1MlLn6Tq",
        "outputId": "05baf820-8fa0-41c4-9867-bf5343f080d2",
        "colab": {
          "base_uri": "https://localhost:8080/"
        }
      },
      "execution_count": 52,
      "outputs": [
        {
          "output_type": "stream",
          "name": "stdout",
          "text": [
            "Input the Filename: data.csv\n",
            "The extension of the file is: 'csv'\n"
          ]
        }
      ]
    },
    {
      "cell_type": "markdown",
      "source": [
        "**Explanation:**\n",
        "At first the siad code prompts the user to input a filename and stores it in the variable \"filename\". It then uses the string method split() to split the value of \"filename\" by \".\"(dot) and assigns the result to the variable \"f_extns\".\n",
        "The code then uses the index -1 to access the last element of the list \"f_extns\" which is the file extension and prints the message \"The extension of the file is : \" followed by the last element.\n",
        "The repr() function returns a string containing a printable representation of an object.\n",
        "For example, if the user inputs \"abc.txt\" as the filename, the code will print \"Th e extension of the file is : 'txt'\""
      ],
      "metadata": {
        "id": "UG1pSVMYWMKT"
      }
    },
    {
      "cell_type": "markdown",
      "source": [
        "## #8\n",
        "Write a Python program to display the first and last colors from the follow list."
      ],
      "metadata": {
        "id": "roSMjWyIWO-X"
      }
    },
    {
      "cell_type": "code",
      "source": [
        "\n",
        "# color_list = [\"Red\", \"Green\", \"White\", \"Black\"]\n",
        "\n",
        "# Create a list called 'color_list' containing color names\n",
        "color_list = [\"Red\", \"Green\", \"White\", \"Black\"]\n",
        "# Print the first and last elements of the 'color_list' using string formatting\n",
        "# The '%s' placeholders are filled witht he values of 'color_list[0]' (Red) and 'color_list[-1]' (Black)\n",
        "print(\"%s %s\" % (color_list[0], color_list[-1]))"
      ],
      "metadata": {
        "id": "NaitvbbMpI4Q",
        "outputId": "f4b655c3-9546-4fa0-c206-a5acd0bc9e5d",
        "colab": {
          "base_uri": "https://localhost:8080/"
        }
      },
      "execution_count": 53,
      "outputs": [
        {
          "output_type": "stream",
          "name": "stdout",
          "text": [
            "Red Black\n"
          ]
        }
      ]
    },
    {
      "cell_type": "markdown",
      "source": [
        "**Explanation:**\n",
        "The said code creates a list named \"color_list\" which includes four different colors, \"Red\", \"Green\", \"White\", and \"Black\". Then, it utilizes string formatting to print the first (Index 0) and the last (Index -1) color of the list together with a space in between. The output would be \"Red Black\"."
      ],
      "metadata": {
        "id": "MUdbiZguWVye"
      }
    },
    {
      "cell_type": "markdown",
      "source": [
        "## #9\n",
        "Write a Python program to display the examination schedule. (extract the date from exam_st_date)."
      ],
      "metadata": {
        "id": "6-c2GhugW0q9"
      }
    },
    {
      "cell_type": "code",
      "source": [
        "# exam_st_date = (11, 12, 2014)\n",
        "# Sample Output: The examination will start from: 11/12/2014\n",
        "\n",
        "# Define a tuple called 'exam_st_date' containing the exam start date in the format (day, month, year)\n",
        "exam_st_date = (11, 12, 2014)\n",
        "\n",
        "# Print the exam start date using string formatting\n",
        "# The '%i' placeholders are filled with the values from the 'exam_st_date' tuple\n",
        "print(\"The examination will start from: %i/%i/%i\" % exam_st_date)"
      ],
      "metadata": {
        "id": "C6Gg-Tg7p_q3",
        "outputId": "fe031353-ea02-4916-8116-a1a64cba7975",
        "colab": {
          "base_uri": "https://localhost:8080/"
        }
      },
      "execution_count": 54,
      "outputs": [
        {
          "output_type": "stream",
          "name": "stdout",
          "text": [
            "The examination will start from: 11/12/2014\n"
          ]
        }
      ]
    },
    {
      "cell_type": "markdown",
      "source": [
        "**Explanation:**\n",
        "The said code creates a tuple called \"exam_st_date\" containing three integers: 11, 12, and 2014. It then uses string formatting to print a string that states \"The examination will start from :\" followed by the integers in the tuple in the order they appear, formatted as day/month/year. The placeholders %i are used to format the integers.\n",
        "The output would be: \"The examination will start from : 11 / 12 / 2014\"."
      ],
      "metadata": {
        "id": "trENrlWXW44O"
      }
    },
    {
      "cell_type": "markdown",
      "source": [
        "## #10\n",
        "Write a Python program that accepts an integer (n) and computes the value of n+nn+nnn\n"
      ],
      "metadata": {
        "id": "fULdBzXbW8VC"
      }
    },
    {
      "cell_type": "code",
      "source": [
        "# Sample value of n is 5\n",
        "# Expected Result: 615\n",
        "\n",
        "# Prompt the user to input an integer and store it in the variable 'a'\n",
        "a = int(input(\"Input an integer: \"))\n",
        "\n",
        "# Create new integers 'n1', 'n2', and 'n3' by concatenating 'a' with itself one, two, and three times, respectively\n",
        "n1 = int(\"%s\" % a)              # Convert 'a' to an integer\n",
        "n2 = int(\"%s%s\" % (a, a))       # Concatenate 'a' with iteself and convert to an integer\n",
        "n3 = int(\"%s%s%s\" % (a, a, a))  # Concatenate 'a' with itself twice and convert to an integer\n",
        "\n",
        "# Calculate the sum of 'n1', 'n2', and 'n3' and print the result\n",
        "print(n1 + n2 + n3)"
      ],
      "metadata": {
        "id": "P0CYPwbbqvPu",
        "outputId": "41a23260-d32b-40d9-90d0-a3aebc295225",
        "colab": {
          "base_uri": "https://localhost:8080/",
          "height": 228
        }
      },
      "execution_count": 55,
      "outputs": [
        {
          "name": "stdout",
          "output_type": "stream",
          "text": [
            "Input an integer: 9\n"
          ]
        },
        {
          "output_type": "error",
          "ename": "TypeError",
          "evalue": "'float' object is not callable",
          "traceback": [
            "\u001b[0;31m---------------------------------------------------------------------------\u001b[0m",
            "\u001b[0;31mTypeError\u001b[0m                                 Traceback (most recent call last)",
            "\u001b[0;32m<ipython-input-55-01caaa4f1fca>\u001b[0m in \u001b[0;36m<cell line: 5>\u001b[0;34m()\u001b[0m\n\u001b[1;32m      3\u001b[0m \u001b[0;34m\u001b[0m\u001b[0m\n\u001b[1;32m      4\u001b[0m \u001b[0;31m# Prompt the user to input an integer and store it in the variable 'a'\u001b[0m\u001b[0;34m\u001b[0m\u001b[0;34m\u001b[0m\u001b[0m\n\u001b[0;32m----> 5\u001b[0;31m \u001b[0ma\u001b[0m \u001b[0;34m=\u001b[0m \u001b[0mint\u001b[0m\u001b[0;34m(\u001b[0m\u001b[0minput\u001b[0m\u001b[0;34m(\u001b[0m\u001b[0;34m\"Input an integer: \"\u001b[0m\u001b[0;34m)\u001b[0m\u001b[0;34m)\u001b[0m\u001b[0;34m\u001b[0m\u001b[0;34m\u001b[0m\u001b[0m\n\u001b[0m\u001b[1;32m      6\u001b[0m \u001b[0;34m\u001b[0m\u001b[0m\n\u001b[1;32m      7\u001b[0m \u001b[0;31m# Create new integers 'n1', 'n2', and 'n3' by concatenating 'a' with itself one, two, and three times, respectively\u001b[0m\u001b[0;34m\u001b[0m\u001b[0;34m\u001b[0m\u001b[0m\n",
            "\u001b[0;31mTypeError\u001b[0m: 'float' object is not callable"
          ]
        }
      ]
    },
    {
      "cell_type": "markdown",
      "source": [
        "**Explanation:**\n",
        "The said code prompts the user to input an integer, which is then stored in the variable \"a\".\n",
        "There after the first variable n1 is created by converting the input integer \"a\" to a string and then back to an integer.\n",
        "The second variable n2 is created by concatenating two copies of the input integer \"a\" as a string and then converting that string to an integer.\n",
        "The third variable n3 is created by concatenating three copies of the input integer \"a\" as a string and then converting that string to an integer.\n",
        "Finally, the code sums the three variables n1, n2 and n3 and print the result."
      ],
      "metadata": {
        "id": "lKqJVofeXDPi"
      }
    },
    {
      "cell_type": "markdown",
      "source": [
        "## #11\n",
        "Write a Python program to print the documents (syntax, description etc.) of Python built-in function(s)."
      ],
      "metadata": {
        "id": "8NWDhW8CXHJZ"
      }
    },
    {
      "cell_type": "code",
      "source": [
        "# Sample function: abs()\n",
        "# Expected Result:\n",
        "# abs(number) -> number\n",
        "# Return the absolute value of the argument\n",
        "\n",
        "# Print the docstring (documentation) of the 'abs' function\n",
        "print(abs.__doc__)"
      ],
      "metadata": {
        "id": "btbS0CxWsFEu"
      },
      "execution_count": null,
      "outputs": []
    },
    {
      "cell_type": "markdown",
      "source": [
        "Python Docstring:\n",
        "A docstring is a string literal that occurs as the first statement in a module, function, class, or method definition. Such a docstring becomes the __doc__ special attribute of that object.\n",
        "All modules should normally have docstrings, and all functions and classes exported by a module should also have docstrings. Public methods (including the __init__ constructor) should also have docstrings."
      ],
      "metadata": {
        "id": "dTd_rCDrXKti"
      }
    },
    {
      "cell_type": "markdown",
      "source": [
        "## #12\n",
        "Write a Python program that prints the calendar for a given month and year."
      ],
      "metadata": {
        "id": "-ni6reHSXNrs"
      }
    },
    {
      "cell_type": "code",
      "source": [
        "# Note: Use 'calendar' module\n",
        "\n",
        "# Import the 'calendar' module\n",
        "import calendar\n",
        "\n",
        "# Prompt the user to input the year and month\n",
        "y = int(input(\"Input the year: \"))\n",
        "m = int(input(\"Input the month: \"))\n",
        "\n",
        "# Print the calendar for the specified year and month\n",
        "print(calendar.month(y, m))"
      ],
      "metadata": {
        "id": "ZmqaE6KZsjTr"
      },
      "execution_count": null,
      "outputs": []
    },
    {
      "cell_type": "markdown",
      "source": [
        "**Explanation:**\n",
        "The said code imports the calendar module, which allows you to output calendars like the Unix cal program, and provides additional useful functions related to the calendar. It then asks the user to input an integer for the year and month.\n",
        "The code then uses the month() function from the calendar module, which takes the year and month as arguments and returns a string containing an ASCII calendar for that month of that year."
      ],
      "metadata": {
        "id": "3EdCtWsxXSQ2"
      }
    },
    {
      "cell_type": "markdown",
      "source": [
        "## #13\n",
        "Write a Python program to print the following 'here document'."
      ],
      "metadata": {
        "id": "zyLMVERPYH2N"
      }
    },
    {
      "cell_type": "code",
      "source": [
        "# Sample string:\n",
        "# a string that you \"don't\" have to escape\n",
        "# This\n",
        "# is a ..... multi-line\n",
        "# heredoc string ------> example\n",
        "\n",
        "print(\"\"\"\n",
        "a string that you \"don't\" have to escape\n",
        "This\n",
        "is a ....... multi-line\n",
        "heredoc string --------> example\n",
        "\"\"\")"
      ],
      "metadata": {
        "id": "LCsU9eB2tMiZ"
      },
      "execution_count": null,
      "outputs": []
    },
    {
      "cell_type": "markdown",
      "source": [
        "**Explanation:**\n",
        "A here document (or \"heredoc\") is a way of specifying a text block, preserving the line breaks, indents, and other whitespace within the text. The said code uses triple quotes to define a multi-line string, also known as a heredoc string. It allows the string to span multiple lines without the need to escape newline characters.\n",
        "The output will be the string exactly as it appears in the code, including the newline characters."
      ],
      "metadata": {
        "id": "24Lo27cjYMKJ"
      }
    },
    {
      "cell_type": "markdown",
      "source": [
        "## #14\n",
        "Write a Python program to calculate the number of days between two dates."
      ],
      "metadata": {
        "id": "arWtQZbrYRCY"
      }
    },
    {
      "cell_type": "code",
      "source": [
        "# Sample dates: (2014, 7, 2), (2014, 7, 11)\n",
        "# Expected output: 9 days\n",
        "\n",
        "# Import the 'date' class from the 'datetime' module\n",
        "from datetime import date\n",
        "\n",
        "# Define a start date as July 2, 2014\n",
        "f_date = date(2014, 7, 2)\n",
        "\n",
        "# Define an end date as July 11, 2014\n",
        "l_date = date(2014, 7, 11)\n",
        "\n",
        "# Calculate the difference between the end date and start date\n",
        "delta = l_date - f_date\n",
        "\n",
        "# Print the number of days in the time difference\n",
        "print(delta.days)"
      ],
      "metadata": {
        "id": "bc76w7C3tmBL"
      },
      "execution_count": null,
      "outputs": []
    },
    {
      "cell_type": "markdown",
      "source": [
        "**Explanation:**\n",
        "This script imports the \"date\" class from the \"datetime\" module.\n",
        "It then creates two date objects (<class 'datetime.date'>), 'f_date 'and 'l_date'.\n",
        "The script then calculates the difference between these two dates and stores it in a variable called 'delta'.\n",
        "The 'delta' variable is then printed, specifically the attribute \"days\" which returns the number of days between the said two dates.\n",
        "In this case, the output would be 9, as there are 9 days between July 2nd and July 11th in 2014."
      ],
      "metadata": {
        "id": "jKMK2lRZYT-x"
      }
    },
    {
      "cell_type": "markdown",
      "source": [
        "## #15\n",
        "Write a Python program to get the volume of a sphere with radius six"
      ],
      "metadata": {
        "id": "Deb4XH9wYX52"
      }
    },
    {
      "cell_type": "code",
      "source": [
        "# Define the value of pi\n",
        "pi = 3.1415926535897931\n",
        "\n",
        "# Define the radius of the sphere\n",
        "r = 6.0\n",
        "\n",
        "# Calculate the volume of the sphere using the formula\n",
        "V = 4.0/3.0 * pi * r**3\n",
        "\n",
        "# Print the calculated volume of the sphere\n",
        "print('The volumne of the sphere is: ', V)"
      ],
      "metadata": {
        "id": "Z-NmzOFGuhTm"
      },
      "execution_count": null,
      "outputs": []
    },
    {
      "cell_type": "markdown",
      "source": [
        "**Explanation:**\n",
        "The said code assigns the value of pi as 3.1415926535897931 to the variable \"pi\" and 6.0 to the variable \"r\". The code uses the formula V = 4/3 * pi * r^3 to calculate the volume of a sphere. Volume of the sphere is stored in the variable \"V\".\n",
        "It then prints the message \"The volume of the sphere is:\" followed by the volume of the sphere using print statement.\n",
        "In this case, the code will output \"The volume of the sphere is: 904.7786842338603\"."
      ],
      "metadata": {
        "id": "InosTi4zYdE4"
      }
    },
    {
      "cell_type": "markdown",
      "source": [
        "## #16\n",
        "Write a Python program to calculate the difference between a given number and 17."
      ],
      "metadata": {
        "id": "sCcyhmwkYg2N"
      }
    },
    {
      "cell_type": "code",
      "source": [
        "# If the number is greater than 17, return twice the absolute difference.\n",
        "\n",
        "# Define a function named \"difference\" that takes an integer parameter \"n\"\n",
        "def difference(n):\n",
        "  # Check if n is less than or equal to 17\n",
        "  if n <= 17:\n",
        "    # If n is less than or equal to 17, return the absolute difference between 17 and n\n",
        "    return 17 - n\n",
        "  else:\n",
        "    # If n is greater than 17, return the absolute difference between n and 17 multiplied by 2\n",
        "    return (n - 17) * 2\n",
        "\n",
        "# Call the \"difference\" function with the argument 22 and print the result\n",
        "print(difference(22))\n",
        "\n",
        "# Call the \"difference\" function with the argument 14 and print the result\n",
        "print(difference(14))"
      ],
      "metadata": {
        "id": "jW9GLPrKvBfL"
      },
      "execution_count": null,
      "outputs": []
    },
    {
      "cell_type": "markdown",
      "source": [
        "**Explanation:**\n",
        "The said script defines a function called 'difference' that takes input(n) as an argument. Using an if-else statement the function checks whether the input value of n is less than or equal to 17. If the input value of n is less than or equal to 17, the function will return the difference of 17 - n. If the input value of n is greater than 17, the function will return double the difference of n - 17.\n",
        "Now the script calls the function twice with the input values of 22 and 14, respectively.\n",
        "In the first case the input is greater than 17, so the function returns (22-17)*2 = 10. Therefore, the script will print 10.\n",
        "In the second case the input value is less than or equal to 17, so the function returns 17-14 = 3. Therefore, the script will print 3."
      ],
      "metadata": {
        "id": "CBoiuGv4YkRD"
      }
    },
    {
      "cell_type": "markdown",
      "source": [
        "## #17\n",
        "Write a Python program to test whether a number is within 100 of 1000 or 2000."
      ],
      "metadata": {
        "id": "NhiY5QL-YoKD"
      }
    },
    {
      "cell_type": "code",
      "source": [
        "# Define a function named \"near_thousand\" that takes an integer parameter \"n\"\n",
        "def near_thousand(n):\n",
        "  # Check if the absolute difference between 1000 and n is less than or equal to 100\n",
        "  # OR check if the absoluate difference between 2000 and n is less than or equal to 100\n",
        "  return ((abs(1000 - n) <= 100) or (abs(2000 - n) <= 100))\n",
        "\n",
        "# Call the \"near_thousand\" function with the argument 1000 and print the result\n",
        "print(near_thousand(1000))\n",
        "\n",
        "# Call the \"near_thousand\" function with the argument 900 and print the result\n",
        "print(near_thousand(900))\n",
        "\n",
        "# Call the \"near_thousand\" function with the argument 800 and print the result\n",
        "print(near_thousand(800))\n",
        "\n",
        "# Call the \"near_thousand\" function with the argument 2200 and print the result\n",
        "print(near_thousand(2200))"
      ],
      "metadata": {
        "id": "P9hFyEp3wDgI"
      },
      "execution_count": null,
      "outputs": []
    },
    {
      "cell_type": "markdown",
      "source": [
        "**Explanation:**\n",
        "The said script defines a function called near_thousand(n) that takes an integer as an argument and returns True if the input is within 100 of either 1000 or 2000, and False otherwise. The function uses the abs() function, which returns the absolute value of a number, to determine the difference between the input and 1000 or 2000.\n",
        "Now the script calls the function four time with the input values of 1000, 900, 800 and 2200 respectively.\n",
        "When the input value is 1000, it returns True because the difference between 1000 and 1000 is 0, which is less than 100.\n",
        "When the input value is t 900, it returns True because the difference between 900 and 1000 is 100, which is less than 100.\n",
        "When the input value is 800, it returns False because the difference between 800 and 1000 is 200, which is not less than or equal to 100.\n",
        "When the input value is 2200, it returns False because the difference between 2200 and 2000 is 200, which is not less than or equal to 100."
      ],
      "metadata": {
        "id": "x1lpj7q6Yshw"
      }
    },
    {
      "cell_type": "markdown",
      "source": [
        "## #18\n",
        "Write a Python program to calculate the sum of three given numbers."
      ],
      "metadata": {
        "id": "47Tqz3MGYwnT"
      }
    },
    {
      "cell_type": "code",
      "source": [
        "# If the values are equal, return three times their sum.\n",
        "\n",
        "# Define a function named \"sum_thrice\" that takes three integer parameters: x, y, and z\n",
        "def sum_thrice(x, y, z):\n",
        "  # Calculate the sum of x, y, and z\n",
        "  sum = x + y + z\n",
        "\n",
        "  # Check if x, y, and z are all equal (all three numbers are the same)\n",
        "  if x == y == z:\n",
        "    # If they are equal, triple the sum\n",
        "    sum = sum * 3\n",
        "\n",
        "  # Return the final sum\n",
        "  return sum\n",
        "\n",
        "# Call the \"sum_thrice\" function with the arguments (1, 2, 3) and print the result\n",
        "print(sum_thrice(1, 2, 3))\n",
        "\n",
        "# Call the \"sum_thrice\" function with the arguments (3, 3, 3) and print the result\n",
        "print(sum_thrice(3, 3, 3))"
      ],
      "metadata": {
        "id": "WxzsbCPqw3ju"
      },
      "execution_count": null,
      "outputs": []
    },
    {
      "cell_type": "markdown",
      "source": [
        "**Explanation:**\n",
        "The said script defines a function called sum_thrice(x, y, z) that takes three integers as arguments and returns their sum. The function, however, multiplies the sum by 3 if all three integers are equal.\n",
        "Now the script calls the function twice with the input values (1,2,3) and (3,3,3).\n",
        "Whenever 1, 2, and 3 are input values, the three inputs are not equal, so it returns 6.\n",
        "Whenever 3, 3, and 3 are input values, the three inputs are equal so the function multiplies the sum by 3 and returns 27.\n",
        "Depending on the inputs, the if statement holds true only if x == y == z, otherwise it holds False."
      ],
      "metadata": {
        "id": "4TRUArG6Y2JL"
      }
    },
    {
      "cell_type": "markdown",
      "source": [
        "## #19\n",
        "Write a Python program to get a newly-generated string from a given string where \"ls\" has been added to the front."
      ],
      "metadata": {
        "id": "P0urZaLxY6uL"
      }
    },
    {
      "cell_type": "code",
      "source": [
        "# Return the string unchanged if the given string already begins with \"ls\"\n",
        "\n",
        "# Define a function named \"new_string\" that takes a string parameter called \"text\"\n",
        "def new_string(text):\n",
        "  # Check if the length of the \"text\" is greater than or equal to 2 and if the first two characters of \"text\" are \"Is\"\n",
        "  if len(text) >= 2 and text[:2] == \"Is\":\n",
        "    # If the conditions are met, return the original \"text\" unchanged\n",
        "    return text\n",
        "  else:\n",
        "    # If the conditions are not met, prepend \"Is\" to the \"text\" and return the modified string\n",
        "    return \"Is\" + text\n",
        "\n",
        "# Call the \"new_string\" function with the argument \"Array\" and print the result\n",
        "print(new_string(\"Array\"))\n",
        "\n",
        "# Call the \"new_string\" function with the argument \"IsEmpty\" and print the result\n",
        "print(new_string(\"IsEmpty\"))"
      ],
      "metadata": {
        "id": "LiiZffCBxwLl"
      },
      "execution_count": null,
      "outputs": []
    },
    {
      "cell_type": "markdown",
      "source": [
        "**Explanation:**\n",
        "The said script defines a function \"new_string(text)\" takes a string as an argument, and checks whether the string's length is greater than or equal to 2 and the first two characters of the string are \"Is\". If both conditions are true, the function returns the original string. Otherwise, the function returns a new string \"Is\" concatenated with the original string.\n",
        "The first print statement will display \"IsArray\" and the second will display \"IsEmpty\"."
      ],
      "metadata": {
        "id": "OH7kF0-OY_Oi"
      }
    },
    {
      "cell_type": "markdown",
      "source": [
        "## #20\n",
        "Write a Python program that returns a string that is n (non-negative integer) copies of a given string."
      ],
      "metadata": {
        "id": "heVz14JYZC-8"
      }
    },
    {
      "cell_type": "code",
      "source": [
        "# Define a function named \"larger_string\" that takes two parameters, \"text\" and \"n\"\n",
        "def larger_string(text, n):\n",
        "    # Initialize an empty string variable named \"result\"\n",
        "    result = \"\"\n",
        "\n",
        "    # Use a for loop to repeat the \"text\" \"n\" times and concatenate it to the \"result\"\n",
        "    for i in range(n):\n",
        "        result = result + text\n",
        "\n",
        "    # Return the final \"result\" string\n",
        "    return result\n",
        "\n",
        "# Call the \"larger_string\" function with the arguments 'abc' and 2, then print the result\n",
        "print(larger_string('abc', 2))\n",
        "\n",
        "# Call the \"larger_string\" function with the arguments '.py' and 3, then print the result\n",
        "print(larger_string('.py', 3))"
      ],
      "metadata": {
        "id": "-MTqXZwKyszu"
      },
      "execution_count": null,
      "outputs": []
    },
    {
      "cell_type": "markdown",
      "source": [
        "**Explanation:**\n",
        "The said code defines a function called \"larger_string\" which takes two arguments: \"text\" and \"n\". The function will concatenate the \"text\" argument \"n\" number of times and return the result as a new string.\n",
        "The function starts by initializing an empty string variable called \"result\". Then, it uses a for loop to iterate over a range of numbers, starting from 0 and ending at \"n\". On each iteration, the function takes the current value of \"result\" and adds the \"text\" argument to it, effectively concatenating the \"text\" argument with itself \"n\" times.\n",
        "The last two lines of code call the function, with different arguments.\n",
        "In the first case the function takes 'abc' as text and 2 as the n, the function will concatenate 'abc' two times and return 'abcabc'\n",
        "In the second case the function takes '.py' as text and 3 as the n, the function will concatenate '.py' three times and return '.py.py.py'\n",
        "The function returns the concatenated string as the final output."
      ],
      "metadata": {
        "id": "gNRbzftwZHie"
      }
    },
    {
      "cell_type": "markdown",
      "source": [
        "## #21\n",
        "Write a Python program that determines whether a given number (accepted from the user) is even or odd, and prints an appropriate message to the user"
      ],
      "metadata": {
        "id": "nVzS2YDTZLY3"
      }
    },
    {
      "cell_type": "code",
      "source": [
        "# Prompt the user to enter a number and convert the input to an integer\n",
        "num = int(input(\"Enter a number: \"))\n",
        "\n",
        "# Calculate the remainder when the number is divided by 2\n",
        "mod = num % 2\n",
        "\n",
        "# Check if the remainder is greater than 0, indicating an odd number\n",
        "if mod > 0:\n",
        "  # Print a message indicating that the number is odd\n",
        "  print(\"this is an odd number.\")\n",
        "else:\n",
        "  # Print a message indicating that the number is even\n",
        "  print(\"this is an even number.\")"
      ],
      "metadata": {
        "id": "kxSSf2RL6IgF"
      },
      "execution_count": null,
      "outputs": []
    },
    {
      "cell_type": "markdown",
      "source": [
        "**Explanation:**\n",
        "The said code prompts the user to input a number, then converts the input to an integer and assigns it to the variable 'num'. Then it calculates the remainder of 'num' and 2 and assigns it to the variable 'mod'. Next, it checks the value of 'mod'. If the value of 'mod' is greater than 0, it prints \"This is an odd number.\" otherwise prints \"This is an even number.\"."
      ],
      "metadata": {
        "id": "DACh7ITsZO3z"
      }
    },
    {
      "cell_type": "markdown",
      "source": [
        "## #22\n",
        "Write a Python program to count the number 4 in a given list."
      ],
      "metadata": {
        "id": "zU0gSESQZYLT"
      }
    },
    {
      "cell_type": "code",
      "source": [
        "# Define a function called list_count_4 that takes a list of numbers (nums) as a parameter.\n",
        "def list_count_4(nums):\n",
        "  # Initialize a variable count to keep track of the count of occurrences of the number 4.\n",
        "  count = 0\n",
        "\n",
        "  # Iterate through each element (num) in the input list (nums).\n",
        "  for num in nums:\n",
        "    # Check if the current element (num) is equal to 4.\n",
        "    if num == 4:\n",
        "      # If the element is 4, increment the count by 1.\n",
        "      count = count + 1\n",
        "\n",
        "  # Return the final count after iterating through the list.\n",
        "  return count\n",
        "\n",
        "# Call the list_count_4 function with two different input lists and print the results.\n",
        "print(list_count_4([1, 4, 6, 7, 4]))  # Output: 2 (There are two occurrences of 4 in the list.)\n",
        "print(list_count_4([1, 4, 6, 4, 7, 4]))  # Output: 3 (There are three occurrences of 4 in the list.)"
      ],
      "metadata": {
        "id": "TssdLzOh7pfW"
      },
      "execution_count": null,
      "outputs": []
    },
    {
      "cell_type": "markdown",
      "source": [
        "**Explanation:**\n",
        "The said code defines a function called \"list_count_4\" that takes a list of numbers as its argument, \"nums\". Inside the function, it initializes a variable \"count\" to zero. Next, it uses a for loop to iterate through each element in the \"nums\" list. For each iteration, it checks if the current element i.e. num is equal to 4, if true it increments the \"count\" by 1. After the for loop completes, the function returns the final \"count\" of how many times the number 4 appears in the list.\n",
        "The last two lines of code call the function, with the input values ([1, 4, 6, 7, 4]) and ([1, 4, 6, 4, 7, 4]) and print the results.\n",
        "The first call will return 2, and the second call will return 3."
      ],
      "metadata": {
        "id": "GRiqa3BAZbt6"
      }
    },
    {
      "cell_type": "markdown",
      "source": [
        "## #23\n",
        "Write a Python program to get n (non-negative integer) copies of the first 2 characters of a given string."
      ],
      "metadata": {
        "id": "CkcrSK-9ZeWa"
      }
    },
    {
      "cell_type": "code",
      "source": [
        "# Return n copies of the whole string if the length is less than 2.\n",
        "\n",
        "# Define a function called substring_copy that takes two parameters: text (a string) and n (an integer).\n",
        "def substring_copy(text, n):\n",
        "  # Set the initial value of flen (substring length) to 2.\n",
        "  flen = 2\n",
        "\n",
        "  # Check if flen is greater than the length of the input text.\n",
        "  if flen > len(text):\n",
        "    # If flen is greater, set it to the length of the text to avoid going out of bounds.\n",
        "    flen = len(text)\n",
        "\n",
        "  # Extract a substring of length flen from the beginning of the text.\n",
        "  substr = text[:flen]\n",
        "\n",
        "  # Initialize an empty string result to store the concatenated substrings.\n",
        "  result = \"\"\n",
        "\n",
        "  # Iterate n times to concatenate the substring to the result.\n",
        "  for i in range(n):\n",
        "    result = result + substr\n",
        "\n",
        "  #Return the final result after concatenating substrings.\n",
        "  return result\n",
        "\n",
        "# Call the substring_copy function with two different inputs and print the results\n",
        "print(substring_copy('abcdef', 2)) # Output: \"abab\" (substring \"ab\" repeated 2 times)\n",
        "print(substring_copy('p', 3)) # Output: \"ppp\" (substring \"p\" repeated 3 times)"
      ],
      "metadata": {
        "id": "LjT6pR0L8_Gw"
      },
      "execution_count": null,
      "outputs": []
    },
    {
      "cell_type": "markdown",
      "source": [
        "**Explanation:**\n",
        "The said code defines a function called \"substring_copy\" that takes two arguments, a string \"text\" and an integer \"n\".\n",
        "Inside the function, it creates a variable \"flen\" and assigns it the value of 2. Next, it checks whether the value of \"flen\" is greater than the length of the input string \"text\". If true it assigns the value of len(text) to \"flen\" otherwise it creates a variable \"substr\" and assigns it the value of the first two characters of the input string \"text\" using string slicing method.\n",
        "Then it creates an empty string called \"result\" and uses a for loop to iterate \"n\" times. During each iteration it concatenates the \"substr\" to the \"result\" string. Finally, it returns the value of the \"result\" variable.\n",
        "The last two lines of code call the function, with the input values ('abcdef', 2) and ('p', 3) and print the results. The first call will return 'abab' and the second will return 'ppp'.\n"
      ],
      "metadata": {
        "id": "RO9URZoUZjhv"
      }
    },
    {
      "cell_type": "markdown",
      "source": [
        "## #24\n",
        "Write a Python program to test whether a passed letter is a vowel or not."
      ],
      "metadata": {
        "id": "Qq9ZdH2UZoLg"
      }
    },
    {
      "cell_type": "code",
      "source": [
        "# Define a function called is_vowel that takes one parameter: char (a character).\n",
        "def is_vowel(char):\n",
        "  # Define a string called all_vowels containing all lowercase vowel characters.\n",
        "  all_vowels = 'aeiou'\n",
        "\n",
        "  # Check if the input character (char) is present in the all_vowels string.\n",
        "  return char in all_vowels\n",
        "\n",
        "# Call the is_vowel function with two different characters and print the results\n",
        "print(is_vowel('c')) # Output: False (character 'c' is not a vowel)\n",
        "print(is_vowel('e')) # Output: True (character 'e' is a vowel)"
      ],
      "metadata": {
        "id": "LS34i3eo_2aN"
      },
      "execution_count": null,
      "outputs": []
    },
    {
      "cell_type": "markdown",
      "source": [
        "**Explanation:**\n",
        "The said code defines a function called \"is_vowel\" which takes in one parameter \"char\". First, the function declares a variable \"all_vowels\" containing all lowercase vowels. The function then uses the \"in\" operator to check whether the value of \"char\" parameter is present within the \"all_vowels\" string, and returns the result.\n",
        "In the last two lines the code call the function \"is_vowel\" twice, with the input values 'c' and 'e' and print the results.\n",
        "In the first case, False will be returned, while in the second case, True will be returned."
      ],
      "metadata": {
        "id": "g5zkO5xjbDzq"
      }
    },
    {
      "cell_type": "markdown",
      "source": [
        "## #25\n",
        "Write a Python program that checks whether a specified value is contained within a group of values."
      ],
      "metadata": {
        "id": "7q99uUuKbHVX"
      }
    },
    {
      "cell_type": "code",
      "source": [
        "# Define a function called is_group_member that takes two parameters: group_data (a list) and n (an integer)\n",
        "def is_group_member(group_data, n):\n",
        "  # Iterate through the elements (values) in the group_data list.\n",
        "  for value in group_data:\n",
        "    # Check if the current value is equal to the given integer, n.\n",
        "    if n == value:\n",
        "      return True # If found, return True.\n",
        "  return False # If the loop completes and no match is found, return False.\n",
        "\n",
        "# Call the is_group_member function with two different lists and integers, and print the results.\n",
        "print(is_group_member([1, 5, 8, 3], 3)) # Output: True (3 is in the list)\n",
        "print(is_group_member([5, 8, 3], -1)) # Output: False (-1 is not in the list)"
      ],
      "metadata": {
        "id": "q6sOXFAlAjyK"
      },
      "execution_count": null,
      "outputs": []
    },
    {
      "cell_type": "markdown",
      "source": [
        "**Explanation:**\n",
        "The said code defines a function called \"is_group_member\" that takes two arguments \"group_data\" a list and an integer \"n\". First, the function declares a for loop to iterate through each element in the \"group_data\" list. When the current element (value) value matches the value of \"n\", it returns True, which means the input integer is present in the \"group_data\" list. The function returns False if the for loop fails to find a match, meaning the input integer does not exist in \"group_data\".\n",
        "In the last two lines the code call the function \"is_group_member\" twice, with the input values ([1, 5, 8, 3], 3) and ([5, 8, 3], -1) and print the results.\n",
        "In the first case, False will be returned, while in the second case, True will be returned."
      ],
      "metadata": {
        "id": "X5ZhdRNUbLMC"
      }
    },
    {
      "cell_type": "markdown",
      "source": [
        "## #26\n",
        "Write a Python program to create a histogram from a given list of integers"
      ],
      "metadata": {
        "id": "1lvzZYb8bOU-"
      }
    },
    {
      "cell_type": "code",
      "source": [
        "# Define a function called histogram that takes a list of items as a parameter.\n",
        "def histogram(items):\n",
        "  # Iterate through the items in the list.\n",
        "  for n in items:\n",
        "    output = '' # Initialize an empty string called output.\n",
        "    times = n   # Set the times variable to the value of n\n",
        "\n",
        "    # Use a while loop to append '*' to the output string 'times' number of times\n",
        "    while times > 0:\n",
        "      output += '*'\n",
        "      times = times - 1 # Decrement the times variable\n",
        "\n",
        "    # Print the resulting output string.\n",
        "    print(output)\n",
        "\n",
        "# Call the histogram function with a list of numbers and print the histogram\n",
        "histogram([2, 3, 6, 5])"
      ],
      "metadata": {
        "id": "hBv4jcdWBpPO"
      },
      "execution_count": null,
      "outputs": []
    },
    {
      "cell_type": "markdown",
      "source": [
        "**Explanation:**\n",
        "The function \"histogram\" takes a parameter \"items \", a list of integers. To iterate through each item in the \"items\" list, the function uses a for loop. For each iteration, it creates a varaible \"output\", and assigns the current element (n) of the loop to the variable \"times\".\n",
        "Then it uses a while loop which will run as long as the value of \"times\" is greater than 0. Inside the while loop, it concatenates an asterisk (*) character to the \"output\" variable and decrements the value of \"times\" by 1 at each iteration. After the while loop completes, it prints the final value of \"output\" variable.\n",
        "The last line of code calls the \"histogram\" function with a list of integers ([2, 3, 6, 5]) as an argument, it will print a histogram of asterisks, where the number of asterisks corresponds to the value of the integers in the list."
      ],
      "metadata": {
        "id": "FKPF6HpubR51"
      }
    },
    {
      "cell_type": "markdown",
      "source": [
        "## #27\n",
        "Write a Python program that concatenates all elements in a list into a string and returns it"
      ],
      "metadata": {
        "id": "AUNpKsMFbb0P"
      }
    },
    {
      "cell_type": "code",
      "source": [
        "# Define a function called concatenate_list_data that takes a list as a parameter.\n",
        "def concatenate_list_data(lst):\n",
        "  result = '' # Initialize an empty string called result.\n",
        "\n",
        "  # Iterate through the elements in the list.\n",
        "  for element in lst:\n",
        "    result += str(element) # Convert each element to a string and concatenate it to the result\n",
        "\n",
        "  return result # Return the concatenated string.\n",
        "\n",
        "# Call the concatenate_list_data function with a list of numbers and print the result.\n",
        "print(concatenate_list_data([1, 5, 12, 2]))"
      ],
      "metadata": {
        "id": "aODjwPNBDZFu"
      },
      "execution_count": null,
      "outputs": []
    },
    {
      "cell_type": "markdown",
      "source": [
        "**Explanation:**\n",
        "The said code defines a function called \"concatenate_list_data\" that takes a list as its argument. Inside the function, it creates an empty string variable called \"result\".\n",
        "Then it uses a for loop to iterate through each element in the input list. For each iteration, it converts the current element to a string using the str() function and concatenates it to the \"result\" variable.\n",
        "Upon completion of the for loop, the variable \"result\" is returned.\n",
        "The last line of code calls the \"concatenate_list_data\" function with a list of integers ([1, 5, 12, 2]) as an argument, it will print a string \"15122\"."
      ],
      "metadata": {
        "id": "31zLZ-_0bfVA"
      }
    },
    {
      "cell_type": "markdown",
      "source": [
        "## #28\n",
        "Write a Python program to print all even numbers from a given list of numbers in the same order and stop printing any after 237 in the sequence."
      ],
      "metadata": {
        "id": "Sqq49PzlbiRD"
      }
    },
    {
      "cell_type": "code",
      "source": [
        "# Define a list of numbers.\n",
        "numbers = [\n",
        "    386, 462, 47, 418, 907, 344, 236, 375, 823, 566, 597, 978, 328, 615, 953, 345,\n",
        "    399, 162, 758, 219, 918, 237, 412, 566, 826, 248, 866, 950, 626, 949, 687, 217,\n",
        "    815, 67, 104, 58, 512, 24, 892, 894, 767, 553, 81, 379, 843, 831, 445, 742, 717,\n",
        "    958,743, 527\n",
        "]\n",
        "\n",
        "# Iterate through the numbers in the list.\n",
        "for x in numbers:\n",
        "  if x == 237:\n",
        "      print(x) # Print the number if its 237\n",
        "      break # Exit the loop if 237 is found.\n",
        "  elif x % 2 == 0:\n",
        "      print(x) # Print the number if its even."
      ],
      "metadata": {
        "id": "Ps5bir-eEH4A"
      },
      "execution_count": null,
      "outputs": []
    },
    {
      "cell_type": "markdown",
      "source": [
        "**Explanation:**\n",
        "The said code defines a list called \"numbers\" with a set of integers. Then it uses a for loop to iterate through each element in the \"numbers\" list.\n",
        "For each iteration, it checks if the current element is equal to 237, if true it prints the current element and exit the loop using the \"break\" statement.\n",
        "If the current element is not equal to 237, it checks if the current element is even, if true it prints the current element.\n",
        "Using this logic, the code will only print the number 237 and even numbers of the list. If 237 was not found in the list, the code will print all the even numbers in the list."
      ],
      "metadata": {
        "id": "f9o2jTEJblfI"
      }
    },
    {
      "cell_type": "markdown",
      "source": [
        "## #29\n",
        "Write a Python program that prints out all colors from color_list_1 that are not present in color_list_2."
      ],
      "metadata": {
        "id": "2y94PuYCbrLL"
      }
    },
    {
      "cell_type": "code",
      "source": [
        "# Create two sets, color_list_1 and color_list_2.\n",
        "color_list_1 = set([\"White\", \"BlacK\", \"Red\"])\n",
        "color_list_2 = set([\"Red\", \"Green\"])\n",
        "\n",
        "# Print the original elements of the sets.\n",
        "print(\"Original set elements:\")\n",
        "print(color_list_1)\n",
        "print(color_list_2)\n",
        "\n",
        "# Calculate and print the difference of color_list_1 and color_list_2.\n",
        "print(\"\\nDifference of color_list_1 and color_list_2:\")\n",
        "print(color_list_1.difference(color_list_2))\n",
        "\n",
        "# Calculate and print the difference of color_list_2 and color_list_1.\n",
        "print(\"\\nDifference of color_list_2 and color_list_1:\")\n",
        "print(color_list_2.difference(color_list_1))"
      ],
      "metadata": {
        "id": "XnuWjbkaEygo"
      },
      "execution_count": null,
      "outputs": []
    },
    {
      "cell_type": "markdown",
      "source": [
        "**Explanation:**\n",
        "The said code defines two sets called \"color_list_1\" and \"color_list_2\" containing string elements.\n",
        "The elements of both sets are then printed.\n",
        "After that, it uses the difference() method on \"color_list_1\" and passes \"color_list_2\" as an argument to it. This method returns the elements that are in the \"color_list_1\" but not in \"color_list_2\".\n",
        "Again it uses the difference() method on \"color_list_2\" and passes \"color_list_1\" as an argument to it. This method returns the elements that are in the \"color_list_2\" but not in \"color_list_1\".\n",
        "The output of the code will be:\n",
        "Original set elements:\n",
        "{'Red', 'White', 'Black'}\n",
        "{'Red', 'Green'}\n",
        "Differenct of color_list_1 and color_list_2:\n",
        "{'White', 'Black'}\n",
        "Differenct of color_list_2 and color_list_1:\n",
        "{'Green'}"
      ],
      "metadata": {
        "id": "2n6bNYJCbu_p"
      }
    },
    {
      "cell_type": "markdown",
      "source": [
        "## #30\n",
        "Write a Python program that will accept the base and height of a triangle and compute its area."
      ],
      "metadata": {
        "id": "Z7k0BBegb1kh"
      }
    },
    {
      "cell_type": "code",
      "source": [
        "# Prompt the user to input the base and height of a triangle as integers.\n",
        "b = int(input(\"Input the base: \"))\n",
        "h = int(input(\"Input the height: \"))\n",
        "\n",
        "# Calculate the area of the triangle using the formula: (base * height) / 2\n",
        "area = b * h / 2\n",
        "\n",
        "# Print the calculated area of the triangle.\n",
        "print(\"area = \", area)"
      ],
      "metadata": {
        "id": "dfperNgsGBAB"
      },
      "execution_count": null,
      "outputs": []
    },
    {
      "cell_type": "markdown",
      "source": [
        "**Explanation:**\n",
        "The said code prompts the user to input an integer value for the base and height of a triangle. Stores these values in variables \"b\" and \"h\" respectively. It then calculates the area of the triangle by multiplying the base and height and dividing the result by 2 and assigns the result to the variable \"area\". Finally, it prints the calculated area."
      ],
      "metadata": {
        "id": "8XRdp6YUb5b9"
      }
    },
    {
      "cell_type": "markdown",
      "source": [
        "## #31\n",
        "Write a Python program that computes the greatest common divisor (GCD) of two positive integers"
      ],
      "metadata": {
        "id": "F9xzIn1mcKvQ"
      }
    },
    {
      "cell_type": "code",
      "source": [
        "# Define a function to calculate the greatest common divisor (GCD) of two numbers.\n",
        "def gcd(x, y):\n",
        "  # Initialize gcd to 1.\n",
        "  gcd = 1\n",
        "\n",
        "  # Check if y is a divisor of x (x is divisible by y)\n",
        "  if x % y == 0:\n",
        "    return y\n",
        "\n",
        "  # Iterate from half of y down to 1.\n",
        "  for k in range(int(y / 2), 0, -1):\n",
        "    # Check if both x and y are divisible by k.\n",
        "    if x % k == 0 and y % k == 0:\n",
        "      # Update the GCD to the current value of k and exit the loop.\n",
        "      gcd = k\n",
        "      break\n",
        "\n",
        "  # Return the calculated GCD\n",
        "  return gcd\n",
        "\n",
        "# Print the GCD of specific pairs of numbers.\n",
        "print(\"GCD of 12 & 17 =\", gcd(12, 17))\n",
        "print(\"GCD of 4 & 6 =\", gcd(4, 6))\n",
        "print(\"GCD of 336 & 360 =\", gcd(336, 360))"
      ],
      "metadata": {
        "id": "SaEX3jeUcr1C"
      },
      "execution_count": null,
      "outputs": []
    },
    {
      "cell_type": "markdown",
      "source": [
        "**Explanation:**\n",
        "\n",
        "Here is a simple implementation of the Euclidean algorithm for finding the greatest common divisor (GCD) of two integers.\n",
        "\n",
        "The function \"gcd(x,y)\" starts by initializing the variable \"gcd\" to 1, and then checks if \"x\" is divisible by \"y\". If it is, it returns \"y\" as the GCD.\n",
        "\n",
        "If \"x\" is not divisible by \"y\", it enters a \"for\" loop. In each iteration, it checks if \"k\" is a common divisor of \"x\" and \"y\", and if it is, it assigns the value of k to the variable \"gcd\" and breaks out of the loop. Finally, the function returns the value of GCD of \"x\" and \"y\".\n",
        "\n",
        "Last three print statements of the said code call the function with different inputs, and print the output as \"GCD of 12 & 17 = 1\", \"GCD of 4 & 6 = 2\" and \"GCD of 336 & 360 = 24\"."
      ],
      "metadata": {
        "id": "5bPcw4UgdrSn"
      }
    },
    {
      "cell_type": "markdown",
      "source": [
        "## #32\n",
        "Write a Python program to find the least common multiple (LCM) of two positive integers"
      ],
      "metadata": {
        "id": "N7Bh-aihdxCV"
      }
    },
    {
      "cell_type": "code",
      "source": [
        "# Define a function 'lcm' that calculates the least common multiple (LCM) of two numbers, 'x' and 'y'.\n",
        "def lcm(x, y):\n",
        "  # Compare 'x' and 'y' to determine the larger number and store it in 'z'.\n",
        "  if x > y:\n",
        "    z = x\n",
        "  else:\n",
        "    z = y\n",
        "\n",
        "  # Use a 'while' loop to find the LCM.\n",
        "  while True:\n",
        "    # Check if 'z' is divisible by both 'x' and 'y' with no remainder.\n",
        "    if (z % x == 0) and (z % y == 0):\n",
        "      # If both conditions are met, 'z' is the LCM, so store it in 'lcm' and break the loop.\n",
        "      lcm = z\n",
        "      break\n",
        "    # If the conditions are not met, increment 'z' and continue checking.\n",
        "    z += 1\n",
        "\n",
        "  # Return the calculated LCM.\n",
        "  return lcm\n",
        "\n",
        "# Calculate and print the LCM of 4 and 6\n",
        "print(lcm(4, 6))\n",
        "# Calculate and print the LCM of 15 and 17.\n",
        "print(lcm(15, 17))"
      ],
      "metadata": {
        "id": "o_JUbBX-d5s5"
      },
      "execution_count": null,
      "outputs": []
    },
    {
      "cell_type": "markdown",
      "source": [
        "**Explanation:**\n",
        "\n",
        "The said code defines a function \"lcm(x, y)\" that takes two integers as its argument and will return the least common multiple (LCM) of two arguments, \"x\" and \"y\".\n",
        "\n",
        "First, the function determines which number is larger and assigns that value to a variable named \"z\". It then enters a loop that continues indefinitely (while(True)) until the LCM is found.\n",
        "\n",
        "Inside the loop, the code checks if the current value of \"z\" is divisible by both \"x\" and \"y\" (if((z % x == 0) and (z % y == 0))). If it is true then the LCM is assigned to the variable \"lcm\" and the loop is broken. Otherwise, the value of \"z\" is incremented by 1 and the check is repeated.\n",
        "\n",
        "Finally, the function returns the value of \"lcm\" as the output.\n",
        "\n",
        "After the function definition, the code calls the function twice, first with the arguments 4 and 6, then with the arguments 15 and 17 and prints the results."
      ],
      "metadata": {
        "id": "Hx4wf5lDd7lq"
      }
    },
    {
      "cell_type": "markdown",
      "source": [
        "## #33\n",
        "Write a Python program to sum three given integers. However, if two values are equal, the sum will be zero."
      ],
      "metadata": {
        "id": "tTVeqXzOe0Ce"
      }
    },
    {
      "cell_type": "code",
      "source": [
        "# Define a function 'sum_three' that takes three integer inputs: x, y, and z.\n",
        "def sum_three(x, y, z):\n",
        "  # Check if any of the two input calues are equal. If so, set 'sum' to 0.\n",
        "  if x == y or y == x or x == z:\n",
        "    sum = 0\n",
        "  else:\n",
        "    # If all three input values are distinct, calculate the sum of x, y, and z.\n",
        "    sum = x + y + z\n",
        "  # Return the calculated sum.\n",
        "  return sum\n",
        "\n",
        "# Test the 'sum_three' function with different sets of input values and print the results.\n",
        "print(sum_three(2, 1, 2))\n",
        "print(sum_three(3, 2, 2))\n",
        "print(sum_three(2, 2, 2))\n",
        "print(sum_three(1, 2, 3))"
      ],
      "metadata": {
        "id": "2qlzPwgZe6XI"
      },
      "execution_count": null,
      "outputs": []
    },
    {
      "cell_type": "markdown",
      "source": [
        "**Explanation:**\n",
        "\n",
        "The said code defines a function \"sum_three(x, y, z)\" that takes three integers as its argument and returns their sum.\n",
        "\n",
        "The function first checks if any of the three integers (x,y,z) are equal, if any two or three integers are equal, it assigns 0 to the variable \"sum\".\n",
        "\n",
        "Otherwise, it assigns the sum of the three integers to the variable \"sum\".\n",
        "\n",
        "Finally, it returns the value of \"sum\".\n",
        "\n",
        "At the end, the function is called four times with different inputs and prints the sum of the inputs.\n"
      ],
      "metadata": {
        "id": "HB-AMzTce624"
      }
    },
    {
      "cell_type": "markdown",
      "source": [
        "## #34\n",
        "Write a Python program to sum two given integers. However if the sum is between 15 and 20 it will return 20."
      ],
      "metadata": {
        "id": "nDb9QU43fpEa"
      }
    },
    {
      "cell_type": "code",
      "source": [
        "# Define a function 'sum' that takes two integer inputs: x and y\n",
        "def sum(x, y):\n",
        "  # Calculate the sum of x and y and store it in the 'sum' variable\n",
        "  sum = x + y\n",
        "  # Check if the calculated sum is within the range [15, 20) (inclusive on 15, exclusive on 20).\n",
        "  if sum in range(15, 20):\n",
        "    # If the sum is within the range, return 20.\n",
        "    return 20\n",
        "  else:\n",
        "    # If the sum is outside the range, return the calculated sum.\n",
        "    return sum\n",
        "\n",
        "# Test the 'sum' function with different sets of input values and print the results\n",
        "print(sum(10, 6))\n",
        "print(sum(10, 2))\n",
        "print(sum(10, 12))"
      ],
      "metadata": {
        "id": "oJRhW8vKfzkK"
      },
      "execution_count": null,
      "outputs": []
    },
    {
      "cell_type": "markdown",
      "source": [
        "**Explanation:**\n",
        "\n",
        "The said code defines a function \"sum(x, y)\" that takes two integers as arguments and returns their sum.\n",
        "\n",
        "It first calculates the sum of the two integers and assigns it to the variable \"sum\".\n",
        "\n",
        "Then it checks whether the value of \"sum\" is in the range of 15 to 20 (inclusive) using the in-built Python function \"range()\".\n",
        "\n",
        "If the value of \"sum\" is in the range of 15 to 20, the function returns 20 otherwise, it returns the value of \"sum\".\n",
        "\n",
        "At the end, the function is called three times with different inputs and prints the sum of the inputs."
      ],
      "metadata": {
        "id": "kLKFO-P6fybc"
      }
    },
    {
      "cell_type": "markdown",
      "source": [
        "## #35\n",
        "Write a Python program that returns true if the two given integer values are equal or their sum or difference is 5."
      ],
      "metadata": {
        "id": "TddJGQTlgddf"
      }
    },
    {
      "cell_type": "code",
      "source": [
        "# Define a function 'test_number5' that takes two integer inputs: x and y.\n",
        "def test_number5(x, y):\n",
        "  # Check if any of the following conditions are met:\n",
        "  # 1. x is equal to y.\n",
        "  # 2. The absolute difference between x and y is equal to 5\n",
        "  # 3. The sum of x and y is equal to 5.\n",
        "  if x == y or abs(x - y) == 5 or (x + y) == 5:\n",
        "    # If any of the conditions are met, return True.\n",
        "    return True\n",
        "  else:\n",
        "    # If none of the conditions are met, return False.\n",
        "    return False\n",
        "\n",
        "# Test the 'test_number5' function with different sets of input values and print the results.\n",
        "print(test_number5(7, 2))\n",
        "print(test_number5(3, 2))\n",
        "print(test_number5(2, 2))\n",
        "print(test_number5(7, 3))\n",
        "print(test_number5(27, 53))"
      ],
      "metadata": {
        "id": "3lMoveXDglQh"
      },
      "execution_count": null,
      "outputs": []
    },
    {
      "cell_type": "markdown",
      "source": [
        "**Explanation:**\n",
        "\n",
        "The said code defines a function \"test_number5(x, y)\" that takes two integers \"x\" and \"y\" as arguments and check if they are equal, or if their sum or difference is equal to 5. If any of these conditions is true, the program would return \"True\", otherwise, it would return \"False\".\n",
        "\n",
        "At the end, the function is called five times with different inputs and prints the outputs of the inputs."
      ],
      "metadata": {
        "id": "hbdIglLPglh6"
      }
    },
    {
      "cell_type": "markdown",
      "source": [
        "## #36"
      ],
      "metadata": {
        "id": "w5h-z4ZQh4vU"
      }
    },
    {
      "cell_type": "code",
      "source": [
        "# Define a function 'add_numbers' that takes two arguments: a and b.\n",
        "def add_numbers(a, b):\n",
        "  # Check if both 'a' and 'b' are integers using the 'isinstance' function.\n",
        "  if not (isinstance(a, int) and isinstance(b, int)):\n",
        "    # If either 'a' or 'b' is not an integer, return an error message.\n",
        "    return \"Inputs must be integers!\"\n",
        "  # If both 'a' and 'b' are integers, return their sum.\n",
        "  return a + b\n",
        "\n",
        "# Test the 'add_numbers' function with various input values and print the results\n",
        "print(add_numbers(10, 20))    # Valid: Both inputs are integers, and it returns the sum\n",
        "print(add_numbers(10, 20.34)) # Invalid: One of the inputs is a float, so it returns an error\n",
        "print(add_numbers('5', 6))    # Invalid: One of the inputs is a string, so it returns an error\n",
        "print(add_numbers('5', '6'))  # Invalid: Both inputs are strings, so it returns an error"
      ],
      "metadata": {
        "id": "HY8OQ9b2bud7"
      },
      "execution_count": null,
      "outputs": []
    },
    {
      "cell_type": "markdown",
      "source": [
        "**Explanation:**\n",
        "\n",
        "The said code defines a function called \"add_numbers(a, b)\" that takes two integers \"a\" and \"b\" as arguments. The function first checks if \"a\" and \"b\" are both instances of the \"int\" data type using the \"isinstance\" function. If either \"a\" or \"b\" is not an integer, the function returns the string \"Inputs must be integers!\"\n",
        "\n",
        "Finally the code calls the function four times with different arguments, passing i) two integers, ii) an integer and a float, iii) a string and an integer and iv) two strings.\n",
        "\n",
        "It will return the sum of the integers passed in the first call. For the second, third and fourth calls will return the string \"Inputs must be integers!\" as the inputs passed are not integers."
      ],
      "metadata": {
        "id": "pilvqrRYd4nP"
      }
    },
    {
      "cell_type": "markdown",
      "source": [
        "## #37\n",
        "Write a Python program that displays your name, age, and address on three different lines."
      ],
      "metadata": {
        "id": "Z_ro-lyTd6Nm"
      }
    },
    {
      "cell_type": "code",
      "source": [
        "# Define a function 'personal_details'.\n",
        "def personal_details():\n",
        "  # Define variables 'name' and 'age' and assign values to them.\n",
        "  name, age = \"Caroline\", 30\n",
        "  # Define a variable 'address' and assign a value to it\n",
        "  address = \"New York, United States\"\n",
        "  # Print the personal details using string formatting.\n",
        "  print(\"Name: {}\\nAge: {}\\nAddress: {}\".format(name, age, address))\n",
        "\n",
        "# Call the 'personal_details' function to display the details.\n",
        "personal_details()"
      ],
      "metadata": {
        "id": "NzNlYL3ceBvM"
      },
      "execution_count": null,
      "outputs": []
    },
    {
      "cell_type": "code",
      "source": [
        "# EXTRA - my design\n",
        "\n",
        "# Define the function 'personal_details'\n",
        "def personal_details_2():\n",
        "  # ask the user for their name, age, and address\n",
        "  user_name = input(\"What is your name: \")\n",
        "  user_age = int(input(\"What is your age: \"))\n",
        "  user_address = input(\"What is your address: \")\n",
        "  print(\"\\nBelow are your personal details.\\nName: {}\\nAge: {}\\nAddress: {}\".format(user_name, user_age, user_address))\n",
        "\n",
        "# Call the 'personal_details' function to display the details\n",
        "personal_details_2()"
      ],
      "metadata": {
        "id": "TqZ9fKKaev-Y"
      },
      "execution_count": null,
      "outputs": []
    },
    {
      "cell_type": "markdown",
      "source": [
        "**Explanation:**\n",
        "\n",
        "The said code defines a function called \"personal_details\" which does not take any arguments. Within the function, three variables are defined: \"name\" is assigned the string \"Simon\", \"age\" is assigned the integer 19, and \"address\" is assigned the string \"Bangalore, Karnataka, India\".\n",
        "\n",
        "The function then uses the print() function to output the values of these three variables in a formatted string. The curly braces {} are placeholders for the values that will be passed through the .format() method.\n",
        "\n",
        "Finally the function is called at the end of the code and prints the values of name, age and address."
      ],
      "metadata": {
        "id": "2rrHNpKOgCth"
      }
    },
    {
      "cell_type": "markdown",
      "source": [
        "## #38\n",
        "Write a Python program to solve (x + y) * (x + y)."
      ],
      "metadata": {
        "id": "tOJ78cIbgDvT"
      }
    },
    {
      "cell_type": "code",
      "source": [
        "# Define variables 'x' and 'y' and assign values to them.\n",
        "x, y = 4, 3\n",
        "# Calculate the result by squaring the sum of 'x' and 'y'\n",
        "result = x * x + 2 * x * y + y * y\n",
        "# Print the result with a formatted message\n",
        "print(\"({} + {}) ^ 2) = {}\".format(x, y, result))"
      ],
      "metadata": {
        "id": "gUyd9KGCgCYV"
      },
      "execution_count": null,
      "outputs": []
    },
    {
      "cell_type": "markdown",
      "source": [
        "**Explanation:**\n",
        "\n",
        "The said Python code assigns the value 4 to the variable x and 3 to the variable y. Then it defines the variable \"result\" as the result of the mathematical expression (x^2 + 2xy + y^2).\n",
        "\n",
        "The print statement then uses string formatting to output the final result of the expression and the values of x and y in the string \"(x + y) ^ 2 = result\".\n",
        "\n",
        "The final output will be (4 + 3) ^ 2 = 49."
      ],
      "metadata": {
        "id": "RLQTMFjMgxEm"
      }
    },
    {
      "cell_type": "markdown",
      "source": [
        "## #39\n",
        "Write a Python program to compute the future value of a specified principal amount, rate of interest, and number of years.\n",
        "\n",
        "The formula for future value with compount interest is FV = P(1 + r/n)^nt.\n",
        "FV = the future value;\n",
        "P = the principal;\n",
        "r = the annual interest rate expressed as a decimal;\n",
        "n = the number of times interest is paid each year;\n",
        "t = time in years"
      ],
      "metadata": {
        "id": "qDS7pS9Dgyve"
      }
    },
    {
      "cell_type": "code",
      "source": [
        "# Define the principal amount (initial investment).\n",
        "amt = 10000\n",
        "# Define the annual interest rate as a percentage\n",
        "int = 3.5\n",
        "# Define the number of years\n",
        "years = 7\n",
        "# Calculate the future value of the investment using the compound interest formula.\n",
        "future_value = amt * ((1 + (0.01 * int)) ** years)\n",
        "# Round the future value to two decimal places and print it\n",
        "print(round(future_value, 2))"
      ],
      "metadata": {
        "id": "WV0jSkm2hMwk"
      },
      "execution_count": null,
      "outputs": []
    },
    {
      "cell_type": "markdown",
      "source": [
        "**Explanation:**\n",
        "\n",
        "The said Python code calculates the future value of an investment of $10000, with an interest rate of 3.5% and a number of years of 7.\n",
        "\n",
        "A variable \"amt\" is defined and assigned the value of 10000.\n",
        "Another variable \"int\" is defined and assigned the value of 3.5.\n",
        "A variable \"years\" is defined and assigned the value of 7.\n",
        "A variable \"future_value\" is defined and assigned the value of the calculation of the future value of the investment. The calculation is done by the mathematical formula amt*((1+(0.01*int)) ** years).\n",
        "The final value is then rounded off to 2 decimal places and printed using the round() and print() function.\n",
        "The final output will be 12722.79 which is the future value of the investment after 7 years with an interest rate of 3.5%."
      ],
      "metadata": {
        "id": "9witxOp-hqI-"
      }
    },
    {
      "cell_type": "markdown",
      "source": [
        "## #40\n",
        "Write a Python program to calculate the distance between the points (x1, y1) and (x2, y2)."
      ],
      "metadata": {
        "id": "UBMT13znhr5K"
      }
    },
    {
      "cell_type": "code",
      "source": [
        "# Import the math module to use the square root function.\n",
        "import math\n",
        "\n",
        "# Define the coordinates of the first point (p1) as a list.\n",
        "p1 = [4, 0]\n",
        "\n",
        "# Define the coordinates of the second point (p2) as a list.\n",
        "p2 = [6, 6]\n",
        "\n",
        "# Calculate the distance between the two points using the distance formula.\n",
        "# The formula computes the Euclidean distance in a 2D space.\n",
        "distance = math.sqrt(((p1[0] - p2[0]) ** 2) + ((p1[1] - p2[1]) ** 2))\n",
        "\n",
        "# Print the calculated distance\n",
        "print(distance)"
      ],
      "metadata": {
        "id": "dTApTEHUh0Zl"
      },
      "execution_count": null,
      "outputs": []
    },
    {
      "cell_type": "markdown",
      "source": [
        "**Explanation:**\n",
        "\n",
        "The said code calculates the Euclidean distance between two points in a 2-dimensional coordinate system.\n",
        "\n",
        "It starts by importing the \"math\" module which is used to calculate the square root of the given expression.\n",
        "Then it defines two variables p1 and p2 which are lists containing the x and y coordinates of two points. In this case, the first point is at coordinates (4, 0) and the second point is at coordinates (6, 6).\n",
        "The variable \"distance\" is defined and assigned the value of the Euclidean distance between the two points.\n",
        "The final distance is then printed using the print() function.\n",
        "The final output will be 6.324555320336759 which is the distance between the two points (4,0) and (6,6)."
      ],
      "metadata": {
        "id": "WLuh16swia5m"
      }
    },
    {
      "cell_type": "markdown",
      "source": [
        "## #41\n",
        "Write a Python program to check whether a file exists."
      ],
      "metadata": {
        "id": "u4gKGsVdiiE0"
      }
    },
    {
      "cell_type": "code",
      "source": [
        "# Import the os.path module to work with file and directory paths\n",
        "import os.path\n",
        "\n",
        "# Check if 'main.txt' is a file and print the result.\n",
        "print(os.path.isfile('main.txt'))\n",
        "\n",
        "# Check if 'main.py' is a file and print the result\n",
        "print(os.path.isfile('main.py'))\n",
        "\n",
        "# Check if 'w3resource_python.ipynb' is a file and print the result\n",
        "print(os.path.isfile('w3resource_python.ipynb'))"
      ],
      "metadata": {
        "id": "6tBnTF3limXf"
      },
      "execution_count": null,
      "outputs": []
    },
    {
      "cell_type": "markdown",
      "source": [
        "**Explanation:**\n",
        "\n",
        "The said Python code imports the os.path module, which contains functions for interacting with the file system.\n",
        "\n",
        "os.path.isfile('main.txt') checks whether a file named 'main.txt' exists in the current directory and returns True if it does and False if it does not.\n",
        "os.path.isfile('main.py') checks whether a file named 'main.py' exists in the current directory and returns True if it does and False if it does not.\n",
        "Then it prints the output of these two function calls."
      ],
      "metadata": {
        "id": "3n6vmBozjW7k"
      }
    },
    {
      "cell_type": "code",
      "source": [
        "# Import the os.path module to work with file and directory paths.\n",
        "import os.path\n",
        "\n",
        "# Check if 'main.txt' exists (can be a file or directory) and print the result.\n",
        "print(os.path.exists('main.txt'))\n",
        "\n",
        "# Check if 'main.py' exists (can be a file or directory) and print the result.\n",
        "print(os.path.exists('main.py'))\n",
        "\n",
        "# Check if 'w3resource_python.ipynb' exists (can be a file or directory) and print the result.\n",
        "print(os.path.exists('w3resource_python.ipynb'))"
      ],
      "metadata": {
        "id": "Jx2L-Us0jLSH"
      },
      "execution_count": null,
      "outputs": []
    },
    {
      "cell_type": "markdown",
      "source": [
        "Explanation:\n",
        "**bold text**\n",
        "The said Python code imports the os.path module, which contains functions for interacting with the file system.\n",
        "\n",
        "os.path.exists('main.txt') checks whether a file or directory named 'main.txt' exists in the current directory and returns True if it does and False if it does not.\n",
        "os.path.exists('main.py') checks whether a file or directory named 'main.py' exists in the current directory and returns True if it does and False if it does not.\n",
        "Then it prints the output of these two function calls.\n",
        "\n",
        "The difference with previous example is that, os.path.exists() checks for the existence of file or directory, where as os.path.isfile() is used to check for the existence of file only."
      ],
      "metadata": {
        "id": "OxL01XZTjZkt"
      }
    },
    {
      "cell_type": "code",
      "source": [
        "# Open the file 'main.py' for reading.\n",
        "my_file = open('main.py')\n",
        "\n",
        "try:\n",
        "  # Close the file.\n",
        "  my_file.close()\n",
        "  # Print the \"File found!\" if the file was successfully closed\n",
        "  print(\"File found!\")\n",
        "except FileNotFoundError:\n",
        "  # Print \"File not found!\" if a FileNotFoundError occurs when closing the file.\n",
        "  print(\"File not found!\")"
      ],
      "metadata": {
        "id": "-S1ujFl-jbna"
      },
      "execution_count": null,
      "outputs": []
    },
    {
      "cell_type": "markdown",
      "source": [
        "**Explanation:**\n",
        "\n",
        "The said Python code opens a file named 'main.py' in the current working directory using the built-in open() function. The file object is then assigned to the variable \"my_file\".\n",
        "\n",
        "After that, a try-except block is used to handle any errors encountered during the file closure process. If the file is successfully closed, the program will print \"File found!\" to the console.\n",
        "\n",
        "If the file cannot be closed, a FileNotFoundError will be raised and the code in the except block will be executed. This will print \"File not found!\" to the console."
      ],
      "metadata": {
        "id": "MZEJ7pYSj2PN"
      }
    },
    {
      "cell_type": "markdown",
      "source": [
        "## #42\n",
        "Write a Python program to determine if a Python shell is executing in 32bit or 64bit mode on OS."
      ],
      "metadata": {
        "id": "R-HbC6M5j6Of"
      }
    },
    {
      "cell_type": "code",
      "source": [
        "# Import the 'struct' modeule, which provides pack and unpack functions for working with variable-lenth binary data.\n",
        "import struct\n",
        "\n",
        "# Use the 'calcsize' function to determine the size (in bytes) of the C int type for the current platform.\n",
        "# The format string \"P\" is used to represent the C void pointer type, and multiplying it by 8 gives the size in bits.\n",
        "# The result will be 32 for 32-bit platforms and 64 for 64-bit platforms\n",
        "print(struct.calcsize(\"P\") * 8)"
      ],
      "metadata": {
        "id": "-7pzI_TEj4lO"
      },
      "execution_count": null,
      "outputs": []
    },
    {
      "cell_type": "markdown",
      "source": [
        "Explanation:\n",
        "**bold text**\n",
        "The said Python code imports the \"struct\" module, which converts between Python values and C structs represented as Python bytes objects.\n",
        "\n",
        "The struct.calcsize() function is used to determine the size of a C data type, in bytes. In this case, the argument passed to the function is \"P\", which represents the C char * data type.\n",
        "\n",
        "The value returned by struct.calcsize(\"P\") is then multiplied by 8, which is used to convert the size from bytes to bits. This is because the size of a pointer is typically represented in bits, rather than bytes.\n",
        "\n",
        "Finally, the result is printed to the console."
      ],
      "metadata": {
        "id": "ZOu52LTokkfN"
      }
    },
    {
      "cell_type": "code",
      "source": [
        "# Import the 'platform' and 'struct' modules.\n",
        "import platform\n",
        "import struct\n",
        "\n",
        "# Use the 'architecture' function from the 'platform' module to get the bit architecutre (32-bit or 64-bit) of the current platform.\n",
        "# The [0] index retrieves the first element of the result, which is the architecture string\n",
        "architecture = platform.architecture()[0]\n",
        "\n",
        "# Print the bit architecture string, which will be \"32bit\" or \"64bit\"\n",
        "print(architecture)\n",
        "\n",
        "# Use the 'calcsize function from the 'struct' module to determine the size (in bytes) of the C int type for the current platform.\n",
        "# The format string \"p\" is used to represent the C void pointer type, and multiplying it by 8 give the size in bits.\n",
        "# The result will be 32 for 32-bit platforms and 64 for 64-bit platforms\n",
        "print(struct.calcsize(\"P\") * 8)"
      ],
      "metadata": {
        "id": "piRgj_w6klY6"
      },
      "execution_count": null,
      "outputs": []
    },
    {
      "cell_type": "markdown",
      "source": [
        "**Explanation:**\n",
        "\n",
        "The said Python code imports two modules platform and struct.\n",
        "\n",
        "The \"platform\" module provides an access to underlying platform’s identifying data. Specific platforms listed alphabetically, with Linux included in the Unix section.\n",
        "\n",
        "The \"platform.architecture()\" function returns a tuple (bits, linkage) which contain information about the bit architecture and the linkage format used for the executable. Both values are returned as strings.\n",
        "\n",
        "This \"struct\" module converts between Python values and C structs represented as Python bytes objects. The \"struct.calcsize\" returns the size of the struct (and hence of the bytes object produced by pack(format, ...)) corresponding to the format string format.\n",
        "\n",
        "The struct.calcsize(\"P\") function is used to determine the size of a C data type, in bytes. In this case, the argument passed to the function is \"P\", which represents the C char * data type.\n",
        "\n",
        "The value returned by struct.calcsize(\"P\") is then multiplied by 8, which is used to convert the size from bytes to bits. This is because the size of a pointer is typically represented in bits, rather than bytes.\n",
        "\n",
        "Then both the values are printed to the console, first the architecture of the system and then the size of pointer in bits."
      ],
      "metadata": {
        "id": "MXGHR4fIknC7"
      }
    },
    {
      "cell_type": "markdown",
      "source": [
        "## #43\n",
        "Write a Python program to get OS name, platform and release information.\n",
        "\n",
        "os.name: The name of the operating system dependent module imported. The following names have currently been registered: 'posix', 'nt', 'java'.\n",
        "platform.system(): Return the name of the OS system is running on\n",
        "platform.release(): Return the version of the operating system"
      ],
      "metadata": {
        "id": "2hOHHVVOlY57"
      }
    },
    {
      "cell_type": "code",
      "source": [
        "# Import the 'platform' and 'os' modules.\n",
        "import platform\n",
        "import os\n",
        "\n",
        "# Print the name of the operating system based on the 'os.name' attribute\n",
        "# 'os.name' provides the name of the operating system dependent module imported.\n",
        "print(\"Name of the operating system:\", os.name)\n",
        "\n",
        "# Print the name of the OS system using the 'platform.system()' function.\n",
        "# 'platform.system()' returns the name of the operating system, such as 'Windows', 'Linux', or 'Darwin' (macOS).\n",
        "print(\"\\nName of the OS system:\", platform.system())\n",
        "\n",
        "# Print the version of the operating system using the 'platform.release()' function\n",
        "# 'platform.release()' returns the version or release of the operating system\n",
        "print(\"\\nVersion of the operating system:\", platform.release())"
      ],
      "metadata": {
        "id": "liqotpCelun7"
      },
      "execution_count": null,
      "outputs": []
    },
    {
      "cell_type": "markdown",
      "source": [
        "**Explanation:**\n",
        "\n",
        "This code imports two modules platform and os in Python.\n",
        "\n",
        "os.name returns the operating system dependent module imported. The following names have currently been registered: 'posix', 'nt', 'java'.\n",
        "\n",
        "platform.system() returns the system/OS name, such as 'Linux', 'Darwin', 'Java', 'Windows'. An empty string is returned if the value cannot be determined.\n",
        "\n",
        "platform.release() returns the system’s release, e.g. '2.2.0' or 'NT'. An empty string is returned if the value cannot be determined.\n",
        "\n",
        "The code prints the name of the operating system using os.name, the name of the OS system using platform.system() and version of the operating system using platform.release().\n",
        "\n",
        "The name, version, and type of the operating system on which the code runs will be provided."
      ],
      "metadata": {
        "id": "zIWN9OLBlwHq"
      }
    },
    {
      "cell_type": "code",
      "source": [
        "import os\n",
        "import sys\n",
        "import platform\n",
        "import sysconfig\n",
        "print(\"os.name                  \", os.name)\n",
        "print(\"sys.platform             \", sys.platform)\n",
        "print(\"platform.system()        \", platform.system())\n",
        "print(\"sysconfig.get_platform() \", sysconfig.get_platform())\n",
        "print(\"platform.machine()       \", platform.machine())\n",
        "print(\"platform.architecture()  \", platform.architecture())"
      ],
      "metadata": {
        "id": "P_SgZPTHnSMk"
      },
      "execution_count": null,
      "outputs": []
    },
    {
      "cell_type": "markdown",
      "source": [
        "## #44\n",
        "Write a Python program to locate Python site packages"
      ],
      "metadata": {
        "id": "0JWN0U-JqxLV"
      }
    },
    {
      "cell_type": "code",
      "source": [
        "# Import the 'site' module\n",
        "import site\n",
        "\n",
        "# Use the 'site.getsitepackages()' function to retrieve site packages' paths.\n",
        "# 'site.getsitepackages()' returns a list of paths where site packages are installed\n",
        "print(site.getsitepackages())"
      ],
      "metadata": {
        "id": "9Reju2-Sq33O"
      },
      "execution_count": null,
      "outputs": []
    },
    {
      "cell_type": "markdown",
      "source": [
        "Explanation:\n",
        "\n",
        "The above Python code imports the ‘site’ module and then calls the getsitepackages() function.\n",
        "\n",
        "By calling print(site.getsitepackages()), the code will print a list of these paths to the console output. This can be useful for understanding where Python packages are installed on a particular system, which can be important for managing dependencies in Python projects."
      ],
      "metadata": {
        "id": "DJMror6SroHn"
      }
    },
    {
      "cell_type": "markdown",
      "source": [
        "## #45\n",
        "Write a Python program that calls an external command"
      ],
      "metadata": {
        "id": "VQ9GEjj4rpbd"
      }
    },
    {
      "cell_type": "code",
      "source": [
        "# Import the 'call' function from the 'subprocess' module.\n",
        "from subprocess import call\n",
        "\n",
        "# Use the 'call' function to execute the \"ls -l\" command\n",
        "# This command lists the files and directories in the current directory with details\n",
        "call([\"ls\", \"-l\"])"
      ],
      "metadata": {
        "id": "GfwtaFMOrn1s"
      },
      "execution_count": null,
      "outputs": []
    },
    {
      "cell_type": "markdown",
      "source": [
        "**Explanation:**\n",
        "\n",
        "In Python The subprocess module allows us to spawn new processes, connect to their input/output/error pipes, and obtain their return codes. This module intends to replace several older modules and functions:\n",
        "\n",
        "The above Python code uses the ‘subprocess’ module to execute a command in the shell. Then, it calls the call function from the subprocess module with a list of arguments as its parameter.\n",
        "\n",
        "When the call function is executed, it will execute the specified command in the shell and wait for it to complete before returning.\n",
        "\n",
        "So, when the above code is executed, it will print the long format list of files in the current directory on the console output, just like running the ls -l command directly in the terminal."
      ],
      "metadata": {
        "id": "y7Sf0xmasBJo"
      }
    },
    {
      "cell_type": "code",
      "source": [
        "# Import the 'os' module to work with the operating system\n",
        "import os\n",
        "\n",
        "# Use 'os.system(command)' to execute the 'ls -l' command in the system's shell\n",
        "# This command lists the files and directories in the current directory and prints the result\n",
        "print(os.system('ls -l'))"
      ],
      "metadata": {
        "id": "2qIV3iMVsDyL"
      },
      "execution_count": null,
      "outputs": []
    },
    {
      "cell_type": "markdown",
      "source": [
        "Explanation:\n",
        "\n",
        "The ‘OS’ module provides a portable way of using operating system dependent functionality.\n",
        "\n",
        "The above Python code imports the os module and then calls its system function to execute a shell command.\n",
        "\n",
        "When the system function is called, it executes the specified command in the shell. In this case, the command is ls -l, which is executed in the shell.\n",
        "\n",
        "Finally, the code calls print() function to output the return value of the system function."
      ],
      "metadata": {
        "id": "3Y9tX3YYsEIy"
      }
    },
    {
      "cell_type": "code",
      "source": [
        "# Import the 'psutil' module for system monitoring, including CPU information\n",
        "import psutil\n",
        "\n",
        "# Use 'psutil.cpu_count()' to get the number of available CPU cores\n",
        "# THis function returns the number of logical CPU cores in the system\n",
        "print(psutil.cpu_count())"
      ],
      "metadata": {
        "id": "P1yuJ9JLsErj"
      },
      "execution_count": null,
      "outputs": []
    },
    {
      "cell_type": "markdown",
      "source": [
        "**Explanation:**\n",
        "\n",
        "psutil (process and system utilities) is a cross-platform library for retrieving information on running processes and system utilization (CPU, memory, disks, network, sensors) in Python. It is useful mainly for system monitoring, profiling and limiting process resources and management of running processes.\n",
        "\n",
        "In the above Python code we first import the ‘psutil’ module and then calls its cpu_count() function to get the number of CPU cores on the current system.\n",
        "\n",
        "When the cpu_count() function is called, it returns the number of CPU cores on the system. Finally the code calls print() function to output the number of CPU cores on the system to the console output."
      ],
      "metadata": {
        "id": "f-nue9dosE_g"
      }
    },
    {
      "cell_type": "markdown",
      "source": [
        "## #46\n",
        "Write a Python program to retrieve the path and name of the file currently being executed"
      ],
      "metadata": {
        "id": "xbATuCQYsxbx"
      }
    },
    {
      "cell_type": "code",
      "source": [
        "# Import the 'os' module to work with the operating system.\n",
        "import os\n",
        "\n",
        "# Use the 'os.path.realpath(__file__)' to get the full path of the current Python script.\n",
        "# This will print the path of the current file.\n",
        "print(\"Current File Name: \", os.path.realpath(__file__))"
      ],
      "metadata": {
        "id": "hDuMC2-rs3G-"
      },
      "execution_count": null,
      "outputs": []
    },
    {
      "cell_type": "markdown",
      "source": [
        "**Explanation:**\n",
        "\n",
        "The ‘OS’ module provides a portable way of using operating system dependent functionality. The realpath() function returns the canonical path of the specified filename, eliminating any symbolic links encountered in the path (if they are supported by the operating system).\n",
        "\n",
        "If a path doesn’t exist or a symlink loop is encountered, and strict is True, OSError is raised. If strict is False, the path is resolved as far as possible and any remainder is appended without checking whether it exists.\n",
        "\n",
        "The above Python code imports the ‘os’ module and then calls its path sub-module's realpath function to get the full path of the current script file. The code then uses the print function to output the string \"Current File Name : \" followed by the full path of the script file to the console output."
      ],
      "metadata": {
        "id": "fUugWjtxs3V6"
      }
    },
    {
      "cell_type": "markdown",
      "source": [
        "## #47\n",
        "Write a Python program to find out the number of CPUs used"
      ],
      "metadata": {
        "id": "2B5WSUWntUqs"
      }
    },
    {
      "cell_type": "code",
      "source": [
        "# Import the 'multiprocessing' module to work with multi-processing features\n",
        "import multiprocessing\n",
        "\n",
        "# Use 'multiprocessing.cpu_count()' to determine the number of available CPU cores\n",
        "cpu_count = multiprocessing.cpu_count()\n",
        "\n",
        "# Print the number of CPU cores available on the system\n",
        "print(cpu_count)"
      ],
      "metadata": {
        "id": "9hHS8s9NtaVZ"
      },
      "execution_count": null,
      "outputs": []
    },
    {
      "cell_type": "markdown",
      "source": [
        "Explanation:\n",
        "**bold text**\n",
        "multiprocessing is a package that supports spawning processes using an API similar to the threading module. The multiprocessing package offers both local and remote concurrency, effectively side-stepping the Global Interpreter Lock by using subprocesses instead of threads. Due to this, the multiprocessing module allows the programmer to fully leverage multiple processors on a given machine. It runs on both Unix and Windows.\n",
        "\n",
        "cpu_count() function returns the number of CPUs in the system.\n",
        "\n",
        "The above Python code imports the multiprocessing module and then calls its cpu_count() function to get the number of CPU cores on the current system. The code then calls print() function to print the number of CPU cores on the system to the console output."
      ],
      "metadata": {
        "id": "lEgLDOw8tanu"
      }
    },
    {
      "cell_type": "code",
      "source": [
        "# Improt the 'os' module to access system-related functions\n",
        "import os\n",
        "\n",
        "# Use 'os.cpu_count()' to determine the number of available CPU cores\n",
        "cpu_count = os.cpu_count()\n",
        "\n",
        "# Print the number of CPU cores available on the system\n",
        "print(cpu_count)"
      ],
      "metadata": {
        "id": "KbTRmVTctwgX"
      },
      "execution_count": null,
      "outputs": []
    },
    {
      "cell_type": "markdown",
      "source": [
        "**Explanation:**\n",
        "\n",
        "The 'OS' module provides a portable way of using operating system dependent functionality. cpu_count() function returns the number of CPUs in the system. Returns None if undetermined.\n",
        "\n",
        "The above Python code imports the multiprocessing module and then calls its cpu_count() function to get the number of CPU cores on the current system.\n",
        "\n",
        "When the cpu_count() function is called, it returns the number of CPU cores on the system. The code then calls print() function to output the number of CPU cores on the system to the console output."
      ],
      "metadata": {
        "id": "AM14NPw_twNC"
      }
    },
    {
      "cell_type": "markdown",
      "source": [
        "## #48\n",
        "Write a Python program to parse a string to float or integer"
      ],
      "metadata": {
        "id": "bU82mdWztzZn"
      }
    },
    {
      "cell_type": "code",
      "source": [
        "# Define a string 'n' containing a numeric value.\n",
        "n = \"246.2458\"\n",
        "\n",
        "# Convert the string 'n' to a floating-point number and print the result.\n",
        "print(float(n))\n",
        "\n",
        "# Convert the floating-point number to an integer, truncating any decimal part, and print the result.\n",
        "print(int(float(n)))"
      ],
      "metadata": {
        "id": "rzhn4_-htxMU"
      },
      "execution_count": null,
      "outputs": []
    },
    {
      "cell_type": "markdown",
      "source": [
        "**Explanation:**\n",
        "\n",
        "float(x=0.0) : Returns a floating point number constructed from a number or string x.\n",
        "\n",
        "If the argument is a string, it should contain a decimal number, optionally preceded by a sign, and optionally embedded in whitespace. The optional sign may be '+' or '-'; a '+' sign has no effect on the value produced. The argument may also be a string representing a NaN (not-a-number), or positive or negative infinity.\n",
        "\n",
        "The above Python code creates a variable n with the value \"246.2458\" as a string. The float() function is used to convert the string \"246.2458\" to a floating-point number. The print() function is then used to output this floating-point number to the console."
      ],
      "metadata": {
        "id": "BCp07xzhwGZG"
      }
    },
    {
      "cell_type": "code",
      "source": [
        "# Define a function 'test' that takes a string 's' as input.\n",
        "def test(s):\n",
        "  try:\n",
        "    # Try to convert the input string to an integer\n",
        "    return int(s)\n",
        "  except ValueError:\n",
        "    # If the conversion to an integer raises a ValueError (i.e., it's not an integer),\n",
        "    # then try to convert the string to a floating-point number (float)\n",
        "    return float(s)\n",
        "\n",
        "# Call the 'test' function with different input values and print the results\n",
        "print(test('12'))       # Try to convert '12' to an integer\n",
        "print(test('233.12'))   # Try to convert '233.12' to a float"
      ],
      "metadata": {
        "id": "rIzMmxMUwJvo"
      },
      "execution_count": null,
      "outputs": []
    },
    {
      "cell_type": "markdown",
      "source": [
        "## #49\n",
        "Write a Python program to list all files in a directory"
      ],
      "metadata": {
        "id": "-EAZk5PWw5eS"
      }
    },
    {
      "cell_type": "code",
      "source": [
        "# Import necessary functions and modules from the 'os' library\n",
        "from os import listdir\n",
        "from os.path import isfile, join\n",
        "\n",
        "# Create a list 'files_list' that contains the names of files in the '/home/students' directory.\n",
        "# It uses a list comprehension to filter files using 'isfile' and 'join' functions\n",
        "files_list = [f for f in listdir('/home/students') if isfile(join('/home/students', f))]\n",
        "\n",
        "# Print the list of file names\n",
        "print(files_list)"
      ],
      "metadata": {
        "id": "L7eNCh4Rw9if"
      },
      "execution_count": null,
      "outputs": []
    },
    {
      "cell_type": "markdown",
      "source": [
        "**Explanation:**\n",
        "\n",
        "The ‘OS’ module provides a portable way of using operating system dependent functionality.\n",
        "\n",
        "os.listdir(path='.'): Return a list containing the names of the entries in the directory given by path. The list is in arbitrary order, and does not include the special entries '.' and '..' even if they are present in the directory.\n",
        "\n",
        "os.path.isfile(path): Return True if path is an existing regular file. This follows symbolic links, so both islink() and isfile() can be true for the same path.\n",
        "\n",
        "os.path.join(path, *paths): Join one or more path segments intelligently. The return value is the concatenation of path and all members of *paths, with exactly one directory separator following each non-empty part, except the last.\n",
        "\n",
        "The above Python code imports the ‘listdir’ and ‘isfile’ functions from the os module, and the ‘join’ function from the os.path module. It then uses the above three functions to generate a list of all the files in the directory /home/students. Finally print() function prints the resulting list of files."
      ],
      "metadata": {
        "id": "MsuP55osxeCn"
      }
    },
    {
      "cell_type": "markdown",
      "source": [
        "## #50\n",
        "Write a Python program to print without a newline or space"
      ],
      "metadata": {
        "id": "ehBLohyaxgNL"
      }
    },
    {
      "cell_type": "code",
      "source": [
        "# Iterate through a range of numbers from 0 to 9 (inclusive)\n",
        "for i in range(0, 10):\n",
        "  # Print an asterisk '*' character on the same line using the 'end' parameter\n",
        "  print('*', end=\"\")\n",
        "# Print a newline character to move to the next line\n",
        "print(\"\\n\")"
      ],
      "metadata": {
        "id": "X15TZgmWxkLh"
      },
      "execution_count": null,
      "outputs": []
    },
    {
      "cell_type": "markdown",
      "source": [
        "**Explanation:**\n",
        "\n",
        "In the above Python code the for loop iterates through the range of numbers from 0 to 9 (inclusive) generated by the range() function. On each iteration, it prints a single asterisk character using the print() function, with the end parameter set to an empty string (\"\"). This causes the print() function not to insert a newline character after each asterisk.\n",
        "\n",
        "After the loop completes, a newline character is printed to the console using the print() function."
      ],
      "metadata": {
        "id": "mLyCSaxvyl5u"
      }
    },
    {
      "cell_type": "code",
      "source": [
        "# Import the functools module to use the 'partial' function\n",
        "import functools\n",
        "\n",
        "# Create a partial function 'printf' based on the 'print' function with 'end' parameter set to an empty string\n",
        "printf = functools.partial(print, end=\"\")\n",
        "\n",
        "# Iterate through a range of numbers from 0 to 9 (inclusive)\n",
        "for i in range(0, 10):\n",
        "  # Use the 'printf' function to print an asterisk '*' character to the same line\n",
        "  printf('*')\n",
        "\n",
        "  # Note: The variable 'i' is defined but not used in this code"
      ],
      "metadata": {
        "id": "yePOqX7Ox-TE"
      },
      "execution_count": null,
      "outputs": []
    },
    {
      "cell_type": "markdown",
      "source": [
        "**Explanation:**\n",
        "\n",
        "The functools module is for higher-order functions: functions that act on or return other functions. In general, any callable object can be treated as a function for the purposes of this module.\n",
        "\n",
        "functools.partial: Return a new partial object which when called will behave like func called with the positional arguments args and keyword arguments keywords.\n",
        "\n",
        "In the above Python code we use the ‘functools’ module to create a partial function that prints a string without a newline character.\n",
        "\n",
        "After defining the printf function, a for loop is used to iterate through the range of numbers from 0 to 9 (inclusive) generated by the range() function. On each iteration, it calls the printf() function to print a single asterisk character to the console without adding a newline character."
      ],
      "metadata": {
        "id": "BcPVZJKNyjme"
      }
    },
    {
      "cell_type": "markdown",
      "source": [
        "## #51\n",
        "Write a Python program to determine the profiling of Python programs"
      ],
      "metadata": {
        "id": "OZU_7_oAyrRx"
      }
    },
    {
      "cell_type": "code",
      "source": [
        "# Import the cProfile module, which provides a way to profile Python code\n",
        "import cProfile\n",
        "# Define a function names 'sum'\n",
        "def sum():\n",
        "  # Print the result of adding 1 and 2 to the console\n",
        "  print(1 + 2)\n",
        "# Use cProfile to profile the 'sum' function\n",
        "cProfile.run('sum()')"
      ],
      "metadata": {
        "id": "A0swBJ7pywTC"
      },
      "execution_count": null,
      "outputs": []
    },
    {
      "cell_type": "markdown",
      "source": [
        "**Explanation:**\n",
        "\n",
        "cProfile provide deterministic profiling of Python programs. A profile is a set of statistics that describes how often and for how long various parts of the program executed.profile.run(command, filename=None, sort=- 1): This function takes a single argument that can be passed to the exec() function, and an optional file name.\n",
        "\n",
        "The above Python code imports the cProfile module. The sum() function defined in the code adds the numbers 1 and 2 and prints the result to the console using the print() function.\n",
        "\n",
        "The cProfile.run() function is used to profile the execution of the sum() function. The run() function takes a string as its parameter that represents the code to be executed and profiled. In this case, it is passed the function call sum() as a string."
      ],
      "metadata": {
        "id": "tidqH8hTzLsm"
      }
    },
    {
      "cell_type": "markdown",
      "source": [
        "## #52\n",
        "Write a Python program to print to STDERR"
      ],
      "metadata": {
        "id": "BVBAWnlVzOYt"
      }
    },
    {
      "cell_type": "code",
      "source": [
        "# Import the 'print_function' feature from the '__future__' module to enable Python 3-style print function\n",
        "from __future__ import print_function\n",
        "\n",
        "# Import the 'sys' module, which provides access to some variables used or maintained by the interpreter\n",
        "import sys\n",
        "\n",
        "# Define a custom 'eprint' function that prints to the standard error stream\n",
        "def eprint(*args, **kwargs):\n",
        "  # Call the 'print' function with the provided argument and keyword arguments\n",
        "  # Use 'file=sys.stderr' to print to the standard error stream (stderr)\n",
        "  print(*args, file=sys.stderr, **kwargs)\n",
        "\n",
        "# Call the 'eprint' function with the specified arguments and separator\n",
        "eprint(\"abd\", \"efg\", \"xyz\", sep=\"--\")"
      ],
      "metadata": {
        "id": "xcOYv4OuzRg8"
      },
      "execution_count": null,
      "outputs": []
    },
    {
      "cell_type": "markdown",
      "source": [
        "**Explanation:**\n",
        "\n",
        "__future__ is a real module, and serves three purposes:\n",
        "\n",
        "To avoid confusing existing tools that analyze import statements and expect to find the modules they’re importing.\n",
        "To ensure that future statements run under releases prior to 2.1 at least yield runtime exceptions (the import of __future__ will fail, because there was no module of that name prior to 2.1).\n",
        "To document when incompatible changes were introduced, and when they will be — or were — made mandatory. This is a form of executable documentation, and can be inspected programmatically via importing __future__ and examining its contents.\n",
        "Sys module - This module provides access to some variables used or maintained by the interpreter and to functions that interact strongly with the interpreter. It is always available.\n",
        "\n",
        "In the above Python exercise the eprint() function takes any number of arguments and prints them to the standard error stream (stderr) using the print() function. The file parameter is set to sys.stderr, which redirects the output to the standard error stream instead of the standard output stream.\n",
        "\n",
        "Finally, the eprint() function is called with the arguments \"abc\", \"efg\", and \"xyz\", separated by the string \"--\". This causes the string \"abc--efg--xyz\" to be printed to the standard error stream."
      ],
      "metadata": {
        "id": "rgmcXchR0An2"
      }
    },
    {
      "cell_type": "markdown",
      "source": [
        "## #53\n",
        "Write a Python program to access environment variables"
      ],
      "metadata": {
        "id": "LdmDEwtq0DLs"
      }
    },
    {
      "cell_type": "code",
      "source": [
        "# Import the 'os' module to access operating system-related functionality, inclueding environment variables\n",
        "import os\n",
        "\n",
        "# Print a separator for clarity\n",
        "print('*----------------------------------*')\n",
        "\n",
        "# Print all environment variables\n",
        "print(os.environ)\n",
        "\n",
        "# Print a separator for clarity\n",
        "print('*----------------------------------*')\n",
        "\n",
        "# Access and print the 'HOME' environment variable\n",
        "print(os.environ['HOME'])\n",
        "\n",
        "# Print a separator for clarity\n",
        "print('*----------------------------------*')\n",
        "\n",
        "# Access and print the 'PATH' environment variable\n",
        "print(os.environ['PATH'])\n",
        "\n",
        "# Print a separator for clarity\n",
        "print('*----------------------------------*')"
      ],
      "metadata": {
        "id": "ZUUhwdld0HPH"
      },
      "execution_count": null,
      "outputs": []
    },
    {
      "cell_type": "markdown",
      "source": [
        "**Explanation:**\n",
        "\n",
        "The ‘OS’ module provides a portable way of using operating system dependent functionality.\n",
        "\n",
        "In the above exercise we imports the os module and uses it to print environment variables to the console output.\n",
        "\n",
        "The environ attribute of the os module is a dictionary-like object that represents the environment variables in the current process. The print() function is used to print the entire dictionary of environment variables to the console using os.environ.\n",
        "\n",
        "The code then uses square brackets ([]) to access specific environment variables by their names. In this case, it prints the values of the HOME and PATH environment variables to the console using os.environ['HOME'] and os.environ['PATH'], respectively."
      ],
      "metadata": {
        "id": "_Kky2VA206Aa"
      }
    },
    {
      "cell_type": "code",
      "source": [
        "# Import the 'os' module to access operating system-related functionality, including environment variables\n",
        "import os\n",
        "\n",
        "# Iterate through all environment variables in the 'os.environ' dictionary\n",
        "for data in os.environ:\n",
        "  # Print the name of the environment variable\n",
        "  print(data)\n",
        "  # Print a separator for clarity\n",
        "  print('-' * 15)\n",
        "  # Print the value of the environment variable\n",
        "  print(os.environ[data])\n",
        "  # Print a line of '=' characters as an additional separator\n",
        "  print('=' * 30)"
      ],
      "metadata": {
        "id": "PrhT3GC20-SO"
      },
      "execution_count": null,
      "outputs": []
    },
    {
      "cell_type": "markdown",
      "source": [
        "## #54\n",
        "Write a Python program to get the current username"
      ],
      "metadata": {
        "id": "3aNbCzTpH1Wn"
      }
    },
    {
      "cell_type": "code",
      "source": [
        "# Import the 'getpass' module to access user-related functionality, including getting the current username\n",
        "import getpass\n",
        "\n",
        "# Get the 'getuser()' function from the 'getpass' module to retrieve the current username\n",
        "# Then, print the username to the console\n",
        "print(getpass.getuser())"
      ],
      "metadata": {
        "id": "J65F81vUH4zd"
      },
      "execution_count": null,
      "outputs": []
    },
    {
      "cell_type": "markdown",
      "source": [
        "**Explanation:**\n",
        "\n",
        "The above Python code imports the ‘getpass’ module and uses it to print the username of the current user to the console output.\n",
        "\n",
        "The ‘getpass’ module provides a way to get the username of the current user, as well as prompt the user to enter a password without echoing the input to the console.\n",
        "\n",
        "getpass.getuser() - This function checks the environment variables LOGNAME, USER, LNAME and USERNAME, in order, and returns the value of the first one which is set to a non-empty string. If none are set, the login name from the password database is returned on systems which support the pwd module, otherwise, an exception is raised.\n",
        "\n",
        "The output of the code will be the username of the current user, which is retrieved from the operating system."
      ],
      "metadata": {
        "id": "XTdtJaihIIxk"
      }
    },
    {
      "cell_type": "code",
      "source": [
        "# Import the 'os' and 'pwd' modules to access operating system and user-related functionality\n",
        "import os\n",
        "import pwd\n",
        "\n",
        "# Define a function 'get_username' to retrieve the username of the current user\n",
        "def get_username():\n",
        "  # Use 'os.getid()' to get the user ID of the current user, and then pass it to 'pwd.getpwuid' to get the user informaiton\n",
        "  # The '[0]' index extracts the username from the user information\n",
        "  return pwd.getpwuid(os.getuid())[0]\n",
        "\n",
        "# Call the 'get_username' function and print the result to the console\n",
        "print(get_username())"
      ],
      "metadata": {
        "id": "UKeQgy10IKzi"
      },
      "execution_count": null,
      "outputs": []
    },
    {
      "cell_type": "markdown",
      "source": [
        "**Explanation:**\n",
        "\n",
        "The ‘OS’ module provides a portable way of using operating system dependent functionality.\n",
        "\n",
        "This ‘pwd’ module provides access to the Unix user account and password database. It is available on all Unix versions.\n",
        "\n",
        "The get_username() function defined in the code uses the os.getuid() function to get the user ID of the current process, and then passes this ID to the pwd.getpwuid() function to get a pwd.struct_passwd object representing the user account information.\n",
        "\n",
        "The username of the user is obtained from the pwd.struct_passwd object using its pw_name attribute. The get_username() function returns this username as a string.\n",
        "\n",
        "Finally, the print() function prints the username returned by get_username() to the console."
      ],
      "metadata": {
        "id": "v2g6KlpNIu6z"
      }
    },
    {
      "cell_type": "markdown",
      "source": [
        "## #55\n",
        "Write a Python program to find local IP addresses using Python's stdlib"
      ],
      "metadata": {
        "id": "9-zOvkogSsUS"
      }
    },
    {
      "cell_type": "code",
      "source": [
        "# Import the 'socket' module to work with network-related functions\n",
        "import socket\n",
        "\n",
        "# The following code retrieves the local IP address of the current machine:\n",
        "# 1. Use 'socket.gethostname()' to get the local hostname\n",
        "# 2. Use 'socket.gethostbyname_ex()' to get a list of IP addresses associated with the hostname\n",
        "# 3. Filter the list to exclude any IP addresses starting with \"127.\" (loopback addresses)\n",
        "# 4. Extract the first IP address (if available) from the filtered list\n",
        "# 5. Print the obtained IP address to the console\n",
        "\n",
        "# Step 1: Get the local hostname\n",
        "local_hostname = socket.gethostname()\n",
        "\n",
        "# Step 2: Get a list of IP addresses associated with the hostname\n",
        "ip_addresses = socket.gethostbyname_ex(local_hostname)[2]\n",
        "\n",
        "# Step 3: Filter out loopback addresses (IPs starting with \"127.\")\n",
        "filtered_ips = [ip for ip in ip_addresses if not ip.startswith(\"127.\")]\n",
        "\n",
        "# Step 4: Extract the first IP address (if available) from the filtered list\n",
        "first_ip = filtered_ips[:1]\n",
        "\n",
        "# Step 5: Print the obtained IP address to the console\n",
        "print(first_ip[0])"
      ],
      "metadata": {
        "id": "xC4gXQt7Sw1m"
      },
      "execution_count": null,
      "outputs": []
    },
    {
      "cell_type": "markdown",
      "source": [
        "**Explanation:**\n",
        "\n",
        "What is socket module in Python?\n",
        "\n",
        "On top of the operating system, the socket module defines how servers and clients communicate at hardware level. In addition to supporting connection-oriented protocols, the socket API also supports connectionless protocols. It is available on all modern Unix systems, Windows, MacOS, and probably additional platforms.\n",
        "\n",
        "socket.gethostbyname_ex(hostname) - Translate a host name to IPv4 address format, extended interface. Return a triple (hostname, aliaslist, ipaddrlist) where hostname is the host’s primary host name.\n",
        "\n",
        "socket.gethostname() - Return a string containing the hostname of the machine where the Python interpreter is currently executing.\n",
        "\n",
        "socket.socket(family=AF_INET, type=SOCK_STREAM, proto=0, fileno=None) - Create a new socket using the given address family, socket type and protocol number.\n",
        "\n",
        "The above Python code first imports the socket module.\n",
        "\n",
        "The code uses a list comprehension to extract the IP address of the current machine from the output of the socket.gethostbyname_ex() function.\n",
        "\n",
        "The innermost list comprehension filters out any IP addresses that start with 127. (which are reserved for loopback testing) and selects the first IP address in the resulting list. This is done using the if statement and the [:1] slice notation.\n",
        "\n",
        "The outer list comprehension combines the list of IP addresses obtained from the previous step with a list that contains the IP address of Google's DNS server (8.8.8.8). This is done using nested lists and a list comprehension that creates a UDP socket and queries the server for its IP address.\n",
        "\n",
        "Finally, the print() function is used to print the IP address of the current machine."
      ],
      "metadata": {
        "id": "iQTG-8OLT5_d"
      }
    },
    {
      "cell_type": "markdown",
      "source": [
        "## #56\n",
        "Write a Python program to get the height and width of the console window"
      ],
      "metadata": {
        "id": "l4tslk41T7Fm"
      }
    },
    {
      "cell_type": "code",
      "source": [
        "# Import necessary modules for working with the terminal size\n",
        "import fcntl\n",
        "import termios\n",
        "import struct\n",
        "\n",
        "# Define a function named 'terminal_size' to retrieve the terminal size\n",
        "def terminal_size():\n",
        "  # Use 'fcntl' and 'termios' to fetch terminal-related information, including size\n",
        "  # This code queries the terminal's width (columns) and height (rows)\n",
        "  # It uses the 'TIOCGWINSZ' ioctl command to get window size information\n",
        "\n",
        "  # 1. Open file descriptor 0 (stdin)\n",
        "  # 2. Call 'fcntl.ioctl' with 'TIOCGWINSZ' to fetch window size information\n",
        "  # 3. Unpack the received information into 'th' (height), 'tw' (width), 'hp' (horizontal pixel size), and 'wp' (vertical pixel size)\n",
        "  th, tw, hp, wp = struct.unpack('HHHH', fcntl.ioctl(0, termios.TIOCGWINSZ, struct.pack('HHHH', 0, 0, 0, 0)))\n",
        "\n",
        "  # Return the terminal width and height\n",
        "  return tw, th\n",
        "\n",
        "# Call the 'terminal_size' function to get the terminal size and print the result\n",
        "print('Number of columns and rows: ', terminal_size())"
      ],
      "metadata": {
        "id": "BV_ZH9HmUA6a"
      },
      "execution_count": null,
      "outputs": []
    },
    {
      "cell_type": "markdown",
      "source": [
        "**Explanation**:\n",
        "\n",
        "The above Python code defines a function terminal_size() that uses system calls to get the size of the terminal window in columns and rows. It then calls the terminal_size() function and prints the result to the console output.\n",
        "\n",
        "Then the code imports fcntl, termios, and struct modules.\n",
        "\n",
        "fcntl - This module performs file control and I/O control on file descriptors. It is an interface to the fcntl() and ioctl() Unix routines.\n",
        "\n",
        "termios - This module provides an interface to the POSIX calls for tty I/O control. For a complete description of these calls, see termios(3) Unix manual page.\n",
        "\n",
        "struct - This module converts between Python values and C structs represented as Python bytes objects. Compact format strings describe the intended conversions to/from Python values.\n",
        "\n",
        "The terminal_size() function uses the fcntl.ioctl() function to query the size of the terminal window using the termios.TIOCGWINSZ ioctl call. This call returns a struct.pack() object containing four integers representing the number of rows and columns of the terminal, as well as the horizontal and vertical pixel size.\n",
        "\n",
        "The struct.unpack() function is used to unpack the four integers from the struct.pack() object into separate variables th, tw, hp, and wp. The function then returns the values of tw (the width of the terminal window in columns) and th (the height of the terminal window in rows) as a tuple.\n",
        "\n",
        "Finally, the print() function is used to print the size of the terminal window to the console."
      ],
      "metadata": {
        "id": "DE9VY5u-VR2A"
      }
    },
    {
      "cell_type": "markdown",
      "source": [
        "## #57\n",
        "Write a Python program to get the execution time of a Python method"
      ],
      "metadata": {
        "id": "UEL8ZUmRVW3a"
      }
    },
    {
      "cell_type": "code",
      "source": [
        "# Import the 'time' module to work with time-ralted functions\n",
        "import time\n",
        "\n",
        "# Define a function named 'sum_of_n_numbers' that calculates the sum of the first 'n' natural numbers\n",
        "def sum_of_n_numbers(n):\n",
        "  # Record the current time before the calculation\n",
        "  start_time = time.time()\n",
        "\n",
        "  # Initialize a variable 's' to store the sum\n",
        "  s = 0\n",
        "\n",
        "  # Loop through numbers from 1 to 'n' and accumulate the sum\n",
        "  for i in range(1, n + 1):\n",
        "    s = s + i\n",
        "\n",
        "  # Record the current time after the calculation\n",
        "  end_time = time.time()\n",
        "\n",
        "  # Return both the calculated sum and the time taken for the calculation\n",
        "  return s, end_time - start_time\n",
        "\n",
        "# Define the value of 'n' as 5\n",
        "n = 5\n",
        "\n",
        "# Print the result, including the time taken to calculate the sum\n",
        "print(\"\\nTime to sum of 1 to\", n, \"and required time to calculate is:\", sum_of_n_numbers(n))"
      ],
      "metadata": {
        "id": "Q_jsFKv5Va7M"
      },
      "execution_count": null,
      "outputs": []
    },
    {
      "cell_type": "markdown",
      "source": [
        "**Explanation:**\n",
        "\n",
        "The above Python code defines a function sum_of_n_numbers() that calculates the sum of the first n positive integers, and returns the sum and the time it took to calculate the sum.\n",
        "\n",
        "time module - This module provides various time-related functions.\n",
        "\n",
        "The sum_of_n_numbers() function uses a for loop to add up the first n positive integers and calculates the time it takes to do so using the time.time() function to get the start and end times of the operation. The function returns a tuple containing the sum of the first n positive integers and the time taken to calculate the sum.\n",
        "\n",
        "Finally the code then calls the sum_of_n_numbers() function with an argument of n=5, and prints the result to the console using the print() function. The output displays the time it took to calculate the sum of the first 5 positive integers and the calculated sum."
      ],
      "metadata": {
        "id": "u6DKvm4EVbhH"
      }
    },
    {
      "cell_type": "markdown",
      "source": [
        "## #58\n",
        "Write a Python program to sum the first n positive integers"
      ],
      "metadata": {
        "id": "ZuIHHprZXNtP"
      }
    },
    {
      "cell_type": "code",
      "source": [
        "# Prompt the user for input and convert it to an integer\n",
        "n = int(input(\"Input a number: \"))\n",
        "\n",
        "# Calculate the sum of the first 'n' positive integers using the formula\n",
        "sum_num = (n * (n + 1)) / 2\n",
        "\n",
        "# Print the result, indicating the sum of the first 'n' positive integers\n",
        "print(\"Sum of the first\", n, \"positive integers:\", sum_num)"
      ],
      "metadata": {
        "id": "2npAdEuEXSAK"
      },
      "execution_count": null,
      "outputs": []
    },
    {
      "cell_type": "markdown",
      "source": [
        "**Explanation:**\n",
        "\n",
        "The input() function is used to prompt the user to input a number, and the int() function is used to convert the input to an integer value, which is stored in the variable n.\n",
        "\n",
        "The sum of the first n positive integers is calculated using the formula sum_num = (n * (n + 1)) / 2, which is the sum of an arithmetic sequence with a first term of 1, a common difference of 1, and a total of n terms.\n",
        "\n",
        "Finally, the print() function is used to output a message to the console in the format \"Sum of the first n positive integers: sum_num\", where n is the user input and sum_num is the calculated sum."
      ],
      "metadata": {
        "id": "Z7jBwWW2XvdI"
      }
    },
    {
      "cell_type": "code",
      "source": [
        "# Prompt the user for input and convert it to an integer\n",
        "n = int(input(\"Input an integer: \"))\n",
        "\n",
        "# Calculate the sum of the first 'n' positive integers using the built-in 'sum' function and 'range'\n",
        "result = sum(range(n+1))\n",
        "\n",
        "# Print the result, indicating the sum of the first 'n' positive integers\n",
        "print(\"Sum of the first\", n, \"positive integers:\", result)"
      ],
      "metadata": {
        "id": "LnyFs1oHXweM"
      },
      "execution_count": null,
      "outputs": []
    },
    {
      "cell_type": "markdown",
      "source": [
        "**Explanation:**\n",
        "\n",
        "In the above code -\n",
        "\n",
        "n = int(input(\"Input a number: \")): Here the input() function is used to prompt the user to enter an integer, and the int() function is used to convert the input to an integer value, which is stored in the variable n.\n",
        "\n",
        "sum_num = (n * (n + 1)) / 2: The range() function is then used to generate a sequence of integers from 0 to n inclusive, which is passed as an argument to the sum() function. The sum() function calculates the sum of the sequence and stores the result in the variable result.\n",
        "\n",
        "print(\"Sum of the first\", n ,\"positive integers:\", sum_num): Finally, the print() function is used to output a message to the console in the format \"Sum of the first n positive integers: result\", where n is the user input and result is the calculated sum."
      ],
      "metadata": {
        "id": "GpI56EXPXxPc"
      }
    },
    {
      "cell_type": "markdown",
      "source": [
        "## #59\n",
        "Write a Python program to convert height (in feet and inches) to centimeters"
      ],
      "metadata": {
        "id": "CccNksXkYO1R"
      }
    },
    {
      "cell_type": "code",
      "source": [
        "# Prompt the user to input their height\n",
        "print(\"Input your height: \")\n",
        "\n",
        "# Read the feet part of the height and convert it to an integer\n",
        "h_ft = int(input(\"Feet: \"))\n",
        "\n",
        "# Read the inches part of the height and conver it to an integer\n",
        "h_inch = int(input(\"Inches: \"))\n",
        "\n",
        "# Convert the height from feet and inches to inches\n",
        "h_inch += h_ft * 12\n",
        "\n",
        "# Calculate the height in centimeters by multiplying by the conversion factor (2.54)\n",
        "h_cm = round(h_inch * 2.54, 1)\n",
        "\n",
        "# Print the calculated height in centimeters\n",
        "print(\"Your height is: %d cm.\" %h_cm)"
      ],
      "metadata": {
        "id": "hQXDvTV-YUc-"
      },
      "execution_count": null,
      "outputs": []
    }
  ]
}