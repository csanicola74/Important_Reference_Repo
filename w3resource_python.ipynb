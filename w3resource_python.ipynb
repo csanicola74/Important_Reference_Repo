{
  "nbformat": 4,
  "nbformat_minor": 0,
  "metadata": {
    "colab": {
      "provenance": [],
      "authorship_tag": "ABX9TyN+8ko7Kl5IQtV2NCIasEJG",
      "include_colab_link": true
    },
    "kernelspec": {
      "name": "python3",
      "display_name": "Python 3"
    },
    "language_info": {
      "name": "python"
    }
  },
  "cells": [
    {
      "cell_type": "markdown",
      "metadata": {
        "id": "view-in-github",
        "colab_type": "text"
      },
      "source": [
        "<a href=\"https://colab.research.google.com/github/csanicola74/Important_Reference_Repo/blob/main/w3resource_python.ipynb\" target=\"_parent\"><img src=\"https://colab.research.google.com/assets/colab-badge.svg\" alt=\"Open In Colab\"/></a>"
      ]
    },
    {
      "cell_type": "markdown",
      "source": [
        "# Learning Python through W3Resource.com\n",
        "Links:\n",
        "  * [Python](https://www.w3resource.com/python/python-syntax.php)\n",
        "  * [Exercises](https://www.w3resource.com/python-exercises/)"
      ],
      "metadata": {
        "id": "7IYzQ9H6rZtY"
      }
    },
    {
      "cell_type": "markdown",
      "source": [
        "# Exercise"
      ],
      "metadata": {
        "id": "tgm9kgvfSvLh"
      }
    },
    {
      "cell_type": "markdown",
      "source": [
        "## #1\n",
        "Write a Python program to print the following string in a specific format (see the output)."
      ],
      "metadata": {
        "id": "qZ7JSXaASyYG"
      }
    },
    {
      "cell_type": "code",
      "execution_count": null,
      "metadata": {
        "colab": {
          "base_uri": "https://localhost:8080/"
        },
        "id": "U2Vc3eOpqfUx",
        "outputId": "7994d947-48b9-4503-e101-e4727e435312"
      },
      "outputs": [
        {
          "output_type": "stream",
          "name": "stdout",
          "text": [
            "Twinkle, twinkle, little star, \n",
            "\tHow I wonder what you are! \n",
            "\t\tUp above the world so high, \n",
            "\t\tLike a diamond in the sky. \n",
            "Twinkle, twinkle, little star, \n",
            "\tHow I wonder what you are!\n"
          ]
        }
      ],
      "source": [
        "# Sample String: \"Twinkle, twinkle, little star, How I wonder what you are! Up above the world so high, Like a diamond in the sky. Twinkle, twinkle, little star, How I wonder what you are\"\n",
        "# Output:\n",
        "  # Twinkle, twinkle, little star,\n",
        "\t    # How I wonder what you are!\n",
        "\t            #\tUp above the world so high,\n",
        "\t            #\tLike a diamond in the sky.\n",
        "  # Twinkle, twinkle, little star,\n",
        "\t    # How I wonder what you are\n",
        "#################\n",
        "### REFERENCE ###\n",
        "#################\n",
        "# \\n_________ = new line\n",
        "# \\n\\t_______ = new line and a tab in\n",
        "# \\n\\t\\t_____ = new line and 2 tabs in\n",
        "print(\"Twinkle, twinkle, little star, \\n\\tHow I wonder what you are! \\n\\t\\tUp above the world so high, \\n\\t\\tLike a diamond in the sky. \\nTwinkle, twinkle, little star, \\n\\tHow I wonder what you are!\")"
      ]
    },
    {
      "cell_type": "markdown",
      "source": [
        "The print statement (Python 2.6) has been replaced with a print() function(Python 2.6), with keyword arguments to replace most of the special syntax of  the old print statement .\n",
        "The print() function doesn’t support the “softspace” feature of the old print statement. For example, in Python 2.x, print \"A\\n\", \"B\" would write \"A\\nB\\n\"; but in Python 3.0, print(\"A\\n\", \"B\") writes \"A\\n B\\n\".\n",
        "Initially, you’ll be finding yourself typing the old print x a lot in interactive mode. Time to retrain your fingers to type print(x) instead!\n",
        "When using the 2to3 source-to-source conversion tool, all print statements are automatically converted to print() function calls, so this is mostly a non-issue for larger projects."
      ],
      "metadata": {
        "id": "HqNzhfX1S5Gq"
      }
    },
    {
      "cell_type": "markdown",
      "source": [
        "## #2\n",
        "Write a Python program to find out what version fo Python you are using."
      ],
      "metadata": {
        "id": "UBOGEOgiTF03"
      }
    },
    {
      "cell_type": "code",
      "source": [
        "# version 1\n",
        "import sys  # Import the sys module to access system-specific parameters and functions\n",
        "\n",
        "# Print the Python version to the console\n",
        "print(\"Python version\")\n",
        "\n",
        "# Use the sys.version attribute to get the Python version and print it\n",
        "print(sys.version)\n",
        "\n",
        "# Print information about the Python version\n",
        "print(\"Version info.\")\n",
        "\n",
        "# Use the sys.version_info attribute to get detailed version information and print it\n",
        "print(sys.version_info)\n",
        "\n",
        "\n",
        "# version 2\n",
        "import platform\n",
        "print(platform.python_version())"
      ],
      "metadata": {
        "colab": {
          "base_uri": "https://localhost:8080/"
        },
        "id": "h4Uhetyxtv18",
        "outputId": "3c1df124-452f-4593-8fd7-a673025fc89f"
      },
      "execution_count": null,
      "outputs": [
        {
          "output_type": "stream",
          "name": "stdout",
          "text": [
            "Python version\n",
            "3.10.12 (main, Nov 20 2023, 15:14:05) [GCC 11.4.0]\n",
            "Version info.\n",
            "sys.version_info(major=3, minor=10, micro=12, releaselevel='final', serial=0)\n",
            "3.10.12\n"
          ]
        }
      ]
    },
    {
      "cell_type": "markdown",
      "source": [
        "**Explanation:**\n",
        "The said code imports the \"sys\" module and then uses it to print the version of Python currently being used, as well as additional version information.\n",
        "The first line imports the \"sys\" module provides access to some variables used or maintained by the interpreter and to functions that interact strongly with the interpreter. It is always available.\n",
        "The second line prints the string \"Python version\".\n",
        "The third line prints the version of Python currently being used to the console.\n",
        "The fourth line prints the string \"Version info.\".\n",
        "The fifth line prints version information of the current Python interpreter. It returns a named tuple (version_info) containing the five components of the version number: major, minor, micro, releaselevel, and serial.\n"
      ],
      "metadata": {
        "id": "nAENcJ_4TPd9"
      }
    },
    {
      "cell_type": "markdown",
      "source": [
        "## #3\n",
        "Write a Python program to display the current date and time."
      ],
      "metadata": {
        "id": "fflC0MgzTYNv"
      }
    },
    {
      "cell_type": "code",
      "source": [
        "# Sample Output:\n",
        "# Current date and time :\n",
        "# 2014-07-05 14:34:14\n",
        "\n",
        "# Import the 'datetime' module to work with date and time\n",
        "import datetime\n",
        "\n",
        "# Get the current date and time\n",
        "now = datetime.datetime.now()\n",
        "\n",
        "# Create a datetime object representing the current date and time\n",
        "\n",
        "# Display a message indicating what is being printed\n",
        "print(\"Current date and time: \")\n",
        "\n",
        "# Print the current date and time in a specific format\n",
        "print(now.strftime(\"%Y-%m-%d %H:%M:%S\"))\n",
        "\n",
        "# Use the 'strftime' method to format the datetime object as a string with the desired format"
      ],
      "metadata": {
        "colab": {
          "base_uri": "https://localhost:8080/"
        },
        "id": "_NASPp0cyseB",
        "outputId": "18929469-14f3-4aa3-ece2-c7df3ecbcceb"
      },
      "execution_count": null,
      "outputs": [
        {
          "output_type": "stream",
          "name": "stdout",
          "text": [
            "Current date and time: \n",
            "2024-03-21 19:05:37\n"
          ]
        }
      ]
    },
    {
      "cell_type": "markdown",
      "source": [
        "**Explanation:**\n",
        "The said code imports the \"datetime\" module, gets the current date and time, and finally prints it in a formatted string.\n",
        "The first line import datetime imports the datetime module which supplies classes for manipulating dates and times.\n",
        "The second line now = datetime.datetime.now() creates a datetime object for the current date and time.\n",
        "The third line print (\"Current date and time : \") prints the string \"Current date and time : \" to the console.\n",
        "The fourth line print (now.strftime(\"%Y-%m-%d %H:%M:%S\")) uses the strftime() method of the datetime object to format the date and time as a string in the format \"YYYY-MM-DD HH:MM:SS\" and prints it to the console.\n",
        "The strftime() method returns a string representing the date, controlled by an explicit format string. The format codes used in this example are:\n",
        "%Y: year with century as a decimal number.\n",
        "%m: month as a zero-padded decimal number.\n",
        "%d: day of the month as a zero-padded decimal number.\n",
        "%H: hour (24-hour clock) as a zero-padded decimal number.\n",
        "%M: minute as a zero-padded decimal number.\n",
        "%S: second as a zero-padded decimal number.\n",
        "This code can be useful for logging or timestamping events in a program, or for displaying the current date and time in a user interface."
      ],
      "metadata": {
        "id": "qMHD3yG1TdQ0"
      }
    },
    {
      "cell_type": "markdown",
      "source": [
        "## #4\n",
        "Write a Python program that calculates the area of a circle based on the radius entered by the user."
      ],
      "metadata": {
        "id": "SJAMs0lOTiAy"
      }
    },
    {
      "cell_type": "code",
      "source": [
        "# Sample Output:\n",
        "# r = 1.1\n",
        "# Area = 3.8013271108436504\n",
        "\n",
        "# Import the 'pi' constant from the 'math' module to calculate the are of a circle\n",
        "from math import pi\n",
        "\n",
        "# Prompt the user to input the radius of the circle\n",
        "r = float(input(\"Input the radius of the circle: \"))\n",
        "\n",
        "# Calculate the are of the circle using the formula: area = π * r^2\n",
        "area = pi * r ** 2\n",
        "\n",
        "# Dispaly the result, including the radius and calculated area\n",
        "print(\"The area of the circle with radius \" + str(r) + \" is: \" + str(area))"
      ],
      "metadata": {
        "colab": {
          "base_uri": "https://localhost:8080/"
        },
        "id": "6Zit_DzP1_Rf",
        "outputId": "d361740f-9c8e-486d-dd35-d434b797a52a"
      },
      "execution_count": null,
      "outputs": [
        {
          "output_type": "stream",
          "name": "stdout",
          "text": [
            "Input the radius of the circle: 15\n",
            "The area of the circle with radius 15.0 is: 706.8583470577034\n"
          ]
        }
      ]
    },
    {
      "cell_type": "markdown",
      "source": [
        "**Explanation:**\n",
        "The said code calculates the area of a circle based on the radius entered by the user. The code uses the \"math\" module's pi constant and the \"input\" function to get the radius from the user, then it uses the formula to calculate the area of the circle.\n",
        "The first line from math import pi imports the pi constant from the math module, which is the mathematical constant. It represents the ratio of a circle's circumference to its diameter (approximately equal to 3.14).\n",
        "The second line r = float(input (\"Input the radius of the circle : \")) gets the radius of the circle from the user using the input() function. input() function assigns it to the variable r, it's then cast to float, so the user can input decimal number also.\n",
        "The third line print (\"The area of the circle with radius \" + str(r) + \" is: \" + str(pi * r**2)) uses the formula to calculate the area of the circle (pi*r**2) . Then it concatenates the string and the value of the radius and area using the + operator and prints the final string.\n",
        "This code is useful to calculate the area of a circle when the radius is known, it can be used in physics and mathematical calculations or in applications that require the area of a circle to be calculated."
      ],
      "metadata": {
        "id": "UGfc75w0Tmpk"
      }
    },
    {
      "cell_type": "markdown",
      "source": [
        "## #5\n",
        "Write a Python program that accepts the user's first and last name and prints them in reverse order with a space between them"
      ],
      "metadata": {
        "id": "qZs7HF1wTq38"
      }
    },
    {
      "cell_type": "code",
      "source": [
        "first_name = input(\"What is your first name: \")\n",
        "last_name = input(\"What is your last name: \")\n",
        "print(last_name + \" \" + first_name)"
      ],
      "metadata": {
        "colab": {
          "base_uri": "https://localhost:8080/"
        },
        "id": "epYh_8kR-h8f",
        "outputId": "9bf4f365-e3ab-4e2a-f8ae-c641322f8b27"
      },
      "execution_count": null,
      "outputs": [
        {
          "output_type": "stream",
          "name": "stdout",
          "text": [
            "What is your first name: Caroline\n",
            "What is your last name: Sanicola\n",
            "Sanicola Caroline\n"
          ]
        }
      ]
    },
    {
      "cell_type": "markdown",
      "source": [
        "**Explanation:**\n",
        "This code prompts the user to input their first and last name, and then it prints a message that combines the first name and last name in a specific order.\n",
        "The first line fname = input(\"Input your First Name : \") gets the user's first name using the input() function and assigns it to the variable 'fname'.\n",
        "The second line lname = input(\"Input your Last Name : \") gets the user's last name using the input() function and assigns it to the variable 'lname'.\n",
        "The third line print (\"Hello \" + lname + \" \" + fname) prints a message that combines the last name and first name, concatenating them with the + operator and separated by a space."
      ],
      "metadata": {
        "id": "Coh3llHbTwYw"
      }
    },
    {
      "cell_type": "markdown",
      "source": [
        "## #6\n",
        "Write a Python program that accepts a sequence of comma-separated numbers from the user and generates a list of a tuple from those numbers."
      ],
      "metadata": {
        "id": "5Y4pvLO0T0IW"
      }
    },
    {
      "cell_type": "code",
      "source": [
        "# Sample data: 3, 5, 7, 23\n",
        "# Output:\n",
        "#   List: ['3', '5', '7', '23']\n",
        "#   Tuple: ('3', '5', '7', '23')\n",
        "\n",
        "# Prompt the user to input a sequence of comma-separated numbers and store it in the 'values' variable\n",
        "values = input(\"Input some comma-separated numbers: \")\n",
        "\n",
        "# Split the 'values' string into a list using commas as separators and store it in the 'list' variable\n",
        "list = values.split(\",\")\n",
        "\n",
        "# Convert the 'list' into a tuple and store it in the 'tuple' variable\n",
        "tuple = tuple(list)\n",
        "\n",
        "# Print the list\n",
        "print('List: ', list)\n",
        "\n",
        "# Print the tuple\n",
        "print('Tuble: ', tuple)"
      ],
      "metadata": {
        "colab": {
          "base_uri": "https://localhost:8080/"
        },
        "id": "MXuFg50a_c2x",
        "outputId": "4eef5368-7d05-499f-bb38-b9c917973757"
      },
      "execution_count": null,
      "outputs": [
        {
          "output_type": "stream",
          "name": "stdout",
          "text": [
            "Input some comma-separated numbers: 5, 15, 84, 111, 64\n",
            "List:  ['5', ' 15', ' 84', ' 111', ' 64']\n",
            "Tuble:  ('5', ' 15', ' 84', ' 111', ' 64')\n"
          ]
        }
      ]
    },
    {
      "cell_type": "markdown",
      "source": [
        "**Explanation:**\n",
        "The said code prompts the user to input a list of numbers separated by commas. Then it converts the string of numbers into a list and a tuple, and finally it prints both the list and the tuple.\n",
        "The first line values = input(\"Input some comma seprated numbers : \") gets a string of numbers separated by commas from the user using the input() function and assigns it to the variable 'values'.\n",
        "The second line splits the string of numbers into a list of individual numbers using the split() method and assigns it to the variable 'list'. This method takes a separator as input, in this case ',' (comma) and returns a list of substrings that were separated by the separator.\n",
        "The third line converts the list into a tuple using the tuple() function and assigns it to the variable 'tuple'.\n",
        "The fourth line prints the list to the console.\n",
        "The fifth line prints the tuple to the console."
      ],
      "metadata": {
        "id": "vOSaL90dT47v"
      }
    },
    {
      "cell_type": "markdown",
      "source": [
        "## #7\n",
        "Write a Python program that accepts a filename from the user and prints the extension of the file."
      ],
      "metadata": {
        "id": "thCmvfhMT9ld"
      }
    },
    {
      "cell_type": "code",
      "source": [
        "# Sample filename: abc.java\n",
        "# Output: java\n",
        "\n",
        "# Prompt the user to input a filename and store it in the 'filename' variable\n",
        "filename = input(\"Input the Filename: \")\n",
        "\n",
        "# Split the 'filename' string into a list using the period (.) as a separator and store it in the 'f_extns' variable\n",
        "f_extns = filename.split(\".\")\n",
        "\n",
        "# Print the extension of the file, which is the last element in the 'f_extns' list\n",
        "print(\"The extension of the file is: \" + repr(f_extns[-1]))"
      ],
      "metadata": {
        "id": "AwUX1MlLn6Tq",
        "outputId": "5ac7eaba-8d3a-41cc-f2e6-fc13c70ed05d",
        "colab": {
          "base_uri": "https://localhost:8080/"
        }
      },
      "execution_count": null,
      "outputs": [
        {
          "output_type": "stream",
          "name": "stdout",
          "text": [
            "Input the Filename: data.csv\n",
            "The extension of the file is: 'csv'\n"
          ]
        }
      ]
    },
    {
      "cell_type": "markdown",
      "source": [
        "**Explanation:**\n",
        "At first the siad code prompts the user to input a filename and stores it in the variable \"filename\". It then uses the string method split() to split the value of \"filename\" by \".\"(dot) and assigns the result to the variable \"f_extns\".\n",
        "The code then uses the index -1 to access the last element of the list \"f_extns\" which is the file extension and prints the message \"The extension of the file is : \" followed by the last element.\n",
        "The repr() function returns a string containing a printable representation of an object.\n",
        "For example, if the user inputs \"abc.txt\" as the filename, the code will print \"Th e extension of the file is : 'txt'\""
      ],
      "metadata": {
        "id": "UG1pSVMYWMKT"
      }
    },
    {
      "cell_type": "markdown",
      "source": [
        "## #8\n",
        "Write a Python program to display the first and last colors from the follow list."
      ],
      "metadata": {
        "id": "roSMjWyIWO-X"
      }
    },
    {
      "cell_type": "code",
      "source": [
        "\n",
        "# color_list = [\"Red\", \"Green\", \"White\", \"Black\"]\n",
        "\n",
        "# Create a list called 'color_list' containing color names\n",
        "color_list = [\"Red\", \"Green\", \"White\", \"Black\"]\n",
        "# Print the first and last elements of the 'color_list' using string formatting\n",
        "# The '%s' placeholders are filled witht he values of 'color_list[0]' (Red) and 'color_list[-1]' (Black)\n",
        "print(\"%s %s\" % (color_list[0], color_list[-1]))"
      ],
      "metadata": {
        "id": "NaitvbbMpI4Q",
        "outputId": "9e6bc49d-51ea-47a8-8569-901a45c3dad0",
        "colab": {
          "base_uri": "https://localhost:8080/"
        }
      },
      "execution_count": null,
      "outputs": [
        {
          "output_type": "stream",
          "name": "stdout",
          "text": [
            "Red Black\n"
          ]
        }
      ]
    },
    {
      "cell_type": "markdown",
      "source": [
        "**Explanation:**\n",
        "The said code creates a list named \"color_list\" which includes four different colors, \"Red\", \"Green\", \"White\", and \"Black\". Then, it utilizes string formatting to print the first (Index 0) and the last (Index -1) color of the list together with a space in between. The output would be \"Red Black\"."
      ],
      "metadata": {
        "id": "MUdbiZguWVye"
      }
    },
    {
      "cell_type": "markdown",
      "source": [
        "## #9\n",
        "Write a Python program to display the examination schedule. (extract the date from exam_st_date)."
      ],
      "metadata": {
        "id": "6-c2GhugW0q9"
      }
    },
    {
      "cell_type": "code",
      "source": [
        "# exam_st_date = (11, 12, 2014)\n",
        "# Sample Output: The examination will start from: 11/12/2014\n",
        "\n",
        "# Define a tuple called 'exam_st_date' containing the exam start date in the format (day, month, year)\n",
        "exam_st_date = (11, 12, 2014)\n",
        "\n",
        "# Print the exam start date using string formatting\n",
        "# The '%i' placeholders are filled with the values from the 'exam_st_date' tuple\n",
        "print(\"The examination will start from: %i/%i/%i\" % exam_st_date)"
      ],
      "metadata": {
        "id": "C6Gg-Tg7p_q3",
        "outputId": "743c9fd3-7ac1-4cad-af11-d8652fba6679",
        "colab": {
          "base_uri": "https://localhost:8080/"
        }
      },
      "execution_count": null,
      "outputs": [
        {
          "output_type": "stream",
          "name": "stdout",
          "text": [
            "The examination will start from: 11/12/2014\n"
          ]
        }
      ]
    },
    {
      "cell_type": "markdown",
      "source": [
        "**Explanation:**\n",
        "The said code creates a tuple called \"exam_st_date\" containing three integers: 11, 12, and 2014. It then uses string formatting to print a string that states \"The examination will start from :\" followed by the integers in the tuple in the order they appear, formatted as day/month/year. The placeholders %i are used to format the integers.\n",
        "The output would be: \"The examination will start from : 11 / 12 / 2014\"."
      ],
      "metadata": {
        "id": "trENrlWXW44O"
      }
    },
    {
      "cell_type": "markdown",
      "source": [
        "## #10\n",
        "Write a Python program that accepts an integer (n) and computes the value of n+nn+nnn\n"
      ],
      "metadata": {
        "id": "fULdBzXbW8VC"
      }
    },
    {
      "cell_type": "code",
      "source": [
        "# Sample value of n is 5\n",
        "# Expected Result: 615\n",
        "\n",
        "# Prompt the user to input an integer and store it in the variable 'a'\n",
        "a = int(input(\"Input an integer: \"))\n",
        "\n",
        "# Create new integers 'n1', 'n2', and 'n3' by concatenating 'a' with itself one, two, and three times, respectively\n",
        "n1 = int(\"%s\" % a)              # Convert 'a' to an integer\n",
        "n2 = int(\"%s%s\" % (a, a))       # Concatenate 'a' with iteself and convert to an integer\n",
        "n3 = int(\"%s%s%s\" % (a, a, a))  # Concatenate 'a' with itself twice and convert to an integer\n",
        "\n",
        "# Calculate the sum of 'n1', 'n2', and 'n3' and print the result\n",
        "print(n1 + n2 + n3)"
      ],
      "metadata": {
        "id": "P0CYPwbbqvPu",
        "outputId": "00598930-b7a5-4551-e80b-99f65a370b5a",
        "colab": {
          "base_uri": "https://localhost:8080/"
        }
      },
      "execution_count": null,
      "outputs": [
        {
          "output_type": "stream",
          "name": "stdout",
          "text": [
            "Input an integer: 64\n",
            "652992\n"
          ]
        }
      ]
    },
    {
      "cell_type": "markdown",
      "source": [
        "**Explanation:**\n",
        "The said code prompts the user to input an integer, which is then stored in the variable \"a\".\n",
        "There after the first variable n1 is created by converting the input integer \"a\" to a string and then back to an integer.\n",
        "The second variable n2 is created by concatenating two copies of the input integer \"a\" as a string and then converting that string to an integer.\n",
        "The third variable n3 is created by concatenating three copies of the input integer \"a\" as a string and then converting that string to an integer.\n",
        "Finally, the code sums the three variables n1, n2 and n3 and print the result."
      ],
      "metadata": {
        "id": "lKqJVofeXDPi"
      }
    },
    {
      "cell_type": "markdown",
      "source": [
        "## #11\n",
        "Write a Python program to print the documents (syntax, description etc.) of Python built-in function(s)."
      ],
      "metadata": {
        "id": "8NWDhW8CXHJZ"
      }
    },
    {
      "cell_type": "code",
      "source": [
        "# Sample function: abs()\n",
        "# Expected Result:\n",
        "# abs(number) -> number\n",
        "# Return the absolute value of the argument\n",
        "\n",
        "# Print the docstring (documentation) of the 'abs' function\n",
        "print(abs.__doc__)"
      ],
      "metadata": {
        "id": "btbS0CxWsFEu",
        "outputId": "7f25d2a0-eaf9-457d-d992-d6ead733eaaa",
        "colab": {
          "base_uri": "https://localhost:8080/"
        }
      },
      "execution_count": null,
      "outputs": [
        {
          "output_type": "stream",
          "name": "stdout",
          "text": [
            "Return the absolute value of the argument.\n"
          ]
        }
      ]
    },
    {
      "cell_type": "markdown",
      "source": [
        "Python Docstring:\n",
        "A docstring is a string literal that occurs as the first statement in a module, function, class, or method definition. Such a docstring becomes the __doc__ special attribute of that object.\n",
        "All modules should normally have docstrings, and all functions and classes exported by a module should also have docstrings. Public methods (including the __init__ constructor) should also have docstrings."
      ],
      "metadata": {
        "id": "dTd_rCDrXKti"
      }
    },
    {
      "cell_type": "markdown",
      "source": [
        "## #12\n",
        "Write a Python program that prints the calendar for a given month and year."
      ],
      "metadata": {
        "id": "-ni6reHSXNrs"
      }
    },
    {
      "cell_type": "code",
      "source": [
        "# Note: Use 'calendar' module\n",
        "\n",
        "# Import the 'calendar' module\n",
        "import calendar\n",
        "\n",
        "# Prompt the user to input the year and month\n",
        "y = int(input(\"Input the year: \"))\n",
        "m = int(input(\"Input the month: \"))\n",
        "\n",
        "# Print the calendar for the specified year and month\n",
        "print(calendar.month(y, m))"
      ],
      "metadata": {
        "id": "ZmqaE6KZsjTr",
        "outputId": "aa2a950f-95cb-4a41-e602-e372399bb31d",
        "colab": {
          "base_uri": "https://localhost:8080/"
        }
      },
      "execution_count": null,
      "outputs": [
        {
          "output_type": "stream",
          "name": "stdout",
          "text": [
            "Input the year: 2024\n",
            "Input the month: 3\n",
            "     March 2024\n",
            "Mo Tu We Th Fr Sa Su\n",
            "             1  2  3\n",
            " 4  5  6  7  8  9 10\n",
            "11 12 13 14 15 16 17\n",
            "18 19 20 21 22 23 24\n",
            "25 26 27 28 29 30 31\n",
            "\n"
          ]
        }
      ]
    },
    {
      "cell_type": "markdown",
      "source": [
        "**Explanation:**\n",
        "The said code imports the calendar module, which allows you to output calendars like the Unix cal program, and provides additional useful functions related to the calendar. It then asks the user to input an integer for the year and month.\n",
        "The code then uses the month() function from the calendar module, which takes the year and month as arguments and returns a string containing an ASCII calendar for that month of that year."
      ],
      "metadata": {
        "id": "3EdCtWsxXSQ2"
      }
    },
    {
      "cell_type": "markdown",
      "source": [
        "## #13\n",
        "Write a Python program to print the following 'here document'."
      ],
      "metadata": {
        "id": "zyLMVERPYH2N"
      }
    },
    {
      "cell_type": "code",
      "source": [
        "# Sample string:\n",
        "# a string that you \"don't\" have to escape\n",
        "# This\n",
        "# is a ..... multi-line\n",
        "# heredoc string ------> example\n",
        "\n",
        "print(\"\"\"\n",
        "a string that you \"don't\" have to escape\n",
        "This\n",
        "is a ....... multi-line\n",
        "heredoc string --------> example\n",
        "\"\"\")"
      ],
      "metadata": {
        "id": "LCsU9eB2tMiZ",
        "outputId": "b0b46314-7803-42bd-d52d-33a9608d8c36",
        "colab": {
          "base_uri": "https://localhost:8080/"
        }
      },
      "execution_count": null,
      "outputs": [
        {
          "output_type": "stream",
          "name": "stdout",
          "text": [
            "\n",
            "a string that you \"don't\" have to escape\n",
            "This\n",
            "is a ....... multi-line\n",
            "heredoc string --------> example\n",
            "\n"
          ]
        }
      ]
    },
    {
      "cell_type": "markdown",
      "source": [
        "**Explanation:**\n",
        "A here document (or \"heredoc\") is a way of specifying a text block, preserving the line breaks, indents, and other whitespace within the text. The said code uses triple quotes to define a multi-line string, also known as a heredoc string. It allows the string to span multiple lines without the need to escape newline characters.\n",
        "The output will be the string exactly as it appears in the code, including the newline characters."
      ],
      "metadata": {
        "id": "24Lo27cjYMKJ"
      }
    },
    {
      "cell_type": "markdown",
      "source": [
        "## #14\n",
        "Write a Python program to calculate the number of days between two dates."
      ],
      "metadata": {
        "id": "arWtQZbrYRCY"
      }
    },
    {
      "cell_type": "code",
      "source": [
        "# Sample dates: (2014, 7, 2), (2014, 7, 11)\n",
        "# Expected output: 9 days\n",
        "\n",
        "# Import the 'date' class from the 'datetime' module\n",
        "from datetime import date\n",
        "\n",
        "# Define a start date as July 2, 2014\n",
        "f_date = date(2014, 7, 2)\n",
        "\n",
        "# Define an end date as July 11, 2014\n",
        "l_date = date(2014, 7, 11)\n",
        "\n",
        "# Calculate the difference between the end date and start date\n",
        "delta = l_date - f_date\n",
        "\n",
        "# Print the number of days in the time difference\n",
        "print(delta.days)"
      ],
      "metadata": {
        "id": "bc76w7C3tmBL",
        "outputId": "a6315200-caf6-4580-a943-87c023b5a51c",
        "colab": {
          "base_uri": "https://localhost:8080/"
        }
      },
      "execution_count": null,
      "outputs": [
        {
          "output_type": "stream",
          "name": "stdout",
          "text": [
            "9\n"
          ]
        }
      ]
    },
    {
      "cell_type": "markdown",
      "source": [
        "**Explanation:**\n",
        "This script imports the \"date\" class from the \"datetime\" module.\n",
        "It then creates two date objects (<class 'datetime.date'>), 'f_date 'and 'l_date'.\n",
        "The script then calculates the difference between these two dates and stores it in a variable called 'delta'.\n",
        "The 'delta' variable is then printed, specifically the attribute \"days\" which returns the number of days between the said two dates.\n",
        "In this case, the output would be 9, as there are 9 days between July 2nd and July 11th in 2014."
      ],
      "metadata": {
        "id": "jKMK2lRZYT-x"
      }
    },
    {
      "cell_type": "markdown",
      "source": [
        "## #15\n",
        "Write a Python program to get the volume of a sphere with radius six"
      ],
      "metadata": {
        "id": "Deb4XH9wYX52"
      }
    },
    {
      "cell_type": "code",
      "source": [
        "# Define the value of pi\n",
        "pi = 3.1415926535897931\n",
        "\n",
        "# Define the radius of the sphere\n",
        "r = 6.0\n",
        "\n",
        "# Calculate the volume of the sphere using the formula\n",
        "V = 4.0/3.0 * pi * r**3\n",
        "\n",
        "# Print the calculated volume of the sphere\n",
        "print('The volumne of the sphere is: ', V)"
      ],
      "metadata": {
        "id": "Z-NmzOFGuhTm",
        "outputId": "69b77b3d-df67-42c3-d2cd-00a3d87cdd41",
        "colab": {
          "base_uri": "https://localhost:8080/"
        }
      },
      "execution_count": null,
      "outputs": [
        {
          "output_type": "stream",
          "name": "stdout",
          "text": [
            "The volumne of the sphere is:  904.7786842338603\n"
          ]
        }
      ]
    },
    {
      "cell_type": "markdown",
      "source": [
        "**Explanation:**\n",
        "The said code assigns the value of pi as 3.1415926535897931 to the variable \"pi\" and 6.0 to the variable \"r\". The code uses the formula V = 4/3 * pi * r^3 to calculate the volume of a sphere. Volume of the sphere is stored in the variable \"V\".\n",
        "It then prints the message \"The volume of the sphere is:\" followed by the volume of the sphere using print statement.\n",
        "In this case, the code will output \"The volume of the sphere is: 904.7786842338603\"."
      ],
      "metadata": {
        "id": "InosTi4zYdE4"
      }
    },
    {
      "cell_type": "markdown",
      "source": [
        "## #16\n",
        "Write a Python program to calculate the difference between a given number and 17."
      ],
      "metadata": {
        "id": "sCcyhmwkYg2N"
      }
    },
    {
      "cell_type": "code",
      "source": [
        "# If the number is greater than 17, return twice the absolute difference.\n",
        "\n",
        "# Define a function named \"difference\" that takes an integer parameter \"n\"\n",
        "def difference(n):\n",
        "  # Check if n is less than or equal to 17\n",
        "  if n <= 17:\n",
        "    # If n is less than or equal to 17, return the absolute difference between 17 and n\n",
        "    return 17 - n\n",
        "  else:\n",
        "    # If n is greater than 17, return the absolute difference between n and 17 multiplied by 2\n",
        "    return (n - 17) * 2\n",
        "\n",
        "# Call the \"difference\" function with the argument 22 and print the result\n",
        "print(difference(22))\n",
        "\n",
        "# Call the \"difference\" function with the argument 14 and print the result\n",
        "print(difference(14))"
      ],
      "metadata": {
        "id": "jW9GLPrKvBfL",
        "outputId": "8bf4ef6d-a214-46c6-948a-d4665c4fd664",
        "colab": {
          "base_uri": "https://localhost:8080/"
        }
      },
      "execution_count": null,
      "outputs": [
        {
          "output_type": "stream",
          "name": "stdout",
          "text": [
            "10\n",
            "3\n"
          ]
        }
      ]
    },
    {
      "cell_type": "markdown",
      "source": [
        "**Explanation:**\n",
        "The said script defines a function called 'difference' that takes input(n) as an argument. Using an if-else statement the function checks whether the input value of n is less than or equal to 17. If the input value of n is less than or equal to 17, the function will return the difference of 17 - n. If the input value of n is greater than 17, the function will return double the difference of n - 17.\n",
        "Now the script calls the function twice with the input values of 22 and 14, respectively.\n",
        "In the first case the input is greater than 17, so the function returns (22-17)*2 = 10. Therefore, the script will print 10.\n",
        "In the second case the input value is less than or equal to 17, so the function returns 17-14 = 3. Therefore, the script will print 3."
      ],
      "metadata": {
        "id": "CBoiuGv4YkRD"
      }
    },
    {
      "cell_type": "markdown",
      "source": [
        "## #17\n",
        "Write a Python program to test whether a number is within 100 of 1000 or 2000."
      ],
      "metadata": {
        "id": "NhiY5QL-YoKD"
      }
    },
    {
      "cell_type": "code",
      "source": [
        "# Define a function named \"near_thousand\" that takes an integer parameter \"n\"\n",
        "def near_thousand(n):\n",
        "  # Check if the absolute difference between 1000 and n is less than or equal to 100\n",
        "  # OR check if the absoluate difference between 2000 and n is less than or equal to 100\n",
        "  return ((abs(1000 - n) <= 100) or (abs(2000 - n) <= 100))\n",
        "\n",
        "# Call the \"near_thousand\" function with the argument 1000 and print the result\n",
        "print(near_thousand(1000))\n",
        "\n",
        "# Call the \"near_thousand\" function with the argument 900 and print the result\n",
        "print(near_thousand(900))\n",
        "\n",
        "# Call the \"near_thousand\" function with the argument 800 and print the result\n",
        "print(near_thousand(800))\n",
        "\n",
        "# Call the \"near_thousand\" function with the argument 2200 and print the result\n",
        "print(near_thousand(2200))"
      ],
      "metadata": {
        "id": "P9hFyEp3wDgI",
        "outputId": "68b9f81d-38f1-4998-dd7f-4039cc1e2ff4",
        "colab": {
          "base_uri": "https://localhost:8080/"
        }
      },
      "execution_count": null,
      "outputs": [
        {
          "output_type": "stream",
          "name": "stdout",
          "text": [
            "True\n",
            "True\n",
            "False\n",
            "False\n"
          ]
        }
      ]
    },
    {
      "cell_type": "markdown",
      "source": [
        "**Explanation:**\n",
        "The said script defines a function called near_thousand(n) that takes an integer as an argument and returns True if the input is within 100 of either 1000 or 2000, and False otherwise. The function uses the abs() function, which returns the absolute value of a number, to determine the difference between the input and 1000 or 2000.\n",
        "Now the script calls the function four time with the input values of 1000, 900, 800 and 2200 respectively.\n",
        "When the input value is 1000, it returns True because the difference between 1000 and 1000 is 0, which is less than 100.\n",
        "When the input value is t 900, it returns True because the difference between 900 and 1000 is 100, which is less than 100.\n",
        "When the input value is 800, it returns False because the difference between 800 and 1000 is 200, which is not less than or equal to 100.\n",
        "When the input value is 2200, it returns False because the difference between 2200 and 2000 is 200, which is not less than or equal to 100."
      ],
      "metadata": {
        "id": "x1lpj7q6Yshw"
      }
    },
    {
      "cell_type": "markdown",
      "source": [
        "## #18\n",
        "Write a Python program to calculate the sum of three given numbers."
      ],
      "metadata": {
        "id": "47Tqz3MGYwnT"
      }
    },
    {
      "cell_type": "code",
      "source": [
        "# If the values are equal, return three times their sum.\n",
        "\n",
        "# Define a function named \"sum_thrice\" that takes three integer parameters: x, y, and z\n",
        "def sum_thrice(x, y, z):\n",
        "  # Calculate the sum of x, y, and z\n",
        "  sum = x + y + z\n",
        "\n",
        "  # Check if x, y, and z are all equal (all three numbers are the same)\n",
        "  if x == y == z:\n",
        "    # If they are equal, triple the sum\n",
        "    sum = sum * 3\n",
        "\n",
        "  # Return the final sum\n",
        "  return sum\n",
        "\n",
        "# Call the \"sum_thrice\" function with the arguments (1, 2, 3) and print the result\n",
        "print(sum_thrice(1, 2, 3))\n",
        "\n",
        "# Call the \"sum_thrice\" function with the arguments (3, 3, 3) and print the result\n",
        "print(sum_thrice(3, 3, 3))"
      ],
      "metadata": {
        "id": "WxzsbCPqw3ju",
        "outputId": "598a466f-4f6d-421b-99e8-73bfb5ce1420",
        "colab": {
          "base_uri": "https://localhost:8080/"
        }
      },
      "execution_count": null,
      "outputs": [
        {
          "output_type": "stream",
          "name": "stdout",
          "text": [
            "6\n",
            "27\n"
          ]
        }
      ]
    },
    {
      "cell_type": "markdown",
      "source": [
        "**Explanation:**\n",
        "The said script defines a function called sum_thrice(x, y, z) that takes three integers as arguments and returns their sum. The function, however, multiplies the sum by 3 if all three integers are equal.\n",
        "Now the script calls the function twice with the input values (1,2,3) and (3,3,3).\n",
        "Whenever 1, 2, and 3 are input values, the three inputs are not equal, so it returns 6.\n",
        "Whenever 3, 3, and 3 are input values, the three inputs are equal so the function multiplies the sum by 3 and returns 27.\n",
        "Depending on the inputs, the if statement holds true only if x == y == z, otherwise it holds False."
      ],
      "metadata": {
        "id": "4TRUArG6Y2JL"
      }
    },
    {
      "cell_type": "markdown",
      "source": [
        "## #19\n",
        "Write a Python program to get a newly-generated string from a given string where \"ls\" has been added to the front."
      ],
      "metadata": {
        "id": "P0urZaLxY6uL"
      }
    },
    {
      "cell_type": "code",
      "source": [
        "# Return the string unchanged if the given string already begins with \"ls\"\n",
        "\n",
        "# Define a function named \"new_string\" that takes a string parameter called \"text\"\n",
        "def new_string(text):\n",
        "  # Check if the length of the \"text\" is greater than or equal to 2 and if the first two characters of \"text\" are \"Is\"\n",
        "  if len(text) >= 2 and text[:2] == \"Is\":\n",
        "    # If the conditions are met, return the original \"text\" unchanged\n",
        "    return text\n",
        "  else:\n",
        "    # If the conditions are not met, prepend \"Is\" to the \"text\" and return the modified string\n",
        "    return \"Is\" + text\n",
        "\n",
        "# Call the \"new_string\" function with the argument \"Array\" and print the result\n",
        "print(new_string(\"Array\"))\n",
        "\n",
        "# Call the \"new_string\" function with the argument \"IsEmpty\" and print the result\n",
        "print(new_string(\"IsEmpty\"))"
      ],
      "metadata": {
        "id": "LiiZffCBxwLl",
        "outputId": "ba3dea4d-e23d-4ecf-e3c1-040c0c1ff1cc",
        "colab": {
          "base_uri": "https://localhost:8080/"
        }
      },
      "execution_count": null,
      "outputs": [
        {
          "output_type": "stream",
          "name": "stdout",
          "text": [
            "IsArray\n",
            "IsEmpty\n"
          ]
        }
      ]
    },
    {
      "cell_type": "markdown",
      "source": [
        "**Explanation:**\n",
        "The said script defines a function \"new_string(text)\" takes a string as an argument, and checks whether the string's length is greater than or equal to 2 and the first two characters of the string are \"Is\". If both conditions are true, the function returns the original string. Otherwise, the function returns a new string \"Is\" concatenated with the original string.\n",
        "The first print statement will display \"IsArray\" and the second will display \"IsEmpty\"."
      ],
      "metadata": {
        "id": "OH7kF0-OY_Oi"
      }
    },
    {
      "cell_type": "markdown",
      "source": [
        "## #20\n",
        "Write a Python program that returns a string that is n (non-negative integer) copies of a given string."
      ],
      "metadata": {
        "id": "heVz14JYZC-8"
      }
    },
    {
      "cell_type": "code",
      "source": [
        "# Define a function named \"larger_string\" that takes two parameters, \"text\" and \"n\"\n",
        "def larger_string(text, n):\n",
        "    # Initialize an empty string variable named \"result\"\n",
        "    result = \"\"\n",
        "\n",
        "    # Use a for loop to repeat the \"text\" \"n\" times and concatenate it to the \"result\"\n",
        "    for i in range(n):\n",
        "        result = result + text\n",
        "\n",
        "    # Return the final \"result\" string\n",
        "    return result\n",
        "\n",
        "# Call the \"larger_string\" function with the arguments 'abc' and 2, then print the result\n",
        "print(larger_string('abc', 2))\n",
        "\n",
        "# Call the \"larger_string\" function with the arguments '.py' and 3, then print the result\n",
        "print(larger_string('.py', 3))"
      ],
      "metadata": {
        "id": "-MTqXZwKyszu",
        "outputId": "348f2fbb-9d3d-4c88-9d0c-041788f0e744",
        "colab": {
          "base_uri": "https://localhost:8080/"
        }
      },
      "execution_count": null,
      "outputs": [
        {
          "output_type": "stream",
          "name": "stdout",
          "text": [
            "abcabc\n",
            ".py.py.py\n"
          ]
        }
      ]
    },
    {
      "cell_type": "markdown",
      "source": [
        "**Explanation:**\n",
        "The said code defines a function called \"larger_string\" which takes two arguments: \"text\" and \"n\". The function will concatenate the \"text\" argument \"n\" number of times and return the result as a new string.\n",
        "The function starts by initializing an empty string variable called \"result\". Then, it uses a for loop to iterate over a range of numbers, starting from 0 and ending at \"n\". On each iteration, the function takes the current value of \"result\" and adds the \"text\" argument to it, effectively concatenating the \"text\" argument with itself \"n\" times.\n",
        "The last two lines of code call the function, with different arguments.\n",
        "In the first case the function takes 'abc' as text and 2 as the n, the function will concatenate 'abc' two times and return 'abcabc'\n",
        "In the second case the function takes '.py' as text and 3 as the n, the function will concatenate '.py' three times and return '.py.py.py'\n",
        "The function returns the concatenated string as the final output."
      ],
      "metadata": {
        "id": "gNRbzftwZHie"
      }
    },
    {
      "cell_type": "markdown",
      "source": [
        "## #21\n",
        "Write a Python program that determines whether a given number (accepted from the user) is even or odd, and prints an appropriate message to the user"
      ],
      "metadata": {
        "id": "nVzS2YDTZLY3"
      }
    },
    {
      "cell_type": "code",
      "source": [
        "# Prompt the user to enter a number and convert the input to an integer\n",
        "num = int(input(\"Enter a number: \"))\n",
        "\n",
        "# Calculate the remainder when the number is divided by 2\n",
        "mod = num % 2\n",
        "\n",
        "# Check if the remainder is greater than 0, indicating an odd number\n",
        "if mod > 0:\n",
        "  # Print a message indicating that the number is odd\n",
        "  print(\"this is an odd number.\")\n",
        "else:\n",
        "  # Print a message indicating that the number is even\n",
        "  print(\"this is an even number.\")"
      ],
      "metadata": {
        "id": "kxSSf2RL6IgF",
        "outputId": "34810b7f-5e10-4753-8391-a5c3b19b5983",
        "colab": {
          "base_uri": "https://localhost:8080/"
        }
      },
      "execution_count": null,
      "outputs": [
        {
          "output_type": "stream",
          "name": "stdout",
          "text": [
            "Enter a number: 5\n",
            "this is an odd number.\n"
          ]
        }
      ]
    },
    {
      "cell_type": "markdown",
      "source": [
        "**Explanation:**\n",
        "The said code prompts the user to input a number, then converts the input to an integer and assigns it to the variable 'num'. Then it calculates the remainder of 'num' and 2 and assigns it to the variable 'mod'. Next, it checks the value of 'mod'. If the value of 'mod' is greater than 0, it prints \"This is an odd number.\" otherwise prints \"This is an even number.\"."
      ],
      "metadata": {
        "id": "DACh7ITsZO3z"
      }
    },
    {
      "cell_type": "markdown",
      "source": [
        "## #22\n",
        "Write a Python program to count the number 4 in a given list."
      ],
      "metadata": {
        "id": "zU0gSESQZYLT"
      }
    },
    {
      "cell_type": "code",
      "source": [
        "# Define a function called list_count_4 that takes a list of numbers (nums) as a parameter.\n",
        "def list_count_4(nums):\n",
        "  # Initialize a variable count to keep track of the count of occurrences of the number 4.\n",
        "  count = 0\n",
        "\n",
        "  # Iterate through each element (num) in the input list (nums).\n",
        "  for num in nums:\n",
        "    # Check if the current element (num) is equal to 4.\n",
        "    if num == 4:\n",
        "      # If the element is 4, increment the count by 1.\n",
        "      count = count + 1\n",
        "\n",
        "  # Return the final count after iterating through the list.\n",
        "  return count\n",
        "\n",
        "# Call the list_count_4 function with two different input lists and print the results.\n",
        "print(list_count_4([1, 4, 6, 7, 4]))  # Output: 2 (There are two occurrences of 4 in the list.)\n",
        "print(list_count_4([1, 4, 6, 4, 7, 4]))  # Output: 3 (There are three occurrences of 4 in the list.)"
      ],
      "metadata": {
        "id": "TssdLzOh7pfW",
        "outputId": "62464303-eab5-4b7e-8e34-8eea5be4a5d7",
        "colab": {
          "base_uri": "https://localhost:8080/"
        }
      },
      "execution_count": null,
      "outputs": [
        {
          "output_type": "stream",
          "name": "stdout",
          "text": [
            "2\n",
            "3\n"
          ]
        }
      ]
    },
    {
      "cell_type": "markdown",
      "source": [
        "**Explanation:**\n",
        "The said code defines a function called \"list_count_4\" that takes a list of numbers as its argument, \"nums\". Inside the function, it initializes a variable \"count\" to zero. Next, it uses a for loop to iterate through each element in the \"nums\" list. For each iteration, it checks if the current element i.e. num is equal to 4, if true it increments the \"count\" by 1. After the for loop completes, the function returns the final \"count\" of how many times the number 4 appears in the list.\n",
        "The last two lines of code call the function, with the input values ([1, 4, 6, 7, 4]) and ([1, 4, 6, 4, 7, 4]) and print the results.\n",
        "The first call will return 2, and the second call will return 3."
      ],
      "metadata": {
        "id": "GRiqa3BAZbt6"
      }
    },
    {
      "cell_type": "markdown",
      "source": [
        "## #23\n",
        "Write a Python program to get n (non-negative integer) copies of the first 2 characters of a given string."
      ],
      "metadata": {
        "id": "CkcrSK-9ZeWa"
      }
    },
    {
      "cell_type": "code",
      "source": [
        "# Return n copies of the whole string if the length is less than 2.\n",
        "\n",
        "# Define a function called substring_copy that takes two parameters: text (a string) and n (an integer).\n",
        "def substring_copy(text, n):\n",
        "  # Set the initial value of flen (substring length) to 2.\n",
        "  flen = 2\n",
        "\n",
        "  # Check if flen is greater than the length of the input text.\n",
        "  if flen > len(text):\n",
        "    # If flen is greater, set it to the length of the text to avoid going out of bounds.\n",
        "    flen = len(text)\n",
        "\n",
        "  # Extract a substring of length flen from the beginning of the text.\n",
        "  substr = text[:flen]\n",
        "\n",
        "  # Initialize an empty string result to store the concatenated substrings.\n",
        "  result = \"\"\n",
        "\n",
        "  # Iterate n times to concatenate the substring to the result.\n",
        "  for i in range(n):\n",
        "    result = result + substr\n",
        "\n",
        "  #Return the final result after concatenating substrings.\n",
        "  return result\n",
        "\n",
        "# Call the substring_copy function with two different inputs and print the results\n",
        "print(substring_copy('abcdef', 2)) # Output: \"abab\" (substring \"ab\" repeated 2 times)\n",
        "print(substring_copy('p', 3)) # Output: \"ppp\" (substring \"p\" repeated 3 times)"
      ],
      "metadata": {
        "id": "LjT6pR0L8_Gw",
        "outputId": "ea55f2b4-a876-46d0-fdfb-5d4f1f211b50",
        "colab": {
          "base_uri": "https://localhost:8080/"
        }
      },
      "execution_count": null,
      "outputs": [
        {
          "output_type": "stream",
          "name": "stdout",
          "text": [
            "abab\n",
            "ppp\n"
          ]
        }
      ]
    },
    {
      "cell_type": "markdown",
      "source": [
        "**Explanation:**\n",
        "The said code defines a function called \"substring_copy\" that takes two arguments, a string \"text\" and an integer \"n\".\n",
        "Inside the function, it creates a variable \"flen\" and assigns it the value of 2. Next, it checks whether the value of \"flen\" is greater than the length of the input string \"text\". If true it assigns the value of len(text) to \"flen\" otherwise it creates a variable \"substr\" and assigns it the value of the first two characters of the input string \"text\" using string slicing method.\n",
        "Then it creates an empty string called \"result\" and uses a for loop to iterate \"n\" times. During each iteration it concatenates the \"substr\" to the \"result\" string. Finally, it returns the value of the \"result\" variable.\n",
        "The last two lines of code call the function, with the input values ('abcdef', 2) and ('p', 3) and print the results. The first call will return 'abab' and the second will return 'ppp'.\n"
      ],
      "metadata": {
        "id": "RO9URZoUZjhv"
      }
    },
    {
      "cell_type": "markdown",
      "source": [
        "## #24\n",
        "Write a Python program to test whether a passed letter is a vowel or not."
      ],
      "metadata": {
        "id": "Qq9ZdH2UZoLg"
      }
    },
    {
      "cell_type": "code",
      "source": [
        "# Define a function called is_vowel that takes one parameter: char (a character).\n",
        "def is_vowel(char):\n",
        "  # Define a string called all_vowels containing all lowercase vowel characters.\n",
        "  all_vowels = 'aeiou'\n",
        "\n",
        "  # Check if the input character (char) is present in the all_vowels string.\n",
        "  return char in all_vowels\n",
        "\n",
        "# Call the is_vowel function with two different characters and print the results\n",
        "print(is_vowel('c')) # Output: False (character 'c' is not a vowel)\n",
        "print(is_vowel('e')) # Output: True (character 'e' is a vowel)"
      ],
      "metadata": {
        "id": "LS34i3eo_2aN",
        "outputId": "a4319b90-2e45-42ce-8048-557156a4bed7",
        "colab": {
          "base_uri": "https://localhost:8080/"
        }
      },
      "execution_count": null,
      "outputs": [
        {
          "output_type": "stream",
          "name": "stdout",
          "text": [
            "False\n",
            "True\n"
          ]
        }
      ]
    },
    {
      "cell_type": "markdown",
      "source": [
        "**Explanation:**\n",
        "The said code defines a function called \"is_vowel\" which takes in one parameter \"char\". First, the function declares a variable \"all_vowels\" containing all lowercase vowels. The function then uses the \"in\" operator to check whether the value of \"char\" parameter is present within the \"all_vowels\" string, and returns the result.\n",
        "In the last two lines the code call the function \"is_vowel\" twice, with the input values 'c' and 'e' and print the results.\n",
        "In the first case, False will be returned, while in the second case, True will be returned."
      ],
      "metadata": {
        "id": "g5zkO5xjbDzq"
      }
    },
    {
      "cell_type": "markdown",
      "source": [
        "## #25\n",
        "Write a Python program that checks whether a specified value is contained within a group of values."
      ],
      "metadata": {
        "id": "7q99uUuKbHVX"
      }
    },
    {
      "cell_type": "code",
      "source": [
        "# Define a function called is_group_member that takes two parameters: group_data (a list) and n (an integer)\n",
        "def is_group_member(group_data, n):\n",
        "  # Iterate through the elements (values) in the group_data list.\n",
        "  for value in group_data:\n",
        "    # Check if the current value is equal to the given integer, n.\n",
        "    if n == value:\n",
        "      return True # If found, return True.\n",
        "  return False # If the loop completes and no match is found, return False.\n",
        "\n",
        "# Call the is_group_member function with two different lists and integers, and print the results.\n",
        "print(is_group_member([1, 5, 8, 3], 3)) # Output: True (3 is in the list)\n",
        "print(is_group_member([5, 8, 3], -1)) # Output: False (-1 is not in the list)"
      ],
      "metadata": {
        "id": "q6sOXFAlAjyK",
        "outputId": "4d9175df-9230-4525-e3aa-12e30644acf7",
        "colab": {
          "base_uri": "https://localhost:8080/"
        }
      },
      "execution_count": null,
      "outputs": [
        {
          "output_type": "stream",
          "name": "stdout",
          "text": [
            "True\n",
            "False\n"
          ]
        }
      ]
    },
    {
      "cell_type": "markdown",
      "source": [
        "**Explanation:**\n",
        "The said code defines a function called \"is_group_member\" that takes two arguments \"group_data\" a list and an integer \"n\". First, the function declares a for loop to iterate through each element in the \"group_data\" list. When the current element (value) value matches the value of \"n\", it returns True, which means the input integer is present in the \"group_data\" list. The function returns False if the for loop fails to find a match, meaning the input integer does not exist in \"group_data\".\n",
        "In the last two lines the code call the function \"is_group_member\" twice, with the input values ([1, 5, 8, 3], 3) and ([5, 8, 3], -1) and print the results.\n",
        "In the first case, False will be returned, while in the second case, True will be returned."
      ],
      "metadata": {
        "id": "X5ZhdRNUbLMC"
      }
    },
    {
      "cell_type": "markdown",
      "source": [
        "## #26\n",
        "Write a Python program to create a histogram from a given list of integers"
      ],
      "metadata": {
        "id": "1lvzZYb8bOU-"
      }
    },
    {
      "cell_type": "code",
      "source": [
        "# Define a function called histogram that takes a list of items as a parameter.\n",
        "def histogram(items):\n",
        "  # Iterate through the items in the list.\n",
        "  for n in items:\n",
        "    output = '' # Initialize an empty string called output.\n",
        "    times = n   # Set the times variable to the value of n\n",
        "\n",
        "    # Use a while loop to append '*' to the output string 'times' number of times\n",
        "    while times > 0:\n",
        "      output += '*'\n",
        "      times = times - 1 # Decrement the times variable\n",
        "\n",
        "    # Print the resulting output string.\n",
        "    print(output)\n",
        "\n",
        "# Call the histogram function with a list of numbers and print the histogram\n",
        "histogram([2, 3, 6, 5])"
      ],
      "metadata": {
        "id": "hBv4jcdWBpPO",
        "outputId": "26a91262-7555-486e-85cf-5ed193fc1504",
        "colab": {
          "base_uri": "https://localhost:8080/"
        }
      },
      "execution_count": null,
      "outputs": [
        {
          "output_type": "stream",
          "name": "stdout",
          "text": [
            "**\n",
            "***\n",
            "******\n",
            "*****\n"
          ]
        }
      ]
    },
    {
      "cell_type": "markdown",
      "source": [
        "**Explanation:**\n",
        "The function \"histogram\" takes a parameter \"items \", a list of integers. To iterate through each item in the \"items\" list, the function uses a for loop. For each iteration, it creates a varaible \"output\", and assigns the current element (n) of the loop to the variable \"times\".\n",
        "Then it uses a while loop which will run as long as the value of \"times\" is greater than 0. Inside the while loop, it concatenates an asterisk (*) character to the \"output\" variable and decrements the value of \"times\" by 1 at each iteration. After the while loop completes, it prints the final value of \"output\" variable.\n",
        "The last line of code calls the \"histogram\" function with a list of integers ([2, 3, 6, 5]) as an argument, it will print a histogram of asterisks, where the number of asterisks corresponds to the value of the integers in the list."
      ],
      "metadata": {
        "id": "FKPF6HpubR51"
      }
    },
    {
      "cell_type": "markdown",
      "source": [
        "## #27\n",
        "Write a Python program that concatenates all elements in a list into a string and returns it"
      ],
      "metadata": {
        "id": "AUNpKsMFbb0P"
      }
    },
    {
      "cell_type": "code",
      "source": [
        "# Define a function called concatenate_list_data that takes a list as a parameter.\n",
        "def concatenate_list_data(lst):\n",
        "  result = '' # Initialize an empty string called result.\n",
        "\n",
        "  # Iterate through the elements in the list.\n",
        "  for element in lst:\n",
        "    result += str(element) # Convert each element to a string and concatenate it to the result\n",
        "\n",
        "  return result # Return the concatenated string.\n",
        "\n",
        "# Call the concatenate_list_data function with a list of numbers and print the result.\n",
        "print(concatenate_list_data([1, 5, 12, 2]))"
      ],
      "metadata": {
        "id": "aODjwPNBDZFu",
        "outputId": "867c41e9-564c-4872-b106-d0c4eed3bb74",
        "colab": {
          "base_uri": "https://localhost:8080/"
        }
      },
      "execution_count": null,
      "outputs": [
        {
          "output_type": "stream",
          "name": "stdout",
          "text": [
            "15122\n"
          ]
        }
      ]
    },
    {
      "cell_type": "markdown",
      "source": [
        "**Explanation:**\n",
        "The said code defines a function called \"concatenate_list_data\" that takes a list as its argument. Inside the function, it creates an empty string variable called \"result\".\n",
        "Then it uses a for loop to iterate through each element in the input list. For each iteration, it converts the current element to a string using the str() function and concatenates it to the \"result\" variable.\n",
        "Upon completion of the for loop, the variable \"result\" is returned.\n",
        "The last line of code calls the \"concatenate_list_data\" function with a list of integers ([1, 5, 12, 2]) as an argument, it will print a string \"15122\"."
      ],
      "metadata": {
        "id": "31zLZ-_0bfVA"
      }
    },
    {
      "cell_type": "markdown",
      "source": [
        "## #28\n",
        "Write a Python program to print all even numbers from a given list of numbers in the same order and stop printing any after 237 in the sequence."
      ],
      "metadata": {
        "id": "Sqq49PzlbiRD"
      }
    },
    {
      "cell_type": "code",
      "source": [
        "# Define a list of numbers.\n",
        "numbers = [\n",
        "    386, 462, 47, 418, 907, 344, 236, 375, 823, 566, 597, 978, 328, 615, 953, 345,\n",
        "    399, 162, 758, 219, 918, 237, 412, 566, 826, 248, 866, 950, 626, 949, 687, 217,\n",
        "    815, 67, 104, 58, 512, 24, 892, 894, 767, 553, 81, 379, 843, 831, 445, 742, 717,\n",
        "    958,743, 527\n",
        "]\n",
        "\n",
        "# Iterate through the numbers in the list.\n",
        "for x in numbers:\n",
        "  if x == 237:\n",
        "      print(x) # Print the number if its 237\n",
        "      break # Exit the loop if 237 is found.\n",
        "  elif x % 2 == 0:\n",
        "      print(x) # Print the number if its even."
      ],
      "metadata": {
        "id": "Ps5bir-eEH4A",
        "outputId": "626dee7b-7b95-421b-b5da-986b640c3fd8",
        "colab": {
          "base_uri": "https://localhost:8080/"
        }
      },
      "execution_count": null,
      "outputs": [
        {
          "output_type": "stream",
          "name": "stdout",
          "text": [
            "386\n",
            "462\n",
            "418\n",
            "344\n",
            "236\n",
            "566\n",
            "978\n",
            "328\n",
            "162\n",
            "758\n",
            "918\n",
            "237\n"
          ]
        }
      ]
    },
    {
      "cell_type": "markdown",
      "source": [
        "**Explanation:**\n",
        "The said code defines a list called \"numbers\" with a set of integers. Then it uses a for loop to iterate through each element in the \"numbers\" list.\n",
        "For each iteration, it checks if the current element is equal to 237, if true it prints the current element and exit the loop using the \"break\" statement.\n",
        "If the current element is not equal to 237, it checks if the current element is even, if true it prints the current element.\n",
        "Using this logic, the code will only print the number 237 and even numbers of the list. If 237 was not found in the list, the code will print all the even numbers in the list."
      ],
      "metadata": {
        "id": "f9o2jTEJblfI"
      }
    },
    {
      "cell_type": "markdown",
      "source": [
        "## #29\n",
        "Write a Python program that prints out all colors from color_list_1 that are not present in color_list_2."
      ],
      "metadata": {
        "id": "2y94PuYCbrLL"
      }
    },
    {
      "cell_type": "code",
      "source": [
        "# Create two sets, color_list_1 and color_list_2.\n",
        "color_list_1 = set([\"White\", \"BlacK\", \"Red\"])\n",
        "color_list_2 = set([\"Red\", \"Green\"])\n",
        "\n",
        "# Print the original elements of the sets.\n",
        "print(\"Original set elements:\")\n",
        "print(color_list_1)\n",
        "print(color_list_2)\n",
        "\n",
        "# Calculate and print the difference of color_list_1 and color_list_2.\n",
        "print(\"\\nDifference of color_list_1 and color_list_2:\")\n",
        "print(color_list_1.difference(color_list_2))\n",
        "\n",
        "# Calculate and print the difference of color_list_2 and color_list_1.\n",
        "print(\"\\nDifference of color_list_2 and color_list_1:\")\n",
        "print(color_list_2.difference(color_list_1))"
      ],
      "metadata": {
        "id": "XnuWjbkaEygo",
        "outputId": "557cd5ee-5344-416d-c862-cbb5cbaf1dc1",
        "colab": {
          "base_uri": "https://localhost:8080/"
        }
      },
      "execution_count": null,
      "outputs": [
        {
          "output_type": "stream",
          "name": "stdout",
          "text": [
            "Original set elements:\n",
            "{'Red', 'BlacK', 'White'}\n",
            "{'Green', 'Red'}\n",
            "\n",
            "Difference of color_list_1 and color_list_2:\n",
            "{'BlacK', 'White'}\n",
            "\n",
            "Difference of color_list_2 and color_list_1:\n",
            "{'Green'}\n"
          ]
        }
      ]
    },
    {
      "cell_type": "markdown",
      "source": [
        "**Explanation:**\n",
        "The said code defines two sets called \"color_list_1\" and \"color_list_2\" containing string elements.\n",
        "The elements of both sets are then printed.\n",
        "After that, it uses the difference() method on \"color_list_1\" and passes \"color_list_2\" as an argument to it. This method returns the elements that are in the \"color_list_1\" but not in \"color_list_2\".\n",
        "Again it uses the difference() method on \"color_list_2\" and passes \"color_list_1\" as an argument to it. This method returns the elements that are in the \"color_list_2\" but not in \"color_list_1\".\n",
        "The output of the code will be:\n",
        "Original set elements:\n",
        "{'Red', 'White', 'Black'}\n",
        "{'Red', 'Green'}\n",
        "Differenct of color_list_1 and color_list_2:\n",
        "{'White', 'Black'}\n",
        "Differenct of color_list_2 and color_list_1:\n",
        "{'Green'}"
      ],
      "metadata": {
        "id": "2n6bNYJCbu_p"
      }
    },
    {
      "cell_type": "markdown",
      "source": [
        "## #30\n",
        "Write a Python program that will accept the base and height of a triangle and compute its area."
      ],
      "metadata": {
        "id": "Z7k0BBegb1kh"
      }
    },
    {
      "cell_type": "code",
      "source": [
        "# Prompt the user to input the base and height of a triangle as integers.\n",
        "b = int(input(\"Input the base: \"))\n",
        "h = int(input(\"Input the height: \"))\n",
        "\n",
        "# Calculate the area of the triangle using the formula: (base * height) / 2\n",
        "area = b * h / 2\n",
        "\n",
        "# Print the calculated area of the triangle.\n",
        "print(\"area = \", area)"
      ],
      "metadata": {
        "id": "dfperNgsGBAB",
        "outputId": "fd69f561-f84c-4458-fcfb-9c534e816b29",
        "colab": {
          "base_uri": "https://localhost:8080/"
        }
      },
      "execution_count": null,
      "outputs": [
        {
          "output_type": "stream",
          "name": "stdout",
          "text": [
            "Input the base: 16\n",
            "Input the height: 8\n",
            "area =  64.0\n"
          ]
        }
      ]
    },
    {
      "cell_type": "markdown",
      "source": [
        "**Explanation:**\n",
        "The said code prompts the user to input an integer value for the base and height of a triangle. Stores these values in variables \"b\" and \"h\" respectively. It then calculates the area of the triangle by multiplying the base and height and dividing the result by 2 and assigns the result to the variable \"area\". Finally, it prints the calculated area."
      ],
      "metadata": {
        "id": "8XRdp6YUb5b9"
      }
    },
    {
      "cell_type": "markdown",
      "source": [
        "## #31\n",
        "Write a Python program that computes the greatest common divisor (GCD) of two positive integers"
      ],
      "metadata": {
        "id": "F9xzIn1mcKvQ"
      }
    },
    {
      "cell_type": "code",
      "source": [
        "# Define a function to calculate the greatest common divisor (GCD) of two numbers.\n",
        "def gcd(x, y):\n",
        "  # Initialize gcd to 1.\n",
        "  gcd = 1\n",
        "\n",
        "  # Check if y is a divisor of x (x is divisible by y)\n",
        "  if x % y == 0:\n",
        "    return y\n",
        "\n",
        "  # Iterate from half of y down to 1.\n",
        "  for k in range(int(y / 2), 0, -1):\n",
        "    # Check if both x and y are divisible by k.\n",
        "    if x % k == 0 and y % k == 0:\n",
        "      # Update the GCD to the current value of k and exit the loop.\n",
        "      gcd = k\n",
        "      break\n",
        "\n",
        "  # Return the calculated GCD\n",
        "  return gcd\n",
        "\n",
        "# Print the GCD of specific pairs of numbers.\n",
        "print(\"GCD of 12 & 17 =\", gcd(12, 17))\n",
        "print(\"GCD of 4 & 6 =\", gcd(4, 6))\n",
        "print(\"GCD of 336 & 360 =\", gcd(336, 360))"
      ],
      "metadata": {
        "id": "SaEX3jeUcr1C",
        "outputId": "1fc359e0-c9c9-40ff-be0b-6667f6efc016",
        "colab": {
          "base_uri": "https://localhost:8080/"
        }
      },
      "execution_count": null,
      "outputs": [
        {
          "output_type": "stream",
          "name": "stdout",
          "text": [
            "GCD of 12 & 17 = 1\n",
            "GCD of 4 & 6 = 2\n",
            "GCD of 336 & 360 = 24\n"
          ]
        }
      ]
    },
    {
      "cell_type": "markdown",
      "source": [
        "**Explanation:**\n",
        "\n",
        "Here is a simple implementation of the Euclidean algorithm for finding the greatest common divisor (GCD) of two integers.\n",
        "\n",
        "The function \"gcd(x,y)\" starts by initializing the variable \"gcd\" to 1, and then checks if \"x\" is divisible by \"y\". If it is, it returns \"y\" as the GCD.\n",
        "\n",
        "If \"x\" is not divisible by \"y\", it enters a \"for\" loop. In each iteration, it checks if \"k\" is a common divisor of \"x\" and \"y\", and if it is, it assigns the value of k to the variable \"gcd\" and breaks out of the loop. Finally, the function returns the value of GCD of \"x\" and \"y\".\n",
        "\n",
        "Last three print statements of the said code call the function with different inputs, and print the output as \"GCD of 12 & 17 = 1\", \"GCD of 4 & 6 = 2\" and \"GCD of 336 & 360 = 24\"."
      ],
      "metadata": {
        "id": "5bPcw4UgdrSn"
      }
    },
    {
      "cell_type": "markdown",
      "source": [
        "## #32\n",
        "Write a Python program to find the least common multiple (LCM) of two positive integers"
      ],
      "metadata": {
        "id": "N7Bh-aihdxCV"
      }
    },
    {
      "cell_type": "code",
      "source": [
        "# Define a function 'lcm' that calculates the least common multiple (LCM) of two numbers, 'x' and 'y'.\n",
        "def lcm(x, y):\n",
        "  # Compare 'x' and 'y' to determine the larger number and store it in 'z'.\n",
        "  if x > y:\n",
        "    z = x\n",
        "  else:\n",
        "    z = y\n",
        "\n",
        "  # Use a 'while' loop to find the LCM.\n",
        "  while True:\n",
        "    # Check if 'z' is divisible by both 'x' and 'y' with no remainder.\n",
        "    if (z % x == 0) and (z % y == 0):\n",
        "      # If both conditions are met, 'z' is the LCM, so store it in 'lcm' and break the loop.\n",
        "      lcm = z\n",
        "      break\n",
        "    # If the conditions are not met, increment 'z' and continue checking.\n",
        "    z += 1\n",
        "\n",
        "  # Return the calculated LCM.\n",
        "  return lcm\n",
        "\n",
        "# Calculate and print the LCM of 4 and 6\n",
        "print(lcm(4, 6))\n",
        "# Calculate and print the LCM of 15 and 17.\n",
        "print(lcm(15, 17))"
      ],
      "metadata": {
        "id": "o_JUbBX-d5s5",
        "outputId": "a25bf77d-c5b4-4b42-da48-bc7f3ad8c2ed",
        "colab": {
          "base_uri": "https://localhost:8080/"
        }
      },
      "execution_count": null,
      "outputs": [
        {
          "output_type": "stream",
          "name": "stdout",
          "text": [
            "12\n",
            "255\n"
          ]
        }
      ]
    },
    {
      "cell_type": "markdown",
      "source": [
        "**Explanation:**\n",
        "\n",
        "The said code defines a function \"lcm(x, y)\" that takes two integers as its argument and will return the least common multiple (LCM) of two arguments, \"x\" and \"y\".\n",
        "\n",
        "First, the function determines which number is larger and assigns that value to a variable named \"z\". It then enters a loop that continues indefinitely (while(True)) until the LCM is found.\n",
        "\n",
        "Inside the loop, the code checks if the current value of \"z\" is divisible by both \"x\" and \"y\" (if((z % x == 0) and (z % y == 0))). If it is true then the LCM is assigned to the variable \"lcm\" and the loop is broken. Otherwise, the value of \"z\" is incremented by 1 and the check is repeated.\n",
        "\n",
        "Finally, the function returns the value of \"lcm\" as the output.\n",
        "\n",
        "After the function definition, the code calls the function twice, first with the arguments 4 and 6, then with the arguments 15 and 17 and prints the results."
      ],
      "metadata": {
        "id": "Hx4wf5lDd7lq"
      }
    },
    {
      "cell_type": "markdown",
      "source": [
        "## #33\n",
        "Write a Python program to sum three given integers. However, if two values are equal, the sum will be zero."
      ],
      "metadata": {
        "id": "tTVeqXzOe0Ce"
      }
    },
    {
      "cell_type": "code",
      "source": [
        "# Define a function 'sum_three' that takes three integer inputs: x, y, and z.\n",
        "def sum_three(x, y, z):\n",
        "  # Check if any of the two input calues are equal. If so, set 'sum' to 0.\n",
        "  if x == y or y == x or x == z:\n",
        "    sum = 0\n",
        "  else:\n",
        "    # If all three input values are distinct, calculate the sum of x, y, and z.\n",
        "    sum = x + y + z\n",
        "  # Return the calculated sum.\n",
        "  return sum\n",
        "\n",
        "# Test the 'sum_three' function with different sets of input values and print the results.\n",
        "print(sum_three(2, 1, 2))\n",
        "print(sum_three(3, 2, 2))\n",
        "print(sum_three(2, 2, 2))\n",
        "print(sum_three(1, 2, 3))"
      ],
      "metadata": {
        "id": "2qlzPwgZe6XI",
        "outputId": "d14bcc8a-35d0-40ae-91e3-3681a716fdab",
        "colab": {
          "base_uri": "https://localhost:8080/"
        }
      },
      "execution_count": null,
      "outputs": [
        {
          "output_type": "stream",
          "name": "stdout",
          "text": [
            "0\n",
            "7\n",
            "0\n",
            "6\n"
          ]
        }
      ]
    },
    {
      "cell_type": "markdown",
      "source": [
        "**Explanation:**\n",
        "\n",
        "The said code defines a function \"sum_three(x, y, z)\" that takes three integers as its argument and returns their sum.\n",
        "\n",
        "The function first checks if any of the three integers (x,y,z) are equal, if any two or three integers are equal, it assigns 0 to the variable \"sum\".\n",
        "\n",
        "Otherwise, it assigns the sum of the three integers to the variable \"sum\".\n",
        "\n",
        "Finally, it returns the value of \"sum\".\n",
        "\n",
        "At the end, the function is called four times with different inputs and prints the sum of the inputs.\n"
      ],
      "metadata": {
        "id": "HB-AMzTce624"
      }
    },
    {
      "cell_type": "markdown",
      "source": [
        "## #34\n",
        "Write a Python program to sum two given integers. However if the sum is between 15 and 20 it will return 20."
      ],
      "metadata": {
        "id": "nDb9QU43fpEa"
      }
    },
    {
      "cell_type": "code",
      "source": [
        "# Define a function 'sum' that takes two integer inputs: x and y\n",
        "def sum(x, y):\n",
        "  # Calculate the sum of x and y and store it in the 'sum' variable\n",
        "  sum = x + y\n",
        "  # Check if the calculated sum is within the range [15, 20) (inclusive on 15, exclusive on 20).\n",
        "  if sum in range(15, 20):\n",
        "    # If the sum is within the range, return 20.\n",
        "    return 20\n",
        "  else:\n",
        "    # If the sum is outside the range, return the calculated sum.\n",
        "    return sum\n",
        "\n",
        "# Test the 'sum' function with different sets of input values and print the results\n",
        "print(sum(10, 6))\n",
        "print(sum(10, 2))\n",
        "print(sum(10, 12))"
      ],
      "metadata": {
        "id": "oJRhW8vKfzkK",
        "outputId": "230b1095-7f5e-442f-db28-300516a946e7",
        "colab": {
          "base_uri": "https://localhost:8080/"
        }
      },
      "execution_count": null,
      "outputs": [
        {
          "output_type": "stream",
          "name": "stdout",
          "text": [
            "20\n",
            "12\n",
            "22\n"
          ]
        }
      ]
    },
    {
      "cell_type": "markdown",
      "source": [
        "**Explanation:**\n",
        "\n",
        "The said code defines a function \"sum(x, y)\" that takes two integers as arguments and returns their sum.\n",
        "\n",
        "It first calculates the sum of the two integers and assigns it to the variable \"sum\".\n",
        "\n",
        "Then it checks whether the value of \"sum\" is in the range of 15 to 20 (inclusive) using the in-built Python function \"range()\".\n",
        "\n",
        "If the value of \"sum\" is in the range of 15 to 20, the function returns 20 otherwise, it returns the value of \"sum\".\n",
        "\n",
        "At the end, the function is called three times with different inputs and prints the sum of the inputs."
      ],
      "metadata": {
        "id": "kLKFO-P6fybc"
      }
    },
    {
      "cell_type": "markdown",
      "source": [
        "## #35\n",
        "Write a Python program that returns true if the two given integer values are equal or their sum or difference is 5."
      ],
      "metadata": {
        "id": "TddJGQTlgddf"
      }
    },
    {
      "cell_type": "code",
      "source": [
        "# Define a function 'test_number5' that takes two integer inputs: x and y.\n",
        "def test_number5(x, y):\n",
        "  # Check if any of the following conditions are met:\n",
        "  # 1. x is equal to y.\n",
        "  # 2. The absolute difference between x and y is equal to 5\n",
        "  # 3. The sum of x and y is equal to 5.\n",
        "  if x == y or abs(x - y) == 5 or (x + y) == 5:\n",
        "    # If any of the conditions are met, return True.\n",
        "    return True\n",
        "  else:\n",
        "    # If none of the conditions are met, return False.\n",
        "    return False\n",
        "\n",
        "# Test the 'test_number5' function with different sets of input values and print the results.\n",
        "print(test_number5(7, 2))\n",
        "print(test_number5(3, 2))\n",
        "print(test_number5(2, 2))\n",
        "print(test_number5(7, 3))\n",
        "print(test_number5(27, 53))"
      ],
      "metadata": {
        "id": "3lMoveXDglQh",
        "outputId": "6f1a9426-5839-44bc-c1df-09fda66d05c8",
        "colab": {
          "base_uri": "https://localhost:8080/"
        }
      },
      "execution_count": null,
      "outputs": [
        {
          "output_type": "stream",
          "name": "stdout",
          "text": [
            "True\n",
            "True\n",
            "True\n",
            "False\n",
            "False\n"
          ]
        }
      ]
    },
    {
      "cell_type": "markdown",
      "source": [
        "**Explanation:**\n",
        "\n",
        "The said code defines a function \"test_number5(x, y)\" that takes two integers \"x\" and \"y\" as arguments and check if they are equal, or if their sum or difference is equal to 5. If any of these conditions is true, the program would return \"True\", otherwise, it would return \"False\".\n",
        "\n",
        "At the end, the function is called five times with different inputs and prints the outputs of the inputs."
      ],
      "metadata": {
        "id": "hbdIglLPglh6"
      }
    },
    {
      "cell_type": "markdown",
      "source": [
        "## #36"
      ],
      "metadata": {
        "id": "w5h-z4ZQh4vU"
      }
    },
    {
      "cell_type": "code",
      "source": [
        "# Define a function 'add_numbers' that takes two arguments: a and b.\n",
        "def add_numbers(a, b):\n",
        "  # Check if both 'a' and 'b' are integers using the 'isinstance' function.\n",
        "  if not (isinstance(a, int) and isinstance(b, int)):\n",
        "    # If either 'a' or 'b' is not an integer, return an error message.\n",
        "    return \"Inputs must be integers!\"\n",
        "  # If both 'a' and 'b' are integers, return their sum.\n",
        "  return a + b\n",
        "\n",
        "# Test the 'add_numbers' function with various input values and print the results\n",
        "print(add_numbers(10, 20))    # Valid: Both inputs are integers, and it returns the sum\n",
        "print(add_numbers(10, 20.34)) # Invalid: One of the inputs is a float, so it returns an error\n",
        "print(add_numbers('5', 6))    # Invalid: One of the inputs is a string, so it returns an error\n",
        "print(add_numbers('5', '6'))  # Invalid: Both inputs are strings, so it returns an error"
      ],
      "metadata": {
        "id": "HY8OQ9b2bud7",
        "outputId": "f1731796-a0f1-4046-bfa7-739ffa40f04c",
        "colab": {
          "base_uri": "https://localhost:8080/"
        }
      },
      "execution_count": null,
      "outputs": [
        {
          "output_type": "stream",
          "name": "stdout",
          "text": [
            "30\n",
            "Inputs must be integers!\n",
            "Inputs must be integers!\n",
            "Inputs must be integers!\n"
          ]
        }
      ]
    },
    {
      "cell_type": "markdown",
      "source": [
        "**Explanation:**\n",
        "\n",
        "The said code defines a function called \"add_numbers(a, b)\" that takes two integers \"a\" and \"b\" as arguments. The function first checks if \"a\" and \"b\" are both instances of the \"int\" data type using the \"isinstance\" function. If either \"a\" or \"b\" is not an integer, the function returns the string \"Inputs must be integers!\"\n",
        "\n",
        "Finally the code calls the function four times with different arguments, passing i) two integers, ii) an integer and a float, iii) a string and an integer and iv) two strings.\n",
        "\n",
        "It will return the sum of the integers passed in the first call. For the second, third and fourth calls will return the string \"Inputs must be integers!\" as the inputs passed are not integers."
      ],
      "metadata": {
        "id": "pilvqrRYd4nP"
      }
    },
    {
      "cell_type": "markdown",
      "source": [
        "## #37\n",
        "Write a Python program that displays your name, age, and address on three different lines."
      ],
      "metadata": {
        "id": "Z_ro-lyTd6Nm"
      }
    },
    {
      "cell_type": "code",
      "source": [
        "# Define a function 'personal_details'.\n",
        "def personal_details():\n",
        "  # Define variables 'name' and 'age' and assign values to them.\n",
        "  name, age = \"Caroline\", 30\n",
        "  # Define a variable 'address' and assign a value to it\n",
        "  address = \"New York, United States\"\n",
        "  # Print the personal details using string formatting.\n",
        "  print(\"Name: {}\\nAge: {}\\nAddress: {}\".format(name, age, address))\n",
        "\n",
        "# Call the 'personal_details' function to display the details.\n",
        "personal_details()"
      ],
      "metadata": {
        "id": "NzNlYL3ceBvM",
        "outputId": "4bd555c6-2639-4fed-c64c-70e027942e95",
        "colab": {
          "base_uri": "https://localhost:8080/"
        }
      },
      "execution_count": null,
      "outputs": [
        {
          "output_type": "stream",
          "name": "stdout",
          "text": [
            "Name: Caroline\n",
            "Age: 30\n",
            "Address: New York, United States\n"
          ]
        }
      ]
    },
    {
      "cell_type": "code",
      "source": [
        "# EXTRA - my design\n",
        "\n",
        "# Define the function 'personal_details'\n",
        "def personal_details_2():\n",
        "  # ask the user for their name, age, and address\n",
        "  user_name = input(\"What is your name: \")\n",
        "  user_age = int(input(\"What is your age: \"))\n",
        "  user_address = input(\"What is your address: \")\n",
        "  print(\"\\nBelow are your personal details.\\nName: {}\\nAge: {}\\nAddress: {}\".format(user_name, user_age, user_address))\n",
        "\n",
        "# Call the 'personal_details' function to display the details\n",
        "personal_details_2()"
      ],
      "metadata": {
        "id": "TqZ9fKKaev-Y",
        "outputId": "55bba6cd-19ec-45ea-9e51-5f1791028c52",
        "colab": {
          "base_uri": "https://localhost:8080/"
        }
      },
      "execution_count": null,
      "outputs": [
        {
          "output_type": "stream",
          "name": "stdout",
          "text": [
            "What is your name: Caroline\n",
            "What is your age: 30\n",
            "What is your address: New York, USA\n",
            "\n",
            "Below are your personal details.\n",
            "Name: Caroline\n",
            "Age: 30\n",
            "Address: New York, USA\n"
          ]
        }
      ]
    },
    {
      "cell_type": "markdown",
      "source": [
        "**Explanation:**\n",
        "\n",
        "The said code defines a function called \"personal_details\" which does not take any arguments. Within the function, three variables are defined: \"name\" is assigned the string \"Simon\", \"age\" is assigned the integer 19, and \"address\" is assigned the string \"Bangalore, Karnataka, India\".\n",
        "\n",
        "The function then uses the print() function to output the values of these three variables in a formatted string. The curly braces {} are placeholders for the values that will be passed through the .format() method.\n",
        "\n",
        "Finally the function is called at the end of the code and prints the values of name, age and address."
      ],
      "metadata": {
        "id": "2rrHNpKOgCth"
      }
    },
    {
      "cell_type": "markdown",
      "source": [
        "## #38\n",
        "Write a Python program to solve (x + y) * (x + y)."
      ],
      "metadata": {
        "id": "tOJ78cIbgDvT"
      }
    },
    {
      "cell_type": "code",
      "source": [
        "# Define variables 'x' and 'y' and assign values to them.\n",
        "x, y = 4, 3\n",
        "# Calculate the result by squaring the sum of 'x' and 'y'\n",
        "result = x * x + 2 * x * y + y * y\n",
        "# Print the result with a formatted message\n",
        "print(\"({} + {}) ^ 2) = {}\".format(x, y, result))"
      ],
      "metadata": {
        "id": "gUyd9KGCgCYV",
        "outputId": "6c07a817-00a3-41c3-bf6f-cf1e35d85e79",
        "colab": {
          "base_uri": "https://localhost:8080/"
        }
      },
      "execution_count": null,
      "outputs": [
        {
          "output_type": "stream",
          "name": "stdout",
          "text": [
            "(4 + 3) ^ 2) = 49\n"
          ]
        }
      ]
    },
    {
      "cell_type": "markdown",
      "source": [
        "**Explanation:**\n",
        "\n",
        "The said Python code assigns the value 4 to the variable x and 3 to the variable y. Then it defines the variable \"result\" as the result of the mathematical expression (x^2 + 2xy + y^2).\n",
        "\n",
        "The print statement then uses string formatting to output the final result of the expression and the values of x and y in the string \"(x + y) ^ 2 = result\".\n",
        "\n",
        "The final output will be (4 + 3) ^ 2 = 49."
      ],
      "metadata": {
        "id": "RLQTMFjMgxEm"
      }
    },
    {
      "cell_type": "markdown",
      "source": [
        "## #39\n",
        "Write a Python program to compute the future value of a specified principal amount, rate of interest, and number of years.\n",
        "\n",
        "The formula for future value with compount interest is FV = P(1 + r/n)^nt.\n",
        "FV = the future value;\n",
        "P = the principal;\n",
        "r = the annual interest rate expressed as a decimal;\n",
        "n = the number of times interest is paid each year;\n",
        "t = time in years"
      ],
      "metadata": {
        "id": "qDS7pS9Dgyve"
      }
    },
    {
      "cell_type": "code",
      "source": [
        "# Define the principal amount (initial investment).\n",
        "amt = 10000\n",
        "# Define the annual interest rate as a percentage\n",
        "int = 3.5\n",
        "# Define the number of years\n",
        "years = 7\n",
        "# Calculate the future value of the investment using the compound interest formula.\n",
        "future_value = amt * ((1 + (0.01 * int)) ** years)\n",
        "# Round the future value to two decimal places and print it\n",
        "print(round(future_value, 2))"
      ],
      "metadata": {
        "id": "WV0jSkm2hMwk",
        "outputId": "d82080d3-b7ce-4827-b4bb-86bca0812f92",
        "colab": {
          "base_uri": "https://localhost:8080/"
        }
      },
      "execution_count": null,
      "outputs": [
        {
          "output_type": "stream",
          "name": "stdout",
          "text": [
            "12722.79\n"
          ]
        }
      ]
    },
    {
      "cell_type": "markdown",
      "source": [
        "**Explanation:**\n",
        "\n",
        "The said Python code calculates the future value of an investment of $10000, with an interest rate of 3.5% and a number of years of 7.\n",
        "\n",
        "A variable \"amt\" is defined and assigned the value of 10000.\n",
        "Another variable \"int\" is defined and assigned the value of 3.5.\n",
        "A variable \"years\" is defined and assigned the value of 7.\n",
        "A variable \"future_value\" is defined and assigned the value of the calculation of the future value of the investment. The calculation is done by the mathematical formula amt*((1+(0.01*int)) ** years).\n",
        "The final value is then rounded off to 2 decimal places and printed using the round() and print() function.\n",
        "The final output will be 12722.79 which is the future value of the investment after 7 years with an interest rate of 3.5%."
      ],
      "metadata": {
        "id": "9witxOp-hqI-"
      }
    },
    {
      "cell_type": "markdown",
      "source": [
        "## #40\n",
        "Write a Python program to calculate the distance between the points (x1, y1) and (x2, y2)."
      ],
      "metadata": {
        "id": "UBMT13znhr5K"
      }
    },
    {
      "cell_type": "code",
      "source": [
        "# Import the math module to use the square root function.\n",
        "import math\n",
        "\n",
        "# Define the coordinates of the first point (p1) as a list.\n",
        "p1 = [4, 0]\n",
        "\n",
        "# Define the coordinates of the second point (p2) as a list.\n",
        "p2 = [6, 6]\n",
        "\n",
        "# Calculate the distance between the two points using the distance formula.\n",
        "# The formula computes the Euclidean distance in a 2D space.\n",
        "distance = math.sqrt(((p1[0] - p2[0]) ** 2) + ((p1[1] - p2[1]) ** 2))\n",
        "\n",
        "# Print the calculated distance\n",
        "print(distance)"
      ],
      "metadata": {
        "id": "dTApTEHUh0Zl",
        "outputId": "39ebf3e0-3e4b-4ed0-8336-f85767ebfd29",
        "colab": {
          "base_uri": "https://localhost:8080/"
        }
      },
      "execution_count": null,
      "outputs": [
        {
          "output_type": "stream",
          "name": "stdout",
          "text": [
            "6.324555320336759\n"
          ]
        }
      ]
    },
    {
      "cell_type": "markdown",
      "source": [
        "**Explanation:**\n",
        "\n",
        "The said code calculates the Euclidean distance between two points in a 2-dimensional coordinate system.\n",
        "\n",
        "It starts by importing the \"math\" module which is used to calculate the square root of the given expression.\n",
        "Then it defines two variables p1 and p2 which are lists containing the x and y coordinates of two points. In this case, the first point is at coordinates (4, 0) and the second point is at coordinates (6, 6).\n",
        "The variable \"distance\" is defined and assigned the value of the Euclidean distance between the two points.\n",
        "The final distance is then printed using the print() function.\n",
        "The final output will be 6.324555320336759 which is the distance between the two points (4,0) and (6,6)."
      ],
      "metadata": {
        "id": "WLuh16swia5m"
      }
    },
    {
      "cell_type": "markdown",
      "source": [
        "## #41\n",
        "Write a Python program to check whether a file exists."
      ],
      "metadata": {
        "id": "u4gKGsVdiiE0"
      }
    },
    {
      "cell_type": "code",
      "source": [
        "# Import the os.path module to work with file and directory paths\n",
        "import os.path\n",
        "\n",
        "# Check if 'main.txt' is a file and print the result.\n",
        "print(os.path.isfile('main.txt'))\n",
        "\n",
        "# Check if 'main.py' is a file and print the result\n",
        "print(os.path.isfile('main.py'))\n",
        "\n",
        "# Check if 'w3resource_python.ipynb' is a file and print the result\n",
        "print(os.path.isfile('w3resource_python.ipynb'))"
      ],
      "metadata": {
        "id": "6tBnTF3limXf",
        "outputId": "d2ad1353-a04b-4cbf-b649-403a17fa2ad9",
        "colab": {
          "base_uri": "https://localhost:8080/"
        }
      },
      "execution_count": null,
      "outputs": [
        {
          "output_type": "stream",
          "name": "stdout",
          "text": [
            "False\n",
            "False\n",
            "False\n"
          ]
        }
      ]
    },
    {
      "cell_type": "markdown",
      "source": [
        "**Explanation:**\n",
        "\n",
        "The said Python code imports the os.path module, which contains functions for interacting with the file system.\n",
        "\n",
        "os.path.isfile('main.txt') checks whether a file named 'main.txt' exists in the current directory and returns True if it does and False if it does not.\n",
        "os.path.isfile('main.py') checks whether a file named 'main.py' exists in the current directory and returns True if it does and False if it does not.\n",
        "Then it prints the output of these two function calls."
      ],
      "metadata": {
        "id": "3n6vmBozjW7k"
      }
    },
    {
      "cell_type": "code",
      "source": [
        "# Import the os.path module to work with file and directory paths.\n",
        "import os.path\n",
        "\n",
        "# Check if 'main.txt' exists (can be a file or directory) and print the result.\n",
        "print(os.path.exists('main.txt'))\n",
        "\n",
        "# Check if 'main.py' exists (can be a file or directory) and print the result.\n",
        "print(os.path.exists('main.py'))\n",
        "\n",
        "# Check if 'w3resource_python.ipynb' exists (can be a file or directory) and print the result.\n",
        "print(os.path.exists('w3resource_python.ipynb'))"
      ],
      "metadata": {
        "id": "Jx2L-Us0jLSH",
        "outputId": "7280b88a-79f3-4b85-e732-0b8ddeb7d259",
        "colab": {
          "base_uri": "https://localhost:8080/"
        }
      },
      "execution_count": null,
      "outputs": [
        {
          "output_type": "stream",
          "name": "stdout",
          "text": [
            "False\n",
            "False\n",
            "False\n"
          ]
        }
      ]
    },
    {
      "cell_type": "markdown",
      "source": [
        "Explanation:\n",
        "**bold text**\n",
        "The said Python code imports the os.path module, which contains functions for interacting with the file system.\n",
        "\n",
        "os.path.exists('main.txt') checks whether a file or directory named 'main.txt' exists in the current directory and returns True if it does and False if it does not.\n",
        "os.path.exists('main.py') checks whether a file or directory named 'main.py' exists in the current directory and returns True if it does and False if it does not.\n",
        "Then it prints the output of these two function calls.\n",
        "\n",
        "The difference with previous example is that, os.path.exists() checks for the existence of file or directory, where as os.path.isfile() is used to check for the existence of file only."
      ],
      "metadata": {
        "id": "OxL01XZTjZkt"
      }
    },
    {
      "cell_type": "code",
      "source": [
        "# Open the file 'main.py' for reading.\n",
        "my_file = open('main.py')\n",
        "\n",
        "try:\n",
        "  # Close the file.\n",
        "  my_file.close()\n",
        "  # Print the \"File found!\" if the file was successfully closed\n",
        "  print(\"File found!\")\n",
        "except FileNotFoundError:\n",
        "  # Print \"File not found!\" if a FileNotFoundError occurs when closing the file.\n",
        "  print(\"File not found!\")"
      ],
      "metadata": {
        "id": "-S1ujFl-jbna",
        "outputId": "b120410c-71dd-48c1-bfab-af2b41452bee",
        "colab": {
          "base_uri": "https://localhost:8080/",
          "height": 211
        }
      },
      "execution_count": null,
      "outputs": [
        {
          "output_type": "error",
          "ename": "FileNotFoundError",
          "evalue": "[Errno 2] No such file or directory: 'main.py'",
          "traceback": [
            "\u001b[0;31m---------------------------------------------------------------------------\u001b[0m",
            "\u001b[0;31mFileNotFoundError\u001b[0m                         Traceback (most recent call last)",
            "\u001b[0;32m<ipython-input-44-423dcd544af9>\u001b[0m in \u001b[0;36m<cell line: 2>\u001b[0;34m()\u001b[0m\n\u001b[1;32m      1\u001b[0m \u001b[0;31m# Open the file 'main.py' for reading.\u001b[0m\u001b[0;34m\u001b[0m\u001b[0;34m\u001b[0m\u001b[0m\n\u001b[0;32m----> 2\u001b[0;31m \u001b[0mmy_file\u001b[0m \u001b[0;34m=\u001b[0m \u001b[0mopen\u001b[0m\u001b[0;34m(\u001b[0m\u001b[0;34m'main.py'\u001b[0m\u001b[0;34m)\u001b[0m\u001b[0;34m\u001b[0m\u001b[0;34m\u001b[0m\u001b[0m\n\u001b[0m\u001b[1;32m      3\u001b[0m \u001b[0;34m\u001b[0m\u001b[0m\n\u001b[1;32m      4\u001b[0m \u001b[0;32mtry\u001b[0m\u001b[0;34m:\u001b[0m\u001b[0;34m\u001b[0m\u001b[0;34m\u001b[0m\u001b[0m\n\u001b[1;32m      5\u001b[0m   \u001b[0;31m# Close the file.\u001b[0m\u001b[0;34m\u001b[0m\u001b[0;34m\u001b[0m\u001b[0m\n",
            "\u001b[0;31mFileNotFoundError\u001b[0m: [Errno 2] No such file or directory: 'main.py'"
          ]
        }
      ]
    },
    {
      "cell_type": "markdown",
      "source": [
        "**Explanation:**\n",
        "\n",
        "The said Python code opens a file named 'main.py' in the current working directory using the built-in open() function. The file object is then assigned to the variable \"my_file\".\n",
        "\n",
        "After that, a try-except block is used to handle any errors encountered during the file closure process. If the file is successfully closed, the program will print \"File found!\" to the console.\n",
        "\n",
        "If the file cannot be closed, a FileNotFoundError will be raised and the code in the except block will be executed. This will print \"File not found!\" to the console."
      ],
      "metadata": {
        "id": "MZEJ7pYSj2PN"
      }
    },
    {
      "cell_type": "markdown",
      "source": [
        "## #42\n",
        "Write a Python program to determine if a Python shell is executing in 32bit or 64bit mode on OS."
      ],
      "metadata": {
        "id": "R-HbC6M5j6Of"
      }
    },
    {
      "cell_type": "code",
      "source": [
        "# Import the 'struct' modeule, which provides pack and unpack functions for working with variable-lenth binary data.\n",
        "import struct\n",
        "\n",
        "# Use the 'calcsize' function to determine the size (in bytes) of the C int type for the current platform.\n",
        "# The format string \"P\" is used to represent the C void pointer type, and multiplying it by 8 gives the size in bits.\n",
        "# The result will be 32 for 32-bit platforms and 64 for 64-bit platforms\n",
        "print(struct.calcsize(\"P\") * 8)"
      ],
      "metadata": {
        "id": "-7pzI_TEj4lO",
        "outputId": "eafde6f7-8484-4bf7-e3a5-64ca46ce7550",
        "colab": {
          "base_uri": "https://localhost:8080/"
        }
      },
      "execution_count": null,
      "outputs": [
        {
          "output_type": "stream",
          "name": "stdout",
          "text": [
            "64\n"
          ]
        }
      ]
    },
    {
      "cell_type": "markdown",
      "source": [
        "Explanation:\n",
        "**bold text**\n",
        "The said Python code imports the \"struct\" module, which converts between Python values and C structs represented as Python bytes objects.\n",
        "\n",
        "The struct.calcsize() function is used to determine the size of a C data type, in bytes. In this case, the argument passed to the function is \"P\", which represents the C char * data type.\n",
        "\n",
        "The value returned by struct.calcsize(\"P\") is then multiplied by 8, which is used to convert the size from bytes to bits. This is because the size of a pointer is typically represented in bits, rather than bytes.\n",
        "\n",
        "Finally, the result is printed to the console."
      ],
      "metadata": {
        "id": "ZOu52LTokkfN"
      }
    },
    {
      "cell_type": "code",
      "source": [
        "# Import the 'platform' and 'struct' modules.\n",
        "import platform\n",
        "import struct\n",
        "\n",
        "# Use the 'architecture' function from the 'platform' module to get the bit architecutre (32-bit or 64-bit) of the current platform.\n",
        "# The [0] index retrieves the first element of the result, which is the architecture string\n",
        "architecture = platform.architecture()[0]\n",
        "\n",
        "# Print the bit architecture string, which will be \"32bit\" or \"64bit\"\n",
        "print(architecture)\n",
        "\n",
        "# Use the 'calcsize function from the 'struct' module to determine the size (in bytes) of the C int type for the current platform.\n",
        "# The format string \"p\" is used to represent the C void pointer type, and multiplying it by 8 give the size in bits.\n",
        "# The result will be 32 for 32-bit platforms and 64 for 64-bit platforms\n",
        "print(struct.calcsize(\"P\") * 8)"
      ],
      "metadata": {
        "id": "piRgj_w6klY6",
        "outputId": "facd4d7f-6725-4409-b4d4-b539c295a188",
        "colab": {
          "base_uri": "https://localhost:8080/"
        }
      },
      "execution_count": null,
      "outputs": [
        {
          "output_type": "stream",
          "name": "stdout",
          "text": [
            "64bit\n",
            "64\n"
          ]
        }
      ]
    },
    {
      "cell_type": "markdown",
      "source": [
        "**Explanation:**\n",
        "\n",
        "The said Python code imports two modules platform and struct.\n",
        "\n",
        "The \"platform\" module provides an access to underlying platform’s identifying data. Specific platforms listed alphabetically, with Linux included in the Unix section.\n",
        "\n",
        "The \"platform.architecture()\" function returns a tuple (bits, linkage) which contain information about the bit architecture and the linkage format used for the executable. Both values are returned as strings.\n",
        "\n",
        "This \"struct\" module converts between Python values and C structs represented as Python bytes objects. The \"struct.calcsize\" returns the size of the struct (and hence of the bytes object produced by pack(format, ...)) corresponding to the format string format.\n",
        "\n",
        "The struct.calcsize(\"P\") function is used to determine the size of a C data type, in bytes. In this case, the argument passed to the function is \"P\", which represents the C char * data type.\n",
        "\n",
        "The value returned by struct.calcsize(\"P\") is then multiplied by 8, which is used to convert the size from bytes to bits. This is because the size of a pointer is typically represented in bits, rather than bytes.\n",
        "\n",
        "Then both the values are printed to the console, first the architecture of the system and then the size of pointer in bits."
      ],
      "metadata": {
        "id": "MXGHR4fIknC7"
      }
    },
    {
      "cell_type": "markdown",
      "source": [
        "## #43\n",
        "Write a Python program to get OS name, platform and release information.\n",
        "\n",
        "os.name: The name of the operating system dependent module imported. The following names have currently been registered: 'posix', 'nt', 'java'.\n",
        "platform.system(): Return the name of the OS system is running on\n",
        "platform.release(): Return the version of the operating system"
      ],
      "metadata": {
        "id": "2hOHHVVOlY57"
      }
    },
    {
      "cell_type": "code",
      "source": [
        "# Import the 'platform' and 'os' modules.\n",
        "import platform\n",
        "import os\n",
        "\n",
        "# Print the name of the operating system based on the 'os.name' attribute\n",
        "# 'os.name' provides the name of the operating system dependent module imported.\n",
        "print(\"Name of the operating system:\", os.name)\n",
        "\n",
        "# Print the name of the OS system using the 'platform.system()' function.\n",
        "# 'platform.system()' returns the name of the operating system, such as 'Windows', 'Linux', or 'Darwin' (macOS).\n",
        "print(\"\\nName of the OS system:\", platform.system())\n",
        "\n",
        "# Print the version of the operating system using the 'platform.release()' function\n",
        "# 'platform.release()' returns the version or release of the operating system\n",
        "print(\"\\nVersion of the operating system:\", platform.release())"
      ],
      "metadata": {
        "id": "liqotpCelun7",
        "outputId": "2ed7414d-af4a-44dd-d0a3-5b9c6dbc0b39",
        "colab": {
          "base_uri": "https://localhost:8080/"
        }
      },
      "execution_count": null,
      "outputs": [
        {
          "output_type": "stream",
          "name": "stdout",
          "text": [
            "Name of the operating system: posix\n",
            "\n",
            "Name of the OS system: Linux\n",
            "\n",
            "Version of the operating system: 6.1.58+\n"
          ]
        }
      ]
    },
    {
      "cell_type": "markdown",
      "source": [
        "**Explanation:**\n",
        "\n",
        "This code imports two modules platform and os in Python.\n",
        "\n",
        "os.name returns the operating system dependent module imported. The following names have currently been registered: 'posix', 'nt', 'java'.\n",
        "\n",
        "platform.system() returns the system/OS name, such as 'Linux', 'Darwin', 'Java', 'Windows'. An empty string is returned if the value cannot be determined.\n",
        "\n",
        "platform.release() returns the system’s release, e.g. '2.2.0' or 'NT'. An empty string is returned if the value cannot be determined.\n",
        "\n",
        "The code prints the name of the operating system using os.name, the name of the OS system using platform.system() and version of the operating system using platform.release().\n",
        "\n",
        "The name, version, and type of the operating system on which the code runs will be provided."
      ],
      "metadata": {
        "id": "zIWN9OLBlwHq"
      }
    },
    {
      "cell_type": "code",
      "source": [
        "import os\n",
        "import sys\n",
        "import platform\n",
        "import sysconfig\n",
        "print(\"os.name                  \", os.name)\n",
        "print(\"sys.platform             \", sys.platform)\n",
        "print(\"platform.system()        \", platform.system())\n",
        "print(\"sysconfig.get_platform() \", sysconfig.get_platform())\n",
        "print(\"platform.machine()       \", platform.machine())\n",
        "print(\"platform.architecture()  \", platform.architecture())"
      ],
      "metadata": {
        "id": "P_SgZPTHnSMk",
        "outputId": "212cba2a-b6ae-4e40-eda8-3c09905c1296",
        "colab": {
          "base_uri": "https://localhost:8080/"
        }
      },
      "execution_count": null,
      "outputs": [
        {
          "output_type": "stream",
          "name": "stdout",
          "text": [
            "os.name                   posix\n",
            "sys.platform              linux\n",
            "platform.system()         Linux\n",
            "sysconfig.get_platform()  linux-x86_64\n",
            "platform.machine()        x86_64\n",
            "platform.architecture()   ('64bit', 'ELF')\n"
          ]
        }
      ]
    },
    {
      "cell_type": "markdown",
      "source": [
        "## #44\n",
        "Write a Python program to locate Python site packages"
      ],
      "metadata": {
        "id": "0JWN0U-JqxLV"
      }
    },
    {
      "cell_type": "code",
      "source": [
        "# Import the 'site' module\n",
        "import site\n",
        "\n",
        "# Use the 'site.getsitepackages()' function to retrieve site packages' paths.\n",
        "# 'site.getsitepackages()' returns a list of paths where site packages are installed\n",
        "print(site.getsitepackages())"
      ],
      "metadata": {
        "id": "9Reju2-Sq33O",
        "outputId": "7e032c3d-e105-4c00-fbd3-eac5332ff2e5",
        "colab": {
          "base_uri": "https://localhost:8080/"
        }
      },
      "execution_count": null,
      "outputs": [
        {
          "output_type": "stream",
          "name": "stdout",
          "text": [
            "['/usr/local/lib/python3.10/dist-packages', '/usr/lib/python3/dist-packages', '/usr/lib/python3.10/dist-packages']\n"
          ]
        }
      ]
    },
    {
      "cell_type": "markdown",
      "source": [
        "Explanation:\n",
        "\n",
        "The above Python code imports the ‘site’ module and then calls the getsitepackages() function.\n",
        "\n",
        "By calling print(site.getsitepackages()), the code will print a list of these paths to the console output. This can be useful for understanding where Python packages are installed on a particular system, which can be important for managing dependencies in Python projects."
      ],
      "metadata": {
        "id": "DJMror6SroHn"
      }
    },
    {
      "cell_type": "markdown",
      "source": [
        "## #45\n",
        "Write a Python program that calls an external command"
      ],
      "metadata": {
        "id": "VQ9GEjj4rpbd"
      }
    },
    {
      "cell_type": "code",
      "source": [
        "# Import the 'call' function from the 'subprocess' module.\n",
        "from subprocess import call\n",
        "\n",
        "# Use the 'call' function to execute the \"ls -l\" command\n",
        "# This command lists the files and directories in the current directory with details\n",
        "call([\"ls\", \"-l\"])"
      ],
      "metadata": {
        "id": "GfwtaFMOrn1s",
        "outputId": "b96e66ed-f1ab-4617-9e07-e1ac80bb6f1b",
        "colab": {
          "base_uri": "https://localhost:8080/"
        }
      },
      "execution_count": null,
      "outputs": [
        {
          "output_type": "execute_result",
          "data": {
            "text/plain": [
              "0"
            ]
          },
          "metadata": {},
          "execution_count": 51
        }
      ]
    },
    {
      "cell_type": "markdown",
      "source": [
        "**Explanation:**\n",
        "\n",
        "In Python The subprocess module allows us to spawn new processes, connect to their input/output/error pipes, and obtain their return codes. This module intends to replace several older modules and functions:\n",
        "\n",
        "The above Python code uses the ‘subprocess’ module to execute a command in the shell. Then, it calls the call function from the subprocess module with a list of arguments as its parameter.\n",
        "\n",
        "When the call function is executed, it will execute the specified command in the shell and wait for it to complete before returning.\n",
        "\n",
        "So, when the above code is executed, it will print the long format list of files in the current directory on the console output, just like running the ls -l command directly in the terminal."
      ],
      "metadata": {
        "id": "y7Sf0xmasBJo"
      }
    },
    {
      "cell_type": "code",
      "source": [
        "# Import the 'os' module to work with the operating system\n",
        "import os\n",
        "\n",
        "# Use 'os.system(command)' to execute the 'ls -l' command in the system's shell\n",
        "# This command lists the files and directories in the current directory and prints the result\n",
        "print(os.system('ls -l'))"
      ],
      "metadata": {
        "id": "2qIV3iMVsDyL",
        "outputId": "2a132fb8-5a30-4eea-e41a-a1139d4376bd",
        "colab": {
          "base_uri": "https://localhost:8080/"
        }
      },
      "execution_count": null,
      "outputs": [
        {
          "output_type": "stream",
          "name": "stdout",
          "text": [
            "0\n"
          ]
        }
      ]
    },
    {
      "cell_type": "markdown",
      "source": [
        "Explanation:\n",
        "\n",
        "The ‘OS’ module provides a portable way of using operating system dependent functionality.\n",
        "\n",
        "The above Python code imports the os module and then calls its system function to execute a shell command.\n",
        "\n",
        "When the system function is called, it executes the specified command in the shell. In this case, the command is ls -l, which is executed in the shell.\n",
        "\n",
        "Finally, the code calls print() function to output the return value of the system function."
      ],
      "metadata": {
        "id": "3Y9tX3YYsEIy"
      }
    },
    {
      "cell_type": "code",
      "source": [
        "# Import the 'psutil' module for system monitoring, including CPU information\n",
        "import psutil\n",
        "\n",
        "# Use 'psutil.cpu_count()' to get the number of available CPU cores\n",
        "# THis function returns the number of logical CPU cores in the system\n",
        "print(psutil.cpu_count())"
      ],
      "metadata": {
        "id": "P1yuJ9JLsErj",
        "outputId": "faf3b23e-b23e-4fe2-ec0c-48f71151a386",
        "colab": {
          "base_uri": "https://localhost:8080/"
        }
      },
      "execution_count": null,
      "outputs": [
        {
          "output_type": "stream",
          "name": "stdout",
          "text": [
            "2\n"
          ]
        }
      ]
    },
    {
      "cell_type": "markdown",
      "source": [
        "**Explanation:**\n",
        "\n",
        "psutil (process and system utilities) is a cross-platform library for retrieving information on running processes and system utilization (CPU, memory, disks, network, sensors) in Python. It is useful mainly for system monitoring, profiling and limiting process resources and management of running processes.\n",
        "\n",
        "In the above Python code we first import the ‘psutil’ module and then calls its cpu_count() function to get the number of CPU cores on the current system.\n",
        "\n",
        "When the cpu_count() function is called, it returns the number of CPU cores on the system. Finally the code calls print() function to output the number of CPU cores on the system to the console output."
      ],
      "metadata": {
        "id": "f-nue9dosE_g"
      }
    },
    {
      "cell_type": "markdown",
      "source": [
        "## #46\n",
        "Write a Python program to retrieve the path and name of the file currently being executed"
      ],
      "metadata": {
        "id": "xbATuCQYsxbx"
      }
    },
    {
      "cell_type": "code",
      "source": [
        "# Import the 'os' module to work with the operating system.\n",
        "import os\n",
        "\n",
        "# Use the 'os.path.realpath(__file__)' to get the full path of the current Python script.\n",
        "# This will print the path of the current file.\n",
        "print(\"Current File Name: \", os.path.realpath(__file__))"
      ],
      "metadata": {
        "id": "hDuMC2-rs3G-",
        "outputId": "e37ea025-5235-4411-e142-d953903b9098",
        "colab": {
          "base_uri": "https://localhost:8080/",
          "height": 176
        }
      },
      "execution_count": null,
      "outputs": [
        {
          "output_type": "error",
          "ename": "NameError",
          "evalue": "name '__file__' is not defined",
          "traceback": [
            "\u001b[0;31m---------------------------------------------------------------------------\u001b[0m",
            "\u001b[0;31mNameError\u001b[0m                                 Traceback (most recent call last)",
            "\u001b[0;32m<ipython-input-54-09bd40b2cbd8>\u001b[0m in \u001b[0;36m<cell line: 6>\u001b[0;34m()\u001b[0m\n\u001b[1;32m      4\u001b[0m \u001b[0;31m# Use the 'os.path.realpath(__file__)' to get the full path of the current Python script.\u001b[0m\u001b[0;34m\u001b[0m\u001b[0;34m\u001b[0m\u001b[0m\n\u001b[1;32m      5\u001b[0m \u001b[0;31m# This will print the path of the current file.\u001b[0m\u001b[0;34m\u001b[0m\u001b[0;34m\u001b[0m\u001b[0m\n\u001b[0;32m----> 6\u001b[0;31m \u001b[0mprint\u001b[0m\u001b[0;34m(\u001b[0m\u001b[0;34m\"Current File Name: \"\u001b[0m\u001b[0;34m,\u001b[0m \u001b[0mos\u001b[0m\u001b[0;34m.\u001b[0m\u001b[0mpath\u001b[0m\u001b[0;34m.\u001b[0m\u001b[0mrealpath\u001b[0m\u001b[0;34m(\u001b[0m\u001b[0m__file__\u001b[0m\u001b[0;34m)\u001b[0m\u001b[0;34m)\u001b[0m\u001b[0;34m\u001b[0m\u001b[0;34m\u001b[0m\u001b[0m\n\u001b[0m",
            "\u001b[0;31mNameError\u001b[0m: name '__file__' is not defined"
          ]
        }
      ]
    },
    {
      "cell_type": "markdown",
      "source": [
        "**Explanation:**\n",
        "\n",
        "The ‘OS’ module provides a portable way of using operating system dependent functionality. The realpath() function returns the canonical path of the specified filename, eliminating any symbolic links encountered in the path (if they are supported by the operating system).\n",
        "\n",
        "If a path doesn’t exist or a symlink loop is encountered, and strict is True, OSError is raised. If strict is False, the path is resolved as far as possible and any remainder is appended without checking whether it exists.\n",
        "\n",
        "The above Python code imports the ‘os’ module and then calls its path sub-module's realpath function to get the full path of the current script file. The code then uses the print function to output the string \"Current File Name : \" followed by the full path of the script file to the console output."
      ],
      "metadata": {
        "id": "fUugWjtxs3V6"
      }
    },
    {
      "cell_type": "markdown",
      "source": [
        "## #47\n",
        "Write a Python program to find out the number of CPUs used"
      ],
      "metadata": {
        "id": "2B5WSUWntUqs"
      }
    },
    {
      "cell_type": "code",
      "source": [
        "# Import the 'multiprocessing' module to work with multi-processing features\n",
        "import multiprocessing\n",
        "\n",
        "# Use 'multiprocessing.cpu_count()' to determine the number of available CPU cores\n",
        "cpu_count = multiprocessing.cpu_count()\n",
        "\n",
        "# Print the number of CPU cores available on the system\n",
        "print(cpu_count)"
      ],
      "metadata": {
        "id": "9hHS8s9NtaVZ",
        "outputId": "e8f26b14-539e-46ac-afe4-03442787e679",
        "colab": {
          "base_uri": "https://localhost:8080/"
        }
      },
      "execution_count": null,
      "outputs": [
        {
          "output_type": "stream",
          "name": "stdout",
          "text": [
            "2\n"
          ]
        }
      ]
    },
    {
      "cell_type": "markdown",
      "source": [
        "Explanation:\n",
        "**bold text**\n",
        "multiprocessing is a package that supports spawning processes using an API similar to the threading module. The multiprocessing package offers both local and remote concurrency, effectively side-stepping the Global Interpreter Lock by using subprocesses instead of threads. Due to this, the multiprocessing module allows the programmer to fully leverage multiple processors on a given machine. It runs on both Unix and Windows.\n",
        "\n",
        "cpu_count() function returns the number of CPUs in the system.\n",
        "\n",
        "The above Python code imports the multiprocessing module and then calls its cpu_count() function to get the number of CPU cores on the current system. The code then calls print() function to print the number of CPU cores on the system to the console output."
      ],
      "metadata": {
        "id": "lEgLDOw8tanu"
      }
    },
    {
      "cell_type": "code",
      "source": [
        "# Improt the 'os' module to access system-related functions\n",
        "import os\n",
        "\n",
        "# Use 'os.cpu_count()' to determine the number of available CPU cores\n",
        "cpu_count = os.cpu_count()\n",
        "\n",
        "# Print the number of CPU cores available on the system\n",
        "print(cpu_count)"
      ],
      "metadata": {
        "id": "KbTRmVTctwgX",
        "outputId": "6c1b54ab-91dc-4f55-c4b2-b2e85ac339fc",
        "colab": {
          "base_uri": "https://localhost:8080/"
        }
      },
      "execution_count": null,
      "outputs": [
        {
          "output_type": "stream",
          "name": "stdout",
          "text": [
            "2\n"
          ]
        }
      ]
    },
    {
      "cell_type": "markdown",
      "source": [
        "**Explanation:**\n",
        "\n",
        "The 'OS' module provides a portable way of using operating system dependent functionality. cpu_count() function returns the number of CPUs in the system. Returns None if undetermined.\n",
        "\n",
        "The above Python code imports the multiprocessing module and then calls its cpu_count() function to get the number of CPU cores on the current system.\n",
        "\n",
        "When the cpu_count() function is called, it returns the number of CPU cores on the system. The code then calls print() function to output the number of CPU cores on the system to the console output."
      ],
      "metadata": {
        "id": "AM14NPw_twNC"
      }
    },
    {
      "cell_type": "markdown",
      "source": [
        "## #48\n",
        "Write a Python program to parse a string to float or integer"
      ],
      "metadata": {
        "id": "bU82mdWztzZn"
      }
    },
    {
      "cell_type": "code",
      "source": [
        "# Define a string 'n' containing a numeric value.\n",
        "n = \"246.2458\"\n",
        "\n",
        "# Convert the string 'n' to a floating-point number and print the result.\n",
        "print(float(n))\n",
        "\n",
        "# Convert the floating-point number to an integer, truncating any decimal part, and print the result.\n",
        "print(int(float(n)))"
      ],
      "metadata": {
        "id": "rzhn4_-htxMU",
        "outputId": "efbe8f75-898b-4eb3-9b19-c23e9d95c518",
        "colab": {
          "base_uri": "https://localhost:8080/"
        }
      },
      "execution_count": null,
      "outputs": [
        {
          "output_type": "stream",
          "name": "stdout",
          "text": [
            "246.2458\n",
            "246\n"
          ]
        }
      ]
    },
    {
      "cell_type": "markdown",
      "source": [
        "**Explanation:**\n",
        "\n",
        "float(x=0.0) : Returns a floating point number constructed from a number or string x.\n",
        "\n",
        "If the argument is a string, it should contain a decimal number, optionally preceded by a sign, and optionally embedded in whitespace. The optional sign may be '+' or '-'; a '+' sign has no effect on the value produced. The argument may also be a string representing a NaN (not-a-number), or positive or negative infinity.\n",
        "\n",
        "The above Python code creates a variable n with the value \"246.2458\" as a string. The float() function is used to convert the string \"246.2458\" to a floating-point number. The print() function is then used to output this floating-point number to the console."
      ],
      "metadata": {
        "id": "BCp07xzhwGZG"
      }
    },
    {
      "cell_type": "code",
      "source": [
        "# Define a function 'test' that takes a string 's' as input.\n",
        "def test(s):\n",
        "  try:\n",
        "    # Try to convert the input string to an integer\n",
        "    return int(s)\n",
        "  except ValueError:\n",
        "    # If the conversion to an integer raises a ValueError (i.e., it's not an integer),\n",
        "    # then try to convert the string to a floating-point number (float)\n",
        "    return float(s)\n",
        "\n",
        "# Call the 'test' function with different input values and print the results\n",
        "print(test('12'))       # Try to convert '12' to an integer\n",
        "print(test('233.12'))   # Try to convert '233.12' to a float"
      ],
      "metadata": {
        "id": "rIzMmxMUwJvo",
        "outputId": "435ecf34-f51f-4dd8-ca7e-487c1c105060",
        "colab": {
          "base_uri": "https://localhost:8080/"
        }
      },
      "execution_count": null,
      "outputs": [
        {
          "output_type": "stream",
          "name": "stdout",
          "text": [
            "12\n",
            "233.12\n"
          ]
        }
      ]
    },
    {
      "cell_type": "markdown",
      "source": [
        "## #49\n",
        "Write a Python program to list all files in a directory"
      ],
      "metadata": {
        "id": "-EAZk5PWw5eS"
      }
    },
    {
      "cell_type": "code",
      "source": [
        "# Import necessary functions and modules from the 'os' library\n",
        "from os import listdir\n",
        "from os.path import isfile, join\n",
        "\n",
        "# Create a list 'files_list' that contains the names of files in the '/home/students' directory.\n",
        "# It uses a list comprehension to filter files using 'isfile' and 'join' functions\n",
        "files_list = [f for f in listdir('/home/students') if isfile(join('/home/students', f))]\n",
        "\n",
        "# Print the list of file names\n",
        "print(files_list)"
      ],
      "metadata": {
        "id": "L7eNCh4Rw9if",
        "outputId": "142725b3-3a74-4b2d-eff4-c2a5b46ac895",
        "colab": {
          "base_uri": "https://localhost:8080/",
          "height": 211
        }
      },
      "execution_count": null,
      "outputs": [
        {
          "output_type": "error",
          "ename": "FileNotFoundError",
          "evalue": "[Errno 2] No such file or directory: '/home/students'",
          "traceback": [
            "\u001b[0;31m---------------------------------------------------------------------------\u001b[0m",
            "\u001b[0;31mFileNotFoundError\u001b[0m                         Traceback (most recent call last)",
            "\u001b[0;32m<ipython-input-4-b6bf765a3ec4>\u001b[0m in \u001b[0;36m<cell line: 7>\u001b[0;34m()\u001b[0m\n\u001b[1;32m      5\u001b[0m \u001b[0;31m# Create a list 'files_list' that contains the names of files in the '/home/students' directory.\u001b[0m\u001b[0;34m\u001b[0m\u001b[0;34m\u001b[0m\u001b[0m\n\u001b[1;32m      6\u001b[0m \u001b[0;31m# It uses a list comprehension to filter files using 'isfile' and 'join' functions\u001b[0m\u001b[0;34m\u001b[0m\u001b[0;34m\u001b[0m\u001b[0m\n\u001b[0;32m----> 7\u001b[0;31m \u001b[0mfiles_list\u001b[0m \u001b[0;34m=\u001b[0m \u001b[0;34m[\u001b[0m\u001b[0mf\u001b[0m \u001b[0;32mfor\u001b[0m \u001b[0mf\u001b[0m \u001b[0;32min\u001b[0m \u001b[0mlistdir\u001b[0m\u001b[0;34m(\u001b[0m\u001b[0;34m'/home/students'\u001b[0m\u001b[0;34m)\u001b[0m \u001b[0;32mif\u001b[0m \u001b[0misfile\u001b[0m\u001b[0;34m(\u001b[0m\u001b[0mjoin\u001b[0m\u001b[0;34m(\u001b[0m\u001b[0;34m'/home/students'\u001b[0m\u001b[0;34m,\u001b[0m \u001b[0mf\u001b[0m\u001b[0;34m)\u001b[0m\u001b[0;34m)\u001b[0m\u001b[0;34m]\u001b[0m\u001b[0;34m\u001b[0m\u001b[0;34m\u001b[0m\u001b[0m\n\u001b[0m\u001b[1;32m      8\u001b[0m \u001b[0;34m\u001b[0m\u001b[0m\n\u001b[1;32m      9\u001b[0m \u001b[0;31m# Print the list of file names\u001b[0m\u001b[0;34m\u001b[0m\u001b[0;34m\u001b[0m\u001b[0m\n",
            "\u001b[0;31mFileNotFoundError\u001b[0m: [Errno 2] No such file or directory: '/home/students'"
          ]
        }
      ]
    },
    {
      "cell_type": "markdown",
      "source": [
        "**Explanation:**\n",
        "\n",
        "The ‘OS’ module provides a portable way of using operating system dependent functionality.\n",
        "\n",
        "os.listdir(path='.'): Return a list containing the names of the entries in the directory given by path. The list is in arbitrary order, and does not include the special entries '.' and '..' even if they are present in the directory.\n",
        "\n",
        "os.path.isfile(path): Return True if path is an existing regular file. This follows symbolic links, so both islink() and isfile() can be true for the same path.\n",
        "\n",
        "os.path.join(path, *paths): Join one or more path segments intelligently. The return value is the concatenation of path and all members of *paths, with exactly one directory separator following each non-empty part, except the last.\n",
        "\n",
        "The above Python code imports the ‘listdir’ and ‘isfile’ functions from the os module, and the ‘join’ function from the os.path module. It then uses the above three functions to generate a list of all the files in the directory /home/students. Finally print() function prints the resulting list of files."
      ],
      "metadata": {
        "id": "MsuP55osxeCn"
      }
    },
    {
      "cell_type": "markdown",
      "source": [
        "## #50\n",
        "Write a Python program to print without a newline or space"
      ],
      "metadata": {
        "id": "ehBLohyaxgNL"
      }
    },
    {
      "cell_type": "code",
      "source": [
        "# Iterate through a range of numbers from 0 to 9 (inclusive)\n",
        "for i in range(0, 10):\n",
        "  # Print an asterisk '*' character on the same line using the 'end' parameter\n",
        "  print('*', end=\"\")\n",
        "# Print a newline character to move to the next line\n",
        "print(\"\\n\")"
      ],
      "metadata": {
        "id": "X15TZgmWxkLh",
        "outputId": "5d5cc849-5c8b-46cb-8d67-9b57a1f6b4e7",
        "colab": {
          "base_uri": "https://localhost:8080/"
        }
      },
      "execution_count": null,
      "outputs": [
        {
          "output_type": "stream",
          "name": "stdout",
          "text": [
            "**********\n",
            "\n"
          ]
        }
      ]
    },
    {
      "cell_type": "markdown",
      "source": [
        "**Explanation:**\n",
        "\n",
        "In the above Python code the for loop iterates through the range of numbers from 0 to 9 (inclusive) generated by the range() function. On each iteration, it prints a single asterisk character using the print() function, with the end parameter set to an empty string (\"\"). This causes the print() function not to insert a newline character after each asterisk.\n",
        "\n",
        "After the loop completes, a newline character is printed to the console using the print() function."
      ],
      "metadata": {
        "id": "mLyCSaxvyl5u"
      }
    },
    {
      "cell_type": "code",
      "source": [
        "# Import the functools module to use the 'partial' function\n",
        "import functools\n",
        "\n",
        "# Create a partial function 'printf' based on the 'print' function with 'end' parameter set to an empty string\n",
        "printf = functools.partial(print, end=\"\")\n",
        "\n",
        "# Iterate through a range of numbers from 0 to 9 (inclusive)\n",
        "for i in range(0, 10):\n",
        "  # Use the 'printf' function to print an asterisk '*' character to the same line\n",
        "  printf('*')\n",
        "\n",
        "  # Note: The variable 'i' is defined but not used in this code"
      ],
      "metadata": {
        "id": "yePOqX7Ox-TE",
        "outputId": "43d2b69c-7ee8-4f8b-d174-dd366f59f30b",
        "colab": {
          "base_uri": "https://localhost:8080/"
        }
      },
      "execution_count": null,
      "outputs": [
        {
          "output_type": "stream",
          "name": "stdout",
          "text": [
            "**********"
          ]
        }
      ]
    },
    {
      "cell_type": "markdown",
      "source": [
        "**Explanation:**\n",
        "\n",
        "The functools module is for higher-order functions: functions that act on or return other functions. In general, any callable object can be treated as a function for the purposes of this module.\n",
        "\n",
        "functools.partial: Return a new partial object which when called will behave like func called with the positional arguments args and keyword arguments keywords.\n",
        "\n",
        "In the above Python code we use the ‘functools’ module to create a partial function that prints a string without a newline character.\n",
        "\n",
        "After defining the printf function, a for loop is used to iterate through the range of numbers from 0 to 9 (inclusive) generated by the range() function. On each iteration, it calls the printf() function to print a single asterisk character to the console without adding a newline character."
      ],
      "metadata": {
        "id": "BcPVZJKNyjme"
      }
    },
    {
      "cell_type": "markdown",
      "source": [
        "## #51\n",
        "Write a Python program to determine the profiling of Python programs"
      ],
      "metadata": {
        "id": "OZU_7_oAyrRx"
      }
    },
    {
      "cell_type": "code",
      "source": [
        "# Import the cProfile module, which provides a way to profile Python code\n",
        "import cProfile\n",
        "# Define a function names 'sum'\n",
        "def sum():\n",
        "  # Print the result of adding 1 and 2 to the console\n",
        "  print(1 + 2)\n",
        "# Use cProfile to profile the 'sum' function\n",
        "cProfile.run('sum()')"
      ],
      "metadata": {
        "id": "A0swBJ7pywTC",
        "outputId": "30f5a8be-f2dc-4b65-bf18-5288dd513e28",
        "colab": {
          "base_uri": "https://localhost:8080/"
        }
      },
      "execution_count": null,
      "outputs": [
        {
          "output_type": "stream",
          "name": "stdout",
          "text": [
            "3\n",
            "         39 function calls in 0.000 seconds\n",
            "\n",
            "   Ordered by: standard name\n",
            "\n",
            "   ncalls  tottime  percall  cumtime  percall filename:lineno(function)\n",
            "        1    0.000    0.000    0.000    0.000 <ipython-input-7-0bd80fa01747>:4(sum)\n",
            "        1    0.000    0.000    0.000    0.000 <string>:1(<module>)\n",
            "        3    0.000    0.000    0.000    0.000 iostream.py:195(schedule)\n",
            "        2    0.000    0.000    0.000    0.000 iostream.py:308(_is_master_process)\n",
            "        2    0.000    0.000    0.000    0.000 iostream.py:321(_schedule_flush)\n",
            "        2    0.000    0.000    0.000    0.000 iostream.py:384(write)\n",
            "        3    0.000    0.000    0.000    0.000 iostream.py:91(_event_pipe)\n",
            "        3    0.000    0.000    0.000    0.000 socket.py:543(send)\n",
            "        3    0.000    0.000    0.000    0.000 threading.py:1102(_wait_for_tstate_lock)\n",
            "        3    0.000    0.000    0.000    0.000 threading.py:1169(is_alive)\n",
            "        3    0.000    0.000    0.000    0.000 threading.py:553(is_set)\n",
            "        1    0.000    0.000    0.000    0.000 {built-in method builtins.exec}\n",
            "        2    0.000    0.000    0.000    0.000 {built-in method builtins.isinstance}\n",
            "        1    0.000    0.000    0.000    0.000 {built-in method builtins.print}\n",
            "        2    0.000    0.000    0.000    0.000 {built-in method posix.getpid}\n",
            "        3    0.000    0.000    0.000    0.000 {method 'acquire' of '_thread.lock' objects}\n",
            "        3    0.000    0.000    0.000    0.000 {method 'append' of 'collections.deque' objects}\n",
            "        1    0.000    0.000    0.000    0.000 {method 'disable' of '_lsprof.Profiler' objects}\n",
            "\n",
            "\n"
          ]
        }
      ]
    },
    {
      "cell_type": "markdown",
      "source": [
        "**Explanation:**\n",
        "\n",
        "cProfile provide deterministic profiling of Python programs. A profile is a set of statistics that describes how often and for how long various parts of the program executed.profile.run(command, filename=None, sort=- 1): This function takes a single argument that can be passed to the exec() function, and an optional file name.\n",
        "\n",
        "The above Python code imports the cProfile module. The sum() function defined in the code adds the numbers 1 and 2 and prints the result to the console using the print() function.\n",
        "\n",
        "The cProfile.run() function is used to profile the execution of the sum() function. The run() function takes a string as its parameter that represents the code to be executed and profiled. In this case, it is passed the function call sum() as a string."
      ],
      "metadata": {
        "id": "tidqH8hTzLsm"
      }
    },
    {
      "cell_type": "markdown",
      "source": [
        "## #52\n",
        "Write a Python program to print to STDERR"
      ],
      "metadata": {
        "id": "BVBAWnlVzOYt"
      }
    },
    {
      "cell_type": "code",
      "source": [
        "# Import the 'print_function' feature from the '__future__' module to enable Python 3-style print function\n",
        "from __future__ import print_function\n",
        "\n",
        "# Import the 'sys' module, which provides access to some variables used or maintained by the interpreter\n",
        "import sys\n",
        "\n",
        "# Define a custom 'eprint' function that prints to the standard error stream\n",
        "def eprint(*args, **kwargs):\n",
        "  # Call the 'print' function with the provided argument and keyword arguments\n",
        "  # Use 'file=sys.stderr' to print to the standard error stream (stderr)\n",
        "  print(*args, file=sys.stderr, **kwargs)\n",
        "\n",
        "# Call the 'eprint' function with the specified arguments and separator\n",
        "eprint(\"abd\", \"efg\", \"xyz\", sep=\"--\")"
      ],
      "metadata": {
        "id": "xcOYv4OuzRg8",
        "outputId": "75fa1388-1fc0-4bc1-8e0e-38c0da4c87bb",
        "colab": {
          "base_uri": "https://localhost:8080/"
        }
      },
      "execution_count": null,
      "outputs": [
        {
          "output_type": "stream",
          "name": "stderr",
          "text": [
            "abd--efg--xyz\n"
          ]
        }
      ]
    },
    {
      "cell_type": "markdown",
      "source": [
        "**Explanation:**\n",
        "\n",
        "__future__ is a real module, and serves three purposes:\n",
        "\n",
        "To avoid confusing existing tools that analyze import statements and expect to find the modules they’re importing.\n",
        "To ensure that future statements run under releases prior to 2.1 at least yield runtime exceptions (the import of __future__ will fail, because there was no module of that name prior to 2.1).\n",
        "To document when incompatible changes were introduced, and when they will be — or were — made mandatory. This is a form of executable documentation, and can be inspected programmatically via importing __future__ and examining its contents.\n",
        "Sys module - This module provides access to some variables used or maintained by the interpreter and to functions that interact strongly with the interpreter. It is always available.\n",
        "\n",
        "In the above Python exercise the eprint() function takes any number of arguments and prints them to the standard error stream (stderr) using the print() function. The file parameter is set to sys.stderr, which redirects the output to the standard error stream instead of the standard output stream.\n",
        "\n",
        "Finally, the eprint() function is called with the arguments \"abc\", \"efg\", and \"xyz\", separated by the string \"--\". This causes the string \"abc--efg--xyz\" to be printed to the standard error stream."
      ],
      "metadata": {
        "id": "rgmcXchR0An2"
      }
    },
    {
      "cell_type": "markdown",
      "source": [
        "## #53\n",
        "Write a Python program to access environment variables"
      ],
      "metadata": {
        "id": "LdmDEwtq0DLs"
      }
    },
    {
      "cell_type": "code",
      "source": [
        "# Import the 'os' module to access operating system-related functionality, inclueding environment variables\n",
        "import os\n",
        "\n",
        "# Print a separator for clarity\n",
        "print('*----------------------------------*')\n",
        "\n",
        "# Print all environment variables\n",
        "print(os.environ)\n",
        "\n",
        "# Print a separator for clarity\n",
        "print('*----------------------------------*')\n",
        "\n",
        "# Access and print the 'HOME' environment variable\n",
        "print(os.environ['HOME'])\n",
        "\n",
        "# Print a separator for clarity\n",
        "print('*----------------------------------*')\n",
        "\n",
        "# Access and print the 'PATH' environment variable\n",
        "print(os.environ['PATH'])\n",
        "\n",
        "# Print a separator for clarity\n",
        "print('*----------------------------------*')"
      ],
      "metadata": {
        "id": "ZUUhwdld0HPH",
        "outputId": "d9db1cd1-4133-4f59-ee99-963003f99e68",
        "colab": {
          "base_uri": "https://localhost:8080/"
        }
      },
      "execution_count": null,
      "outputs": [
        {
          "output_type": "stream",
          "name": "stdout",
          "text": [
            "*----------------------------------*\n",
            "environ({'SHELL': '/bin/bash', 'NV_LIBCUBLAS_VERSION': '12.2.5.6-1', 'NVIDIA_VISIBLE_DEVICES': 'all', 'COLAB_JUPYTER_TRANSPORT': 'ipc', 'NV_NVML_DEV_VERSION': '12.2.140-1', 'NV_CUDNN_PACKAGE_NAME': 'libcudnn8', 'CGROUP_MEMORY_EVENTS': '/sys/fs/cgroup/memory.events /var/colab/cgroup/jupyter-children/memory.events', 'NV_LIBNCCL_DEV_PACKAGE': 'libnccl-dev=2.19.3-1+cuda12.2', 'NV_LIBNCCL_DEV_PACKAGE_VERSION': '2.19.3-1', 'VM_GCE_METADATA_HOST': '169.254.169.253', 'HOSTNAME': 'c682fdb1799a', 'LANGUAGE': 'en_US', 'TBE_RUNTIME_ADDR': '172.28.0.1:8011', 'COLAB_TPU_1VM': '', 'GCE_METADATA_TIMEOUT': '3', 'NVIDIA_REQUIRE_CUDA': 'cuda>=12.2 brand=tesla,driver>=470,driver<471 brand=unknown,driver>=470,driver<471 brand=nvidia,driver>=470,driver<471 brand=nvidiartx,driver>=470,driver<471 brand=geforce,driver>=470,driver<471 brand=geforcertx,driver>=470,driver<471 brand=quadro,driver>=470,driver<471 brand=quadrortx,driver>=470,driver<471 brand=titan,driver>=470,driver<471 brand=titanrtx,driver>=470,driver<471 brand=tesla,driver>=525,driver<526 brand=unknown,driver>=525,driver<526 brand=nvidia,driver>=525,driver<526 brand=nvidiartx,driver>=525,driver<526 brand=geforce,driver>=525,driver<526 brand=geforcertx,driver>=525,driver<526 brand=quadro,driver>=525,driver<526 brand=quadrortx,driver>=525,driver<526 brand=titan,driver>=525,driver<526 brand=titanrtx,driver>=525,driver<526', 'NV_LIBCUBLAS_DEV_PACKAGE': 'libcublas-dev-12-2=12.2.5.6-1', 'NV_NVTX_VERSION': '12.2.140-1', 'COLAB_JUPYTER_IP': '172.28.0.12', 'NV_CUDA_CUDART_DEV_VERSION': '12.2.140-1', 'NV_LIBCUSPARSE_VERSION': '12.1.2.141-1', 'COLAB_LANGUAGE_SERVER_PROXY_ROOT_URL': 'http://172.28.0.1:8013/', 'NV_LIBNPP_VERSION': '12.2.1.4-1', 'NCCL_VERSION': '2.19.3-1', 'KMP_LISTEN_PORT': '6000', 'TF_FORCE_GPU_ALLOW_GROWTH': 'true', 'ENV': '/root/.bashrc', 'PWD': '/', 'COLAB_LANGUAGE_SERVER_PROXY_REQUEST_TIMEOUT': '30s', 'TBE_EPHEM_CREDS_ADDR': '172.28.0.1:8009', 'TBE_CREDS_ADDR': '172.28.0.1:8008', 'NV_CUDNN_PACKAGE': 'libcudnn8=8.9.6.50-1+cuda12.2', 'NVIDIA_DRIVER_CAPABILITIES': 'compute,utility', 'COLAB_JUPYTER_TOKEN': '', 'LAST_FORCED_REBUILD': '20240305', 'NV_NVPROF_DEV_PACKAGE': 'cuda-nvprof-12-2=12.2.142-1', 'NV_LIBNPP_PACKAGE': 'libnpp-12-2=12.2.1.4-1', 'NV_LIBNCCL_DEV_PACKAGE_NAME': 'libnccl-dev', 'TCLLIBPATH': '/usr/share/tcltk/tcllib1.20', 'NV_LIBCUBLAS_DEV_VERSION': '12.2.5.6-1', 'NVIDIA_PRODUCT_NAME': 'CUDA', 'COLAB_KERNEL_MANAGER_PROXY_HOST': '172.28.0.12', 'NV_LIBCUBLAS_DEV_PACKAGE_NAME': 'libcublas-dev-12-2', 'NV_CUDA_CUDART_VERSION': '12.2.140-1', 'COLAB_WARMUP_DEFAULTS': '1', 'HOME': '/root', 'LANG': 'en_US.UTF-8', 'COLUMNS': '100', 'CUDA_VERSION': '12.2.2', 'CLOUDSDK_CONFIG': '/content/.config', 'NV_LIBCUBLAS_PACKAGE': 'libcublas-12-2=12.2.5.6-1', 'NV_CUDA_NSIGHT_COMPUTE_DEV_PACKAGE': 'cuda-nsight-compute-12-2=12.2.2-1', 'COLAB_RELEASE_TAG': 'release-colab_20240320-060147_RC00', 'KMP_TARGET_PORT': '9000', 'KMP_EXTRA_ARGS': '--logtostderr --listen_host=172.28.0.12 --target_host=172.28.0.12 --tunnel_background_save_url=https://colab.research.google.com/tun/m/cc48301118ce562b961b3c22d803539adc1e0c19/m-s-m2jujqf2kvml --tunnel_background_save_delay=10s --tunnel_periodic_background_save_frequency=30m0s --enable_output_coalescing=true --output_coalescing_required=true', 'NV_LIBNPP_DEV_PACKAGE': 'libnpp-dev-12-2=12.2.1.4-1', 'COLAB_LANGUAGE_SERVER_PROXY_LSP_DIRS': '/datalab/web/pyright/typeshed-fallback/stdlib,/usr/local/lib/python3.10/dist-packages', 'NV_LIBCUBLAS_PACKAGE_NAME': 'libcublas-12-2', 'COLAB_KERNEL_MANAGER_PROXY_PORT': '6000', 'CLOUDSDK_PYTHON': 'python3', 'NV_LIBNPP_DEV_VERSION': '12.2.1.4-1', 'NO_GCE_CHECK': 'False', 'PYTHONPATH': '/env/python', 'NV_LIBCUSPARSE_DEV_VERSION': '12.1.2.141-1', 'LIBRARY_PATH': '/usr/local/cuda/lib64/stubs', 'NV_CUDNN_VERSION': '8.9.6.50', 'SHLVL': '0', 'NV_CUDA_LIB_VERSION': '12.2.2-1', 'COLAB_LANGUAGE_SERVER_PROXY': '/usr/colab/bin/language_service', 'NVARCH': 'x86_64', 'NV_CUDNN_PACKAGE_DEV': 'libcudnn8-dev=8.9.6.50-1+cuda12.2', 'NV_CUDA_COMPAT_PACKAGE': 'cuda-compat-12-2', 'NV_LIBNCCL_PACKAGE': 'libnccl2=2.19.3-1+cuda12.2', 'LD_LIBRARY_PATH': '/usr/local/nvidia/lib:/usr/local/nvidia/lib64', 'COLAB_GPU': '', 'NV_CUDA_NSIGHT_COMPUTE_VERSION': '12.2.2-1', 'GCS_READ_CACHE_BLOCK_SIZE_MB': '16', 'NV_NVPROF_VERSION': '12.2.142-1', 'LC_ALL': 'en_US.UTF-8', 'COLAB_FILE_HANDLER_ADDR': 'localhost:3453', 'PATH': '/opt/bin:/usr/local/nvidia/bin:/usr/local/cuda/bin:/usr/local/sbin:/usr/local/bin:/usr/sbin:/usr/bin:/sbin:/bin:/tools/node/bin:/tools/google-cloud-sdk/bin', 'NV_LIBNCCL_PACKAGE_NAME': 'libnccl2', 'COLAB_DEBUG_ADAPTER_MUX_PATH': '/usr/local/bin/dap_multiplexer', 'NV_LIBNCCL_PACKAGE_VERSION': '2.19.3-1', 'PYTHONWARNINGS': 'ignore:::pip._internal.cli.base_command', 'DEBIAN_FRONTEND': 'noninteractive', 'COLAB_BACKEND_VERSION': 'next', 'OLDPWD': '/', 'JPY_PARENT_PID': '80', 'TERM': 'xterm-color', 'CLICOLOR': '1', 'PAGER': 'cat', 'GIT_PAGER': 'cat', 'MPLBACKEND': 'module://ipykernel.pylab.backend_inline', 'ENABLE_DIRECTORYPREFETCHER': '1', 'USE_AUTH_EPHEM': '1', 'PYDEVD_USE_FRAME_EVAL': 'NO'})\n",
            "*----------------------------------*\n",
            "/root\n",
            "*----------------------------------*\n",
            "/opt/bin:/usr/local/nvidia/bin:/usr/local/cuda/bin:/usr/local/sbin:/usr/local/bin:/usr/sbin:/usr/bin:/sbin:/bin:/tools/node/bin:/tools/google-cloud-sdk/bin\n",
            "*----------------------------------*\n"
          ]
        }
      ]
    },
    {
      "cell_type": "markdown",
      "source": [
        "**Explanation:**\n",
        "\n",
        "The ‘OS’ module provides a portable way of using operating system dependent functionality.\n",
        "\n",
        "In the above exercise we imports the os module and uses it to print environment variables to the console output.\n",
        "\n",
        "The environ attribute of the os module is a dictionary-like object that represents the environment variables in the current process. The print() function is used to print the entire dictionary of environment variables to the console using os.environ.\n",
        "\n",
        "The code then uses square brackets ([]) to access specific environment variables by their names. In this case, it prints the values of the HOME and PATH environment variables to the console using os.environ['HOME'] and os.environ['PATH'], respectively."
      ],
      "metadata": {
        "id": "_Kky2VA206Aa"
      }
    },
    {
      "cell_type": "code",
      "source": [
        "# Import the 'os' module to access operating system-related functionality, including environment variables\n",
        "import os\n",
        "\n",
        "# Iterate through all environment variables in the 'os.environ' dictionary\n",
        "for data in os.environ:\n",
        "  # Print the name of the environment variable\n",
        "  print(data)\n",
        "  # Print a separator for clarity\n",
        "  print('-' * 15)\n",
        "  # Print the value of the environment variable\n",
        "  print(os.environ[data])\n",
        "  # Print a line of '=' characters as an additional separator\n",
        "  print('=' * 30)"
      ],
      "metadata": {
        "id": "PrhT3GC20-SO",
        "outputId": "bacdb6a8-1d08-4d00-f930-0e960bc40011",
        "colab": {
          "base_uri": "https://localhost:8080/"
        }
      },
      "execution_count": null,
      "outputs": [
        {
          "output_type": "stream",
          "name": "stdout",
          "text": [
            "SHELL\n",
            "---------------\n",
            "/bin/bash\n",
            "==============================\n",
            "NV_LIBCUBLAS_VERSION\n",
            "---------------\n",
            "12.2.5.6-1\n",
            "==============================\n",
            "NVIDIA_VISIBLE_DEVICES\n",
            "---------------\n",
            "all\n",
            "==============================\n",
            "COLAB_JUPYTER_TRANSPORT\n",
            "---------------\n",
            "ipc\n",
            "==============================\n",
            "NV_NVML_DEV_VERSION\n",
            "---------------\n",
            "12.2.140-1\n",
            "==============================\n",
            "NV_CUDNN_PACKAGE_NAME\n",
            "---------------\n",
            "libcudnn8\n",
            "==============================\n",
            "CGROUP_MEMORY_EVENTS\n",
            "---------------\n",
            "/sys/fs/cgroup/memory.events /var/colab/cgroup/jupyter-children/memory.events\n",
            "==============================\n",
            "NV_LIBNCCL_DEV_PACKAGE\n",
            "---------------\n",
            "libnccl-dev=2.19.3-1+cuda12.2\n",
            "==============================\n",
            "NV_LIBNCCL_DEV_PACKAGE_VERSION\n",
            "---------------\n",
            "2.19.3-1\n",
            "==============================\n",
            "VM_GCE_METADATA_HOST\n",
            "---------------\n",
            "169.254.169.253\n",
            "==============================\n",
            "HOSTNAME\n",
            "---------------\n",
            "c682fdb1799a\n",
            "==============================\n",
            "LANGUAGE\n",
            "---------------\n",
            "en_US\n",
            "==============================\n",
            "TBE_RUNTIME_ADDR\n",
            "---------------\n",
            "172.28.0.1:8011\n",
            "==============================\n",
            "COLAB_TPU_1VM\n",
            "---------------\n",
            "\n",
            "==============================\n",
            "GCE_METADATA_TIMEOUT\n",
            "---------------\n",
            "3\n",
            "==============================\n",
            "NVIDIA_REQUIRE_CUDA\n",
            "---------------\n",
            "cuda>=12.2 brand=tesla,driver>=470,driver<471 brand=unknown,driver>=470,driver<471 brand=nvidia,driver>=470,driver<471 brand=nvidiartx,driver>=470,driver<471 brand=geforce,driver>=470,driver<471 brand=geforcertx,driver>=470,driver<471 brand=quadro,driver>=470,driver<471 brand=quadrortx,driver>=470,driver<471 brand=titan,driver>=470,driver<471 brand=titanrtx,driver>=470,driver<471 brand=tesla,driver>=525,driver<526 brand=unknown,driver>=525,driver<526 brand=nvidia,driver>=525,driver<526 brand=nvidiartx,driver>=525,driver<526 brand=geforce,driver>=525,driver<526 brand=geforcertx,driver>=525,driver<526 brand=quadro,driver>=525,driver<526 brand=quadrortx,driver>=525,driver<526 brand=titan,driver>=525,driver<526 brand=titanrtx,driver>=525,driver<526\n",
            "==============================\n",
            "NV_LIBCUBLAS_DEV_PACKAGE\n",
            "---------------\n",
            "libcublas-dev-12-2=12.2.5.6-1\n",
            "==============================\n",
            "NV_NVTX_VERSION\n",
            "---------------\n",
            "12.2.140-1\n",
            "==============================\n",
            "COLAB_JUPYTER_IP\n",
            "---------------\n",
            "172.28.0.12\n",
            "==============================\n",
            "NV_CUDA_CUDART_DEV_VERSION\n",
            "---------------\n",
            "12.2.140-1\n",
            "==============================\n",
            "NV_LIBCUSPARSE_VERSION\n",
            "---------------\n",
            "12.1.2.141-1\n",
            "==============================\n",
            "COLAB_LANGUAGE_SERVER_PROXY_ROOT_URL\n",
            "---------------\n",
            "http://172.28.0.1:8013/\n",
            "==============================\n",
            "NV_LIBNPP_VERSION\n",
            "---------------\n",
            "12.2.1.4-1\n",
            "==============================\n",
            "NCCL_VERSION\n",
            "---------------\n",
            "2.19.3-1\n",
            "==============================\n",
            "KMP_LISTEN_PORT\n",
            "---------------\n",
            "6000\n",
            "==============================\n",
            "TF_FORCE_GPU_ALLOW_GROWTH\n",
            "---------------\n",
            "true\n",
            "==============================\n",
            "ENV\n",
            "---------------\n",
            "/root/.bashrc\n",
            "==============================\n",
            "PWD\n",
            "---------------\n",
            "/\n",
            "==============================\n",
            "COLAB_LANGUAGE_SERVER_PROXY_REQUEST_TIMEOUT\n",
            "---------------\n",
            "30s\n",
            "==============================\n",
            "TBE_EPHEM_CREDS_ADDR\n",
            "---------------\n",
            "172.28.0.1:8009\n",
            "==============================\n",
            "TBE_CREDS_ADDR\n",
            "---------------\n",
            "172.28.0.1:8008\n",
            "==============================\n",
            "NV_CUDNN_PACKAGE\n",
            "---------------\n",
            "libcudnn8=8.9.6.50-1+cuda12.2\n",
            "==============================\n",
            "NVIDIA_DRIVER_CAPABILITIES\n",
            "---------------\n",
            "compute,utility\n",
            "==============================\n",
            "COLAB_JUPYTER_TOKEN\n",
            "---------------\n",
            "\n",
            "==============================\n",
            "LAST_FORCED_REBUILD\n",
            "---------------\n",
            "20240305\n",
            "==============================\n",
            "NV_NVPROF_DEV_PACKAGE\n",
            "---------------\n",
            "cuda-nvprof-12-2=12.2.142-1\n",
            "==============================\n",
            "NV_LIBNPP_PACKAGE\n",
            "---------------\n",
            "libnpp-12-2=12.2.1.4-1\n",
            "==============================\n",
            "NV_LIBNCCL_DEV_PACKAGE_NAME\n",
            "---------------\n",
            "libnccl-dev\n",
            "==============================\n",
            "TCLLIBPATH\n",
            "---------------\n",
            "/usr/share/tcltk/tcllib1.20\n",
            "==============================\n",
            "NV_LIBCUBLAS_DEV_VERSION\n",
            "---------------\n",
            "12.2.5.6-1\n",
            "==============================\n",
            "NVIDIA_PRODUCT_NAME\n",
            "---------------\n",
            "CUDA\n",
            "==============================\n",
            "COLAB_KERNEL_MANAGER_PROXY_HOST\n",
            "---------------\n",
            "172.28.0.12\n",
            "==============================\n",
            "NV_LIBCUBLAS_DEV_PACKAGE_NAME\n",
            "---------------\n",
            "libcublas-dev-12-2\n",
            "==============================\n",
            "NV_CUDA_CUDART_VERSION\n",
            "---------------\n",
            "12.2.140-1\n",
            "==============================\n",
            "COLAB_WARMUP_DEFAULTS\n",
            "---------------\n",
            "1\n",
            "==============================\n",
            "HOME\n",
            "---------------\n",
            "/root\n",
            "==============================\n",
            "LANG\n",
            "---------------\n",
            "en_US.UTF-8\n",
            "==============================\n",
            "COLUMNS\n",
            "---------------\n",
            "100\n",
            "==============================\n",
            "CUDA_VERSION\n",
            "---------------\n",
            "12.2.2\n",
            "==============================\n",
            "CLOUDSDK_CONFIG\n",
            "---------------\n",
            "/content/.config\n",
            "==============================\n",
            "NV_LIBCUBLAS_PACKAGE\n",
            "---------------\n",
            "libcublas-12-2=12.2.5.6-1\n",
            "==============================\n",
            "NV_CUDA_NSIGHT_COMPUTE_DEV_PACKAGE\n",
            "---------------\n",
            "cuda-nsight-compute-12-2=12.2.2-1\n",
            "==============================\n",
            "COLAB_RELEASE_TAG\n",
            "---------------\n",
            "release-colab_20240320-060147_RC00\n",
            "==============================\n",
            "KMP_TARGET_PORT\n",
            "---------------\n",
            "9000\n",
            "==============================\n",
            "KMP_EXTRA_ARGS\n",
            "---------------\n",
            "--logtostderr --listen_host=172.28.0.12 --target_host=172.28.0.12 --tunnel_background_save_url=https://colab.research.google.com/tun/m/cc48301118ce562b961b3c22d803539adc1e0c19/m-s-m2jujqf2kvml --tunnel_background_save_delay=10s --tunnel_periodic_background_save_frequency=30m0s --enable_output_coalescing=true --output_coalescing_required=true\n",
            "==============================\n",
            "NV_LIBNPP_DEV_PACKAGE\n",
            "---------------\n",
            "libnpp-dev-12-2=12.2.1.4-1\n",
            "==============================\n",
            "COLAB_LANGUAGE_SERVER_PROXY_LSP_DIRS\n",
            "---------------\n",
            "/datalab/web/pyright/typeshed-fallback/stdlib,/usr/local/lib/python3.10/dist-packages\n",
            "==============================\n",
            "NV_LIBCUBLAS_PACKAGE_NAME\n",
            "---------------\n",
            "libcublas-12-2\n",
            "==============================\n",
            "COLAB_KERNEL_MANAGER_PROXY_PORT\n",
            "---------------\n",
            "6000\n",
            "==============================\n",
            "CLOUDSDK_PYTHON\n",
            "---------------\n",
            "python3\n",
            "==============================\n",
            "NV_LIBNPP_DEV_VERSION\n",
            "---------------\n",
            "12.2.1.4-1\n",
            "==============================\n",
            "NO_GCE_CHECK\n",
            "---------------\n",
            "False\n",
            "==============================\n",
            "PYTHONPATH\n",
            "---------------\n",
            "/env/python\n",
            "==============================\n",
            "NV_LIBCUSPARSE_DEV_VERSION\n",
            "---------------\n",
            "12.1.2.141-1\n",
            "==============================\n",
            "LIBRARY_PATH\n",
            "---------------\n",
            "/usr/local/cuda/lib64/stubs\n",
            "==============================\n",
            "NV_CUDNN_VERSION\n",
            "---------------\n",
            "8.9.6.50\n",
            "==============================\n",
            "SHLVL\n",
            "---------------\n",
            "0\n",
            "==============================\n",
            "NV_CUDA_LIB_VERSION\n",
            "---------------\n",
            "12.2.2-1\n",
            "==============================\n",
            "COLAB_LANGUAGE_SERVER_PROXY\n",
            "---------------\n",
            "/usr/colab/bin/language_service\n",
            "==============================\n",
            "NVARCH\n",
            "---------------\n",
            "x86_64\n",
            "==============================\n",
            "NV_CUDNN_PACKAGE_DEV\n",
            "---------------\n",
            "libcudnn8-dev=8.9.6.50-1+cuda12.2\n",
            "==============================\n",
            "NV_CUDA_COMPAT_PACKAGE\n",
            "---------------\n",
            "cuda-compat-12-2\n",
            "==============================\n",
            "NV_LIBNCCL_PACKAGE\n",
            "---------------\n",
            "libnccl2=2.19.3-1+cuda12.2\n",
            "==============================\n",
            "LD_LIBRARY_PATH\n",
            "---------------\n",
            "/usr/local/nvidia/lib:/usr/local/nvidia/lib64\n",
            "==============================\n",
            "COLAB_GPU\n",
            "---------------\n",
            "\n",
            "==============================\n",
            "NV_CUDA_NSIGHT_COMPUTE_VERSION\n",
            "---------------\n",
            "12.2.2-1\n",
            "==============================\n",
            "GCS_READ_CACHE_BLOCK_SIZE_MB\n",
            "---------------\n",
            "16\n",
            "==============================\n",
            "NV_NVPROF_VERSION\n",
            "---------------\n",
            "12.2.142-1\n",
            "==============================\n",
            "LC_ALL\n",
            "---------------\n",
            "en_US.UTF-8\n",
            "==============================\n",
            "COLAB_FILE_HANDLER_ADDR\n",
            "---------------\n",
            "localhost:3453\n",
            "==============================\n",
            "PATH\n",
            "---------------\n",
            "/opt/bin:/usr/local/nvidia/bin:/usr/local/cuda/bin:/usr/local/sbin:/usr/local/bin:/usr/sbin:/usr/bin:/sbin:/bin:/tools/node/bin:/tools/google-cloud-sdk/bin\n",
            "==============================\n",
            "NV_LIBNCCL_PACKAGE_NAME\n",
            "---------------\n",
            "libnccl2\n",
            "==============================\n",
            "COLAB_DEBUG_ADAPTER_MUX_PATH\n",
            "---------------\n",
            "/usr/local/bin/dap_multiplexer\n",
            "==============================\n",
            "NV_LIBNCCL_PACKAGE_VERSION\n",
            "---------------\n",
            "2.19.3-1\n",
            "==============================\n",
            "PYTHONWARNINGS\n",
            "---------------\n",
            "ignore:::pip._internal.cli.base_command\n",
            "==============================\n",
            "DEBIAN_FRONTEND\n",
            "---------------\n",
            "noninteractive\n",
            "==============================\n",
            "COLAB_BACKEND_VERSION\n",
            "---------------\n",
            "next\n",
            "==============================\n",
            "OLDPWD\n",
            "---------------\n",
            "/\n",
            "==============================\n",
            "JPY_PARENT_PID\n",
            "---------------\n",
            "80\n",
            "==============================\n",
            "TERM\n",
            "---------------\n",
            "xterm-color\n",
            "==============================\n",
            "CLICOLOR\n",
            "---------------\n",
            "1\n",
            "==============================\n",
            "PAGER\n",
            "---------------\n",
            "cat\n",
            "==============================\n",
            "GIT_PAGER\n",
            "---------------\n",
            "cat\n",
            "==============================\n",
            "MPLBACKEND\n",
            "---------------\n",
            "module://ipykernel.pylab.backend_inline\n",
            "==============================\n",
            "ENABLE_DIRECTORYPREFETCHER\n",
            "---------------\n",
            "1\n",
            "==============================\n",
            "USE_AUTH_EPHEM\n",
            "---------------\n",
            "1\n",
            "==============================\n",
            "PYDEVD_USE_FRAME_EVAL\n",
            "---------------\n",
            "NO\n",
            "==============================\n"
          ]
        }
      ]
    },
    {
      "cell_type": "markdown",
      "source": [
        "## #54\n",
        "Write a Python program to get the current username"
      ],
      "metadata": {
        "id": "3aNbCzTpH1Wn"
      }
    },
    {
      "cell_type": "code",
      "source": [
        "# Import the 'getpass' module to access user-related functionality, including getting the current username\n",
        "import getpass\n",
        "\n",
        "# Get the 'getuser()' function from the 'getpass' module to retrieve the current username\n",
        "# Then, print the username to the console\n",
        "print(getpass.getuser())"
      ],
      "metadata": {
        "id": "J65F81vUH4zd",
        "outputId": "903b5689-5c48-4f95-a592-7ed100c80202",
        "colab": {
          "base_uri": "https://localhost:8080/"
        }
      },
      "execution_count": null,
      "outputs": [
        {
          "output_type": "stream",
          "name": "stdout",
          "text": [
            "root\n"
          ]
        }
      ]
    },
    {
      "cell_type": "markdown",
      "source": [
        "**Explanation:**\n",
        "\n",
        "The above Python code imports the ‘getpass’ module and uses it to print the username of the current user to the console output.\n",
        "\n",
        "The ‘getpass’ module provides a way to get the username of the current user, as well as prompt the user to enter a password without echoing the input to the console.\n",
        "\n",
        "getpass.getuser() - This function checks the environment variables LOGNAME, USER, LNAME and USERNAME, in order, and returns the value of the first one which is set to a non-empty string. If none are set, the login name from the password database is returned on systems which support the pwd module, otherwise, an exception is raised.\n",
        "\n",
        "The output of the code will be the username of the current user, which is retrieved from the operating system."
      ],
      "metadata": {
        "id": "XTdtJaihIIxk"
      }
    },
    {
      "cell_type": "code",
      "source": [
        "# Import the 'os' and 'pwd' modules to access operating system and user-related functionality\n",
        "import os\n",
        "import pwd\n",
        "\n",
        "# Define a function 'get_username' to retrieve the username of the current user\n",
        "def get_username():\n",
        "  # Use 'os.getid()' to get the user ID of the current user, and then pass it to 'pwd.getpwuid' to get the user informaiton\n",
        "  # The '[0]' index extracts the username from the user information\n",
        "  return pwd.getpwuid(os.getuid())[0]\n",
        "\n",
        "# Call the 'get_username' function and print the result to the console\n",
        "print(get_username())"
      ],
      "metadata": {
        "id": "UKeQgy10IKzi",
        "outputId": "f1cba7c8-2ec9-4938-ac44-8daf7451228c",
        "colab": {
          "base_uri": "https://localhost:8080/"
        }
      },
      "execution_count": null,
      "outputs": [
        {
          "output_type": "stream",
          "name": "stdout",
          "text": [
            "root\n"
          ]
        }
      ]
    },
    {
      "cell_type": "markdown",
      "source": [
        "**Explanation:**\n",
        "\n",
        "The ‘OS’ module provides a portable way of using operating system dependent functionality.\n",
        "\n",
        "This ‘pwd’ module provides access to the Unix user account and password database. It is available on all Unix versions.\n",
        "\n",
        "The get_username() function defined in the code uses the os.getuid() function to get the user ID of the current process, and then passes this ID to the pwd.getpwuid() function to get a pwd.struct_passwd object representing the user account information.\n",
        "\n",
        "The username of the user is obtained from the pwd.struct_passwd object using its pw_name attribute. The get_username() function returns this username as a string.\n",
        "\n",
        "Finally, the print() function prints the username returned by get_username() to the console."
      ],
      "metadata": {
        "id": "v2g6KlpNIu6z"
      }
    },
    {
      "cell_type": "markdown",
      "source": [
        "## #55\n",
        "Write a Python program to find local IP addresses using Python's stdlib"
      ],
      "metadata": {
        "id": "9-zOvkogSsUS"
      }
    },
    {
      "cell_type": "code",
      "source": [
        "# Import the 'socket' module to work with network-related functions\n",
        "import socket\n",
        "\n",
        "# The following code retrieves the local IP address of the current machine:\n",
        "# 1. Use 'socket.gethostname()' to get the local hostname\n",
        "# 2. Use 'socket.gethostbyname_ex()' to get a list of IP addresses associated with the hostname\n",
        "# 3. Filter the list to exclude any IP addresses starting with \"127.\" (loopback addresses)\n",
        "# 4. Extract the first IP address (if available) from the filtered list\n",
        "# 5. Print the obtained IP address to the console\n",
        "\n",
        "# Step 1: Get the local hostname\n",
        "local_hostname = socket.gethostname()\n",
        "\n",
        "# Step 2: Get a list of IP addresses associated with the hostname\n",
        "ip_addresses = socket.gethostbyname_ex(local_hostname)[2]\n",
        "\n",
        "# Step 3: Filter out loopback addresses (IPs starting with \"127.\")\n",
        "filtered_ips = [ip for ip in ip_addresses if not ip.startswith(\"127.\")]\n",
        "\n",
        "# Step 4: Extract the first IP address (if available) from the filtered list\n",
        "first_ip = filtered_ips[:1]\n",
        "\n",
        "# Step 5: Print the obtained IP address to the console\n",
        "print(first_ip[0])"
      ],
      "metadata": {
        "id": "xC4gXQt7Sw1m",
        "outputId": "09e8f2fa-7026-42e4-93f2-1772ef5bf62b",
        "colab": {
          "base_uri": "https://localhost:8080/"
        }
      },
      "execution_count": null,
      "outputs": [
        {
          "output_type": "stream",
          "name": "stdout",
          "text": [
            "172.28.0.12\n"
          ]
        }
      ]
    },
    {
      "cell_type": "markdown",
      "source": [
        "**Explanation:**\n",
        "\n",
        "What is socket module in Python?\n",
        "\n",
        "On top of the operating system, the socket module defines how servers and clients communicate at hardware level. In addition to supporting connection-oriented protocols, the socket API also supports connectionless protocols. It is available on all modern Unix systems, Windows, MacOS, and probably additional platforms.\n",
        "\n",
        "socket.gethostbyname_ex(hostname) - Translate a host name to IPv4 address format, extended interface. Return a triple (hostname, aliaslist, ipaddrlist) where hostname is the host’s primary host name.\n",
        "\n",
        "socket.gethostname() - Return a string containing the hostname of the machine where the Python interpreter is currently executing.\n",
        "\n",
        "socket.socket(family=AF_INET, type=SOCK_STREAM, proto=0, fileno=None) - Create a new socket using the given address family, socket type and protocol number.\n",
        "\n",
        "The above Python code first imports the socket module.\n",
        "\n",
        "The code uses a list comprehension to extract the IP address of the current machine from the output of the socket.gethostbyname_ex() function.\n",
        "\n",
        "The innermost list comprehension filters out any IP addresses that start with 127. (which are reserved for loopback testing) and selects the first IP address in the resulting list. This is done using the if statement and the [:1] slice notation.\n",
        "\n",
        "The outer list comprehension combines the list of IP addresses obtained from the previous step with a list that contains the IP address of Google's DNS server (8.8.8.8). This is done using nested lists and a list comprehension that creates a UDP socket and queries the server for its IP address.\n",
        "\n",
        "Finally, the print() function is used to print the IP address of the current machine."
      ],
      "metadata": {
        "id": "iQTG-8OLT5_d"
      }
    },
    {
      "cell_type": "markdown",
      "source": [
        "## #56\n",
        "Write a Python program to get the height and width of the console window"
      ],
      "metadata": {
        "id": "l4tslk41T7Fm"
      }
    },
    {
      "cell_type": "code",
      "source": [
        "# Import necessary modules for working with the terminal size\n",
        "import fcntl\n",
        "import termios\n",
        "import struct\n",
        "\n",
        "# Define a function named 'terminal_size' to retrieve the terminal size\n",
        "def terminal_size():\n",
        "  # Use 'fcntl' and 'termios' to fetch terminal-related information, including size\n",
        "  # This code queries the terminal's width (columns) and height (rows)\n",
        "  # It uses the 'TIOCGWINSZ' ioctl command to get window size information\n",
        "\n",
        "  # 1. Open file descriptor 0 (stdin)\n",
        "  # 2. Call 'fcntl.ioctl' with 'TIOCGWINSZ' to fetch window size information\n",
        "  # 3. Unpack the received information into 'th' (height), 'tw' (width), 'hp' (horizontal pixel size), and 'wp' (vertical pixel size)\n",
        "  th, tw, hp, wp = struct.unpack('HHHH', fcntl.ioctl(0, termios.TIOCGWINSZ, struct.pack('HHHH', 0, 0, 0, 0)))\n",
        "\n",
        "  # Return the terminal width and height\n",
        "  return tw, th\n",
        "\n",
        "# Call the 'terminal_size' function to get the terminal size and print the result\n",
        "print('Number of columns and rows: ', terminal_size())"
      ],
      "metadata": {
        "id": "BV_ZH9HmUA6a",
        "outputId": "390be019-eb10-4d6b-c528-09092013d1dc",
        "colab": {
          "base_uri": "https://localhost:8080/",
          "height": 315
        }
      },
      "execution_count": null,
      "outputs": [
        {
          "output_type": "error",
          "ename": "OSError",
          "evalue": "[Errno 25] Inappropriate ioctl for device",
          "traceback": [
            "\u001b[0;31m---------------------------------------------------------------------------\u001b[0m",
            "\u001b[0;31mOSError\u001b[0m                                   Traceback (most recent call last)",
            "\u001b[0;32m<ipython-input-14-90d270ce74fe>\u001b[0m in \u001b[0;36m<cell line: 21>\u001b[0;34m()\u001b[0m\n\u001b[1;32m     19\u001b[0m \u001b[0;34m\u001b[0m\u001b[0m\n\u001b[1;32m     20\u001b[0m \u001b[0;31m# Call the 'terminal_size' function to get the terminal size and print the result\u001b[0m\u001b[0;34m\u001b[0m\u001b[0;34m\u001b[0m\u001b[0m\n\u001b[0;32m---> 21\u001b[0;31m \u001b[0mprint\u001b[0m\u001b[0;34m(\u001b[0m\u001b[0;34m'Number of columns and rows: '\u001b[0m\u001b[0;34m,\u001b[0m \u001b[0mterminal_size\u001b[0m\u001b[0;34m(\u001b[0m\u001b[0;34m)\u001b[0m\u001b[0;34m)\u001b[0m\u001b[0;34m\u001b[0m\u001b[0;34m\u001b[0m\u001b[0m\n\u001b[0m",
            "\u001b[0;32m<ipython-input-14-90d270ce74fe>\u001b[0m in \u001b[0;36mterminal_size\u001b[0;34m()\u001b[0m\n\u001b[1;32m     13\u001b[0m   \u001b[0;31m# 2. Call 'fcntl.ioctl' with 'TIOCGWINSZ' to fetch window size information\u001b[0m\u001b[0;34m\u001b[0m\u001b[0;34m\u001b[0m\u001b[0m\n\u001b[1;32m     14\u001b[0m   \u001b[0;31m# 3. Unpack the received information into 'th' (height), 'tw' (width), 'hp' (horizontal pixel size), and 'wp' (vertical pixel size)\u001b[0m\u001b[0;34m\u001b[0m\u001b[0;34m\u001b[0m\u001b[0m\n\u001b[0;32m---> 15\u001b[0;31m   \u001b[0mth\u001b[0m\u001b[0;34m,\u001b[0m \u001b[0mtw\u001b[0m\u001b[0;34m,\u001b[0m \u001b[0mhp\u001b[0m\u001b[0;34m,\u001b[0m \u001b[0mwp\u001b[0m \u001b[0;34m=\u001b[0m \u001b[0mstruct\u001b[0m\u001b[0;34m.\u001b[0m\u001b[0munpack\u001b[0m\u001b[0;34m(\u001b[0m\u001b[0;34m'HHHH'\u001b[0m\u001b[0;34m,\u001b[0m \u001b[0mfcntl\u001b[0m\u001b[0;34m.\u001b[0m\u001b[0mioctl\u001b[0m\u001b[0;34m(\u001b[0m\u001b[0;36m0\u001b[0m\u001b[0;34m,\u001b[0m \u001b[0mtermios\u001b[0m\u001b[0;34m.\u001b[0m\u001b[0mTIOCGWINSZ\u001b[0m\u001b[0;34m,\u001b[0m \u001b[0mstruct\u001b[0m\u001b[0;34m.\u001b[0m\u001b[0mpack\u001b[0m\u001b[0;34m(\u001b[0m\u001b[0;34m'HHHH'\u001b[0m\u001b[0;34m,\u001b[0m \u001b[0;36m0\u001b[0m\u001b[0;34m,\u001b[0m \u001b[0;36m0\u001b[0m\u001b[0;34m,\u001b[0m \u001b[0;36m0\u001b[0m\u001b[0;34m,\u001b[0m \u001b[0;36m0\u001b[0m\u001b[0;34m)\u001b[0m\u001b[0;34m)\u001b[0m\u001b[0;34m)\u001b[0m\u001b[0;34m\u001b[0m\u001b[0;34m\u001b[0m\u001b[0m\n\u001b[0m\u001b[1;32m     16\u001b[0m \u001b[0;34m\u001b[0m\u001b[0m\n\u001b[1;32m     17\u001b[0m   \u001b[0;31m# Return the terminal width and height\u001b[0m\u001b[0;34m\u001b[0m\u001b[0;34m\u001b[0m\u001b[0m\n",
            "\u001b[0;31mOSError\u001b[0m: [Errno 25] Inappropriate ioctl for device"
          ]
        }
      ]
    },
    {
      "cell_type": "markdown",
      "source": [
        "**Explanation**:\n",
        "\n",
        "The above Python code defines a function terminal_size() that uses system calls to get the size of the terminal window in columns and rows. It then calls the terminal_size() function and prints the result to the console output.\n",
        "\n",
        "Then the code imports fcntl, termios, and struct modules.\n",
        "\n",
        "fcntl - This module performs file control and I/O control on file descriptors. It is an interface to the fcntl() and ioctl() Unix routines.\n",
        "\n",
        "termios - This module provides an interface to the POSIX calls for tty I/O control. For a complete description of these calls, see termios(3) Unix manual page.\n",
        "\n",
        "struct - This module converts between Python values and C structs represented as Python bytes objects. Compact format strings describe the intended conversions to/from Python values.\n",
        "\n",
        "The terminal_size() function uses the fcntl.ioctl() function to query the size of the terminal window using the termios.TIOCGWINSZ ioctl call. This call returns a struct.pack() object containing four integers representing the number of rows and columns of the terminal, as well as the horizontal and vertical pixel size.\n",
        "\n",
        "The struct.unpack() function is used to unpack the four integers from the struct.pack() object into separate variables th, tw, hp, and wp. The function then returns the values of tw (the width of the terminal window in columns) and th (the height of the terminal window in rows) as a tuple.\n",
        "\n",
        "Finally, the print() function is used to print the size of the terminal window to the console."
      ],
      "metadata": {
        "id": "DE9VY5u-VR2A"
      }
    },
    {
      "cell_type": "markdown",
      "source": [
        "## #57\n",
        "Write a Python program to get the execution time of a Python method"
      ],
      "metadata": {
        "id": "UEL8ZUmRVW3a"
      }
    },
    {
      "cell_type": "code",
      "source": [
        "# Import the 'time' module to work with time-ralted functions\n",
        "import time\n",
        "\n",
        "# Define a function named 'sum_of_n_numbers' that calculates the sum of the first 'n' natural numbers\n",
        "def sum_of_n_numbers(n):\n",
        "  # Record the current time before the calculation\n",
        "  start_time = time.time()\n",
        "\n",
        "  # Initialize a variable 's' to store the sum\n",
        "  s = 0\n",
        "\n",
        "  # Loop through numbers from 1 to 'n' and accumulate the sum\n",
        "  for i in range(1, n + 1):\n",
        "    s = s + i\n",
        "\n",
        "  # Record the current time after the calculation\n",
        "  end_time = time.time()\n",
        "\n",
        "  # Return both the calculated sum and the time taken for the calculation\n",
        "  return s, end_time - start_time\n",
        "\n",
        "# Define the value of 'n' as 5\n",
        "n = 5\n",
        "\n",
        "# Print the result, including the time taken to calculate the sum\n",
        "print(\"\\nTime to sum of 1 to\", n, \"and required time to calculate is:\", sum_of_n_numbers(n))"
      ],
      "metadata": {
        "id": "Q_jsFKv5Va7M",
        "outputId": "46bc801a-82c7-40a0-f863-28f4430808e3",
        "colab": {
          "base_uri": "https://localhost:8080/"
        }
      },
      "execution_count": null,
      "outputs": [
        {
          "output_type": "stream",
          "name": "stdout",
          "text": [
            "\n",
            "Time to sum of 1 to 5 and required time to calculate is: (15, 2.384185791015625e-06)\n"
          ]
        }
      ]
    },
    {
      "cell_type": "markdown",
      "source": [
        "**Explanation:**\n",
        "\n",
        "The above Python code defines a function sum_of_n_numbers() that calculates the sum of the first n positive integers, and returns the sum and the time it took to calculate the sum.\n",
        "\n",
        "time module - This module provides various time-related functions.\n",
        "\n",
        "The sum_of_n_numbers() function uses a for loop to add up the first n positive integers and calculates the time it takes to do so using the time.time() function to get the start and end times of the operation. The function returns a tuple containing the sum of the first n positive integers and the time taken to calculate the sum.\n",
        "\n",
        "Finally the code then calls the sum_of_n_numbers() function with an argument of n=5, and prints the result to the console using the print() function. The output displays the time it took to calculate the sum of the first 5 positive integers and the calculated sum."
      ],
      "metadata": {
        "id": "u6DKvm4EVbhH"
      }
    },
    {
      "cell_type": "markdown",
      "source": [
        "## #58\n",
        "Write a Python program to sum the first n positive integers"
      ],
      "metadata": {
        "id": "ZuIHHprZXNtP"
      }
    },
    {
      "cell_type": "code",
      "source": [
        "# Prompt the user for input and convert it to an integer\n",
        "n = int(input(\"Input a number: \"))\n",
        "\n",
        "# Calculate the sum of the first 'n' positive integers using the formula\n",
        "sum_num = (n * (n + 1)) / 2\n",
        "\n",
        "# Print the result, indicating the sum of the first 'n' positive integers\n",
        "print(\"Sum of the first\", n, \"positive integers:\", sum_num)"
      ],
      "metadata": {
        "id": "2npAdEuEXSAK",
        "outputId": "80812d12-887d-43cb-ed70-a1282821e79c",
        "colab": {
          "base_uri": "https://localhost:8080/"
        }
      },
      "execution_count": null,
      "outputs": [
        {
          "output_type": "stream",
          "name": "stdout",
          "text": [
            "Input a number: 64\n",
            "Sum of the first 64 positive integers: 2080.0\n"
          ]
        }
      ]
    },
    {
      "cell_type": "markdown",
      "source": [
        "**Explanation:**\n",
        "\n",
        "The input() function is used to prompt the user to input a number, and the int() function is used to convert the input to an integer value, which is stored in the variable n.\n",
        "\n",
        "The sum of the first n positive integers is calculated using the formula sum_num = (n * (n + 1)) / 2, which is the sum of an arithmetic sequence with a first term of 1, a common difference of 1, and a total of n terms.\n",
        "\n",
        "Finally, the print() function is used to output a message to the console in the format \"Sum of the first n positive integers: sum_num\", where n is the user input and sum_num is the calculated sum."
      ],
      "metadata": {
        "id": "Z7jBwWW2XvdI"
      }
    },
    {
      "cell_type": "code",
      "source": [
        "# Prompt the user for input and convert it to an integer.\n",
        "n = int(input(\"Input an integer: \"))\n",
        "\n",
        "# Calculate the sum of the first 'n' positive integers using the built-in 'sum' function and 'range'.\n",
        "result = sum(range(n+1))\n",
        "\n",
        "# Print the result, indicating the sum of the first 'n' positive integers.\n",
        "print(\"Sum of the first\", n, \"positive integers:\", result)"
      ],
      "metadata": {
        "id": "LnyFs1oHXweM",
        "outputId": "ba1c2492-f379-43ee-c6f1-fffc6aa750f9",
        "colab": {
          "base_uri": "https://localhost:8080/",
          "height": 228
        }
      },
      "execution_count": null,
      "outputs": [
        {
          "name": "stdout",
          "output_type": "stream",
          "text": [
            "Input an integer: 4\n"
          ]
        },
        {
          "output_type": "error",
          "ename": "TypeError",
          "evalue": "sum() takes 0 positional arguments but 1 was given",
          "traceback": [
            "\u001b[0;31m---------------------------------------------------------------------------\u001b[0m",
            "\u001b[0;31mTypeError\u001b[0m                                 Traceback (most recent call last)",
            "\u001b[0;32m<ipython-input-19-9ac7b4efde8f>\u001b[0m in \u001b[0;36m<cell line: 5>\u001b[0;34m()\u001b[0m\n\u001b[1;32m      3\u001b[0m \u001b[0;34m\u001b[0m\u001b[0m\n\u001b[1;32m      4\u001b[0m \u001b[0;31m# Calculate the sum of the first 'n' positive integers using the built-in 'sum' function and 'range'.\u001b[0m\u001b[0;34m\u001b[0m\u001b[0;34m\u001b[0m\u001b[0m\n\u001b[0;32m----> 5\u001b[0;31m \u001b[0mresult\u001b[0m \u001b[0;34m=\u001b[0m \u001b[0msum\u001b[0m\u001b[0;34m(\u001b[0m\u001b[0mrange\u001b[0m\u001b[0;34m(\u001b[0m\u001b[0mn\u001b[0m\u001b[0;34m+\u001b[0m\u001b[0;36m1\u001b[0m\u001b[0;34m)\u001b[0m\u001b[0;34m)\u001b[0m\u001b[0;34m\u001b[0m\u001b[0;34m\u001b[0m\u001b[0m\n\u001b[0m\u001b[1;32m      6\u001b[0m \u001b[0;34m\u001b[0m\u001b[0m\n\u001b[1;32m      7\u001b[0m \u001b[0;31m# Print the result, indicating the sum of the first 'n' positive integers.\u001b[0m\u001b[0;34m\u001b[0m\u001b[0;34m\u001b[0m\u001b[0m\n",
            "\u001b[0;31mTypeError\u001b[0m: sum() takes 0 positional arguments but 1 was given"
          ]
        }
      ]
    },
    {
      "cell_type": "markdown",
      "source": [
        "**Explanation:**\n",
        "\n",
        "In the above code -\n",
        "\n",
        "n = int(input(\"Input a number: \")): Here the input() function is used to prompt the user to enter an integer, and the int() function is used to convert the input to an integer value, which is stored in the variable n.\n",
        "\n",
        "sum_num = (n * (n + 1)) / 2: The range() function is then used to generate a sequence of integers from 0 to n inclusive, which is passed as an argument to the sum() function. The sum() function calculates the sum of the sequence and stores the result in the variable result.\n",
        "\n",
        "print(\"Sum of the first\", n ,\"positive integers:\", sum_num): Finally, the print() function is used to output a message to the console in the format \"Sum of the first n positive integers: result\", where n is the user input and result is the calculated sum."
      ],
      "metadata": {
        "id": "GpI56EXPXxPc"
      }
    },
    {
      "cell_type": "markdown",
      "source": [
        "## #59\n",
        "Write a Python program to convert height (in feet and inches) to centimeters"
      ],
      "metadata": {
        "id": "CccNksXkYO1R"
      }
    },
    {
      "cell_type": "code",
      "source": [
        "# Prompt the user to input their height\n",
        "print(\"Input your height: \")\n",
        "\n",
        "# Read the feet part of the height and convert it to an integer\n",
        "h_ft = int(input(\"Feet: \"))\n",
        "\n",
        "# Read the inches part of the height and conver it to an integer\n",
        "h_inch = int(input(\"Inches: \"))\n",
        "\n",
        "# Convert the height from feet and inches to inches\n",
        "h_inch += h_ft * 12\n",
        "\n",
        "# Calculate the height in centimeters by multiplying by the conversion factor (2.54)\n",
        "h_cm = round(h_inch * 2.54, 1)\n",
        "\n",
        "# Print the calculated height in centimeters\n",
        "print(\"Your height is: %d cm.\" %h_cm)"
      ],
      "metadata": {
        "id": "hQXDvTV-YUc-",
        "outputId": "d287f721-994a-4833-96d1-c5e5cddd21c5",
        "colab": {
          "base_uri": "https://localhost:8080/"
        }
      },
      "execution_count": null,
      "outputs": [
        {
          "output_type": "stream",
          "name": "stdout",
          "text": [
            "Input your height: \n",
            "Feet: 5\n",
            "Inches: 2\n",
            "Your height is: 157 cm.\n"
          ]
        }
      ]
    },
    {
      "cell_type": "markdown",
      "source": [
        "**Explanation:**\n",
        "\n",
        "h_ft = int(input(\"Feet: \"))\n",
        "h_inch = int(input(\"Inches: \"))\n",
        "In the above code -\n",
        "\n",
        "The input() function is used to prompt the user to enter their height in feet and inches, and the int() function is used to convert the input to integer values for h_ft (height in feet) and h_inch (height in inches).\n",
        "\n",
        "h_inch += h_ft * 12: The height in inches is then calculated by adding h_ft * 12 to h_inch, which converts the height to inches.\n",
        "\n",
        "h_cm = round(h_inch * 2.54, 1): The height in centimeters is calculated by multiplying the height in inches by 2.54 (the conversion factor from inches to centimeters), and rounding the result to one decimal place using the round() function.\n",
        "\n",
        "Finally, the print() function prints a message to the console in the format \"Your height is : height_cm cm\"."
      ],
      "metadata": {
        "id": "HfthmsUka0Kr"
      }
    },
    {
      "cell_type": "markdown",
      "source": [
        "## #60\n",
        "Write a Python program to calculate the hypotenuse of a right angled triangle"
      ],
      "metadata": {
        "id": "bdPKVqyRbBhR"
      }
    },
    {
      "cell_type": "code",
      "source": [
        "# Import the sqrt function from the math module to calculate the square root\n",
        "from math import sqrt\n",
        "\n",
        "# Prompt the user to input the length of the shorter triangle sides\n",
        "print(\"Input lengths of shorter triangle sides:\")\n",
        "\n",
        "# Read and convert the input for side 'a' to a floating-point number\n",
        "a = float(input(\"a: \"))\n",
        "\n",
        "# Read and convert the input for side 'b' to a floating-point number\n",
        "b = float(input(\"b: \"))\n",
        "\n",
        "# Calculate the length of the hypotenuse using the Pythagorean theorem\n",
        "c = sqrt(a**2 + b**2)\n",
        "\n",
        "# Print the calculated length of the hypotenuse\n",
        "print(\"The length of the hypotenuse is:\", c)"
      ],
      "metadata": {
        "id": "vY-yVZ_NbHdl",
        "outputId": "e4f7fbdc-9bfc-4555-9c3f-927bc0bdb644",
        "colab": {
          "base_uri": "https://localhost:8080/"
        }
      },
      "execution_count": null,
      "outputs": [
        {
          "output_type": "stream",
          "name": "stdout",
          "text": [
            "Input lengths of shorter triangle sides:\n",
            "a: 10\n",
            "b: 15\n",
            "The length of the hypotenuse is: 18.027756377319946\n"
          ]
        }
      ]
    },
    {
      "cell_type": "markdown",
      "source": [
        "**Explanation:**\n",
        "\n",
        "from math import sqrt: The sqrt() function is imported from the math module to allow the calculation of the square root of a value.\n",
        "\n",
        "a = float(input(\"a: \"))\n",
        "b = float(input(\"b: \"))\n",
        "In the above code -\n",
        "\n",
        "The input() function is used to prompt the user to enter the lengths of the shorter sides of a right triangle, and the float() function is used to convert the input to floating-point values, which are stored in the variables a and b.\n",
        "\n",
        "c = sqrt(a**2 + b**2): The length of the hypotenuse is then calculated using the Pythagorean theorem, which states that the square of the length of the hypotenuse (c) is equal to the sum of the squares of the lengths of the other two sides (a and b). The square root of this sum is taken using the sqrt() function, and the result is stored in the variable c.\n",
        "\n",
        "Finally, the print() function prints a message to the console in the format \"The length of the hypotenuse is: c\", where c is the calculated length of the hypotenuse."
      ],
      "metadata": {
        "id": "Qkk55KoXcBXQ"
      }
    },
    {
      "cell_type": "code",
      "source": [
        "# Define a function named 'test' that takes two parameters 'x' and 'y'\n",
        "def test(x, y):\n",
        "  # Calculate the length of the hypotenuse (h) using the Pythagorean theorem\n",
        "  h = (x**2 + y**2)**0.5\n",
        "\n",
        "  # Return the calculated hypotenuse\n",
        "  return h\n",
        "\n",
        "# Call the 'test' function with different values and print the results\n",
        "print(test(3, 4))     # Calculate the hypotenuse for a right triangle with sides 3 and 4\n",
        "print(test(3.5, 4.4)) # Calculate the hypotenuse for a right triangle with sides 3.5 and 4.4"
      ],
      "metadata": {
        "id": "xMoRUsKlcDY8",
        "outputId": "5c749cfb-1e77-4674-9bcc-d4925dfa6df8",
        "colab": {
          "base_uri": "https://localhost:8080/"
        }
      },
      "execution_count": null,
      "outputs": [
        {
          "output_type": "stream",
          "name": "stdout",
          "text": [
            "5.0\n",
            "5.622277118748239\n"
          ]
        }
      ]
    },
    {
      "cell_type": "markdown",
      "source": [
        "**Explanation:**\n",
        "\n",
        "In the above code -\n",
        "\n",
        "The test() function takes two arguments, x and y, which represent the lengths of the legs of a right triangle. The length of the hypotenuse is calculated using the Pythagorean theorem, which states that the square of the length of the hypotenuse (h) is equal to the sum of the squares of the lengths of the other two sides (x and y). The square root of this sum is taken using the exponentiation operator (**) with a value of 0.5, and the result is stored in the variable h. The function returns the value of h.\n",
        "\n",
        "The code then calls the test() function with two sets of arguments, (3, 4) and (3.5, 4.4), and prints the results to the console using the print() function."
      ],
      "metadata": {
        "id": "py0AadYrcDm2"
      }
    },
    {
      "cell_type": "markdown",
      "source": [
        "## #61\n",
        "Write a Python program to convert the distance (in feet) to inches, yards, and miles"
      ],
      "metadata": {
        "id": "2j6G0f9odF0Y"
      }
    },
    {
      "cell_type": "code",
      "source": [
        "# Prompt the user to input a distance in feet and store it in the variable 'd_ft'\n",
        "d_ft = int(input(\"Input distance in feet: \"))\n",
        "\n",
        "# Convert the distance in feet to inches and store it in the variable 'd_inches'\n",
        "d_inches = d_ft * 12\n",
        "\n",
        "# Convert the distance in feet to yards and store it in the variable 'd_yards'\n",
        "d_yards = d_ft / 3.0\n",
        "\n",
        "# Convert the distance in feet to miles and store it in the variable 'd_miles'\n",
        "d_miles = d_ft / 5280.0\n",
        "\n",
        "# Print the calculated distance in inches, yards, and miles\n",
        "print(\"The distance in inches is %i inches.\" % d_inches)\n",
        "print(\"The distance in yards is %.2f yards.\" % d_yards)\n",
        "print(\"The distance in miles is %.2f miles.\" % d_miles)"
      ],
      "metadata": {
        "id": "NZMD4-37dNfW",
        "outputId": "4fb35fe0-4e15-408e-eea1-09fbcd1d8fe6",
        "colab": {
          "base_uri": "https://localhost:8080/"
        }
      },
      "execution_count": null,
      "outputs": [
        {
          "output_type": "stream",
          "name": "stdout",
          "text": [
            "Input distance in feet: 500\n",
            "The distance in inches is 6000 inches.\n",
            "The distance in yards is 166.67 yards.\n",
            "The distance in miles is 0.09 miles.\n"
          ]
        }
      ]
    },
    {
      "cell_type": "markdown",
      "source": [
        "## #62\n",
        "Write a Python program to convert all units of time into seconds"
      ],
      "metadata": {
        "id": "0Ez4_NHugQGk"
      }
    },
    {
      "cell_type": "code",
      "source": [
        "# Prompt the user to input a number of days and store it in the variable 'days'\n",
        "days = int(input(\"Input days: \")) * 3600 * 24\n",
        "# Prompt the user to input a number of hours and store it in the variable 'hours'\n",
        "hours = int(input(\"Input hours: \")) * 3600\n",
        "# Prompt the user to input a number of minues and store it in the variable 'minutes'\n",
        "minutes = int(input(\"Input minutes: \")) * 60\n",
        "# Prompt the user to input the number of seconds and store it in the variable 'seconds'\n",
        "seconds = int(input(\"Input seconds: \"))\n",
        "# Calculate the total time in seconds by adding the converted values\n",
        "time = days + hours + minutes + seconds\n",
        "# Print the total time in seconds\n",
        "print(\"The amount of seconds:\", time)"
      ],
      "metadata": {
        "id": "gAReVsVXgT7b",
        "outputId": "41aec32d-ffb6-46f7-f6c0-b69df5b5b757",
        "colab": {
          "base_uri": "https://localhost:8080/"
        }
      },
      "execution_count": null,
      "outputs": [
        {
          "output_type": "stream",
          "name": "stdout",
          "text": [
            "Input days: 3\n",
            "Input hours: 10\n",
            "Input minutes: 24\n",
            "Input seconds: 40\n",
            "The amount of seconds:  296680\n"
          ]
        }
      ]
    },
    {
      "cell_type": "markdown",
      "source": [
        "## #63\n",
        "Write a Python program to get an absolute file path"
      ],
      "metadata": {
        "id": "lbvBFfDIhJFv"
      }
    },
    {
      "cell_type": "code",
      "source": [
        "# Define a function named absolute_file_path that takes a parameter 'path_fname'\n",
        "def absolute_file_path(path_fname):\n",
        "  # Import the 'os' module for working with file paths and directories\n",
        "  import os\n",
        "\n",
        "  # Use 'os.path.abspath()' to get the absolute file path by providing 'path_fname'\n",
        "  return os.path.abspath(path_fname)\n",
        "\n",
        "# Call the function and print the result, passing \"test.txt\" as the argument\n",
        "print(\"Absolute file path: \", absolute_file_path(\"Test.txt\"))"
      ],
      "metadata": {
        "id": "4i4ZyOhohM2R",
        "outputId": "00a325ba-7a1c-489e-d4c9-4320ac2a3052",
        "colab": {
          "base_uri": "https://localhost:8080/"
        }
      },
      "execution_count": null,
      "outputs": [
        {
          "output_type": "stream",
          "name": "stdout",
          "text": [
            "Absolute file path:  /content/Test.txt\n"
          ]
        }
      ]
    },
    {
      "cell_type": "code",
      "source": [
        "# Import the 'Path' class from the 'pathlib' module, which provides an object-oriented interface to file system paths\n",
        "from pathlib import Path\n",
        "\n",
        "# Create a Path object 'p' by providing the file path \"main.py\" and resolving it to its absolute path\n",
        "p = Path(\"main.py\").resolve()\n",
        "\n",
        "# Print the absolute path of the file\n",
        "print(p)"
      ],
      "metadata": {
        "id": "7WYtvhuGhvxK",
        "outputId": "5d192dec-b941-4ccf-edc4-1c89bd9b1845",
        "colab": {
          "base_uri": "https://localhost:8080/"
        }
      },
      "execution_count": null,
      "outputs": [
        {
          "output_type": "stream",
          "name": "stdout",
          "text": [
            "/content/main.py\n"
          ]
        }
      ]
    },
    {
      "cell_type": "markdown",
      "source": [
        "## #64\n",
        "Write a Python program that retrieves the data and time of file creation and modification"
      ],
      "metadata": {
        "id": "fgZIxJBbi4-7"
      }
    },
    {
      "cell_type": "code",
      "source": [
        "# Import the 'os.path' and 'time' modules to work with file system paths and timestamps\n",
        "import os.path, time\n",
        "\n",
        "# Print the last modified timestamp of the file \"test.txt\" in a human-readable format\n",
        "print(\"Last modified: %s\" % time.ctime(os.path.getmtime(\"test.txt\")))\n",
        "\n",
        "# Print the creation timestamp of the file \"test.txt\" in a human-readable format\n",
        "print(\"created: %s\" % time.ctime(os.path.getctime(\"test.txt\")))"
      ],
      "metadata": {
        "id": "YNO-RNdei_Hi"
      },
      "execution_count": null,
      "outputs": []
    },
    {
      "cell_type": "markdown",
      "source": [
        "## #65\n",
        "Write a Python program that converts seconds into days, hours, minutes, and seconds"
      ],
      "metadata": {
        "id": "ihJ8PMyJjjKM"
      }
    },
    {
      "cell_type": "code",
      "source": [
        "# Prompt the user to input a time duration in seconds and convert it to a float\n",
        "time = float(input(\"Input time in seconds: \"))\n",
        "\n",
        "# Calculate the number of full days in the given time duration\n",
        "day = time // (24 * 3600)\n",
        "# Update the time variable to hold the remaining seconds after substracting full days\n",
        "time = time % (24 * 3600)\n",
        "\n",
        "# Calculate the number of full hours in the remaining time\n",
        "hour = time // 3600\n",
        "# Update the time variable to hold the remaining seconds after subtracting full hours\n",
        "time %= 3600\n",
        "\n",
        "# Calculate the number of full minutes in the remaining time\n",
        "minutes = time // 60\n",
        "# Update the time variable to hold the remaining seconds after subtracting full minutes\n",
        "time %= 60\n",
        "\n",
        "# The 'time' variable now represents the remaining seconds, which is the number of seconds\n",
        "seconds = time\n",
        "\n",
        "# Print the time duration in the format \"d:h:m:s\"\n",
        "print(\"d:h:m:s -> %d:%d:%d:%d\" % (day, hour, minutes, seconds))"
      ],
      "metadata": {
        "id": "pM0Hf12Bjobh",
        "outputId": "6575d8e5-a5a6-4aaf-a6f5-e0ae0cd84136",
        "colab": {
          "base_uri": "https://localhost:8080/"
        }
      },
      "execution_count": null,
      "outputs": [
        {
          "output_type": "stream",
          "name": "stdout",
          "text": [
            "Input time in seconds: 6135218\n",
            "d:h:m:s -> 71:0:13:38\n"
          ]
        }
      ]
    },
    {
      "cell_type": "markdown",
      "source": [
        "## #66\n",
        "Write a Python program to calculate the body mass index"
      ],
      "metadata": {
        "id": "RIfQbWdUk9zG"
      }
    },
    {
      "cell_type": "code",
      "source": [
        "# Prompt the user to input their height in feet and convert it to a floating-point number\n",
        "height = float(input(\"Input your height in feet: \"))\n",
        "\n",
        "# Prompt the user to input their weight in kilograms and convert it to a floating-point number\n",
        "weight = float(input(\"Input your weight in kilograms: \"))\n",
        "\n",
        "# Calculate the body mass index (BMI) using the provided height and weight and round it to 2 decimal places\n",
        "bmi = weight / (height * height)\n",
        "rounded_bmi = round(bmi, 2)\n",
        "\n",
        "# Print the calculated BMI\n",
        "print(\"Your body mass index is: \", rounded_bmi)"
      ],
      "metadata": {
        "id": "3-tUbPRNlBqk",
        "outputId": "e320f687-fa7e-4c7c-83ab-7a39156483ff",
        "colab": {
          "base_uri": "https://localhost:8080/"
        }
      },
      "execution_count": null,
      "outputs": [
        {
          "output_type": "stream",
          "name": "stdout",
          "text": [
            "Input your height in feet: 5\n",
            "Input your weight in kilograms: 150\n",
            "Your body mass index is:  6.0\n"
          ]
        }
      ]
    },
    {
      "cell_type": "code",
      "source": [
        "# Prompt the user to input their height in inches and convert it to a floating-point number\n",
        "height = float(input(\"Input your height in inches: \"))\n",
        "\n",
        "# Prompt the user to input their weight in pounds and convert it to a floating-point number\n",
        "weight = float(input(\"Input your weight in pounds: \"))\n",
        "\n",
        "# Calculate the body mass index (BMI) using the provided height and weight and round it to 2 decimal places\n",
        "bmi = weight / ((height * height) * 703.0)\n",
        "rounded_bmi = round(bmi, 2)\n",
        "\n",
        "# Print the calculated BMI\n",
        "print(\"Your body mass index is: \", rounded_bmi)"
      ],
      "metadata": {
        "id": "9XcwyZZjlt5n",
        "outputId": "0d1ab45d-ea35-43ef-fad4-f51a297c33d6",
        "colab": {
          "base_uri": "https://localhost:8080/"
        }
      },
      "execution_count": null,
      "outputs": [
        {
          "output_type": "stream",
          "name": "stdout",
          "text": [
            "Input your height in inches: 62\n",
            "Input your weight in pounds: 200\n",
            "Your body mass index is:  0.0\n"
          ]
        }
      ]
    },
    {
      "cell_type": "markdown",
      "source": [
        "## #67\n",
        "Write a Python program to convert pressure in kilopascals to pounds per square inch, a millimeter of mercury (mmHg) and atmosphere pressure"
      ],
      "metadata": {
        "id": "xuO2ctrCnKPB"
      }
    },
    {
      "cell_type": "code",
      "source": [
        "# Prompt the user to input pressure in kilopascals and convert it to a floating-point number\n",
        "kpa = float(input(\"Input pressure in kilopascals: \"))\n",
        "\n",
        "# Convert kilopascals to pounds per square inch (psi) using the conversion factor\n",
        "psi = kpa / 6.89475729\n",
        "\n",
        "# Convert kilopascals to millimeters of mercury (mmHg) using the conversion factor\n",
        "mmhg = kpa * 760 / 101.325\n",
        "\n",
        "# Convert kilopascals to atmospheres (atm) using the conversion factor\n",
        "atm = kpa / 101.325\n",
        "\n",
        "# Print the pressure in pounds per square inch (psi) with 2 decimal places\n",
        "print(\"The pressure in pounds per square inch: %.2f psi\" % (psi))\n",
        "\n",
        "# Print the pressure in millimeters of mercury (mmHg) with 2 decimal places\n",
        "print(\"The pressure in millimeters of mercury: %.2f mmHg\" % (mmhg))\n",
        "\n",
        "# Print the atmosphere pressure (atm) with 2 decimal places\n",
        "print(\"Atmosphere presure: %.2f atm.\" % (atm))"
      ],
      "metadata": {
        "id": "b1dQVD3snT5f",
        "outputId": "da33c026-0221-4107-9f03-6441b1ea8fad",
        "colab": {
          "base_uri": "https://localhost:8080/"
        }
      },
      "execution_count": null,
      "outputs": [
        {
          "output_type": "stream",
          "name": "stdout",
          "text": [
            "Input pressure in kilopascals: 15.86\n",
            "The pressure in pounds per square inch: 2.30 psi\n",
            "The pressure in millimeters of mercury: 118.96 mmHg\n",
            "Atmosphere presure: 0.16 atm.\n"
          ]
        }
      ]
    },
    {
      "cell_type": "markdown",
      "source": [
        "## #68\n",
        "Write a Python program to calculate sum of digits of a number"
      ],
      "metadata": {
        "id": "fGvw_zc2oXgW"
      }
    },
    {
      "cell_type": "code",
      "source": [
        "# Prompt the user to input a four-digit number and convert it to an integer\n",
        "num = int(input(\"Input a four-digit number: \"))\n",
        "\n",
        "# Extract the thousands digit (x)\n",
        "x = num // 1000\n",
        "\n",
        "# Extract the hundreds digit (x1) by subtracting the thousands digit from the number\n",
        "x1 = (num - x * 1000) // 100\n",
        "\n",
        "# Extract the tens digit (x2) by subtracting the thousands and hundreds digits from the number\n",
        "x2 = (num - x * 1000 - x1 * 100) // 10\n",
        "\n",
        "# Extract the ones digit (x3) by subtracting the thousands, hundreds, and tens digits from the number\n",
        "x3 = num - x * 1000 - x1 * 100 - x2 * 10\n",
        "\n",
        "# Calculate the sum of the digits in the number and print the result\n",
        "print(\"The sum of digits in the number is\", x + x1 + x2 + x3)"
      ],
      "metadata": {
        "id": "MCsmj6rpo4I0",
        "outputId": "3c6920fe-ba59-420d-8155-6e5f91374296",
        "colab": {
          "base_uri": "https://localhost:8080/"
        }
      },
      "execution_count": null,
      "outputs": [
        {
          "output_type": "stream",
          "name": "stdout",
          "text": [
            "Input a four-digit number: 8624\n",
            "The sum of digits in the number is 20\n"
          ]
        }
      ]
    },
    {
      "cell_type": "markdown",
      "source": [
        "## #69\n",
        "Write a Python program to sort three integers without using conditional statements and loops"
      ],
      "metadata": {
        "id": "PqF9GjDkpu4c"
      }
    },
    {
      "cell_type": "code",
      "source": [
        "# Prompt the user to input three integers and convert them to variables x, y, and z.\n",
        "x = int(input(\"Input first number: \"))\n",
        "y = int(input(\"Input second number: \"))\n",
        "z = int(input(\"Input third number: \"))\n",
        "\n",
        "# Find the minimum value among x, y, and z and store it in variable a1\n",
        "a1 = min(x, y, z)\n",
        "\n",
        "# Find the maximum value among x, y, and z and store it in variable a3\n",
        "a3 = max(x, y, z)\n",
        "\n",
        "# Calculate the middle value (not the minimum or maximum) by subtracting a1 and a3 from the sum of x, y, and z\n",
        "a2 = (x + y + z) - a1 -a3\n",
        "\n",
        "# Print the numbers in sorted order (a1, a2, a3)\n",
        "print(\"Numbers in sorted order: \", a1, a2, a3)"
      ],
      "metadata": {
        "id": "U5lQNzfCp0Kp",
        "outputId": "87f3f5d0-15ea-4503-d166-ac96e49dec22",
        "colab": {
          "base_uri": "https://localhost:8080/"
        }
      },
      "execution_count": null,
      "outputs": [
        {
          "output_type": "stream",
          "name": "stdout",
          "text": [
            "Input first number: 65\n",
            "Input second number: 84\n",
            "Input third number: 2\n",
            "Numbers in sorted order:  2 65 84\n"
          ]
        }
      ]
    },
    {
      "cell_type": "markdown",
      "source": [
        "## #70\n",
        "Write a Python program to sort files by date"
      ],
      "metadata": {
        "id": "2xN9R5d3rSaY"
      }
    },
    {
      "cell_type": "code",
      "source": [
        "# Import the necessary libraries to work with file operations and globbing\n",
        "import glob\n",
        "import os\n",
        "\n",
        "# Use the glob module to find all files in the current directory with a \".txt\" extension\n",
        "files = glob.glob(\"*.txt\")\n",
        "\n",
        "# Sort the list of file names based on the modification time (getmtime) of each file\n",
        "files.sort(key=os.path.getmtime)\n",
        "\n",
        "# Print the sorted list of file names, one per line\n",
        "print(\"\\n\".join(files))"
      ],
      "metadata": {
        "id": "6kzIKOb_qBuQ",
        "outputId": "15455be3-8e4e-496b-d7b0-a7d47753b674",
        "colab": {
          "base_uri": "https://localhost:8080/"
        }
      },
      "execution_count": null,
      "outputs": [
        {
          "output_type": "stream",
          "name": "stdout",
          "text": [
            "\n"
          ]
        }
      ]
    },
    {
      "cell_type": "code",
      "source": [
        "# Import the 'os' module for interacting with the operating system\n",
        "import os\n",
        "\n",
        "# Change the current working directory to 'D:'\n",
        "os.chdir('D:')\n",
        "\n",
        "# List files in the current directory, filter for regular files (not directories)\n",
        "file_list = filter(os.path.isfile, os.listdir('.'))\n",
        "\n",
        "# Sort the list of files based on their modification time\n",
        "sorted_files = sorted(file_list, key=os.path.getmtime)\n",
        "\n",
        "# Print the sorted list of file names, one per line\n",
        "print('\\n'.join(map(str, sorted_files)))"
      ],
      "metadata": {
        "id": "Gb8LOxVptO1E",
        "outputId": "0493a68d-c5b4-4b5e-d61e-6dbbf455d978",
        "colab": {
          "base_uri": "https://localhost:8080/",
          "height": 211
        }
      },
      "execution_count": null,
      "outputs": [
        {
          "output_type": "error",
          "ename": "FileNotFoundError",
          "evalue": "[Errno 2] No such file or directory: 'D:'",
          "traceback": [
            "\u001b[0;31m---------------------------------------------------------------------------\u001b[0m",
            "\u001b[0;31mFileNotFoundError\u001b[0m                         Traceback (most recent call last)",
            "\u001b[0;32m<ipython-input-44-64510b62cecc>\u001b[0m in \u001b[0;36m<cell line: 5>\u001b[0;34m()\u001b[0m\n\u001b[1;32m      3\u001b[0m \u001b[0;34m\u001b[0m\u001b[0m\n\u001b[1;32m      4\u001b[0m \u001b[0;31m# Change the current working directory to 'D:'\u001b[0m\u001b[0;34m\u001b[0m\u001b[0;34m\u001b[0m\u001b[0m\n\u001b[0;32m----> 5\u001b[0;31m \u001b[0mos\u001b[0m\u001b[0;34m.\u001b[0m\u001b[0mchdir\u001b[0m\u001b[0;34m(\u001b[0m\u001b[0;34m'D:'\u001b[0m\u001b[0;34m)\u001b[0m\u001b[0;34m\u001b[0m\u001b[0;34m\u001b[0m\u001b[0m\n\u001b[0m\u001b[1;32m      6\u001b[0m \u001b[0;34m\u001b[0m\u001b[0m\n\u001b[1;32m      7\u001b[0m \u001b[0;31m# List files in the current directory, filter for regular files (not directories)\u001b[0m\u001b[0;34m\u001b[0m\u001b[0;34m\u001b[0m\u001b[0m\n",
            "\u001b[0;31mFileNotFoundError\u001b[0m: [Errno 2] No such file or directory: 'D:'"
          ]
        }
      ]
    },
    {
      "cell_type": "markdown",
      "source": [
        "## #71\n",
        "Write a Python program to get a directory listing, sorted by creation date"
      ],
      "metadata": {
        "id": "tGEB6afIuIdb"
      }
    },
    {
      "cell_type": "code",
      "source": [
        "# Import necessary modules: 'stat' for file status, 'os' for operating system interactions,\n",
        "# 'sys for command-line arguments, and 'time' for time-related functions\n",
        "from stat import S_ISREG, ST_CTIME, ST_MODE\n",
        "import os, sys, time\n",
        "# Determine the directory path based on command-line arguments. If there are two arguments, use the second one as the path; otherwise, use the current directory\n",
        "dir_path = sys.argv[1] if len(sys.argv) == 2 else r'.'\n",
        "# Generate a generator expression that yields the full path for each file in the specified directory\n",
        "data = (os.path.join(dir_path, fn) for fn in os.listdir(dir_path))\n",
        "# Generate a generator expression that pairs the file's status information and its path\n",
        "data = ((os.stat(path), path) for path in data)\n",
        "# Filter the files to keep only regular files (S_ISREG) and extract their creation times (ST_CTIME)\n",
        "data = ((stat[ST_CTIME], path) for stat, path in data if S_ISREG(stat[ST_MODE]))\n",
        "# Sort the files based on their creation times and then print the sorted list, including the creation time and the file name\n",
        "for cdate, path in sorted(data):\n",
        "  print(time.ctime(cdate), os.path.basename(path))"
      ],
      "metadata": {
        "id": "V9cvfEjwuM5x"
      },
      "execution_count": null,
      "outputs": []
    },
    {
      "cell_type": "code",
      "source": [
        "# Import the required modules: 'os' for operating system interactions and 'time' for time-related functions\n",
        "import os\n",
        "import time\n",
        "\n",
        "# Create a list 'paths' by iterating through files in the current directory and formatting their creation time and file name\n",
        "# The list comprehension generates tuples with the creation time and file name for each file\n",
        "paths = [\"%s %s\" % (time.ctime(t), f) for t, f in sorted([(os.path.getctime(x), x) for x in os.listdir(\".\")])]\n",
        "\n",
        "# Print a header for the directory listing\n",
        "print(\"Directory listing, sorted by creation date:\")\n",
        "\n",
        "# Iterate through the list 'paths' and print each entry\n",
        "for x in range(len(paths)):\n",
        "  print(paths[x],)"
      ],
      "metadata": {
        "id": "PU0BVIPevZKm",
        "outputId": "9da6e0d2-ffdd-4bde-e636-c73a86f8a6f0",
        "colab": {
          "base_uri": "https://localhost:8080/"
        }
      },
      "execution_count": null,
      "outputs": [
        {
          "output_type": "stream",
          "name": "stdout",
          "text": [
            "Directory listing, sorted by creation date:\n",
            "Wed Mar 20 14:52:52 2024 .config\n",
            "Wed Mar 20 14:52:53 2024 sample_data\n"
          ]
        }
      ]
    },
    {
      "cell_type": "markdown",
      "source": [
        "## #72\n",
        "Write a Python program to get the details of the math module"
      ],
      "metadata": {
        "id": "JmDzQCZswB3q"
      }
    },
    {
      "cell_type": "code",
      "source": [
        "# Import the math module\n",
        "import math\n",
        "# Use the 'dir' function to get a list of names in the 'math' module, including functions and constants\n",
        "# Store this list in the 'math_ls' variable\n",
        "math_ls = dir(math)\n",
        "# Print the list of names in the 'math' module, which includes mathematical functions and constants\n",
        "print(math_ls)"
      ],
      "metadata": {
        "id": "qcpzotm1wFud",
        "outputId": "37c073f3-2ae4-45f1-ea2f-ce87d61def0b",
        "colab": {
          "base_uri": "https://localhost:8080/"
        }
      },
      "execution_count": null,
      "outputs": [
        {
          "output_type": "stream",
          "name": "stdout",
          "text": [
            "['__doc__', '__loader__', '__name__', '__package__', '__spec__', 'acos', 'acosh', 'asin', 'asinh', 'atan', 'atan2', 'atanh', 'ceil', 'comb', 'copysign', 'cos', 'cosh', 'degrees', 'dist', 'e', 'erf', 'erfc', 'exp', 'expm1', 'fabs', 'factorial', 'floor', 'fmod', 'frexp', 'fsum', 'gamma', 'gcd', 'hypot', 'inf', 'isclose', 'isfinite', 'isinf', 'isnan', 'isqrt', 'lcm', 'ldexp', 'lgamma', 'log', 'log10', 'log1p', 'log2', 'modf', 'nan', 'nextafter', 'perm', 'pi', 'pow', 'prod', 'radians', 'remainder', 'sin', 'sinh', 'sqrt', 'tan', 'tanh', 'tau', 'trunc', 'ulp']\n"
          ]
        }
      ]
    },
    {
      "cell_type": "code",
      "source": [
        "# Import the 'math' module to access mathematical functions and constants\n",
        "import math\n",
        "# Print a message to provide details about the 'math' module\n",
        "print(\"Details of math module:\\n\")\n",
        "# Use the 'help' function to display the documentation and details of the 'math' module\n",
        "# The 'help' function will show information about available functions, constants, and how to use them\n",
        "help(math)"
      ],
      "metadata": {
        "id": "4Vhy_yPUwX8O",
        "outputId": "82d6196a-6670-4a23-92b4-289b98f81732",
        "colab": {
          "base_uri": "https://localhost:8080/"
        }
      },
      "execution_count": null,
      "outputs": [
        {
          "output_type": "stream",
          "name": "stdout",
          "text": [
            "Details of math module:\n",
            "\n",
            "Help on built-in module math:\n",
            "\n",
            "NAME\n",
            "    math\n",
            "\n",
            "DESCRIPTION\n",
            "    This module provides access to the mathematical functions\n",
            "    defined by the C standard.\n",
            "\n",
            "FUNCTIONS\n",
            "    acos(x, /)\n",
            "        Return the arc cosine (measured in radians) of x.\n",
            "        \n",
            "        The result is between 0 and pi.\n",
            "    \n",
            "    acosh(x, /)\n",
            "        Return the inverse hyperbolic cosine of x.\n",
            "    \n",
            "    asin(x, /)\n",
            "        Return the arc sine (measured in radians) of x.\n",
            "        \n",
            "        The result is between -pi/2 and pi/2.\n",
            "    \n",
            "    asinh(x, /)\n",
            "        Return the inverse hyperbolic sine of x.\n",
            "    \n",
            "    atan(x, /)\n",
            "        Return the arc tangent (measured in radians) of x.\n",
            "        \n",
            "        The result is between -pi/2 and pi/2.\n",
            "    \n",
            "    atan2(y, x, /)\n",
            "        Return the arc tangent (measured in radians) of y/x.\n",
            "        \n",
            "        Unlike atan(y/x), the signs of both x and y are considered.\n",
            "    \n",
            "    atanh(x, /)\n",
            "        Return the inverse hyperbolic tangent of x.\n",
            "    \n",
            "    ceil(x, /)\n",
            "        Return the ceiling of x as an Integral.\n",
            "        \n",
            "        This is the smallest integer >= x.\n",
            "    \n",
            "    comb(n, k, /)\n",
            "        Number of ways to choose k items from n items without repetition and without order.\n",
            "        \n",
            "        Evaluates to n! / (k! * (n - k)!) when k <= n and evaluates\n",
            "        to zero when k > n.\n",
            "        \n",
            "        Also called the binomial coefficient because it is equivalent\n",
            "        to the coefficient of k-th term in polynomial expansion of the\n",
            "        expression (1 + x)**n.\n",
            "        \n",
            "        Raises TypeError if either of the arguments are not integers.\n",
            "        Raises ValueError if either of the arguments are negative.\n",
            "    \n",
            "    copysign(x, y, /)\n",
            "        Return a float with the magnitude (absolute value) of x but the sign of y.\n",
            "        \n",
            "        On platforms that support signed zeros, copysign(1.0, -0.0)\n",
            "        returns -1.0.\n",
            "    \n",
            "    cos(x, /)\n",
            "        Return the cosine of x (measured in radians).\n",
            "    \n",
            "    cosh(x, /)\n",
            "        Return the hyperbolic cosine of x.\n",
            "    \n",
            "    degrees(x, /)\n",
            "        Convert angle x from radians to degrees.\n",
            "    \n",
            "    dist(p, q, /)\n",
            "        Return the Euclidean distance between two points p and q.\n",
            "        \n",
            "        The points should be specified as sequences (or iterables) of\n",
            "        coordinates.  Both inputs must have the same dimension.\n",
            "        \n",
            "        Roughly equivalent to:\n",
            "            sqrt(sum((px - qx) ** 2.0 for px, qx in zip(p, q)))\n",
            "    \n",
            "    erf(x, /)\n",
            "        Error function at x.\n",
            "    \n",
            "    erfc(x, /)\n",
            "        Complementary error function at x.\n",
            "    \n",
            "    exp(x, /)\n",
            "        Return e raised to the power of x.\n",
            "    \n",
            "    expm1(x, /)\n",
            "        Return exp(x)-1.\n",
            "        \n",
            "        This function avoids the loss of precision involved in the direct evaluation of exp(x)-1 for small x.\n",
            "    \n",
            "    fabs(x, /)\n",
            "        Return the absolute value of the float x.\n",
            "    \n",
            "    factorial(x, /)\n",
            "        Find x!.\n",
            "        \n",
            "        Raise a ValueError if x is negative or non-integral.\n",
            "    \n",
            "    floor(x, /)\n",
            "        Return the floor of x as an Integral.\n",
            "        \n",
            "        This is the largest integer <= x.\n",
            "    \n",
            "    fmod(x, y, /)\n",
            "        Return fmod(x, y), according to platform C.\n",
            "        \n",
            "        x % y may differ.\n",
            "    \n",
            "    frexp(x, /)\n",
            "        Return the mantissa and exponent of x, as pair (m, e).\n",
            "        \n",
            "        m is a float and e is an int, such that x = m * 2.**e.\n",
            "        If x is 0, m and e are both 0.  Else 0.5 <= abs(m) < 1.0.\n",
            "    \n",
            "    fsum(seq, /)\n",
            "        Return an accurate floating point sum of values in the iterable seq.\n",
            "        \n",
            "        Assumes IEEE-754 floating point arithmetic.\n",
            "    \n",
            "    gamma(x, /)\n",
            "        Gamma function at x.\n",
            "    \n",
            "    gcd(*integers)\n",
            "        Greatest Common Divisor.\n",
            "    \n",
            "    hypot(...)\n",
            "        hypot(*coordinates) -> value\n",
            "        \n",
            "        Multidimensional Euclidean distance from the origin to a point.\n",
            "        \n",
            "        Roughly equivalent to:\n",
            "            sqrt(sum(x**2 for x in coordinates))\n",
            "        \n",
            "        For a two dimensional point (x, y), gives the hypotenuse\n",
            "        using the Pythagorean theorem:  sqrt(x*x + y*y).\n",
            "        \n",
            "        For example, the hypotenuse of a 3/4/5 right triangle is:\n",
            "        \n",
            "            >>> hypot(3.0, 4.0)\n",
            "            5.0\n",
            "    \n",
            "    isclose(a, b, *, rel_tol=1e-09, abs_tol=0.0)\n",
            "        Determine whether two floating point numbers are close in value.\n",
            "        \n",
            "          rel_tol\n",
            "            maximum difference for being considered \"close\", relative to the\n",
            "            magnitude of the input values\n",
            "          abs_tol\n",
            "            maximum difference for being considered \"close\", regardless of the\n",
            "            magnitude of the input values\n",
            "        \n",
            "        Return True if a is close in value to b, and False otherwise.\n",
            "        \n",
            "        For the values to be considered close, the difference between them\n",
            "        must be smaller than at least one of the tolerances.\n",
            "        \n",
            "        -inf, inf and NaN behave similarly to the IEEE 754 Standard.  That\n",
            "        is, NaN is not close to anything, even itself.  inf and -inf are\n",
            "        only close to themselves.\n",
            "    \n",
            "    isfinite(x, /)\n",
            "        Return True if x is neither an infinity nor a NaN, and False otherwise.\n",
            "    \n",
            "    isinf(x, /)\n",
            "        Return True if x is a positive or negative infinity, and False otherwise.\n",
            "    \n",
            "    isnan(x, /)\n",
            "        Return True if x is a NaN (not a number), and False otherwise.\n",
            "    \n",
            "    isqrt(n, /)\n",
            "        Return the integer part of the square root of the input.\n",
            "    \n",
            "    lcm(*integers)\n",
            "        Least Common Multiple.\n",
            "    \n",
            "    ldexp(x, i, /)\n",
            "        Return x * (2**i).\n",
            "        \n",
            "        This is essentially the inverse of frexp().\n",
            "    \n",
            "    lgamma(x, /)\n",
            "        Natural logarithm of absolute value of Gamma function at x.\n",
            "    \n",
            "    log(...)\n",
            "        log(x, [base=math.e])\n",
            "        Return the logarithm of x to the given base.\n",
            "        \n",
            "        If the base not specified, returns the natural logarithm (base e) of x.\n",
            "    \n",
            "    log10(x, /)\n",
            "        Return the base 10 logarithm of x.\n",
            "    \n",
            "    log1p(x, /)\n",
            "        Return the natural logarithm of 1+x (base e).\n",
            "        \n",
            "        The result is computed in a way which is accurate for x near zero.\n",
            "    \n",
            "    log2(x, /)\n",
            "        Return the base 2 logarithm of x.\n",
            "    \n",
            "    modf(x, /)\n",
            "        Return the fractional and integer parts of x.\n",
            "        \n",
            "        Both results carry the sign of x and are floats.\n",
            "    \n",
            "    nextafter(x, y, /)\n",
            "        Return the next floating-point value after x towards y.\n",
            "    \n",
            "    perm(n, k=None, /)\n",
            "        Number of ways to choose k items from n items without repetition and with order.\n",
            "        \n",
            "        Evaluates to n! / (n - k)! when k <= n and evaluates\n",
            "        to zero when k > n.\n",
            "        \n",
            "        If k is not specified or is None, then k defaults to n\n",
            "        and the function returns n!.\n",
            "        \n",
            "        Raises TypeError if either of the arguments are not integers.\n",
            "        Raises ValueError if either of the arguments are negative.\n",
            "    \n",
            "    pow(x, y, /)\n",
            "        Return x**y (x to the power of y).\n",
            "    \n",
            "    prod(iterable, /, *, start=1)\n",
            "        Calculate the product of all the elements in the input iterable.\n",
            "        \n",
            "        The default start value for the product is 1.\n",
            "        \n",
            "        When the iterable is empty, return the start value.  This function is\n",
            "        intended specifically for use with numeric values and may reject\n",
            "        non-numeric types.\n",
            "    \n",
            "    radians(x, /)\n",
            "        Convert angle x from degrees to radians.\n",
            "    \n",
            "    remainder(x, y, /)\n",
            "        Difference between x and the closest integer multiple of y.\n",
            "        \n",
            "        Return x - n*y where n*y is the closest integer multiple of y.\n",
            "        In the case where x is exactly halfway between two multiples of\n",
            "        y, the nearest even value of n is used. The result is always exact.\n",
            "    \n",
            "    sin(x, /)\n",
            "        Return the sine of x (measured in radians).\n",
            "    \n",
            "    sinh(x, /)\n",
            "        Return the hyperbolic sine of x.\n",
            "    \n",
            "    sqrt(x, /)\n",
            "        Return the square root of x.\n",
            "    \n",
            "    tan(x, /)\n",
            "        Return the tangent of x (measured in radians).\n",
            "    \n",
            "    tanh(x, /)\n",
            "        Return the hyperbolic tangent of x.\n",
            "    \n",
            "    trunc(x, /)\n",
            "        Truncates the Real x to the nearest Integral toward 0.\n",
            "        \n",
            "        Uses the __trunc__ magic method.\n",
            "    \n",
            "    ulp(x, /)\n",
            "        Return the value of the least significant bit of the float x.\n",
            "\n",
            "DATA\n",
            "    e = 2.718281828459045\n",
            "    inf = inf\n",
            "    nan = nan\n",
            "    pi = 3.141592653589793\n",
            "    tau = 6.283185307179586\n",
            "\n",
            "FILE\n",
            "    (built-in)\n",
            "\n",
            "\n"
          ]
        }
      ]
    },
    {
      "cell_type": "markdown",
      "source": [
        "## #73\n",
        "Write a Python program to calculate the midpoints of a line"
      ],
      "metadata": {
        "id": "LWesOAxYwy7U"
      }
    },
    {
      "cell_type": "code",
      "source": [
        "# Print a message to inform the user that the program will calculate the midpoint of a line\n",
        "print('\\nCalculate the midpoint of a line: ')\n",
        "\n",
        "# Prompt the user to enter the x and y coordinates of the first endpoint of the line\n",
        "x1 = float(input('The value of x (the first endpoint) '))\n",
        "y1 = float(input('The value of y (the first endpoint) '))\n",
        "\n",
        "# Prompt the user to enter the x and y coordinates of the second endpoint of the line\n",
        "x2 = float(input('The value of x (the first endpoint) '))\n",
        "y2 = float(input('The value of y (the first endpoint) '))\n",
        "\n",
        "# Calculate the x-coordinate of the midpoint of the line\n",
        "x_m_point = (x1 + x2)/2\n",
        "\n",
        "# Calculate the y-coordinate of the midpoint of the line\n",
        "y_m_point = (y1 + y2)/2\n",
        "print();\n",
        "\n",
        "# Print a message to indicate that the program is displaying the midpoint\n",
        "print(\"The midpoint of the line is: \")\n",
        "\n",
        "# Print the x-coordinate of the midpoint\n",
        "print(\"The midpoint's x value is: \", x_m_point)\n",
        "\n",
        "# Print the y-coordinate of the midpoint\n",
        "print(\"The midpoint's y value is: \", y_m_point)"
      ],
      "metadata": {
        "id": "W7-6IK--w2o4",
        "outputId": "8917dbc9-1e9a-472c-c9e2-8c20a0e17414",
        "colab": {
          "base_uri": "https://localhost:8080/"
        }
      },
      "execution_count": null,
      "outputs": [
        {
          "output_type": "stream",
          "name": "stdout",
          "text": [
            "\n",
            "Calculate the midpoint of a line: \n",
            "The value of x (the first endpoint) 4\n",
            "The value of y (the first endpoint) 6\n",
            "The value of x (the first endpoint) 8\n",
            "The value of y (the first endpoint) 5\n",
            "\n",
            "The midpoint of the line is: \n",
            "The midpoint's x value is:  6.0\n",
            "The midpoint's y value is:  5.5\n"
          ]
        }
      ]
    },
    {
      "cell_type": "markdown",
      "source": [
        "## #74\n",
        "Write a Python program to hash a word"
      ],
      "metadata": {
        "id": "L_UkrgKyx8Fq"
      }
    },
    {
      "cell_type": "code",
      "source": [
        "# Create a list that maps characters to their Soundex codes\n",
        "soundex = [0, 1, 2, 3, 0, 1, 2, 0, 0, 2, 2, 4, 5, 5, 0, 1, 2, 6, 2, 3, 0, 1, 0, 2, 0, 2]\n",
        "\n",
        "# Prompt the user to input the word to be hashed\n",
        "word = input(\"Input the word to be hashed: \")\n",
        "\n",
        "# Convert the input word to uppercase\n",
        "word = word.upper()\n",
        "\n",
        "# Initialize the coded word with the first character of the input word\n",
        "coded = word[0]\n",
        "\n",
        "# Iterate over the remaining characters in the word to calculate the Soundex code\n",
        "for a in word[1:len(word)]:\n",
        "  # Calculate the index for Soundex list based on the character's ASCII code\n",
        "  i = 65 - ord(a)\n",
        "  coded = coded + str(soundex[i])\n",
        "\n",
        "# Print a blank line\n",
        "print()\n",
        "\n",
        "# Display the coded word\n",
        "print(\"The coded word is: \" + coded)\n",
        "\n",
        "# Print a blank line\n",
        "print()"
      ],
      "metadata": {
        "id": "0dmk2SZLx_w0",
        "outputId": "bb2befe7-55de-4516-f227-3364b2794da9",
        "colab": {
          "base_uri": "https://localhost:8080/"
        }
      },
      "execution_count": null,
      "outputs": [
        {
          "output_type": "stream",
          "name": "stdout",
          "text": [
            "Input the word to be hashed: watermelon\n",
            "\n",
            "The coded word is: W000200155\n",
            "\n"
          ]
        }
      ]
    },
    {
      "cell_type": "markdown",
      "source": [
        "## #75\n",
        "Write a Python program to get the copyright information and write Copyright information in Python code"
      ],
      "metadata": {
        "id": "OKIwDOJHy0ag"
      }
    },
    {
      "cell_type": "code",
      "source": [
        "# Import the sys module, which provides access to Python interpreter variables and functions\n",
        "import sys\n",
        "\n",
        "# Display a header for Python copyright information\n",
        "print(\"\\nPython Copyright Information\")\n",
        "\n",
        "# Display the copyright information about Python using sys.copyright\n",
        "print(sys.copyright)\n",
        "\n",
        "# Print an empty line for better readability\n",
        "print()"
      ],
      "metadata": {
        "id": "DEte1qp8y6Nk",
        "outputId": "1e42bb1e-5958-4da3-d889-313d717cdfcf",
        "colab": {
          "base_uri": "https://localhost:8080/"
        }
      },
      "execution_count": null,
      "outputs": [
        {
          "output_type": "stream",
          "name": "stdout",
          "text": [
            "\n",
            "Python Copyright Information\n",
            "Copyright (c) 2001-2023 Python Software Foundation.\n",
            "All Rights Reserved.\n",
            "\n",
            "Copyright (c) 2000 BeOpen.com.\n",
            "All Rights Reserved.\n",
            "\n",
            "Copyright (c) 1995-2001 Corporation for National Research Initiatives.\n",
            "All Rights Reserved.\n",
            "\n",
            "Copyright (c) 1991-1995 Stichting Mathematisch Centrum, Amsterdam.\n",
            "All Rights Reserved.\n",
            "\n"
          ]
        }
      ]
    },
    {
      "cell_type": "code",
      "source": [
        "print(\"Python copyright information:\\n\")\n",
        "print(copyright)"
      ],
      "metadata": {
        "id": "gpMx-jyCzPjm",
        "outputId": "f0ca9802-c401-46c8-8145-88b349777a5c",
        "colab": {
          "base_uri": "https://localhost:8080/"
        }
      },
      "execution_count": null,
      "outputs": [
        {
          "output_type": "stream",
          "name": "stdout",
          "text": [
            "Python copyright information:\n",
            "\n",
            "Copyright (c) 2001-2023 Python Software Foundation.\n",
            "All Rights Reserved.\n",
            "\n",
            "Copyright (c) 2000 BeOpen.com.\n",
            "All Rights Reserved.\n",
            "\n",
            "Copyright (c) 1995-2001 Corporation for National Research Initiatives.\n",
            "All Rights Reserved.\n",
            "\n",
            "Copyright (c) 1991-1995 Stichting Mathematisch Centrum, Amsterdam.\n",
            "All Rights Reserved.\n"
          ]
        }
      ]
    },
    {
      "cell_type": "markdown",
      "source": [
        "## #76\n",
        "Write a Python program to get the command-line arguments (name of the script, the number of arguments, arguments) passed to a script."
      ],
      "metadata": {
        "id": "VuothyznU_Gk"
      }
    },
    {
      "cell_type": "code",
      "source": [
        "# Import the sys module to access command-line arguments and other system-specific functionality\n",
        "import sys\n",
        "\n",
        "# Display the message \"This is the name/path of the script:\" and print the script's name or path\n",
        "print(\"This is the name/path of the script:\"), sys.argv[0]\n",
        "\n",
        "# Display the message \"Number of arguments:\" and print the total number of command-line arguments\n",
        "print(\"Number of arguments:\", len(sys.argv))\n",
        "\n",
        "# Display the message \"Argument List:\" and print the list of command-line arguments passed to the script\n",
        "print(\"Argument List:\", str(sys.argv))"
      ],
      "metadata": {
        "id": "b6XFiPEiVFoY",
        "outputId": "1f6bee56-53dd-47bd-c0eb-e2fcd70221d3",
        "colab": {
          "base_uri": "https://localhost:8080/"
        }
      },
      "execution_count": null,
      "outputs": [
        {
          "output_type": "stream",
          "name": "stdout",
          "text": [
            "This is the name/path of the script:\n",
            "Number of arguments: 3\n",
            "Argument List: ['/usr/local/lib/python3.10/dist-packages/colab_kernel_launcher.py', '-f', '/root/.local/share/jupyter/runtime/kernel-6166181b-793e-4374-aee4-f2caf66df57b.json']\n"
          ]
        }
      ]
    },
    {
      "cell_type": "markdown",
      "source": [
        "## #77\n",
        "Write a Python program to test whether the system is a big-endian platform or a little-endian platform"
      ],
      "metadata": {
        "id": "TV3LI4HAWV5Q"
      }
    },
    {
      "cell_type": "code",
      "source": [
        "# Import the sys module to access system-specific information\n",
        "import sys\n",
        "\n",
        "# Display a blank line for clarity\n",
        "print()\n",
        "\n",
        "# Check if the byte order of the platform is \"little\" (e.g., Intel, Alpha) and display a corresponding message\n",
        "if sys.byteorder == \"little\":\n",
        "  print(\"Little-endian platform.\")\n",
        "else:\n",
        "  # If the byte order is not \"little\", assume it's \"big\" (e.g., Motorola, SPARC) and display a corresponding message\n",
        "  print(\"Big-endian platform\")\n",
        "\n",
        "# Display another blank line for clarity\n",
        "print()"
      ],
      "metadata": {
        "id": "67_t8X89WceQ",
        "outputId": "7d8074ce-50b8-432a-822d-ed3c4ad45a42",
        "colab": {
          "base_uri": "https://localhost:8080/"
        }
      },
      "execution_count": null,
      "outputs": [
        {
          "output_type": "stream",
          "name": "stdout",
          "text": [
            "\n",
            "Little-endian platform.\n",
            "\n"
          ]
        }
      ]
    },
    {
      "cell_type": "markdown",
      "source": [
        "## #78\n",
        "Write a Python program to find the available built-in modules"
      ],
      "metadata": {
        "id": "oSj0lEvHXJhr"
      }
    },
    {
      "cell_type": "code",
      "source": [
        "# Import the sys module to access system-specific information\n",
        "import sys\n",
        "\n",
        "# Import the textwrap module to format the list of module names\n",
        "import textwrap\n",
        "\n",
        "# Get a sorted list of built-in module names in the system\n",
        "module_name = ', '.join(sorted(sys.builtin_module_names))\n",
        "\n",
        "# Use textwrap to format the list of module names into lines with a maximum width of 70 characters\n",
        "# Then, print the formatted text\n",
        "print(textwrap.fill(module_name, width=70))"
      ],
      "metadata": {
        "id": "do7ZG7g6XOfK",
        "outputId": "8164c683-5258-4c7d-bd37-8d7eb6a00a63",
        "colab": {
          "base_uri": "https://localhost:8080/"
        }
      },
      "execution_count": null,
      "outputs": [
        {
          "output_type": "stream",
          "name": "stdout",
          "text": [
            "_abc, _ast, _bisect, _blake2, _codecs, _collections, _csv, _datetime,\n",
            "_elementtree, _functools, _heapq, _imp, _io, _locale, _md5, _operator,\n",
            "_pickle, _posixsubprocess, _random, _sha1, _sha256, _sha3, _sha512,\n",
            "_signal, _socket, _sre, _stat, _statistics, _string, _struct,\n",
            "_symtable, _thread, _tracemalloc, _warnings, _weakref, array, atexit,\n",
            "binascii, builtins, cmath, errno, faulthandler, fcntl, gc, grp,\n",
            "itertools, marshal, math, posix, pwd, pyexpat, select, spwd, sys,\n",
            "syslog, time, unicodedata, xxsubtype, zlib\n"
          ]
        }
      ]
    },
    {
      "cell_type": "markdown",
      "source": [
        "## #79\n",
        "Write a Python program to get the size of an object in bytes"
      ],
      "metadata": {
        "id": "1i4wDSbJXu3M"
      }
    },
    {
      "cell_type": "code",
      "source": [
        "import sys # Import the sys module to use sys.getsizeof()\n",
        "\n",
        "# Define three strings and assign values to them\n",
        "str1 = \"one\"\n",
        "str2 = \"four\"\n",
        "str3 = \"three\"\n",
        "x = 0\n",
        "y = 112\n",
        "z = 122.56\n",
        "\n",
        "# Print the size in bytes of each variable\n",
        "print(\"Size of\", str1, \"=\", str(sys.getsizeof(str1)) + \" bytes\")\n",
        "print(\"Size of\", str2, \"=\", str(sys.getsizeof(str2)) + \" bytes\")\n",
        "print(\"Size of\", str3, \"=\", str(sys.getsizeof(str3)) + \" bytes\")\n",
        "print(\"Size of\", x, \"=\", str(sys.getsizeof(x)) + \" bytes\")\n",
        "print(\"Size of\", y, \"=\", str(sys.getsizeof(y)) + \" bytes\")\n",
        "\n",
        "# Define a list and assign values to it\n",
        "L = [1, 2, 3, 'Red', 'Black']\n",
        "\n",
        "# Print the size in bytes of the list\n",
        "print(\"Size of\", L, \"=\", sys.getsizeof(L), \"bytes\")\n",
        "\n",
        "# Define a tuple and assign values to it\n",
        "T = (\"Red\", [8, 4, 6], (1, 2, 3))\n",
        "\n",
        "# Print the size in bytes of the tuple\n",
        "print(\"Size of\", T, \"=\", sys.getsizeof(T), \"bytes\")\n",
        "\n",
        "# Define a set and assign values to it\n",
        "S = {'apple', 'orange', 'apple', 'pear'}\n",
        "\n",
        "# Print the size in bytes of the set\n",
        "print(\"Size of\", S, \"=\", sys.getsizeof(S), \"bytes\")\n",
        "\n",
        "# Define a dictionary and assign values to it\n",
        "D = {'Name': 'David', 'Age': 6, 'Class': 'First'}\n",
        "\n",
        "# Print the size in bytes of the dictionary\n",
        "print(\"Size of\", D, \"=\", sys.getsizeof(S), \"bytes\")"
      ],
      "metadata": {
        "id": "SAsO53QqX1Sc",
        "outputId": "66204de4-e366-4090-e396-3f8fd5eb4dac",
        "colab": {
          "base_uri": "https://localhost:8080/"
        }
      },
      "execution_count": null,
      "outputs": [
        {
          "output_type": "stream",
          "name": "stdout",
          "text": [
            "Size of one = 52 bytes\n",
            "Size of four = 53 bytes\n",
            "Size of three = 54 bytes\n",
            "Size of 0 = 24 bytes\n",
            "Size of 112 = 28 bytes\n",
            "Size of [1, 2, 3, 'Red', 'Black'] = 104 bytes\n",
            "Size of ('Red', [8, 4, 6], (1, 2, 3)) = 64 bytes\n",
            "Size of {'orange', 'pear', 'apple'} = 216 bytes\n",
            "Size of {'Name': 'David', 'Age': 6, 'Class': 'First'} = 216 bytes\n"
          ]
        }
      ]
    },
    {
      "cell_type": "markdown",
      "source": [
        "## #80\n",
        "Write a Python program to get the current value of the recursion limit\n",
        "\n",
        "sys.getrecursionlimit(): Return the current value of the recursion limit, the maximum depth of the Python interpreter stack. This limit prevents infinite recursion from causing an overflow of the C stack and crashing Python. It can be set by setrecursionlimit()."
      ],
      "metadata": {
        "id": "f-XE2GiZZjnf"
      }
    },
    {
      "cell_type": "code",
      "source": [
        "import sys # Import the sys module to access system-related information\n",
        "\n",
        "print() # Print a blank line for spacing\n",
        "print(\"Current value of the recursion limit:\") # Dispaly a message about the recursion limit\n",
        "print(sys.getrecursionlimit()) # Retrieve and print the current recursion limit\n",
        "print() # Print a blank line for spacing"
      ],
      "metadata": {
        "id": "beERmGrHZyfW",
        "outputId": "aa61f8fd-3a89-4523-bf32-5038f8ecaa09",
        "colab": {
          "base_uri": "https://localhost:8080/"
        }
      },
      "execution_count": null,
      "outputs": [
        {
          "output_type": "stream",
          "name": "stdout",
          "text": [
            "\n",
            "Current value of the recursion limit:\n",
            "1000\n",
            "\n"
          ]
        }
      ]
    },
    {
      "cell_type": "markdown",
      "source": [
        "## #81\n",
        "Write a Python program to concatenate N string"
      ],
      "metadata": {
        "id": "y0YEhIOFaE2s"
      }
    },
    {
      "cell_type": "code",
      "source": [
        "list_of_colors = ['Red', 'White', 'Black'] # Create a list of colors containing three elements\n",
        "colors = '-'.join(list_of_colors) # Join the list elements with '-' and store the result in the 'colors' variable\n",
        "print() # Print a blank line for spacing\n",
        "print(\"All Colors: \" + colors) # Print the concatenated colors with '-' between them\n",
        "print() # Print another blank line for spacing"
      ],
      "metadata": {
        "id": "ox1GzJv6aJE_",
        "outputId": "2a368557-8dc3-48c7-fc44-e5a5d37e8f7b",
        "colab": {
          "base_uri": "https://localhost:8080/"
        }
      },
      "execution_count": null,
      "outputs": [
        {
          "output_type": "stream",
          "name": "stdout",
          "text": [
            "\n",
            "All Colors: Red-White-Black\n",
            "\n"
          ]
        }
      ]
    },
    {
      "cell_type": "markdown",
      "source": [
        "## #82\n",
        "Write a Python program to calculate the sum of all items of a container (tuple, list, set, dictionary)\n",
        "\n",
        "Some objects contain references to other objects; these are called containers. Generally, containers provide a way to access the contained objects and to iterate over them. Examples of containers are lists, sets, tuples, and dictionaries."
      ],
      "metadata": {
        "id": "ZlZ8R4Ajamno"
      }
    },
    {
      "cell_type": "code",
      "source": [
        "# Calculate the sum of the elements in the list [10, 20, 30] using the 'sum' function and store it in the variable 's'\n",
        "s = sum([10, 20, 30])\n",
        "\n",
        "# Print a message indicating the sum of the container and display the value of 's'\n",
        "print(\"\\nSum of the container:\", s)\n",
        "\n",
        "# Print an empty line for better readability\n",
        "print()"
      ],
      "metadata": {
        "id": "jGCvpODpa3FC",
        "outputId": "a7675f20-60e1-40b4-c4bb-bf13089d22d0",
        "colab": {
          "base_uri": "https://localhost:8080/"
        }
      },
      "execution_count": null,
      "outputs": [
        {
          "output_type": "stream",
          "name": "stdout",
          "text": [
            "\n",
            "Sum of the container: 60\n",
            "\n"
          ]
        }
      ]
    },
    {
      "cell_type": "code",
      "source": [
        "# Create a list names 'nums' containing three integer elements: 10, 20, and 30\n",
        "nums = [10, 20, 30]\n",
        "\n",
        "# Print a message indicating the original container\n",
        "print(\"Original container:\")\n",
        "\n",
        "# Print the 'nums' list, displaying its contents\n",
        "print(nums)\n",
        "\n",
        "# Print the data type of the 'nums' list\n",
        "print(type(nums))\n",
        "\n",
        "# Print a message indicating the sum of all items in the 'nums' list and compute the sum using the 'sum' function\n",
        "print(\"Sum of all items of the said container:\", sum(nums))"
      ],
      "metadata": {
        "id": "zOYJhULCbbX7",
        "outputId": "72f9129e-79de-4fc6-8580-1428d1937d29",
        "colab": {
          "base_uri": "https://localhost:8080/"
        }
      },
      "execution_count": null,
      "outputs": [
        {
          "output_type": "stream",
          "name": "stdout",
          "text": [
            "Original container:\n",
            "[10, 20, 30]\n",
            "<class 'list'>\n",
            "Sum of all items of the said container: 60\n"
          ]
        }
      ]
    },
    {
      "cell_type": "code",
      "source": [
        "# Define a function 'dict_sum' that takes a dictionary 'nums' as input and calculates the sum of its values\n",
        "def dict_sum(nums):\n",
        "  num_sum = 0\n",
        "  for i in nums:\n",
        "    num_sum = num_sum + nums[i]\n",
        "  return num_sum\n",
        "# Create a dictionary 'nums' with key-value pairs\n",
        "nums = {'a': 100, 'b': 200, 'c': 300, 'd': 120}\n",
        "# Print a message indicating the original container and display the dictionary 'nums'\n",
        "print(\"Original container:\")\n",
        "print(nums)\n",
        "# Print the type of the 'nums' container\n",
        "print(type(nums))\n",
        "# Calculate the sum of all items in the dictionary 'nums' using the 'dict_sum' function and print the result\n",
        "print(\"Sum of all items of the said container:\", dict_sum(nums))"
      ],
      "metadata": {
        "id": "JvOO9k2xbx65",
        "outputId": "8604738e-ec06-4120-ed18-8ac4f6d81ce2",
        "colab": {
          "base_uri": "https://localhost:8080/"
        }
      },
      "execution_count": null,
      "outputs": [
        {
          "output_type": "stream",
          "name": "stdout",
          "text": [
            "Original container:\n",
            "{'a': 100, 'b': 200, 'c': 300, 'd': 120}\n",
            "<class 'dict'>\n",
            "Sum of all items of the said container: 720\n"
          ]
        }
      ]
    },
    {
      "cell_type": "code",
      "source": [
        "# Create a set 'nums' with a collection of numbers\n",
        "nums = {7, 4, 9, 1, 3, 2}\n",
        "# Print a message indicating the original container and display the set 'nums'\n",
        "print(\"The original container\")\n",
        "print(nums)\n",
        "# Print the type of the 'nums' container\n",
        "print(type(nums))\n",
        "# Calculate the sum of all items in the set 'nums' using the 'sum' function and store it in the 'sum_tuple' variable\n",
        "sum_tuple = sum(nums)\n",
        "# Print the sum of all items in the set\n",
        "print(\"Sum of all items of the said container:\", str(sum_tuple))"
      ],
      "metadata": {
        "id": "4_U2tKI0cqvx",
        "outputId": "83d2f950-a12c-40c1-bb3e-04558a6a9ed8",
        "colab": {
          "base_uri": "https://localhost:8080/"
        }
      },
      "execution_count": null,
      "outputs": [
        {
          "output_type": "stream",
          "name": "stdout",
          "text": [
            "The original container\n",
            "{1, 2, 3, 4, 7, 9}\n",
            "<class 'set'>\n",
            "Sum of all items of the said container: 26\n"
          ]
        }
      ]
    },
    {
      "cell_type": "code",
      "source": [
        "# Create a tuple 'nums' with a collection of numbers\n",
        "nums = (7, 4, 9, 1, 3, 2)\n",
        "\n",
        "# Print a message indicating the original container and display the tuple 'nums'\n",
        "print(\"The original container\")\n",
        "print(nums)\n",
        "\n",
        "# Print the type of the 'nums' container\n",
        "print(type(nums))\n",
        "\n",
        "# Calculate the sum of all items in the tuple 'nums' using the 'sum' function and store it in the 'sum_tuple' variable\n",
        "sum_tuple = sum(nums)\n",
        "\n",
        "# Print the sum of all items in the tuple\n",
        "print(\"SUm of all items of the said container:\", str(sum_tuple))"
      ],
      "metadata": {
        "id": "K2QgcH3adHG9",
        "outputId": "e9c807ff-a59d-4b74-a7c9-b3d840896493",
        "colab": {
          "base_uri": "https://localhost:8080/"
        }
      },
      "execution_count": null,
      "outputs": [
        {
          "output_type": "stream",
          "name": "stdout",
          "text": [
            "The original container\n",
            "(7, 4, 9, 1, 3, 2)\n",
            "<class 'tuple'>\n",
            "SUm of all items of the said container: 26\n"
          ]
        }
      ]
    },
    {
      "cell_type": "markdown",
      "source": [
        "## #83\n",
        "Write a Python program to test whether all numbers in a list are greater than a certain number"
      ],
      "metadata": {
        "id": "jnK7TzQZdquB"
      }
    },
    {
      "cell_type": "code",
      "source": [
        "# Create a list 'num' containing integer values\n",
        "num = [2, 3, 4, 5]\n",
        "\n",
        "# Print a blank line for better readability\n",
        "print()\n",
        "\n",
        "# Check if all elements in the 'num' list are greater than 1 and print the result\n",
        "print(all(x > 1 for x in num))\n",
        "\n",
        "# Check if all elements in the 'num' list are greater than 4 and print the result\n",
        "print(all(x > 4 for x in num))\n",
        "\n",
        "# Print a blank line for better readability\n",
        "print()"
      ],
      "metadata": {
        "id": "gCKelptZdvam",
        "outputId": "c6b33e2b-c5b4-45cf-b890-a740c5bbd520",
        "colab": {
          "base_uri": "https://localhost:8080/"
        }
      },
      "execution_count": null,
      "outputs": [
        {
          "output_type": "stream",
          "name": "stdout",
          "text": [
            "\n",
            "True\n",
            "False\n",
            "\n"
          ]
        }
      ]
    },
    {
      "cell_type": "code",
      "source": [
        "# Define a function 'test' that takes a list 'nums' and an integer 'n' as arguments\n",
        "# The function checks if all elements in the 'nums' list are greater than 'n' and returns the result\n",
        "def test(nums, n):\n",
        "  return(all(x > n for x in nums))\n",
        "\n",
        "# Create a list 'nums' containing integer values\n",
        "nums = [10, 20, 30, 40, 50, 60, 70, 80, 90, 100]\n",
        "\n",
        "# Print the original list of numbers\n",
        "print(\"Original list numbers:\")\n",
        "print(nums)\n",
        "\n",
        "# Set the value fo 'n' to 12\n",
        "n = 12\n",
        "\n",
        "# Print a message indicating that we're checking if all numbers in the list are greater than 'n'\n",
        "print(\"\\nCheck whether all numbers of the said list are greater than\", n)\n",
        "\n",
        "# Call the 'test' function to check if all numbers are greater than 'n' and print the result\n",
        "print(test(nums, n))\n",
        "\n",
        "# Set the value of 'n' to 5\n",
        "n = 5\n",
        "\n",
        "# Print a message indicating that we're checking if all numbers in the list are greater than 'n'\n",
        "print(\"\\nCheck whether all numbers of the said list are greater than\", n)\n",
        "\n",
        "# Call the 'test' function again with the updated 'n' value and print the result\n",
        "print(test(nums, n))"
      ],
      "metadata": {
        "id": "VxnW6WL4eIVD",
        "outputId": "ca6cd087-fee2-41e4-cd4a-10790d5261f3",
        "colab": {
          "base_uri": "https://localhost:8080/"
        }
      },
      "execution_count": null,
      "outputs": [
        {
          "output_type": "stream",
          "name": "stdout",
          "text": [
            "Original list numbers:\n",
            "[10, 20, 30, 40, 50, 60, 70, 80, 90, 100]\n",
            "\n",
            "Check whether all numbers of the said list are greater than 12\n",
            "False\n",
            "\n",
            "Check whether all numbers of the said list are greater than 5\n",
            "True\n"
          ]
        }
      ]
    },
    {
      "cell_type": "markdown",
      "source": [
        "## #84\n",
        "Write a Python program to count the number of occurrences of a specific character in a string"
      ],
      "metadata": {
        "id": "EKIdeBH2fKfE"
      }
    },
    {
      "cell_type": "code",
      "source": [
        "# Create a string 's' containing a sentence\n",
        "s = \"The quick brown fox jumps over the lazy dog\"\n",
        "\n",
        "# Print a message indicating the original string\n",
        "print(\"Original string:\")\n",
        "\n",
        "# Print the original string 's'\n",
        "print(s)\n",
        "\n",
        "# Print a message indicating the number of occurrences of 'o' in the string\n",
        "print(\"Number of occurrences of 'o' in the said string:\")\n",
        "\n",
        "# Print the count of occurrences of the character 'o' in the string 's'.\n",
        "print(s.count(\"o\"))"
      ],
      "metadata": {
        "id": "oah_5oaLfKQx",
        "outputId": "e0a41769-1e03-4c63-ce4e-8022836f3c4f",
        "colab": {
          "base_uri": "https://localhost:8080/"
        }
      },
      "execution_count": null,
      "outputs": [
        {
          "output_type": "stream",
          "name": "stdout",
          "text": [
            "Original string:\n",
            "The quick brown fox jumps over the lazy dog\n",
            "Number of occurrences of 'o' in the said string:\n",
            "4\n"
          ]
        }
      ]
    },
    {
      "cell_type": "code",
      "source": [
        "# Create a string 's' containing a sentence\n",
        "s = \"The quick brown fox jumps over the lazy dog.\"\n",
        "\n",
        "# Print a message indicating the original string.\n",
        "print(\"Original string:\")\n",
        "\n",
        "# Print the original string 's'\n",
        "print(s)\n",
        "\n",
        "# Print a message indicating the number of occurrences of 'o' in the string\n",
        "print(\"Number of occurrences of 'o' in the said string:\")\n",
        "\n",
        "# Initialize a counter variable 'ctr' to 0\n",
        "ctr = 0\n",
        "\n",
        "# Iterate througheach character 'c' in the string 's'\n",
        "for c in s:\n",
        "  # Check if the character 'c' is equal to 'o'\n",
        "  if c == 'o':\n",
        "    # If 'c' is 'o', increment the counter 'ctr' by 1\n",
        "    ctr = ctr + 1\n",
        "\n",
        "# Print the final count of occurrences of 'o' in the string 's'\n",
        "print(ctr)"
      ],
      "metadata": {
        "id": "WVdZ_4vNfvTh",
        "outputId": "7fbca4d1-ef0a-44c4-ac43-42f25e3b1082",
        "colab": {
          "base_uri": "https://localhost:8080/"
        }
      },
      "execution_count": null,
      "outputs": [
        {
          "output_type": "stream",
          "name": "stdout",
          "text": [
            "Original string:\n",
            "The quick brown fox jumps over the lazy dog.\n",
            "Number of occurrences of 'o' in the said string:\n",
            "4\n"
          ]
        }
      ]
    },
    {
      "cell_type": "markdown",
      "source": [
        "## #85\n",
        "Write a Python program to check whether a file path is a file or a directory"
      ],
      "metadata": {
        "id": "JyL1RTzjgbLo"
      }
    },
    {
      "cell_type": "code",
      "source": [
        "# Import the 'os' module to access operating system functionalities\n",
        "import os\n",
        "\n",
        "# Define the path to a file or directory names 'abc.txt'\n",
        "path = \"abd.txt\"\n",
        "\n",
        "# Check if the path refers to a directory\n",
        "if os.path.isdir(path):\n",
        "  # Print a message indicating that it is a directory\n",
        "  print(\"\\nIt is a directory\")\n",
        "\n",
        "# Check if the path refers to a regular file\n",
        "elif os.path.isfile(path):\n",
        "  # Print a message indicating that it is a normal file\n",
        "  print(\"\\nIt is a normal file\")\n",
        "\n",
        "# If the path doesn't match a directory or a regular file, assume it's a special file (e.g., socket, FIFO, device file).\n",
        "else:\n",
        "  # Print a message indicating that it is a special file\n",
        "  print(\"It is a special file (socket, FIFO, device file)\")\n",
        "\n",
        "# Print a newline character for spacing\n",
        "print()"
      ],
      "metadata": {
        "id": "cVB9aAmvgmBS",
        "outputId": "129b1421-31d2-4f57-e84f-519620cc5467",
        "colab": {
          "base_uri": "https://localhost:8080/"
        }
      },
      "execution_count": null,
      "outputs": [
        {
          "output_type": "stream",
          "name": "stdout",
          "text": [
            "It is a special file (socket, FIFO, device file)\n",
            "\n"
          ]
        }
      ]
    },
    {
      "cell_type": "markdown",
      "source": [
        "## #86\n",
        "Write a Python program to get the ASCII value of a character\n",
        "\n",
        "ASCII (Listeni/ˈæski/ ass-kee), abbreviated from American Standard Code for Information Interchange, is a character encoding standard. ASCII codes represent text in computers, telecommunications equipment, and other devices. Most modern character-encoding schemes are based on ASCII, although they support many additional characters."
      ],
      "metadata": {
        "id": "31Yt96gEhXnG"
      }
    },
    {
      "cell_type": "code",
      "source": [
        "# Print a newline character for spacing\n",
        "print()\n",
        "\n",
        "# Print the Unicord code point of the character 'a'\n",
        "print(ord('a'))\n",
        "\n",
        "# Print the Unicode code point of the character 'A'\n",
        "print(ord('A'))\n",
        "\n",
        "# Print the Unicode code point of the character '1'\n",
        "print(ord('1'))\n",
        "\n",
        "# Print the Unicode code point of the character '@'\n",
        "print(ord('@'))\n",
        "\n",
        "# Print a newline character for spacing\n",
        "print()"
      ],
      "metadata": {
        "id": "oRuyrqPqhfr6",
        "outputId": "5a630dd3-c002-442a-c37e-142142535ee9",
        "colab": {
          "base_uri": "https://localhost:8080/"
        }
      },
      "execution_count": null,
      "outputs": [
        {
          "output_type": "stream",
          "name": "stdout",
          "text": [
            "\n",
            "97\n",
            "65\n",
            "49\n",
            "64\n",
            "\n"
          ]
        }
      ]
    },
    {
      "cell_type": "markdown",
      "source": [
        "## #87\n",
        "Write a Python program to get the size of a file"
      ],
      "metadata": {
        "id": "qGyT3uMPixiG"
      }
    },
    {
      "cell_type": "code",
      "source": [
        "# Improt the os module for file operations\n",
        "import os\n",
        "# Get the size of teh file \"abc.txt\"\n",
        "file_size = os.path.getsize(\"abc.txt\")\n",
        "# Print the size of the file \"abc.txt\" in bytes\n",
        "print(\"\\nThe size of abc.txt is:\", file_size, \"Bytes\")\n",
        "# Print a newline character for spacing\n",
        "print()"
      ],
      "metadata": {
        "id": "L8_ES1J-i1Uw",
        "outputId": "2419f47b-df0a-4a10-aaa5-1b78f77e2f4e",
        "colab": {
          "base_uri": "https://localhost:8080/",
          "height": 332
        }
      },
      "execution_count": null,
      "outputs": [
        {
          "output_type": "error",
          "ename": "FileNotFoundError",
          "evalue": "[Errno 2] No such file or directory: 'abc.txt'",
          "traceback": [
            "\u001b[0;31m---------------------------------------------------------------------------\u001b[0m",
            "\u001b[0;31mFileNotFoundError\u001b[0m                         Traceback (most recent call last)",
            "\u001b[0;32m<ipython-input-23-19deacfc458e>\u001b[0m in \u001b[0;36m<cell line: 4>\u001b[0;34m()\u001b[0m\n\u001b[1;32m      2\u001b[0m \u001b[0;32mimport\u001b[0m \u001b[0mos\u001b[0m\u001b[0;34m\u001b[0m\u001b[0;34m\u001b[0m\u001b[0m\n\u001b[1;32m      3\u001b[0m \u001b[0;31m# Get the size of teh file \"abc.txt\"\u001b[0m\u001b[0;34m\u001b[0m\u001b[0;34m\u001b[0m\u001b[0m\n\u001b[0;32m----> 4\u001b[0;31m \u001b[0mfile_size\u001b[0m \u001b[0;34m=\u001b[0m \u001b[0mos\u001b[0m\u001b[0;34m.\u001b[0m\u001b[0mpath\u001b[0m\u001b[0;34m.\u001b[0m\u001b[0mgetsize\u001b[0m\u001b[0;34m(\u001b[0m\u001b[0;34m\"abc.txt\"\u001b[0m\u001b[0;34m)\u001b[0m\u001b[0;34m\u001b[0m\u001b[0;34m\u001b[0m\u001b[0m\n\u001b[0m\u001b[1;32m      5\u001b[0m \u001b[0;31m# Print the size of the file \"abc.txt\" in bytes\u001b[0m\u001b[0;34m\u001b[0m\u001b[0;34m\u001b[0m\u001b[0m\n\u001b[1;32m      6\u001b[0m \u001b[0mprint\u001b[0m\u001b[0;34m(\u001b[0m\u001b[0;34m\"\\nThe size of abc.txt is:\"\u001b[0m\u001b[0;34m,\u001b[0m \u001b[0mfile_size\u001b[0m\u001b[0;34m,\u001b[0m \u001b[0;34m\"Bytes\"\u001b[0m\u001b[0;34m)\u001b[0m\u001b[0;34m\u001b[0m\u001b[0;34m\u001b[0m\u001b[0m\n",
            "\u001b[0;32m/usr/lib/python3.10/genericpath.py\u001b[0m in \u001b[0;36mgetsize\u001b[0;34m(filename)\u001b[0m\n\u001b[1;32m     48\u001b[0m \u001b[0;32mdef\u001b[0m \u001b[0mgetsize\u001b[0m\u001b[0;34m(\u001b[0m\u001b[0mfilename\u001b[0m\u001b[0;34m)\u001b[0m\u001b[0;34m:\u001b[0m\u001b[0;34m\u001b[0m\u001b[0;34m\u001b[0m\u001b[0m\n\u001b[1;32m     49\u001b[0m     \u001b[0;34m\"\"\"Return the size of a file, reported by os.stat().\"\"\"\u001b[0m\u001b[0;34m\u001b[0m\u001b[0;34m\u001b[0m\u001b[0m\n\u001b[0;32m---> 50\u001b[0;31m     \u001b[0;32mreturn\u001b[0m \u001b[0mos\u001b[0m\u001b[0;34m.\u001b[0m\u001b[0mstat\u001b[0m\u001b[0;34m(\u001b[0m\u001b[0mfilename\u001b[0m\u001b[0;34m)\u001b[0m\u001b[0;34m.\u001b[0m\u001b[0mst_size\u001b[0m\u001b[0;34m\u001b[0m\u001b[0;34m\u001b[0m\u001b[0m\n\u001b[0m\u001b[1;32m     51\u001b[0m \u001b[0;34m\u001b[0m\u001b[0m\n\u001b[1;32m     52\u001b[0m \u001b[0;34m\u001b[0m\u001b[0m\n",
            "\u001b[0;31mFileNotFoundError\u001b[0m: [Errno 2] No such file or directory: 'abc.txt'"
          ]
        }
      ]
    },
    {
      "cell_type": "markdown",
      "source": [
        "## #88\n",
        "Given variables x=30 and y=20, write a Python program to print \"30+20=50\""
      ],
      "metadata": {
        "id": "fpOfAIMXjPN9"
      }
    },
    {
      "cell_type": "code",
      "source": [
        "# Define two variables, x, and y, and assign values 30 and 20, respectively\n",
        "x = 30\n",
        "y = 20\n",
        "# Print the sum of x and y using string formatting\n",
        "print(\"\\n%d+%d=%d\" % (x, y, x+y))"
      ],
      "metadata": {
        "id": "djdYQtcyjYyI",
        "outputId": "5d9ada5a-fe83-4cb6-f1b7-ccfadc1782b2",
        "colab": {
          "base_uri": "https://localhost:8080/"
        }
      },
      "execution_count": null,
      "outputs": [
        {
          "output_type": "stream",
          "name": "stdout",
          "text": [
            "\n",
            "30+20=50\n"
          ]
        }
      ]
    },
    {
      "cell_type": "code",
      "source": [
        "# Define two variables, x, and y, and assign values 30 and 20, respectively\n",
        "x = 30\n",
        "y = 20\n",
        "# Print the sum of x and y using the format method to insert the variables\n",
        "print(\"{0}+{1}={2}\".format(x, y, x + y))"
      ],
      "metadata": {
        "id": "fceKCOEsjsqt",
        "outputId": "70cb55fc-f838-40f4-c048-77586e8a2832",
        "colab": {
          "base_uri": "https://localhost:8080/"
        }
      },
      "execution_count": null,
      "outputs": [
        {
          "output_type": "stream",
          "name": "stdout",
          "text": [
            "30+20=50\n"
          ]
        }
      ]
    },
    {
      "cell_type": "code",
      "source": [
        "# Define two variables, x, and y, and assign values 30 and 20, respectively\n",
        "x = 30\n",
        "y = 20\n",
        "# Print the sum of x and y using the format method to insert the variables\n",
        "print(\"{}+{}={}\".format(x, y, x + y))"
      ],
      "metadata": {
        "id": "cuzmK4JijvqY",
        "outputId": "01cf4cd5-97ce-406d-bc17-eee02207f390",
        "colab": {
          "base_uri": "https://localhost:8080/"
        }
      },
      "execution_count": null,
      "outputs": [
        {
          "output_type": "stream",
          "name": "stdout",
          "text": [
            "30+20=50\n"
          ]
        }
      ]
    },
    {
      "cell_type": "markdown",
      "source": [
        "## #89\n",
        "Write a Python program to perform an action if a condition is true\n",
        "\n",
        "Given a variable name, if the value is 1, dispaly the string \"First day of a Month!\" and do nothing if the value is not equal."
      ],
      "metadata": {
        "id": "kE4UGTw1kEec"
      }
    },
    {
      "cell_type": "code",
      "source": [
        "# Assign the value 1 to the variable n\n",
        "n = 1\n",
        "# Check if the value of n is equal to 1\n",
        "# If the condition is True, print the message indicating the first day of the month\n",
        "if n == 1:\n",
        "  print(\"\\nFirst day of a Month!\")\n",
        "# Print an empty line\n",
        "print()"
      ],
      "metadata": {
        "id": "pLdgUjRokPDZ",
        "outputId": "4fa982ec-c1f6-4cbc-e17d-3b83bfc510bb",
        "colab": {
          "base_uri": "https://localhost:8080/"
        }
      },
      "execution_count": null,
      "outputs": [
        {
          "output_type": "stream",
          "name": "stdout",
          "text": [
            "\n",
            "First day of a Month!\n",
            "\n"
          ]
        }
      ]
    },
    {
      "cell_type": "code",
      "source": [
        "# Prompt the user to input a number and convert it to a floating-point value\n",
        "n = float(input(\"Input a number: \"))\n",
        "\n",
        "# Check if the value of n is equal to 1\n",
        "# If the condition is True, print the message indicating the first day of the month\n",
        "if (n == 1):\n",
        "  print(\"First day of a Month!\")\n",
        "# If the condition is False, print an empty line\n",
        "else:\n",
        "  print()"
      ],
      "metadata": {
        "id": "nvvUsh2GkgDv",
        "outputId": "b31e3dd6-b96b-458d-d456-9bd7d61e322e",
        "colab": {
          "base_uri": "https://localhost:8080/"
        }
      },
      "execution_count": null,
      "outputs": [
        {
          "output_type": "stream",
          "name": "stdout",
          "text": [
            "Input a number: 1\n",
            "First day of a Month!\n"
          ]
        }
      ]
    },
    {
      "cell_type": "code",
      "source": [
        "# Define a function named file_copy that takes two arguments: src (source file) and dest (destination file).\n",
        "def file_copy(src, dest):\n",
        "    # Use the 'with' statement to open the source file for reading ('r') and the destination file for writing ('w').\n",
        "    with open(src) as f, open(dest, 'w') as d:\n",
        "        # Read the content of the source file and write it to the destination file.\n",
        "\n",
        "# Call the file_copy function with the source file \"untitled0.py\" and the destination file \"z.py\".\n",
        "      file_copy(\"untitled0.py\", \"z.py\")\n",
        "\n",
        "# Use the 'with' statement to open the 'z.py' file for reading ('r').\n",
        "with open('z.py', 'r') as filehandle:\n",
        "    # Iterate through the lines in the 'z.py' file.\n",
        "    for line in filehandle:\n",
        "        # Print each line, and specify 'end' as an empty string to avoid extra line breaks.\n",
        "        print(line, end = '')"
      ],
      "metadata": {
        "id": "bFBHBFn9k494",
        "outputId": "bfe2151a-f2fc-4a4d-ac9e-275250d5410f",
        "colab": {
          "base_uri": "https://localhost:8080/",
          "height": 211
        }
      },
      "execution_count": null,
      "outputs": [
        {
          "output_type": "error",
          "ename": "FileNotFoundError",
          "evalue": "[Errno 2] No such file or directory: 'z.py'",
          "traceback": [
            "\u001b[0;31m---------------------------------------------------------------------------\u001b[0m",
            "\u001b[0;31mFileNotFoundError\u001b[0m                         Traceback (most recent call last)",
            "\u001b[0;32m<ipython-input-35-6214c67b4c4b>\u001b[0m in \u001b[0;36m<cell line: 11>\u001b[0;34m()\u001b[0m\n\u001b[1;32m      9\u001b[0m \u001b[0;34m\u001b[0m\u001b[0m\n\u001b[1;32m     10\u001b[0m \u001b[0;31m# Use the 'with' statement to open the 'z.py' file for reading ('r').\u001b[0m\u001b[0;34m\u001b[0m\u001b[0;34m\u001b[0m\u001b[0m\n\u001b[0;32m---> 11\u001b[0;31m \u001b[0;32mwith\u001b[0m \u001b[0mopen\u001b[0m\u001b[0;34m(\u001b[0m\u001b[0;34m'z.py'\u001b[0m\u001b[0;34m,\u001b[0m \u001b[0;34m'r'\u001b[0m\u001b[0;34m)\u001b[0m \u001b[0;32mas\u001b[0m \u001b[0mfilehandle\u001b[0m\u001b[0;34m:\u001b[0m\u001b[0;34m\u001b[0m\u001b[0;34m\u001b[0m\u001b[0m\n\u001b[0m\u001b[1;32m     12\u001b[0m     \u001b[0;31m# Iterate through the lines in the 'z.py' file.\u001b[0m\u001b[0;34m\u001b[0m\u001b[0;34m\u001b[0m\u001b[0m\n\u001b[1;32m     13\u001b[0m     \u001b[0;32mfor\u001b[0m \u001b[0mline\u001b[0m \u001b[0;32min\u001b[0m \u001b[0mfilehandle\u001b[0m\u001b[0;34m:\u001b[0m\u001b[0;34m\u001b[0m\u001b[0;34m\u001b[0m\u001b[0m\n",
            "\u001b[0;31mFileNotFoundError\u001b[0m: [Errno 2] No such file or directory: 'z.py'"
          ]
        }
      ]
    },
    {
      "cell_type": "markdown",
      "source": [
        "## #91\n",
        "Write a Python program to swap two variables"
      ],
      "metadata": {
        "id": "mwKBbvJll8-6"
      }
    },
    {
      "cell_type": "code",
      "source": [
        "# Initialize two variables 'a' and 'b' with values 30 and 20, respectively\n",
        "a = 30\n",
        "b = 20\n",
        "# Print the values of 'a' and 'b' before swapping, using string formatting\n",
        "print(\"\\nBefore swap a = %d and b = %d\" %(a, b))\n",
        "# Swap the values of 'a' and 'b' using a tuple assignment. This line effectively swaps the values.\n",
        "a, b = b, a\n",
        "# Print the values of 'a' and 'b' after swapping, using string formatting\n",
        "print(\"\\nAfter swaping a = %d and b = %d\" %(a, b))"
      ],
      "metadata": {
        "id": "IkNmH9yAlb4s",
        "outputId": "243d477f-80c1-4128-b79c-3508ad67f13b",
        "colab": {
          "base_uri": "https://localhost:8080/"
        }
      },
      "execution_count": null,
      "outputs": [
        {
          "output_type": "stream",
          "name": "stdout",
          "text": [
            "\n",
            "Before swap a = 30 and b = 20\n",
            "\n",
            "After swaping a = 20 and b = 30\n"
          ]
        }
      ]
    },
    {
      "cell_type": "code",
      "source": [],
      "metadata": {
        "id": "MCUlnINvmLNX"
      },
      "execution_count": null,
      "outputs": []
    },
    {
      "cell_type": "markdown",
      "source": [
        "## #92\n",
        "Write a Python program to define a string containing special characters in various forms"
      ],
      "metadata": {
        "id": "N18ANY3Gm3iP"
      }
    },
    {
      "cell_type": "code",
      "source": [
        "# Print a string containing special characters without escaping.\n",
        "print()\n",
        "print(\"\\#{'}${\\\"}@/\")\n",
        "\n",
        "# Print a string containing special characters with escaped single quotes.\n",
        "print(\"\\#{'}${\\\"}@/\")\n",
        "\n",
        "# Print a raw string using triple-quotes with special characters.\n",
        "print(r\"\"\"\\#{'}${\"}@/\"\"\")\n",
        "\n",
        "# Print a string containing special characters without escaping.\n",
        "print('\\#{\\'}${\"}@/')\n",
        "\n",
        "# Print a string containing special characters with escaped single quotes.\n",
        "print('\\#{'\"'\"'}${\"}@/')\n",
        "\n",
        "# Print a raw string using triple-quotes with special characters.\n",
        "print(r'''\\#{'}${\"}@/''')\n",
        "print()"
      ],
      "metadata": {
        "id": "ML6Vtssgm8ip",
        "outputId": "97b67c44-ac18-4326-8e7c-3a59ebf16d24",
        "colab": {
          "base_uri": "https://localhost:8080/"
        }
      },
      "execution_count": null,
      "outputs": [
        {
          "output_type": "stream",
          "name": "stdout",
          "text": [
            "\n",
            "\\#{'}${\"}@/\n",
            "\\#{'}${\"}@/\n",
            "\\#{'}${\"}@/\n",
            "\\#{'}${\"}@/\n",
            "\\#{'}${\"}@/\n",
            "\\#{'}${\"}@/\n",
            "\n"
          ]
        }
      ]
    },
    {
      "cell_type": "markdown",
      "source": [
        "## #93\n",
        "Write a Python program to get the Identity, Type, and Value of an object"
      ],
      "metadata": {
        "id": "mPTb2Aa7oPG8"
      }
    },
    {
      "cell_type": "code",
      "source": [
        "# Define a variable 'x' and assign the value 34 to it\n",
        "x = 34\n",
        "\n",
        "# Print the identity of the variable 'x'\n",
        "print(\"\\nIdentity: \", x)\n",
        "\n",
        "# Print the data type of the variable 'x'\n",
        "print(\"\\nType: \", type(x))\n",
        "\n",
        "# Print the memeory address (value) of the variable 'x'\n",
        "print(\"\\nValue: \", id(x))"
      ],
      "metadata": {
        "id": "7gTw5BRQoTs6",
        "outputId": "6b872201-f705-4760-e457-56db8662c8f7",
        "colab": {
          "base_uri": "https://localhost:8080/"
        }
      },
      "execution_count": null,
      "outputs": [
        {
          "output_type": "stream",
          "name": "stdout",
          "text": [
            "\n",
            "Identity:  34\n",
            "\n",
            "Type:  <class 'int'>\n",
            "\n",
            "Value:  140190283072784\n"
          ]
        }
      ]
    },
    {
      "cell_type": "code",
      "source": [
        "# Define two variables 'a' and 'b' with some values\n",
        "a = 34\n",
        "b = 33\n",
        "# Print the values of 'a' and 'b'\n",
        "print('a = ', a)\n",
        "print('b = ', b)\n",
        "# Define another variable 'c' and assign the value of 'a' to it\n",
        "c = a\n",
        "# Compare the values of 'a' and 'b' for identity\n",
        "print(\"compare a and b:\")\n",
        "print(a is b)\n",
        "# Print the memory address of variable 'a'\n",
        "print(\"\\nMemeory address of a:\")\n",
        "print(id(a))\n",
        "# Print the memory address of variable 'b'\n",
        "print(\"Memory address of b:\")\n",
        "print(id(b))\n",
        "# Compare the memory addresses of 'a' and 'b'\n",
        "print(\"\\nCompare the memory address:\")\n",
        "print(id(a) == id(b))\n",
        "# Compare the values of 'b' and 'c' for identity\n",
        "print(\"\\nCompare b and c:\")\n",
        "print(b is c)\n",
        "# Print the memory address of variable 'c'\n",
        "print(\"Memory address of c:\")\n",
        "print(id(c))"
      ],
      "metadata": {
        "id": "rPwWa3MWor0c",
        "outputId": "b84e5a57-f5ad-4c95-9087-5304cf044aa2",
        "colab": {
          "base_uri": "https://localhost:8080/"
        }
      },
      "execution_count": null,
      "outputs": [
        {
          "output_type": "stream",
          "name": "stdout",
          "text": [
            "a =  34\n",
            "b =  33\n",
            "compare a and b:\n",
            "False\n",
            "\n",
            "Memeory address of a:\n",
            "140190283072784\n",
            "Memory address of b:\n",
            "140190283072752\n",
            "\n",
            "Compare the memory address:\n",
            "False\n",
            "\n",
            "Compare b and c:\n",
            "False\n",
            "Memory address of c:\n",
            "140190283072784\n"
          ]
        }
      ]
    },
    {
      "cell_type": "markdown",
      "source": [
        "## #94\n",
        "Write a Python program to convert the bytes in a given string to a list of integers"
      ],
      "metadata": {
        "id": "6denlcFYp2dw"
      }
    },
    {
      "cell_type": "code",
      "source": [
        "# Create a bytes object containing the bytes 'Abc'\n",
        "x = b'Abc'\n",
        "\n",
        "# Print an empty line for clarity\n",
        "print()\n",
        "\n",
        "# Convert the bytes of the said string to a list of integers and print the result\n",
        "print(\"Convert bytes of the said string to a list of integers:\")\n",
        "print(list(x))\n",
        "\n",
        "# Print an empty line for clarity\n",
        "print()"
      ],
      "metadata": {
        "id": "38KL7Megp7VL",
        "outputId": "f54eb801-808a-48ba-8ce6-1d29154c71aa",
        "colab": {
          "base_uri": "https://localhost:8080/"
        }
      },
      "execution_count": null,
      "outputs": [
        {
          "output_type": "stream",
          "name": "stdout",
          "text": [
            "\n",
            "Convert bytes of the said string to a list of integers:\n",
            "[65, 98, 99]\n",
            "\n"
          ]
        }
      ]
    },
    {
      "cell_type": "code",
      "source": [
        "# Define a string named S.\n",
        "S = \"The quick brown fox jumps over the lazy dog.\"\n",
        "\n",
        "# Print a message indicating the original string\n",
        "print(\"Original string:\")\n",
        "\n",
        "# Print the original string\n",
        "print(S)\n",
        "\n",
        "# Create an empty list named nums\n",
        "nums = []\n",
        "\n",
        "# Print a message to indicate the conversion of bytes to a list of integers\n",
        "print(\"\\nConvert bytes of the said string to a list of integers:\")\n",
        "\n",
        "# Iterate through each character (byte) in the string S and append its ASCII value to the nums list\n",
        "for chr in S:\n",
        "  nums.append(ord(chr))\n",
        "\n",
        "# Print the list of integers\n",
        "print(nums)"
      ],
      "metadata": {
        "id": "B0yDWDZpqc1M",
        "outputId": "00dd71ac-ba92-493c-9d8a-1c3542142495",
        "colab": {
          "base_uri": "https://localhost:8080/"
        }
      },
      "execution_count": null,
      "outputs": [
        {
          "output_type": "stream",
          "name": "stdout",
          "text": [
            "Original string:\n",
            "The quick brown fox jumps over the lazy dog.\n",
            "\n",
            "Convert bytes of the said string to a list of integers:\n",
            "[84, 104, 101, 32, 113, 117, 105, 99, 107, 32, 98, 114, 111, 119, 110, 32, 102, 111, 120, 32, 106, 117, 109, 112, 115, 32, 111, 118, 101, 114, 32, 116, 104, 101, 32, 108, 97, 122, 121, 32, 100, 111, 103, 46]\n"
          ]
        }
      ]
    },
    {
      "cell_type": "markdown",
      "source": [
        "## #95\n",
        "Write a Python program to check whether a string is numeric"
      ],
      "metadata": {
        "id": "JkKBKXP1q_Vl"
      }
    },
    {
      "cell_type": "code",
      "source": [
        "# Define a string named str containing the value 'a123'\n",
        "str = 'a123'\n",
        "\n",
        "# Uncomment the line below to test a different string (e.g., '123')\n",
        "# str = '123'\n",
        "\n",
        "# Try to convert the string str to a float\n",
        "try:\n",
        "  i = float(str)\n",
        "except (ValueError, TypeError):\n",
        "  # If a ValueError or TypeError occurs during conversion, print 'Not numeric'\n",
        "  print('\\nNot numeric')\n",
        "\n",
        "# Print a newline character to format the output\n",
        "print()"
      ],
      "metadata": {
        "id": "iiszgyX6rEvT",
        "outputId": "6a325023-2b25-435f-fbb1-ad39b49319f8",
        "colab": {
          "base_uri": "https://localhost:8080/"
        }
      },
      "execution_count": null,
      "outputs": [
        {
          "output_type": "stream",
          "name": "stdout",
          "text": [
            "\n"
          ]
        }
      ]
    },
    {
      "cell_type": "code",
      "source": [
        "# Doesn't work for floats\n",
        "# Prompt the user for input and store it in the 'text' variable\n",
        "text = input(\"Input a word or numbers: \")\n",
        "\n",
        "# Check if the input consists of digits only using the 'isdigit' method\n",
        "if text.isdigit():\n",
        "  # If the input contains only digits, print \"The input value is numbers.\"\n",
        "  print(\"The input value is numbers.\")\n",
        "else:\n",
        "  # If the input contains characters other than digits, print \"The input value is string\"\n",
        "  print(\"The input value is string.\")"
      ],
      "metadata": {
        "id": "nIweeFZcrn6B",
        "outputId": "b8747bd2-1bef-4711-c62d-b802c7a839ee",
        "colab": {
          "base_uri": "https://localhost:8080/"
        }
      },
      "execution_count": null,
      "outputs": [
        {
          "output_type": "stream",
          "name": "stdout",
          "text": [
            "Input a word or numbers: 6513\n",
            "The input value is numbers.\n"
          ]
        }
      ]
    },
    {
      "cell_type": "markdown",
      "source": [
        "## #96\n",
        "Write a Python program to print the current call stack"
      ],
      "metadata": {
        "id": "MH1jMXntsH0Q"
      }
    },
    {
      "cell_type": "code",
      "source": [
        "# Import the 'trackback' module\n",
        "import traceback\n",
        "\n",
        "# Print an empty line for formatting\n",
        "print()\n",
        "\n",
        "# Define a function 'f1' that calls the 'abc' function\n",
        "def f1():\n",
        "  return abc()\n",
        "\n",
        "# Define the 'abc' function taht prints the current stack using 'traceback.print_stack()'\n",
        "def abc():\n",
        "  traceback.print_stack()\n",
        "\n",
        "# Call the 'f1' function, which, in turn, calls the 'abc' function\n",
        "f1()\n",
        "\n",
        "# Print an empty line for formatting\n",
        "print()"
      ],
      "metadata": {
        "id": "Wo0GAZmRsN3j",
        "outputId": "f554966a-acdc-421e-be9a-979eb11700b8",
        "colab": {
          "base_uri": "https://localhost:8080/"
        }
      },
      "execution_count": null,
      "outputs": [
        {
          "output_type": "stream",
          "name": "stdout",
          "text": [
            "\n",
            "\n"
          ]
        },
        {
          "output_type": "stream",
          "name": "stderr",
          "text": [
            "  File \"/usr/lib/python3.10/runpy.py\", line 196, in _run_module_as_main\n",
            "    return _run_code(code, main_globals, None,\n",
            "  File \"/usr/lib/python3.10/runpy.py\", line 86, in _run_code\n",
            "    exec(code, run_globals)\n",
            "  File \"/usr/local/lib/python3.10/dist-packages/colab_kernel_launcher.py\", line 37, in <module>\n",
            "    ColabKernelApp.launch_instance()\n",
            "  File \"/usr/local/lib/python3.10/dist-packages/traitlets/config/application.py\", line 992, in launch_instance\n",
            "    app.start()\n",
            "  File \"/usr/local/lib/python3.10/dist-packages/ipykernel/kernelapp.py\", line 619, in start\n",
            "    self.io_loop.start()\n",
            "  File \"/usr/local/lib/python3.10/dist-packages/tornado/platform/asyncio.py\", line 195, in start\n",
            "    self.asyncio_loop.run_forever()\n",
            "  File \"/usr/lib/python3.10/asyncio/base_events.py\", line 603, in run_forever\n",
            "    self._run_once()\n",
            "  File \"/usr/lib/python3.10/asyncio/base_events.py\", line 1909, in _run_once\n",
            "    handle._run()\n",
            "  File \"/usr/lib/python3.10/asyncio/events.py\", line 80, in _run\n",
            "    self._context.run(self._callback, *self._args)\n",
            "  File \"/usr/local/lib/python3.10/dist-packages/tornado/ioloop.py\", line 685, in <lambda>\n",
            "    lambda f: self._run_callback(functools.partial(callback, future))\n",
            "  File \"/usr/local/lib/python3.10/dist-packages/tornado/ioloop.py\", line 738, in _run_callback\n",
            "    ret = callback()\n",
            "  File \"/usr/local/lib/python3.10/dist-packages/tornado/gen.py\", line 825, in inner\n",
            "    self.ctx_run(self.run)\n",
            "  File \"/usr/local/lib/python3.10/dist-packages/tornado/gen.py\", line 786, in run\n",
            "    yielded = self.gen.send(value)\n",
            "  File \"/usr/local/lib/python3.10/dist-packages/ipykernel/kernelbase.py\", line 361, in process_one\n",
            "    yield gen.maybe_future(dispatch(*args))\n",
            "  File \"/usr/local/lib/python3.10/dist-packages/tornado/gen.py\", line 234, in wrapper\n",
            "    yielded = ctx_run(next, result)\n",
            "  File \"/usr/local/lib/python3.10/dist-packages/ipykernel/kernelbase.py\", line 261, in dispatch_shell\n",
            "    yield gen.maybe_future(handler(stream, idents, msg))\n",
            "  File \"/usr/local/lib/python3.10/dist-packages/tornado/gen.py\", line 234, in wrapper\n",
            "    yielded = ctx_run(next, result)\n",
            "  File \"/usr/local/lib/python3.10/dist-packages/ipykernel/kernelbase.py\", line 539, in execute_request\n",
            "    self.do_execute(\n",
            "  File \"/usr/local/lib/python3.10/dist-packages/tornado/gen.py\", line 234, in wrapper\n",
            "    yielded = ctx_run(next, result)\n",
            "  File \"/usr/local/lib/python3.10/dist-packages/ipykernel/ipkernel.py\", line 302, in do_execute\n",
            "    res = shell.run_cell(code, store_history=store_history, silent=silent)\n",
            "  File \"/usr/local/lib/python3.10/dist-packages/ipykernel/zmqshell.py\", line 539, in run_cell\n",
            "    return super(ZMQInteractiveShell, self).run_cell(*args, **kwargs)\n",
            "  File \"/usr/local/lib/python3.10/dist-packages/IPython/core/interactiveshell.py\", line 2975, in run_cell\n",
            "    result = self._run_cell(\n",
            "  File \"/usr/local/lib/python3.10/dist-packages/IPython/core/interactiveshell.py\", line 3030, in _run_cell\n",
            "    return runner(coro)\n",
            "  File \"/usr/local/lib/python3.10/dist-packages/IPython/core/async_helpers.py\", line 78, in _pseudo_sync_runner\n",
            "    coro.send(None)\n",
            "  File \"/usr/local/lib/python3.10/dist-packages/IPython/core/interactiveshell.py\", line 3257, in run_cell_async\n",
            "    has_raised = await self.run_ast_nodes(code_ast.body, cell_name,\n",
            "  File \"/usr/local/lib/python3.10/dist-packages/IPython/core/interactiveshell.py\", line 3473, in run_ast_nodes\n",
            "    if (await self.run_code(code, result,  async_=asy)):\n",
            "  File \"/usr/local/lib/python3.10/dist-packages/IPython/core/interactiveshell.py\", line 3553, in run_code\n",
            "    exec(code_obj, self.user_global_ns, self.user_ns)\n",
            "  File \"<ipython-input-49-821bb03d2439>\", line 16, in <cell line: 16>\n",
            "    f1()\n",
            "  File \"<ipython-input-49-821bb03d2439>\", line 9, in f1\n",
            "    return abc()\n",
            "  File \"<ipython-input-49-821bb03d2439>\", line 13, in abc\n",
            "    traceback.print_stack()\n"
          ]
        }
      ]
    },
    {
      "cell_type": "markdown",
      "source": [
        "## #97\n",
        "Write a Python program to list the special variables used in the language"
      ],
      "metadata": {
        "id": "3UxQbdtzspKS"
      }
    },
    {
      "cell_type": "code",
      "source": [
        "# Improt the necessary modules\n",
        "\n",
        "# Create a set 's_var_names' containing unique variable names in the global namespace\n",
        "s_var_names = sorted((set(globals().keys()) | set(__builtins__.__dict__.keys())) - set('_ names i'.split()))\n",
        "\n",
        "# Print an empty line for formatting\n",
        "print()\n",
        "\n",
        "# Join variable names in groups of 8 and print them for better readability\n",
        "print('\\n'.join(' '.join(s_var_names[i:i+8]) for i in range(0, len(s_var_names), 8)))\n",
        "\n",
        "# Print an empty line for formatting\n",
        "print()"
      ],
      "metadata": {
        "id": "pHcvqNZhsuXz",
        "outputId": "4cd0b7d4-846b-43f8-bf9c-e48b08f106b2",
        "colab": {
          "base_uri": "https://localhost:8080/"
        }
      },
      "execution_count": null,
      "outputs": [
        {
          "output_type": "stream",
          "name": "stdout",
          "text": [
            "\n",
            "ArithmeticError AssertionError AttributeError BaseException BlockingIOError BrokenPipeError BufferError BytesWarning\n",
            "ChildProcessError ConnectionAbortedError ConnectionError ConnectionRefusedError ConnectionResetError D DeprecationWarning EOFError\n",
            "Ellipsis EncodingWarning EnvironmentError Exception False FileExistsError FileNotFoundError FloatingPointError\n",
            "FutureWarning GeneratorExit IOError ImportError ImportWarning In IndentationError IndexError\n",
            "InterruptedError IsADirectoryError KeyError KeyboardInterrupt L LookupError MemoryError ModuleNotFoundError\n",
            "NameError None NotADirectoryError NotImplemented NotImplementedError OSError Out OverflowError\n",
            "PendingDeprecationWarning PermissionError ProcessLookupError RecursionError ReferenceError ResourceWarning RuntimeError RuntimeWarning\n",
            "S StopAsyncIteration StopIteration SyntaxError SyntaxWarning SystemError SystemExit T\n",
            "TabError TimeoutError True TypeError UnboundLocalError UnicodeDecodeError UnicodeEncodeError UnicodeError\n",
            "UnicodeTranslateError UnicodeWarning UserWarning ValueError Warning ZeroDivisionError __ __IPYTHON__\n",
            "___ __annotations__ __build_class__ __builtin__ __builtins__ __debug__ __doc__ __import__\n",
            "__loader__ __name__ __package__ __spec__ _dh _i _i1 _i10\n",
            "_i11 _i12 _i13 _i14 _i15 _i16 _i17 _i18\n",
            "_i19 _i2 _i20 _i21 _i22 _i23 _i24 _i25\n",
            "_i26 _i27 _i28 _i29 _i3 _i30 _i31 _i32\n",
            "_i33 _i34 _i35 _i36 _i37 _i38 _i39 _i4\n",
            "_i40 _i41 _i42 _i43 _i44 _i45 _i46 _i47\n",
            "_i48 _i49 _i5 _i50 _i51 _i6 _i7 _i8\n",
            "_i9 _ih _ii _iii _oh a abc abs\n",
            "aiter all anext any ascii b bin bool\n",
            "breakpoint bytearray bytes c callable chr classmethod colors\n",
            "compile complex copyright credits ctr delattr dict dict_sum\n",
            "dir display divmod enumerate eval exec execfile exit\n",
            "f1 file_copy filter float format frozenset get_ipython getattr\n",
            "globals hasattr hash help hex id input int\n",
            "isinstance issubclass iter len license list list_of_colors locals\n",
            "map max memoryview min module_name n next num\n",
            "nums object oct open ord os path pow\n",
            "print property quit range repr reversed round runfile\n",
            "s set setattr slice sorted staticmethod str str1\n",
            "str2 str3 sum sum_tuple super sys test text\n",
            "textwrap traceback tuple type vars x y z\n",
            "zip\n",
            "\n"
          ]
        }
      ]
    },
    {
      "cell_type": "markdown",
      "source": [
        "## #98\n",
        "Write a Python program to get system time\n",
        "\n",
        "Note: The system time is important for debugging, network information, random number seeds, or something as simple as program performance"
      ],
      "metadata": {
        "id": "ajcARnZjtZkA"
      }
    },
    {
      "cell_type": "code",
      "source": [
        "# Import the 'time' module to work with time-related functions\n",
        "import time\n",
        "\n",
        "# Print an empty line for formatting\n",
        "print()\n",
        "\n",
        "# Get and print the current time using 'time.ctime()'\n",
        "print(time.ctime())\n",
        "\n",
        "# Print an empty line for formatting\n",
        "print()"
      ],
      "metadata": {
        "id": "SRWCiquZtivC",
        "outputId": "5bf43c74-d63b-4fde-b163-1be6fbf924f6",
        "colab": {
          "base_uri": "https://localhost:8080/"
        }
      },
      "execution_count": null,
      "outputs": [
        {
          "output_type": "stream",
          "name": "stdout",
          "text": [
            "\n",
            "Fri Mar 22 19:50:21 2024\n",
            "\n"
          ]
        }
      ]
    },
    {
      "cell_type": "code",
      "source": [
        "import datetime\n",
        "print(datetime.datetime.now())"
      ],
      "metadata": {
        "id": "tde7JSIqtutk",
        "outputId": "7b1992c7-333d-4360-90bb-227c7c01d437",
        "colab": {
          "base_uri": "https://localhost:8080/"
        }
      },
      "execution_count": null,
      "outputs": [
        {
          "output_type": "stream",
          "name": "stdout",
          "text": [
            "2024-03-22 19:50:39.913779\n"
          ]
        }
      ]
    },
    {
      "cell_type": "markdown",
      "source": [
        "## #99\n",
        "Write a Python program to clear the screen or terminal"
      ],
      "metadata": {
        "id": "ZHYKw4E_t0JA"
      }
    },
    {
      "cell_type": "code",
      "source": [
        "# Import the 'os' and 'time' modules to work with system commands and time-related functions, respectively\n",
        "import os\n",
        "import time\n",
        "\n",
        "# Execute the 'ls' command to list the contents of the current directory\n",
        "os.system(\"ls\")\n",
        "\n",
        "# Paus the program's execution for 2 seconds\n",
        "time.sleep(2)\n",
        "\n",
        "# Clear the terminal screen. (This comment is not entirely accurate; 'os.system('clear')' is used to clear the terminal screen.)\n",
        "os.system('clear')"
      ],
      "metadata": {
        "id": "h8r_rI0gt3mu",
        "outputId": "74b09e6d-fbe2-4fb0-bfa9-cca82a894cba",
        "colab": {
          "base_uri": "https://localhost:8080/"
        }
      },
      "execution_count": null,
      "outputs": [
        {
          "output_type": "execute_result",
          "data": {
            "text/plain": [
              "0"
            ]
          },
          "metadata": {},
          "execution_count": 54
        }
      ]
    },
    {
      "cell_type": "markdown",
      "source": [
        "## #100\n",
        "Write a Python program to get the name of the host on which the routine is running"
      ],
      "metadata": {
        "id": "hNCpcSf6uUyA"
      }
    },
    {
      "cell_type": "code",
      "source": [
        "# Import the 'socket' module to work with networking functionalities\n",
        "\n",
        "import socket\n",
        "# Use 'socket.gethostname()' to retrieve the name of the current host or machine\n",
        "host_name = socket.gethostname()\n",
        "\n",
        "# Print the host name to the console\n",
        "print(\"Host name:\", host_name)"
      ],
      "metadata": {
        "id": "blJc5dpDucYO",
        "outputId": "9ef87b65-0b32-4a59-8ca2-3af3b149adf7",
        "colab": {
          "base_uri": "https://localhost:8080/"
        }
      },
      "execution_count": null,
      "outputs": [
        {
          "output_type": "stream",
          "name": "stdout",
          "text": [
            "Host name: 11fb4831fb7b\n"
          ]
        }
      ]
    },
    {
      "cell_type": "code",
      "source": [
        "# Import the 'platform' module to retrieve system-related information\n",
        "import platform\n",
        "# Use 'platform.uname()' to obtain a tuple of information about the system, including the host name\n",
        "host_name = platform.uname()[1]\n",
        "\n",
        "# Print the host name to the console\n",
        "print(\"Host name:\", host_name)"
      ],
      "metadata": {
        "id": "Z9mWLYA9uo3l",
        "outputId": "087d542a-6aa2-4659-8f57-242e130af287",
        "colab": {
          "base_uri": "https://localhost:8080/"
        }
      },
      "execution_count": null,
      "outputs": [
        {
          "output_type": "stream",
          "name": "stdout",
          "text": [
            "Host name: 11fb4831fb7b\n"
          ]
        }
      ]
    },
    {
      "cell_type": "code",
      "source": [
        "# Import the 'os' module to access operating system-related functionality\n",
        "import os\n",
        "# Use 'os.uname().nodename' to retrienve the host name of the current system\n",
        "host_name = os.uname().nodename\n",
        "# Print the host name to the console\n",
        "print(\"Host name:\", host_name)"
      ],
      "metadata": {
        "id": "fKBZERulu5vY",
        "outputId": "73383266-f989-4fb7-9476-8c5dc861d4be",
        "colab": {
          "base_uri": "https://localhost:8080/"
        }
      },
      "execution_count": null,
      "outputs": [
        {
          "output_type": "stream",
          "name": "stdout",
          "text": [
            "Host name: 11fb4831fb7b\n"
          ]
        }
      ]
    },
    {
      "cell_type": "markdown",
      "source": [
        "## #101\n",
        "Write a Python program to access and print a URL's content to the console."
      ],
      "metadata": {
        "id": "txd9sY-8U_lO"
      }
    },
    {
      "cell_type": "code",
      "source": [
        "# Import the HTTPConnection class from the http.client module.\n",
        "from http.client import HTTPConnection\n",
        "\n",
        "# Create an HTTPConnection object for the \"example.com\" host.\n",
        "conn = HTTPConnection(\"example.com\")\n",
        "\n",
        "# Send a GET request to the root path (\"/\") of the host.\n",
        "conn.request(\"GET\", \"/\")\n",
        "\n",
        "# Get the response from the server.\n",
        "result = conn.getresponse()\n",
        "\n",
        "# Retrieve the entire contents of the response.\n",
        "contents = result.read()\n",
        "\n",
        "# Print the contents of the response.\n",
        "print(contents)\n"
      ],
      "metadata": {
        "colab": {
          "base_uri": "https://localhost:8080/"
        },
        "id": "oZxR4az7U-T0",
        "outputId": "2c42bf7b-07d6-45f6-fa5e-428a11419d93"
      },
      "execution_count": 43,
      "outputs": [
        {
          "output_type": "stream",
          "name": "stdout",
          "text": [
            "b'<!doctype html>\\n<html>\\n<head>\\n    <title>Example Domain</title>\\n\\n    <meta charset=\"utf-8\" />\\n    <meta http-equiv=\"Content-type\" content=\"text/html; charset=utf-8\" />\\n    <meta name=\"viewport\" content=\"width=device-width, initial-scale=1\" />\\n    <style type=\"text/css\">\\n    body {\\n        background-color: #f0f0f2;\\n        margin: 0;\\n        padding: 0;\\n        font-family: -apple-system, system-ui, BlinkMacSystemFont, \"Segoe UI\", \"Open Sans\", \"Helvetica Neue\", Helvetica, Arial, sans-serif;\\n        \\n    }\\n    div {\\n        width: 600px;\\n        margin: 5em auto;\\n        padding: 2em;\\n        background-color: #fdfdff;\\n        border-radius: 0.5em;\\n        box-shadow: 2px 3px 7px 2px rgba(0,0,0,0.02);\\n    }\\n    a:link, a:visited {\\n        color: #38488f;\\n        text-decoration: none;\\n    }\\n    @media (max-width: 700px) {\\n        div {\\n            margin: 0 auto;\\n            width: auto;\\n        }\\n    }\\n    </style>    \\n</head>\\n\\n<body>\\n<div>\\n    <h1>Example Domain</h1>\\n    <p>This domain is for use in illustrative examples in documents. You may use this\\n    domain in literature without prior coordination or asking for permission.</p>\\n    <p><a href=\"https://www.iana.org/domains/example\">More information...</a></p>\\n</div>\\n</body>\\n</html>\\n'\n"
          ]
        }
      ]
    },
    {
      "cell_type": "code",
      "source": [
        "# Import the requests library to make HTTP requests.\n",
        "import requests\n",
        "\n",
        "# Send an HTTP GET request to the 'https://google.com/' URL and store the response.\n",
        "data = requests.get('https://google.com/')\n",
        "\n",
        "# Access the text content of the response, which contains the webpage's HTML.\n",
        "webpage_text = data.text\n",
        "\n",
        "# Print the HTML content of the webpage.\n",
        "print(webpage_text)\n"
      ],
      "metadata": {
        "colab": {
          "base_uri": "https://localhost:8080/"
        },
        "id": "OzYtARhRVCcu",
        "outputId": "e111de1f-386f-4957-af78-587535bf8d66"
      },
      "execution_count": 44,
      "outputs": [
        {
          "output_type": "stream",
          "name": "stdout",
          "text": [
            "<!doctype html><html itemscope=\"\" itemtype=\"http://schema.org/WebPage\" lang=\"en\"><head><meta content=\"Search the world's information, including webpages, images, videos and more. Google has many special features to help you find exactly what you're looking for.\" name=\"description\"><meta content=\"noodp, \" name=\"robots\"><meta content=\"text/html; charset=UTF-8\" http-equiv=\"Content-Type\"><meta content=\"/images/branding/googleg/1x/googleg_standard_color_128dp.png\" itemprop=\"image\"><title>Google</title><script nonce=\"c6ba7Uq0tHU-8B221YzqUg\">(function(){var _g={kEI:'InEEZryvFuuhur8Pjsa38Ao',kEXPI:'0,1365467,207,4804,2329829,642,361,379729,35511,9287,36110,17581,4998,55519,2872,2891,3926,4423,3405,30448,30848,6398,8926,2025,1,16916,2652,4,62597,24013,6681,7596,1,11942,30212,2,16395,342,23024,6699,31123,4567,6259,24670,33064,2,2,1,24626,2006,8155,8860,14490,22436,9779,12415,30044,20199,36746,3801,2412,6264,23955,3030,15816,1804,7734,25,18073,21250,1634,8840,33427,14093,5203197,13,6929,2,297,1093,253,569,18,5990875,651,1209,2839139,23939287,2861629,1182080,16673,43886,3,318,4,240,1041,3,2121778,2585,16815,2,2,7292,23005240,4117,4046,4636,8409,8027,2875,9,5183,2,569,17450,2941,3,7632,2108,18376,10499,2,5885,1923,8588,2370,4832,1575,2952,1158,3938,5798,884,12068,2212,149,2071,3055,2478,228,200,390,4335,3192,5328,375,4126,5,5211,4154,4679,2107,12478,2,2,339,914,433,1360,2636,578,1911,1217,2,14,3,1701,1328,695,4489,4349,1,87,2065,594,1264,3,611,422,3712,26,362,354,122,33,1,1,1,2481,3776,3,1209,50,3526,1,382,846,1221,1434,240,2,674,140,252,752,1271,135,1510,2186,47,9,121,495,202,755,8,5184,1314,90,4,1039,89,298,1110,80,150,518,1,3,2,756,28,772,2,1188,2,176,610,13,302,17,4,185,122,430,131,1,456,1,728,1461,2,4,187,2,28,111,80,1,301,1,1,1,2,3,1255,509,529,372,612,47,452,192,330,670,16,237,6,417,925,2,1,796,4,1213,278,5,97,708,19,130,591,1,450,1364,515,4,89,380,874,4,634,204,203,292,1,149,925,1,989,104,34,522,4,117,308,740,4,1351,281,110,8,425,118,6,630,388,278,222,89,71,1,3,407,96,574,2,6,1,2,44,71,142,1048,1,6,493,1513,485,97,222,428,21231907,421028,1456,4264,3,980,5,2783,2295,794,322,1095,710,593,743,694,3298493',kBL:'9IuS',kOPI:89978449};(function(){var a;(null==(a=window.google)?0:a.stvsc)?google.kEI=_g.kEI:window.google=_g;}).call(this);})();(function(){google.sn='webhp';google.kHL='en';})();(function(){\n",
            "var h=this||self;function l(){return void 0!==window.google&&void 0!==window.google.kOPI&&0!==window.google.kOPI?window.google.kOPI:null};var m,n=[];function p(a){for(var b;a&&(!a.getAttribute||!(b=a.getAttribute(\"eid\")));)a=a.parentNode;return b||m}function q(a){for(var b=null;a&&(!a.getAttribute||!(b=a.getAttribute(\"leid\")));)a=a.parentNode;return b}function r(a){/^http:/i.test(a)&&\"https:\"===window.location.protocol&&(google.ml&&google.ml(Error(\"a\"),!1,{src:a,glmm:1}),a=\"\");return a}\n",
            "function t(a,b,c,d,k){var e=\"\";-1===b.search(\"&ei=\")&&(e=\"&ei=\"+p(d),-1===b.search(\"&lei=\")&&(d=q(d))&&(e+=\"&lei=\"+d));d=\"\";var g=-1===b.search(\"&cshid=\")&&\"slh\"!==a,f=[];f.push([\"zx\",Date.now().toString()]);h._cshid&&g&&f.push([\"cshid\",h._cshid]);c=c();null!=c&&f.push([\"opi\",c.toString()]);for(c=0;c<f.length;c++){if(0===c||0<c)d+=\"&\";d+=f[c][0]+\"=\"+f[c][1]}return\"/\"+(k||\"gen_204\")+\"?atyp=i&ct=\"+String(a)+\"&cad=\"+(b+e+d)};m=google.kEI;google.getEI=p;google.getLEI=q;google.ml=function(){return null};google.log=function(a,b,c,d,k,e){e=void 0===e?l:e;c||(c=t(a,b,e,d,k));if(c=r(c)){a=new Image;var g=n.length;n[g]=a;a.onerror=a.onload=a.onabort=function(){delete n[g]};a.src=c}};google.logUrl=function(a,b){b=void 0===b?l:b;return t(\"\",a,b)};}).call(this);(function(){google.y={};google.sy=[];google.x=function(a,b){if(a)var c=a.id;else{do c=Math.random();while(google.y[c])}google.y[c]=[a,b];return!1};google.sx=function(a){google.sy.push(a)};google.lm=[];google.plm=function(a){google.lm.push.apply(google.lm,a)};google.lq=[];google.load=function(a,b,c){google.lq.push([[a],b,c])};google.loadAll=function(a,b){google.lq.push([a,b])};google.bx=!1;google.lx=function(){};var d=[];google.fce=function(a,b,c,e){d.push([a,b,c,e])};google.qce=d;}).call(this);google.f={};(function(){\n",
            "document.documentElement.addEventListener(\"submit\",function(b){var a;if(a=b.target){var c=a.getAttribute(\"data-submitfalse\");a=\"1\"===c||\"q\"===c&&!a.elements.q.value?!0:!1}else a=!1;a&&(b.preventDefault(),b.stopPropagation())},!0);document.documentElement.addEventListener(\"click\",function(b){var a;a:{for(a=b.target;a&&a!==document.documentElement;a=a.parentElement)if(\"A\"===a.tagName){a=\"1\"===a.getAttribute(\"data-nohref\");break a}a=!1}a&&b.preventDefault()},!0);}).call(this);</script><style>#gbar,#guser{font-size:13px;padding-top:1px !important;}#gbar{height:22px}#guser{padding-bottom:7px !important;text-align:right}.gbh,.gbd{border-top:1px solid #c9d7f1;font-size:1px}.gbh{height:0;position:absolute;top:24px;width:100%}@media all{.gb1{height:22px;margin-right:.5em;vertical-align:top}#gbar{float:left}}a.gb1,a.gb4{text-decoration:underline !important}a.gb1,a.gb4{color:#00c !important}.gbi .gb4{color:#dd8e27 !important}.gbf .gb4{color:#900 !important}\n",
            "</style><style>body,td,a,p,.h{font-family:arial,sans-serif}body{margin:0;overflow-y:scroll}#gog{padding:3px 8px 0}td{line-height:.8em}.gac_m td{line-height:17px}form{margin-bottom:20px}.h{color:#1967d2}em{font-weight:bold;font-style:normal}.lst{height:25px;width:496px}.gsfi,.lst{font:18px arial,sans-serif}.gsfs{font:17px arial,sans-serif}.ds{display:inline-box;display:inline-block;margin:3px 0 4px;margin-left:4px}input{font-family:inherit}body{background:#fff;color:#000}a{color:#681da8;text-decoration:none}a:hover,a:active{text-decoration:underline}.fl a{color:#1967d2}a:visited{color:#681da8}.sblc{padding-top:5px}.sblc a{display:block;margin:2px 0;margin-left:13px;font-size:11px}.lsbb{background:#f8f9fa;border:solid 1px;border-color:#dadce0 #70757a #70757a #dadce0;height:30px}.lsbb{display:block}#WqQANb a{display:inline-block;margin:0 12px}.lsb{background:url(/images/nav_logo229.png) 0 -261px repeat-x;color:#000;border:none;cursor:pointer;height:30px;margin:0;outline:0;font:15px arial,sans-serif;vertical-align:top}.lsb:active{background:#dadce0}.lst:focus{outline:none}</style><script nonce=\"c6ba7Uq0tHU-8B221YzqUg\">(function(){window.google.erd={jsr:1,bv:1979,de:true};\n",
            "var h=this||self;var k,l=null!=(k=h.mei)?k:1,n,p=null!=(n=h.sdo)?n:!0,q=0,r,t=google.erd,v=t.jsr;google.ml=function(a,b,d,m,e){e=void 0===e?2:e;b&&(r=a&&a.message);void 0===d&&(d={});d.cad=\"ple_\"+google.ple+\".aple_\"+google.aple;if(google.dl)return google.dl(a,e,d),null;b=d;if(0>v){window.console&&console.error(a,b);if(-2===v)throw a;b=!1}else b=!a||!a.message||\"Error loading script\"===a.message||q>=l&&!m?!1:!0;if(!b)return null;q++;d=d||{};b=encodeURIComponent;var c=\"/gen_204?atyp=i&ei=\"+b(google.kEI);google.kEXPI&&(c+=\"&jexpid=\"+b(google.kEXPI));c+=\"&srcpg=\"+b(google.sn)+\"&jsr=\"+b(t.jsr)+\"&bver=\"+\n",
            "b(t.bv);var f=a.lineNumber;void 0!==f&&(c+=\"&line=\"+f);var g=a.fileName;g&&(0<g.indexOf(\"-extension:/\")&&(e=3),c+=\"&script=\"+b(g),f&&g===window.location.href&&(f=document.documentElement.outerHTML.split(\"\\n\")[f],c+=\"&cad=\"+b(f?f.substring(0,300):\"No script found.\")));google.ple&&1===google.ple&&(e=2);c+=\"&jsel=\"+e;for(var u in d)c+=\"&\",c+=b(u),c+=\"=\",c+=b(d[u]);c=c+\"&emsg=\"+b(a.name+\": \"+a.message);c=c+\"&jsst=\"+b(a.stack||\"N/A\");12288<=c.length&&(c=c.substr(0,12288));a=c;m||google.log(0,\"\",a);return a};window.onerror=function(a,b,d,m,e){r!==a&&(a=e instanceof Error?e:Error(a),void 0===d||\"lineNumber\"in a||(a.lineNumber=d),void 0===b||\"fileName\"in a||(a.fileName=b),google.ml(a,!1,void 0,!1,\"SyntaxError\"===a.name||\"SyntaxError\"===a.message.substring(0,11)||-1!==a.message.indexOf(\"Script error\")?3:0));r=null;p&&q>=l&&(window.onerror=null)};})();</script></head><body bgcolor=\"#fff\"><script nonce=\"c6ba7Uq0tHU-8B221YzqUg\">(function(){var src='/images/nav_logo229.png';var iesg=false;document.body.onload = function(){window.n && window.n();if (document.images){new Image().src=src;}\n",
            "if (!iesg){document.f&&document.f.q.focus();document.gbqf&&document.gbqf.q.focus();}\n",
            "}\n",
            "})();</script><div id=\"mngb\"><div id=gbar><nobr><b class=gb1>Search</b> <a class=gb1 href=\"https://www.google.com/imghp?hl=en&tab=wi\">Images</a> <a class=gb1 href=\"https://maps.google.com/maps?hl=en&tab=wl\">Maps</a> <a class=gb1 href=\"https://play.google.com/?hl=en&tab=w8\">Play</a> <a class=gb1 href=\"https://www.youtube.com/?tab=w1\">YouTube</a> <a class=gb1 href=\"https://news.google.com/?tab=wn\">News</a> <a class=gb1 href=\"https://mail.google.com/mail/?tab=wm\">Gmail</a> <a class=gb1 href=\"https://drive.google.com/?tab=wo\">Drive</a> <a class=gb1 style=\"text-decoration:none\" href=\"https://www.google.com/intl/en/about/products?tab=wh\"><u>More</u> &raquo;</a></nobr></div><div id=guser width=100%><nobr><span id=gbn class=gbi></span><span id=gbf class=gbf></span><span id=gbe></span><a href=\"http://www.google.com/history/optout?hl=en\" class=gb4>Web History</a> | <a  href=\"/preferences?hl=en\" class=gb4>Settings</a> | <a target=_top id=gb_70 href=\"https://accounts.google.com/ServiceLogin?hl=en&passive=true&continue=https://www.google.com/&ec=GAZAAQ\" class=gb4>Sign in</a></nobr></div><div class=gbh style=left:0></div><div class=gbh style=right:0></div></div><center><br clear=\"all\" id=\"lgpd\"><div id=\"lga\"><img alt=\"Google\" height=\"92\" src=\"/images/branding/googlelogo/1x/googlelogo_white_background_color_272x92dp.png\" style=\"padding:28px 0 14px\" width=\"272\" id=\"hplogo\"><br><br></div><form action=\"/search\" name=\"f\"><table cellpadding=\"0\" cellspacing=\"0\"><tr valign=\"top\"><td width=\"25%\">&nbsp;</td><td align=\"center\" nowrap=\"\"><input name=\"ie\" value=\"ISO-8859-1\" type=\"hidden\"><input value=\"en\" name=\"hl\" type=\"hidden\"><input name=\"source\" type=\"hidden\" value=\"hp\"><input name=\"biw\" type=\"hidden\"><input name=\"bih\" type=\"hidden\"><div class=\"ds\" style=\"height:32px;margin:4px 0\"><input class=\"lst\" style=\"margin:0;padding:5px 8px 0 6px;vertical-align:top;color:#000\" autocomplete=\"off\" value=\"\" title=\"Google Search\" maxlength=\"2048\" name=\"q\" size=\"57\"></div><br style=\"line-height:0\"><span class=\"ds\"><span class=\"lsbb\"><input class=\"lsb\" value=\"Google Search\" name=\"btnG\" type=\"submit\"></span></span><span class=\"ds\"><span class=\"lsbb\"><input class=\"lsb\" id=\"tsuid_1\" value=\"I'm Feeling Lucky\" name=\"btnI\" type=\"submit\"><script nonce=\"c6ba7Uq0tHU-8B221YzqUg\">(function(){var id='tsuid_1';document.getElementById(id).onclick = function(){if (this.form.q.value){this.checked = 1;if (this.form.iflsig)this.form.iflsig.disabled = false;}\n",
            "else top.location='/doodles/';};})();</script><input value=\"ANes7DEAAAAAZgR_MjOef6ddMMO8iQ0hhZiozODtlz_z\" name=\"iflsig\" type=\"hidden\"></span></span></td><td class=\"fl sblc\" align=\"left\" nowrap=\"\" width=\"25%\"><a href=\"/advanced_search?hl=en&amp;authuser=0\">Advanced search</a></td></tr></table><input id=\"gbv\" name=\"gbv\" type=\"hidden\" value=\"1\"><script nonce=\"c6ba7Uq0tHU-8B221YzqUg\">(function(){var a,b=\"1\";if(document&&document.getElementById)if(\"undefined\"!=typeof XMLHttpRequest)b=\"2\";else if(\"undefined\"!=typeof ActiveXObject){var c,d,e=[\"MSXML2.XMLHTTP.6.0\",\"MSXML2.XMLHTTP.3.0\",\"MSXML2.XMLHTTP\",\"Microsoft.XMLHTTP\"];for(c=0;d=e[c++];)try{new ActiveXObject(d),b=\"2\"}catch(h){}}a=b;if(\"2\"==a&&-1==location.search.indexOf(\"&gbv=2\")){var f=google.gbvu,g=document.getElementById(\"gbv\");g&&(g.value=a);f&&window.setTimeout(function(){location.href=f},0)};}).call(this);</script></form><div id=\"gac_scont\"></div><div style=\"font-size:83%;min-height:3.5em\"><br></div><span id=\"footer\"><div style=\"font-size:10pt\"><div style=\"margin:19px auto;text-align:center\" id=\"WqQANb\"><a href=\"/intl/en/ads/\">Advertising</a><a href=\"/services/\">Business Solutions</a><a href=\"/intl/en/about.html\">About Google</a></div></div><p style=\"font-size:8pt;color:#70757a\">&copy; 2024 - <a href=\"/intl/en/policies/privacy/\">Privacy</a> - <a href=\"/intl/en/policies/terms/\">Terms</a></p></span></center><script nonce=\"c6ba7Uq0tHU-8B221YzqUg\">(function(){window.google.cdo={height:757,width:1440};(function(){var a=window.innerWidth,b=window.innerHeight;if(!a||!b){var c=window.document,d=\"CSS1Compat\"==c.compatMode?c.documentElement:c.body;a=d.clientWidth;b=d.clientHeight}\n",
            "if(a&&b&&(a!=google.cdo.width||b!=google.cdo.height)){var e=google,f=e.log,g=\"/client_204?&atyp=i&biw=\"+a+\"&bih=\"+b+\"&ei=\"+google.kEI,h=\"\",k=[],l=void 0!==window.google&&void 0!==window.google.kOPI&&0!==window.google.kOPI?window.google.kOPI:null;null!=l&&k.push([\"opi\",l.toString()]);for(var m=0;m<k.length;m++){if(0===m||0<m)h+=\"&\";h+=k[m][0]+\"=\"+k[m][1]}f.call(e,\"\",\"\",g+h)};}).call(this);})();</script>  <script nonce=\"c6ba7Uq0tHU-8B221YzqUg\">(function(){google.xjs={basecomb:'',basecss:'',basejs:'',ck:'xjs.hp.e3y7SE-0tDQ.L.X.O',combam:'AAAAAAAAAAAAAAAAAAAAAAAAAAAIAAAAAADAOAAAABAABAAAAOAAAAAAAAIAAIAA4CA6AoABOAIAAC8',cs:'ACT90oEQfQ8UsYp-GD7262ZbtBC4L49heA',cssam:'AAAAAAAAAAAAAAAAAAAAAAAAAAAAAAAAAAAAAAAAABAABAAAAAAAAAAAAAIAAIA',csss:'ACT90oFNBCEg-kA_B7EVRZPEl64oCnQnng',excm:[],jsam:'AAAAAAAAAAAAAAAAAAAAAAAAAAAIAAAAAADAOAAAAAAAAAAAAOAAAAAAAAAAAAAA4CA6AoABOAIAAC8',jss:'ACT90oFqQ5_PUElE0LHNxPDzglfObKWN2g'};})();</script> <link href=\"/xjs/_/ss/k=xjs.hp.e3y7SE-0tDQ.L.X.O/am=AAAAAAAAAAAAAAAAAAAAAAAAAAAAAAAAAAAAAAAAABAABAAAAAAAAAAAAAIAAIA/d=1/ed=1/rs=ACT90oFNBCEg-kA_B7EVRZPEl64oCnQnng/m=sb_he,d\" rel=\"stylesheet\" nonce=\"c6ba7Uq0tHU-8B221YzqUg\">    <script nonce=\"c6ba7Uq0tHU-8B221YzqUg\">(function(){var u='/xjs/_/js/k\\x3dxjs.hp.en.-MGMUHFbi-I.O/am\\x3dAAAAAAAAAAAAAAAAAAAAAAAAAAAIAAAAAADAOAAAAAAAAAAAAOAAAAAAAAAAAAAA4CA6AoABOAIAAC8/d\\x3d1/ed\\x3d1/rs\\x3dACT90oFqQ5_PUElE0LHNxPDzglfObKWN2g/m\\x3dsb_he,d';var st=0;var amd=0;\n",
            "var e=this||self,f=function(a){return a};var g;var h=function(a){this.g=a};h.prototype.toString=function(){return this.g+\"\"};var k={};\n",
            "function m(a,b){a.src=b instanceof h&&b.constructor===h?b.g:\"type_error:TrustedResourceUrl\";var c,d;(c=(b=null==(d=(c=(a.ownerDocument&&a.ownerDocument.defaultView||window).document).querySelector)?void 0:d.call(c,\"script[nonce]\"))?b.nonce||b.getAttribute(\"nonce\")||\"\":\"\")&&a.setAttribute(\"nonce\",c)};var n=function(){var a=document;var b=\"SCRIPT\";\"application/xhtml+xml\"===a.contentType&&(b=b.toLowerCase());return a.createElement(b)};function p(a){a=null===a?\"null\":void 0===a?\"undefined\":a;if(void 0===g){var b=null;var c=e.trustedTypes;if(c&&c.createPolicy){try{b=c.createPolicy(\"goog#html\",{createHTML:f,createScript:f,createScriptURL:f})}catch(d){e.console&&e.console.error(d.message)}g=b}else g=b}a=(b=g)?b.createScriptURL(a):a;return new h(a,k)};void 0===google.ps&&(google.ps=[]);function q(){var a=u,b=function(){};google.lx=google.stvsc?b:function(){r(a);google.lx=b};google.bx||google.lx()}function t(a,b){b&&m(a,p(b));var c=a.onload;a.onload=function(d){c&&c(d);google.ps=google.ps.filter(function(l){return a!==l})};google.ps.push(a);document.body.appendChild(a)}google.as=t;function r(a){google.timers&&google.timers.load&&google.tick&&google.tick(\"load\",\"xjsls\");var b=n();b.onerror=function(){google.ple=1};b.onload=function(){google.ple=0};google.xjsus=void 0;t(b,a);google.aple=-1;google.psa=!0};google.xjsu=u;e._F_jsUrl=u;var v=!1;function w(){v||(q(),v=!0)}setTimeout(function(){var a;if(a=1===st&&google.caft){a:{a=document.getElementsByTagName(\"img\");for(var b=0,c=a.length;b<c;b++){var d=a[b],l=Number(d.getAttribute(\"data-atf\"))&1;d=d.hasAttribute(\"data-lzy_\");if(l&&d){a=!0;break a}}a=!1}a=!a}a?(window.setTimeout(w,amd),google.caft(w)):2===st&&google.rairicb?(window.setTimeout(w,amd),google.rairicb(w)):q()},0);})();window._ = window._ || {};window._DumpException = _._DumpException = function(e){throw e;};window._s = window._s || {};_s._DumpException = _._DumpException;window._qs = window._qs || {};_qs._DumpException = _._DumpException;(function(){var t=[1,4,0,0,0,10240,0,24645168,67112960,8,65550,294912,536906752,583811,2328600,770048];window._F_toggles = window._xjs_toggles = t;})();function _F_installCss(c){}\n",
            "(function(){google.jl={bfl:0,dw:false,ine:false,ubm:false,uwp:true,vs:false};})();(function(){var pmc='{\\x22d\\x22:{},\\x22sb_he\\x22:{\\x22agen\\x22:false,\\x22cgen\\x22:false,\\x22client\\x22:\\x22heirloom-hp\\x22,\\x22dh\\x22:true,\\x22ds\\x22:\\x22\\x22,\\x22fl\\x22:true,\\x22host\\x22:\\x22google.com\\x22,\\x22jsonp\\x22:true,\\x22msgs\\x22:{\\x22cibl\\x22:\\x22Clear Search\\x22,\\x22dym\\x22:\\x22Did you mean:\\x22,\\x22lcky\\x22:\\x22I\\\\u0026#39;m Feeling Lucky\\x22,\\x22lml\\x22:\\x22Learn more\\x22,\\x22psrc\\x22:\\x22This search was removed from your \\\\u003Ca href\\x3d\\\\\\x22/history\\\\\\x22\\\\u003EWeb History\\\\u003C/a\\\\u003E\\x22,\\x22psrl\\x22:\\x22Remove\\x22,\\x22sbit\\x22:\\x22Search by image\\x22,\\x22srch\\x22:\\x22Google Search\\x22},\\x22ovr\\x22:{},\\x22pq\\x22:\\x22\\x22,\\x22rfs\\x22:[],\\x22sbas\\x22:\\x220 3px 8px 0 rgba(0,0,0,0.2),0 0 0 1px rgba(0,0,0,0.08)\\x22,\\x22stok\\x22:\\x22bbHwYo_o2-Y6_Qdp3F9We7q5UnI\\x22}}';google.pmc=JSON.parse(pmc);})();(function(){var b=function(a){var c=0;return function(){return c<a.length?{done:!1,value:a[c++]}:{done:!0}}};\n",
            "var e=this||self;var g,h;a:{for(var k=[\"CLOSURE_FLAGS\"],l=e,n=0;n<k.length;n++)if(l=l[k[n]],null==l){h=null;break a}h=l}var p=h&&h[610401301];g=null!=p?p:!1;var q,r=e.navigator;q=r?r.userAgentData||null:null;function t(a){return g?q?q.brands.some(function(c){return(c=c.brand)&&-1!=c.indexOf(a)}):!1:!1}function u(a){var c;a:{if(c=e.navigator)if(c=c.userAgent)break a;c=\"\"}return-1!=c.indexOf(a)};function v(){return g?!!q&&0<q.brands.length:!1}function w(){return u(\"Safari\")&&!(x()||(v()?0:u(\"Coast\"))||(v()?0:u(\"Opera\"))||(v()?0:u(\"Edge\"))||(v()?t(\"Microsoft Edge\"):u(\"Edg/\"))||(v()?t(\"Opera\"):u(\"OPR\"))||u(\"Firefox\")||u(\"FxiOS\")||u(\"Silk\")||u(\"Android\"))}function x(){return v()?t(\"Chromium\"):(u(\"Chrome\")||u(\"CriOS\"))&&!(v()?0:u(\"Edge\"))||u(\"Silk\")}function y(){return u(\"Android\")&&!(x()||u(\"Firefox\")||u(\"FxiOS\")||(v()?0:u(\"Opera\"))||u(\"Silk\"))};var z=v()?!1:u(\"Trident\")||u(\"MSIE\");y();x();w();Object.freeze(new function(){});Object.freeze(new function(){});var A=!z&&!w(),D=function(a){if(/-[a-z]/.test(\"ved\"))return null;if(A&&a.dataset){if(y()&&!(\"ved\"in a.dataset))return null;a=a.dataset.ved;return void 0===a?null:a}return a.getAttribute(\"data-\"+\"ved\".replace(/([A-Z])/g,\"-$1\").toLowerCase())};var E=[],F=null;function G(a){a=a.target;var c=performance.now(),f=[],H=f.concat,d=E;if(!(d instanceof Array)){var m=\"undefined\"!=typeof Symbol&&Symbol.iterator&&d[Symbol.iterator];if(m)d=m.call(d);else if(\"number\"==typeof d.length)d={next:b(d)};else throw Error(\"a`\"+String(d));for(var B=[];!(m=d.next()).done;)B.push(m.value);d=B}E=H.call(f,d,[c]);if(a&&a instanceof HTMLElement)if(a===F){if(c=4<=E.length)c=5>(E[E.length-1]-E[E.length-4])/1E3;if(c){c=google.getEI(a);a.hasAttribute(\"data-ved\")?f=a?D(a)||\"\":\"\":f=(f=\n",
            "a.closest(\"[data-ved]\"))?D(f)||\"\":\"\";f=f||\"\";if(a.hasAttribute(\"jsname\"))a=a.getAttribute(\"jsname\");else{var C;a=null==(C=a.closest(\"[jsname]\"))?void 0:C.getAttribute(\"jsname\")}google.log(\"rcm\",\"&ei=\"+c+\"&ved=\"+f+\"&jsname=\"+(a||\"\"))}}else F=a,E=[c]}window.document.addEventListener(\"DOMContentLoaded\",function(){document.body.addEventListener(\"click\",G)});}).call(this);</script></body></html>\n"
          ]
        }
      ]
    },
    {
      "cell_type": "markdown",
      "source": [
        "## #102\n",
        "Write a Python program to get system command output."
      ],
      "metadata": {
        "id": "NHeu8HW6VDRt"
      }
    },
    {
      "cell_type": "code",
      "source": [
        "# Import the subprocess module to run shell commands.\n",
        "import subprocess\n",
        "# Use the 'subprocess.check_output' function to execute the 'dir' command in the shell.\n",
        "# 'universal_newlines=True' ensures text mode for cross-platform compatibility.\n",
        "returned_text = subprocess.check_output(\"dir\", shell=True, universal_newlines=True)\n",
        "# Print a message indicating the purpose of running the 'dir' command.\n",
        "print(\"dir command to list files and directories\")\n",
        "# Print the output (list of files and directories) returned by the 'dir' command.\n",
        "print(returned_text)\n"
      ],
      "metadata": {
        "colab": {
          "base_uri": "https://localhost:8080/"
        },
        "id": "kMarG8rpVF8b",
        "outputId": "79d1a382-efe6-486e-f5f4-43169d36fc15"
      },
      "execution_count": 45,
      "outputs": [
        {
          "output_type": "stream",
          "name": "stdout",
          "text": [
            "dir command to list files and directories\n",
            "sample_data\n",
            "\n"
          ]
        }
      ]
    },
    {
      "cell_type": "markdown",
      "source": [
        "## #103\n",
        "Write a Python program to extract the filename from a given path."
      ],
      "metadata": {
        "id": "C0ufF6EDVIH1"
      }
    },
    {
      "cell_type": "code",
      "source": [
        "# Import the 'os' module for operating system-related functions.\n",
        "import os\n",
        "\n",
        "# Print a newline for clarity.\n",
        "print()\n",
        "\n",
        "# Use 'os.path.basename' to extract the filename component from the given path.\n",
        "# In this case, it extracts the filename 'homework-1.py' from the provided path.\n",
        "print(os.path.basename('/users/system1/student1/homework-1.py'))\n",
        "\n",
        "# Print another newline for clarity.\n",
        "print()\n"
      ],
      "metadata": {
        "colab": {
          "base_uri": "https://localhost:8080/"
        },
        "id": "MBspREu9VKZc",
        "outputId": "10958433-628a-4ee7-8536-b170b37dcf1d"
      },
      "execution_count": 46,
      "outputs": [
        {
          "output_type": "stream",
          "name": "stdout",
          "text": [
            "\n",
            "homework-1.py\n",
            "\n"
          ]
        }
      ]
    },
    {
      "cell_type": "markdown",
      "source": [
        "## #104\n",
        "Write a Python program to get the effective group id, effective user id, real group id, and a list of supplemental group ids associated with the current process."
      ],
      "metadata": {
        "id": "yRgf67tmVNA7"
      }
    },
    {
      "cell_type": "code",
      "source": [
        "# Import the 'os' module for operating system-related functions.\n",
        "import os\n",
        "\n",
        "# Print a newline for clarity.\n",
        "print()\n",
        "\n",
        "# Get the effective group ID and print it.\n",
        "print(\"Effective group id: \", os.getegid())\n",
        "\n",
        "# Get the effective user ID and print it.\n",
        "print(\"Effective user id: \", os.geteuid())\n",
        "\n",
        "# Get the real group ID and print it.\n",
        "print(\"Real group id: \", os.getgid())\n",
        "\n",
        "# Get the list of supplemental group IDs and print them.\n",
        "print(\"List of supplemental group ids: \", os.getgroups())\n",
        "\n",
        "# Print another newline for clarity.\n",
        "print()\n"
      ],
      "metadata": {
        "colab": {
          "base_uri": "https://localhost:8080/"
        },
        "id": "osj-AWhwVOVT",
        "outputId": "bca880ff-87f8-45ff-eda9-4e24d1c13ec1"
      },
      "execution_count": 47,
      "outputs": [
        {
          "output_type": "stream",
          "name": "stdout",
          "text": [
            "\n",
            "Effective group id:  0\n",
            "Effective user id:  0\n",
            "Real group id:  0\n",
            "List of supplemental group ids:  [0]\n",
            "\n"
          ]
        }
      ]
    },
    {
      "cell_type": "markdown",
      "source": [
        "## #105\n",
        "Write a Python program to get the users environment."
      ],
      "metadata": {
        "id": "lAKa8c0PVQT-"
      }
    },
    {
      "cell_type": "code",
      "source": [
        "# Import the 'os' module for operating system-related functions.\n",
        "import os\n",
        "\n",
        "# Print a newline for clarity.\n",
        "print()\n",
        "\n",
        "# Access and print the environment variables as a dictionary.\n",
        "print(os.environ)\n",
        "\n",
        "# Print another newline for clarity.\n",
        "print()\n"
      ],
      "metadata": {
        "colab": {
          "base_uri": "https://localhost:8080/"
        },
        "id": "WMeIasA4VReo",
        "outputId": "97ee0860-d596-46d8-e14b-62c3e056dfff"
      },
      "execution_count": 48,
      "outputs": [
        {
          "output_type": "stream",
          "name": "stdout",
          "text": [
            "\n",
            "environ({'SHELL': '/bin/bash', 'NV_LIBCUBLAS_VERSION': '12.2.5.6-1', 'NVIDIA_VISIBLE_DEVICES': 'all', 'COLAB_JUPYTER_TRANSPORT': 'ipc', 'NV_NVML_DEV_VERSION': '12.2.140-1', 'NV_CUDNN_PACKAGE_NAME': 'libcudnn8', 'CGROUP_MEMORY_EVENTS': '/sys/fs/cgroup/memory.events /var/colab/cgroup/jupyter-children/memory.events', 'NV_LIBNCCL_DEV_PACKAGE': 'libnccl-dev=2.19.3-1+cuda12.2', 'NV_LIBNCCL_DEV_PACKAGE_VERSION': '2.19.3-1', 'VM_GCE_METADATA_HOST': '169.254.169.253', 'HOSTNAME': '4277a4261f3c', 'LANGUAGE': 'en_US', 'TBE_RUNTIME_ADDR': '172.28.0.1:8011', 'COLAB_TPU_1VM': '', 'GCE_METADATA_TIMEOUT': '3', 'NVIDIA_REQUIRE_CUDA': 'cuda>=12.2 brand=tesla,driver>=470,driver<471 brand=unknown,driver>=470,driver<471 brand=nvidia,driver>=470,driver<471 brand=nvidiartx,driver>=470,driver<471 brand=geforce,driver>=470,driver<471 brand=geforcertx,driver>=470,driver<471 brand=quadro,driver>=470,driver<471 brand=quadrortx,driver>=470,driver<471 brand=titan,driver>=470,driver<471 brand=titanrtx,driver>=470,driver<471 brand=tesla,driver>=525,driver<526 brand=unknown,driver>=525,driver<526 brand=nvidia,driver>=525,driver<526 brand=nvidiartx,driver>=525,driver<526 brand=geforce,driver>=525,driver<526 brand=geforcertx,driver>=525,driver<526 brand=quadro,driver>=525,driver<526 brand=quadrortx,driver>=525,driver<526 brand=titan,driver>=525,driver<526 brand=titanrtx,driver>=525,driver<526', 'NV_LIBCUBLAS_DEV_PACKAGE': 'libcublas-dev-12-2=12.2.5.6-1', 'NV_NVTX_VERSION': '12.2.140-1', 'COLAB_JUPYTER_IP': '172.28.0.12', 'NV_CUDA_CUDART_DEV_VERSION': '12.2.140-1', 'NV_LIBCUSPARSE_VERSION': '12.1.2.141-1', 'COLAB_LANGUAGE_SERVER_PROXY_ROOT_URL': 'http://172.28.0.1:8013/', 'NV_LIBNPP_VERSION': '12.2.1.4-1', 'NCCL_VERSION': '2.19.3-1', 'KMP_LISTEN_PORT': '6000', 'TF_FORCE_GPU_ALLOW_GROWTH': 'true', 'ENV': '/root/.bashrc', 'PWD': '/', 'COLAB_LANGUAGE_SERVER_PROXY_REQUEST_TIMEOUT': '30s', 'TBE_EPHEM_CREDS_ADDR': '172.28.0.1:8009', 'TBE_CREDS_ADDR': '172.28.0.1:8008', 'NV_CUDNN_PACKAGE': 'libcudnn8=8.9.6.50-1+cuda12.2', 'NVIDIA_DRIVER_CAPABILITIES': 'compute,utility', 'COLAB_JUPYTER_TOKEN': '', 'LAST_FORCED_REBUILD': '20240321', 'NV_NVPROF_DEV_PACKAGE': 'cuda-nvprof-12-2=12.2.142-1', 'NV_LIBNPP_PACKAGE': 'libnpp-12-2=12.2.1.4-1', 'NV_LIBNCCL_DEV_PACKAGE_NAME': 'libnccl-dev', 'TCLLIBPATH': '/usr/share/tcltk/tcllib1.20', 'NV_LIBCUBLAS_DEV_VERSION': '12.2.5.6-1', 'NVIDIA_PRODUCT_NAME': 'CUDA', 'COLAB_KERNEL_MANAGER_PROXY_HOST': '172.28.0.12', 'NV_LIBCUBLAS_DEV_PACKAGE_NAME': 'libcublas-dev-12-2', 'NV_CUDA_CUDART_VERSION': '12.2.140-1', 'COLAB_WARMUP_DEFAULTS': '1', 'HOME': '/root', 'LANG': 'en_US.UTF-8', 'COLUMNS': '100', 'CUDA_VERSION': '12.2.2', 'CLOUDSDK_CONFIG': '/content/.config', 'NV_LIBCUBLAS_PACKAGE': 'libcublas-12-2=12.2.5.6-1', 'NV_CUDA_NSIGHT_COMPUTE_DEV_PACKAGE': 'cuda-nsight-compute-12-2=12.2.2-1', 'COLAB_RELEASE_TAG': 'release-colab_20240326-060120_RC00', 'KMP_TARGET_PORT': '9000', 'KMP_EXTRA_ARGS': '--logtostderr --listen_host=172.28.0.12 --target_host=172.28.0.12 --tunnel_background_save_url=https://colab.research.google.com/tun/m/cc48301118ce562b961b3c22d803539adc1e0c19/m-s-3i3vjbwonhni --tunnel_background_save_delay=10s --tunnel_periodic_background_save_frequency=30m0s --enable_output_coalescing=true --output_coalescing_required=true', 'NV_LIBNPP_DEV_PACKAGE': 'libnpp-dev-12-2=12.2.1.4-1', 'COLAB_LANGUAGE_SERVER_PROXY_LSP_DIRS': '/datalab/web/pyright/typeshed-fallback/stdlib,/usr/local/lib/python3.10/dist-packages', 'NV_LIBCUBLAS_PACKAGE_NAME': 'libcublas-12-2', 'COLAB_KERNEL_MANAGER_PROXY_PORT': '6000', 'CLOUDSDK_PYTHON': 'python3', 'NV_LIBNPP_DEV_VERSION': '12.2.1.4-1', 'NO_GCE_CHECK': 'False', 'PYTHONPATH': '/env/python', 'NV_LIBCUSPARSE_DEV_VERSION': '12.1.2.141-1', 'LIBRARY_PATH': '/usr/local/cuda/lib64/stubs', 'NV_CUDNN_VERSION': '8.9.6.50', 'SHLVL': '0', 'NV_CUDA_LIB_VERSION': '12.2.2-1', 'COLAB_LANGUAGE_SERVER_PROXY': '/usr/colab/bin/language_service', 'NVARCH': 'x86_64', 'NV_CUDNN_PACKAGE_DEV': 'libcudnn8-dev=8.9.6.50-1+cuda12.2', 'NV_CUDA_COMPAT_PACKAGE': 'cuda-compat-12-2', 'NV_LIBNCCL_PACKAGE': 'libnccl2=2.19.3-1+cuda12.2', 'LD_LIBRARY_PATH': '/usr/local/nvidia/lib:/usr/local/nvidia/lib64', 'COLAB_GPU': '', 'NV_CUDA_NSIGHT_COMPUTE_VERSION': '12.2.2-1', 'GCS_READ_CACHE_BLOCK_SIZE_MB': '16', 'NV_NVPROF_VERSION': '12.2.142-1', 'LC_ALL': 'en_US.UTF-8', 'COLAB_FILE_HANDLER_ADDR': 'localhost:3453', 'PATH': '/opt/bin:/usr/local/nvidia/bin:/usr/local/cuda/bin:/usr/local/sbin:/usr/local/bin:/usr/sbin:/usr/bin:/sbin:/bin:/tools/node/bin:/tools/google-cloud-sdk/bin', 'NV_LIBNCCL_PACKAGE_NAME': 'libnccl2', 'COLAB_DEBUG_ADAPTER_MUX_PATH': '/usr/local/bin/dap_multiplexer', 'NV_LIBNCCL_PACKAGE_VERSION': '2.19.3-1', 'PYTHONWARNINGS': 'ignore:::pip._internal.cli.base_command', 'DEBIAN_FRONTEND': 'noninteractive', 'COLAB_BACKEND_VERSION': 'next', 'OLDPWD': '/', 'JPY_PARENT_PID': '80', 'TERM': 'xterm-color', 'CLICOLOR': '1', 'PAGER': 'cat', 'GIT_PAGER': 'cat', 'MPLBACKEND': 'module://ipykernel.pylab.backend_inline', 'ENABLE_DIRECTORYPREFETCHER': '1', 'USE_AUTH_EPHEM': '1', 'PYDEVD_USE_FRAME_EVAL': 'NO'})\n",
            "\n"
          ]
        }
      ]
    },
    {
      "cell_type": "code",
      "source": [
        "# Import the 'os' module for operating system-related functions.\n",
        "import os\n",
        "\n",
        "# Import the 'pprint' module for pretty-printing data structures.\n",
        "import pprint\n",
        "\n",
        "# Access and store the user's environment variables.\n",
        "u_env_var = os.environ\n",
        "\n",
        "# Print a message indicating the user's environment variables.\n",
        "print(\"User's Environment variable:\")\n",
        "\n",
        "# Pretty-print the environment variables in a more readable format.\n",
        "pprint.pprint(dict(u_env_var), width=1)\n"
      ],
      "metadata": {
        "colab": {
          "base_uri": "https://localhost:8080/"
        },
        "id": "xYewUT57VSWP",
        "outputId": "a3cfd510-a559-443a-fb9e-adb5b2f6c10b"
      },
      "execution_count": 49,
      "outputs": [
        {
          "output_type": "stream",
          "name": "stdout",
          "text": [
            "User's Environment variable:\n",
            "{'CGROUP_MEMORY_EVENTS': '/sys/fs/cgroup/memory.events '\n",
            "                         '/var/colab/cgroup/jupyter-children/memory.events',\n",
            " 'CLICOLOR': '1',\n",
            " 'CLOUDSDK_CONFIG': '/content/.config',\n",
            " 'CLOUDSDK_PYTHON': 'python3',\n",
            " 'COLAB_BACKEND_VERSION': 'next',\n",
            " 'COLAB_DEBUG_ADAPTER_MUX_PATH': '/usr/local/bin/dap_multiplexer',\n",
            " 'COLAB_FILE_HANDLER_ADDR': 'localhost:3453',\n",
            " 'COLAB_GPU': '',\n",
            " 'COLAB_JUPYTER_IP': '172.28.0.12',\n",
            " 'COLAB_JUPYTER_TOKEN': '',\n",
            " 'COLAB_JUPYTER_TRANSPORT': 'ipc',\n",
            " 'COLAB_KERNEL_MANAGER_PROXY_HOST': '172.28.0.12',\n",
            " 'COLAB_KERNEL_MANAGER_PROXY_PORT': '6000',\n",
            " 'COLAB_LANGUAGE_SERVER_PROXY': '/usr/colab/bin/language_service',\n",
            " 'COLAB_LANGUAGE_SERVER_PROXY_LSP_DIRS': '/datalab/web/pyright/typeshed-fallback/stdlib,/usr/local/lib/python3.10/dist-packages',\n",
            " 'COLAB_LANGUAGE_SERVER_PROXY_REQUEST_TIMEOUT': '30s',\n",
            " 'COLAB_LANGUAGE_SERVER_PROXY_ROOT_URL': 'http://172.28.0.1:8013/',\n",
            " 'COLAB_RELEASE_TAG': 'release-colab_20240326-060120_RC00',\n",
            " 'COLAB_TPU_1VM': '',\n",
            " 'COLAB_WARMUP_DEFAULTS': '1',\n",
            " 'COLUMNS': '100',\n",
            " 'CUDA_VERSION': '12.2.2',\n",
            " 'DEBIAN_FRONTEND': 'noninteractive',\n",
            " 'ENABLE_DIRECTORYPREFETCHER': '1',\n",
            " 'ENV': '/root/.bashrc',\n",
            " 'GCE_METADATA_TIMEOUT': '3',\n",
            " 'GCS_READ_CACHE_BLOCK_SIZE_MB': '16',\n",
            " 'GIT_PAGER': 'cat',\n",
            " 'HOME': '/root',\n",
            " 'HOSTNAME': '4277a4261f3c',\n",
            " 'JPY_PARENT_PID': '80',\n",
            " 'KMP_EXTRA_ARGS': '--logtostderr '\n",
            "                   '--listen_host=172.28.0.12 '\n",
            "                   '--target_host=172.28.0.12 '\n",
            "                   '--tunnel_background_save_url=https://colab.research.google.com/tun/m/cc48301118ce562b961b3c22d803539adc1e0c19/m-s-3i3vjbwonhni '\n",
            "                   '--tunnel_background_save_delay=10s '\n",
            "                   '--tunnel_periodic_background_save_frequency=30m0s '\n",
            "                   '--enable_output_coalescing=true '\n",
            "                   '--output_coalescing_required=true',\n",
            " 'KMP_LISTEN_PORT': '6000',\n",
            " 'KMP_TARGET_PORT': '9000',\n",
            " 'LANG': 'en_US.UTF-8',\n",
            " 'LANGUAGE': 'en_US',\n",
            " 'LAST_FORCED_REBUILD': '20240321',\n",
            " 'LC_ALL': 'en_US.UTF-8',\n",
            " 'LD_LIBRARY_PATH': '/usr/local/nvidia/lib:/usr/local/nvidia/lib64',\n",
            " 'LIBRARY_PATH': '/usr/local/cuda/lib64/stubs',\n",
            " 'MPLBACKEND': 'module://ipykernel.pylab.backend_inline',\n",
            " 'NCCL_VERSION': '2.19.3-1',\n",
            " 'NO_GCE_CHECK': 'False',\n",
            " 'NVARCH': 'x86_64',\n",
            " 'NVIDIA_DRIVER_CAPABILITIES': 'compute,utility',\n",
            " 'NVIDIA_PRODUCT_NAME': 'CUDA',\n",
            " 'NVIDIA_REQUIRE_CUDA': 'cuda>=12.2 '\n",
            "                        'brand=tesla,driver>=470,driver<471 '\n",
            "                        'brand=unknown,driver>=470,driver<471 '\n",
            "                        'brand=nvidia,driver>=470,driver<471 '\n",
            "                        'brand=nvidiartx,driver>=470,driver<471 '\n",
            "                        'brand=geforce,driver>=470,driver<471 '\n",
            "                        'brand=geforcertx,driver>=470,driver<471 '\n",
            "                        'brand=quadro,driver>=470,driver<471 '\n",
            "                        'brand=quadrortx,driver>=470,driver<471 '\n",
            "                        'brand=titan,driver>=470,driver<471 '\n",
            "                        'brand=titanrtx,driver>=470,driver<471 '\n",
            "                        'brand=tesla,driver>=525,driver<526 '\n",
            "                        'brand=unknown,driver>=525,driver<526 '\n",
            "                        'brand=nvidia,driver>=525,driver<526 '\n",
            "                        'brand=nvidiartx,driver>=525,driver<526 '\n",
            "                        'brand=geforce,driver>=525,driver<526 '\n",
            "                        'brand=geforcertx,driver>=525,driver<526 '\n",
            "                        'brand=quadro,driver>=525,driver<526 '\n",
            "                        'brand=quadrortx,driver>=525,driver<526 '\n",
            "                        'brand=titan,driver>=525,driver<526 '\n",
            "                        'brand=titanrtx,driver>=525,driver<526',\n",
            " 'NVIDIA_VISIBLE_DEVICES': 'all',\n",
            " 'NV_CUDA_COMPAT_PACKAGE': 'cuda-compat-12-2',\n",
            " 'NV_CUDA_CUDART_DEV_VERSION': '12.2.140-1',\n",
            " 'NV_CUDA_CUDART_VERSION': '12.2.140-1',\n",
            " 'NV_CUDA_LIB_VERSION': '12.2.2-1',\n",
            " 'NV_CUDA_NSIGHT_COMPUTE_DEV_PACKAGE': 'cuda-nsight-compute-12-2=12.2.2-1',\n",
            " 'NV_CUDA_NSIGHT_COMPUTE_VERSION': '12.2.2-1',\n",
            " 'NV_CUDNN_PACKAGE': 'libcudnn8=8.9.6.50-1+cuda12.2',\n",
            " 'NV_CUDNN_PACKAGE_DEV': 'libcudnn8-dev=8.9.6.50-1+cuda12.2',\n",
            " 'NV_CUDNN_PACKAGE_NAME': 'libcudnn8',\n",
            " 'NV_CUDNN_VERSION': '8.9.6.50',\n",
            " 'NV_LIBCUBLAS_DEV_PACKAGE': 'libcublas-dev-12-2=12.2.5.6-1',\n",
            " 'NV_LIBCUBLAS_DEV_PACKAGE_NAME': 'libcublas-dev-12-2',\n",
            " 'NV_LIBCUBLAS_DEV_VERSION': '12.2.5.6-1',\n",
            " 'NV_LIBCUBLAS_PACKAGE': 'libcublas-12-2=12.2.5.6-1',\n",
            " 'NV_LIBCUBLAS_PACKAGE_NAME': 'libcublas-12-2',\n",
            " 'NV_LIBCUBLAS_VERSION': '12.2.5.6-1',\n",
            " 'NV_LIBCUSPARSE_DEV_VERSION': '12.1.2.141-1',\n",
            " 'NV_LIBCUSPARSE_VERSION': '12.1.2.141-1',\n",
            " 'NV_LIBNCCL_DEV_PACKAGE': 'libnccl-dev=2.19.3-1+cuda12.2',\n",
            " 'NV_LIBNCCL_DEV_PACKAGE_NAME': 'libnccl-dev',\n",
            " 'NV_LIBNCCL_DEV_PACKAGE_VERSION': '2.19.3-1',\n",
            " 'NV_LIBNCCL_PACKAGE': 'libnccl2=2.19.3-1+cuda12.2',\n",
            " 'NV_LIBNCCL_PACKAGE_NAME': 'libnccl2',\n",
            " 'NV_LIBNCCL_PACKAGE_VERSION': '2.19.3-1',\n",
            " 'NV_LIBNPP_DEV_PACKAGE': 'libnpp-dev-12-2=12.2.1.4-1',\n",
            " 'NV_LIBNPP_DEV_VERSION': '12.2.1.4-1',\n",
            " 'NV_LIBNPP_PACKAGE': 'libnpp-12-2=12.2.1.4-1',\n",
            " 'NV_LIBNPP_VERSION': '12.2.1.4-1',\n",
            " 'NV_NVML_DEV_VERSION': '12.2.140-1',\n",
            " 'NV_NVPROF_DEV_PACKAGE': 'cuda-nvprof-12-2=12.2.142-1',\n",
            " 'NV_NVPROF_VERSION': '12.2.142-1',\n",
            " 'NV_NVTX_VERSION': '12.2.140-1',\n",
            " 'OLDPWD': '/',\n",
            " 'PAGER': 'cat',\n",
            " 'PATH': '/opt/bin:/usr/local/nvidia/bin:/usr/local/cuda/bin:/usr/local/sbin:/usr/local/bin:/usr/sbin:/usr/bin:/sbin:/bin:/tools/node/bin:/tools/google-cloud-sdk/bin',\n",
            " 'PWD': '/',\n",
            " 'PYDEVD_USE_FRAME_EVAL': 'NO',\n",
            " 'PYTHONPATH': '/env/python',\n",
            " 'PYTHONWARNINGS': 'ignore:::pip._internal.cli.base_command',\n",
            " 'SHELL': '/bin/bash',\n",
            " 'SHLVL': '0',\n",
            " 'TBE_CREDS_ADDR': '172.28.0.1:8008',\n",
            " 'TBE_EPHEM_CREDS_ADDR': '172.28.0.1:8009',\n",
            " 'TBE_RUNTIME_ADDR': '172.28.0.1:8011',\n",
            " 'TCLLIBPATH': '/usr/share/tcltk/tcllib1.20',\n",
            " 'TERM': 'xterm-color',\n",
            " 'TF_FORCE_GPU_ALLOW_GROWTH': 'true',\n",
            " 'USE_AUTH_EPHEM': '1',\n",
            " 'VM_GCE_METADATA_HOST': '169.254.169.253'}\n"
          ]
        }
      ]
    },
    {
      "cell_type": "code",
      "source": [
        "# Import the 'os' module for accessing environment variables.\n",
        "import os\n",
        "\n",
        "# Retrieve the 'HOSTNAME' environment variable.\n",
        "host_name = os.environ['HOSTNAME']\n",
        "\n",
        "# Print the value of the 'HOSTNAME' environment variable.\n",
        "print(\"HOSTNAME:\", host_name)\n",
        "\n",
        "# Retrieve the 'PYTHONPATH' environment variable.\n",
        "python_path = os.environ.get('PYTHONPATH')\n",
        "\n",
        "# Print the value of the 'PYTHONPATH' environment variable.\n",
        "print(\"Python Path:\", python_path)\n"
      ],
      "metadata": {
        "colab": {
          "base_uri": "https://localhost:8080/"
        },
        "id": "XoaJYQtmVTf-",
        "outputId": "8e4efd11-3a62-4704-d745-bd857827f869"
      },
      "execution_count": 50,
      "outputs": [
        {
          "output_type": "stream",
          "name": "stdout",
          "text": [
            "HOSTNAME: 4277a4261f3c\n",
            "Python Path: /env/python\n"
          ]
        }
      ]
    },
    {
      "cell_type": "markdown",
      "source": [
        "## #106\n",
        "Write a Python program to divide a path by the extension separator."
      ],
      "metadata": {
        "id": "bYj0_wVkVVRd"
      }
    },
    {
      "cell_type": "code",
      "source": [
        "# Import the 'os.path' module for working with file paths.\n",
        "import os.path\n",
        "# Iterate through a list of example file paths.\n",
        "for path in ['test.txt', 'filename', '/user/system/test.txt', '/', '']:\n",
        "    # Print the file path and its corresponding file extension using 'os.path.splitext()'.\n",
        "    print('\"%s\" :' % path, os.path.splitext(path))\n"
      ],
      "metadata": {
        "colab": {
          "base_uri": "https://localhost:8080/"
        },
        "id": "HhYCI0LnVW-8",
        "outputId": "5cc1a218-b04c-4b12-9808-217958bfaf76"
      },
      "execution_count": 51,
      "outputs": [
        {
          "output_type": "stream",
          "name": "stdout",
          "text": [
            "\"test.txt\" : ('test', '.txt')\n",
            "\"filename\" : ('filename', '')\n",
            "\"/user/system/test.txt\" : ('/user/system/test', '.txt')\n",
            "\"/\" : ('/', '')\n",
            "\"\" : ('', '')\n"
          ]
        }
      ]
    },
    {
      "cell_type": "markdown",
      "source": [
        "## #107\n",
        "Write a Python program to retrieve file properties."
      ],
      "metadata": {
        "id": "CKbuWSkgVZGt"
      }
    },
    {
      "cell_type": "code",
      "source": [
        "# Import the 'os.path' and 'time' modules for working with file paths and time-related functions.\n",
        "import os.path\n",
        "import time\n",
        "# Print the name of the current file using '__file__' attribute.\n",
        "print('File         :', __file__)\n",
        "\n",
        "# Print the access time of the current file using 'os.path.getatime()' and 'time.ctime()'.\n",
        "print('Access time  :', time.ctime(os.path.getatime(__file__)))\n",
        "\n",
        "# Print the modified time of the current file using 'os.path.getmtime()' and 'time.ctime()'.\n",
        "print('Modified time:', time.ctime(os.path.getmtime(__file__)))\n",
        "\n",
        "# Print the change time of the current file using 'os.path.getctime()' and 'time.ctime()'.\n",
        "print('Change time  :', time.ctime(os.path.getctime(__file__)))\n",
        "\n",
        "# Print the size of the current file using 'os.path.getsize()'.\n",
        "print('Size         :', os.path.getsize(__file__))\n"
      ],
      "metadata": {
        "colab": {
          "base_uri": "https://localhost:8080/",
          "height": 211
        },
        "id": "Iu9YiDs4VajJ",
        "outputId": "9f5cdecf-709d-4b32-e075-4f01fd496a66"
      },
      "execution_count": 52,
      "outputs": [
        {
          "output_type": "error",
          "ename": "NameError",
          "evalue": "name '__file__' is not defined",
          "traceback": [
            "\u001b[0;31m---------------------------------------------------------------------------\u001b[0m",
            "\u001b[0;31mNameError\u001b[0m                                 Traceback (most recent call last)",
            "\u001b[0;32m<ipython-input-52-b49229533abb>\u001b[0m in \u001b[0;36m<cell line: 5>\u001b[0;34m()\u001b[0m\n\u001b[1;32m      3\u001b[0m \u001b[0;32mimport\u001b[0m \u001b[0mtime\u001b[0m\u001b[0;34m\u001b[0m\u001b[0;34m\u001b[0m\u001b[0m\n\u001b[1;32m      4\u001b[0m \u001b[0;31m# Print the name of the current file using '__file__' attribute.\u001b[0m\u001b[0;34m\u001b[0m\u001b[0;34m\u001b[0m\u001b[0m\n\u001b[0;32m----> 5\u001b[0;31m \u001b[0mprint\u001b[0m\u001b[0;34m(\u001b[0m\u001b[0;34m'File         :'\u001b[0m\u001b[0;34m,\u001b[0m \u001b[0m__file__\u001b[0m\u001b[0;34m)\u001b[0m\u001b[0;34m\u001b[0m\u001b[0;34m\u001b[0m\u001b[0m\n\u001b[0m\u001b[1;32m      6\u001b[0m \u001b[0;34m\u001b[0m\u001b[0m\n\u001b[1;32m      7\u001b[0m \u001b[0;31m# Print the access time of the current file using 'os.path.getatime()' and 'time.ctime()'.\u001b[0m\u001b[0;34m\u001b[0m\u001b[0;34m\u001b[0m\u001b[0m\n",
            "\u001b[0;31mNameError\u001b[0m: name '__file__' is not defined"
          ]
        }
      ]
    },
    {
      "cell_type": "markdown",
      "source": [
        "## #108\n",
        "Write a Python program to find the path to a file or directory when you encounter a path name."
      ],
      "metadata": {
        "id": "Adt2LyQgVce-"
      }
    },
    {
      "cell_type": "code",
      "source": [
        "# Import the 'os.path' module for working with file paths.\n",
        "import os.path\n",
        "# Iterate through a list of file paths, including '__file__', the directory of '__file__', '/', and a broken link.\n",
        "for file in [__file__, os.path.dirname(__file__), '/', './broken_link']:\n",
        "    # Print the name of the current file.\n",
        "    print('File        :', file)\n",
        "\n",
        "    # Check if the file path is an absolute path using 'os.path.isabs()'.\n",
        "    print('Absolute    :', os.path.isabs(file))\n",
        "\n",
        "    # Check if the file path points to an existing file using 'os.path.isfile()'.\n",
        "    print('Is File?    :', os.path.isfile(file))\n",
        "\n",
        "    # Check if the file path points to an existing directory using 'os.path.isdir()'.\n",
        "    print('Is Dir?     :', os.path.isdir(file))\n",
        "\n",
        "    # Check if the file path is a symbolic link using 'os.path.islink()'.\n",
        "    print('Is Link?    :', os.path.islink(file))\n",
        "\n",
        "    # Check if the file path exists (regardless of its type) using 'os.path.exists()'.\n",
        "    print('Exists?     :', os.path.exists(file))\n",
        "\n",
        "    # Check if the symbolic link exists using 'os.path.lexists()'.\n",
        "    print('Link Exists?:', os.path.lexists(file))\n"
      ],
      "metadata": {
        "colab": {
          "base_uri": "https://localhost:8080/",
          "height": 211
        },
        "id": "UekIdV_BVdpG",
        "outputId": "122d12da-a91c-4094-f9c5-8013677a1c90"
      },
      "execution_count": 53,
      "outputs": [
        {
          "output_type": "error",
          "ename": "NameError",
          "evalue": "name '__file__' is not defined",
          "traceback": [
            "\u001b[0;31m---------------------------------------------------------------------------\u001b[0m",
            "\u001b[0;31mNameError\u001b[0m                                 Traceback (most recent call last)",
            "\u001b[0;32m<ipython-input-53-604797e01146>\u001b[0m in \u001b[0;36m<cell line: 4>\u001b[0;34m()\u001b[0m\n\u001b[1;32m      2\u001b[0m \u001b[0;32mimport\u001b[0m \u001b[0mos\u001b[0m\u001b[0;34m.\u001b[0m\u001b[0mpath\u001b[0m\u001b[0;34m\u001b[0m\u001b[0;34m\u001b[0m\u001b[0m\n\u001b[1;32m      3\u001b[0m \u001b[0;31m# Iterate through a list of file paths, including '__file__', the directory of '__file__', '/', and a broken link.\u001b[0m\u001b[0;34m\u001b[0m\u001b[0;34m\u001b[0m\u001b[0m\n\u001b[0;32m----> 4\u001b[0;31m \u001b[0;32mfor\u001b[0m \u001b[0mfile\u001b[0m \u001b[0;32min\u001b[0m \u001b[0;34m[\u001b[0m\u001b[0m__file__\u001b[0m\u001b[0;34m,\u001b[0m \u001b[0mos\u001b[0m\u001b[0;34m.\u001b[0m\u001b[0mpath\u001b[0m\u001b[0;34m.\u001b[0m\u001b[0mdirname\u001b[0m\u001b[0;34m(\u001b[0m\u001b[0m__file__\u001b[0m\u001b[0;34m)\u001b[0m\u001b[0;34m,\u001b[0m \u001b[0;34m'/'\u001b[0m\u001b[0;34m,\u001b[0m \u001b[0;34m'./broken_link'\u001b[0m\u001b[0;34m]\u001b[0m\u001b[0;34m:\u001b[0m\u001b[0;34m\u001b[0m\u001b[0;34m\u001b[0m\u001b[0m\n\u001b[0m\u001b[1;32m      5\u001b[0m     \u001b[0;31m# Print the name of the current file.\u001b[0m\u001b[0;34m\u001b[0m\u001b[0;34m\u001b[0m\u001b[0m\n\u001b[1;32m      6\u001b[0m     \u001b[0mprint\u001b[0m\u001b[0;34m(\u001b[0m\u001b[0;34m'File        :'\u001b[0m\u001b[0;34m,\u001b[0m \u001b[0mfile\u001b[0m\u001b[0;34m)\u001b[0m\u001b[0;34m\u001b[0m\u001b[0;34m\u001b[0m\u001b[0m\n",
            "\u001b[0;31mNameError\u001b[0m: name '__file__' is not defined"
          ]
        }
      ]
    },
    {
      "cell_type": "markdown",
      "source": [
        "## #109\n",
        "Write a Python program to check if a number is positive, negative or zero.\n",
        "\n",
        "Positive Numbers: Any number above zero is known as a positive number. Positive numbers are written without any sign or a '+' sign in front of them and they are counted up from zero, i.e. 1, + 2, 3, +4 etc.\n",
        "Negative Numbers: Any number below zero is known as a negative number. Negative numbers are always written with a '−' sign in front of them and they are counted down from zero, i.e. -1, -2, -3, -4 etc.\n",
        "Always look at the sign in front of a number to check if it is positive or negative. Zero, 0, is neither positive nor negative."
      ],
      "metadata": {
        "id": "9NTzBFzVVfvT"
      }
    },
    {
      "cell_type": "code",
      "source": [
        "# Prompt the user to input a number, and convert the input to a floating-point number.\n",
        "num = float(input(\"Input a number: \"))\n",
        "\n",
        "# Check if the number is greater than zero.\n",
        "if num > 0:\n",
        "   # If true, print that it is a positive number.\n",
        "   print(\"It is a positive number\")\n",
        "# Check if the number is equal to zero.\n",
        "elif num == 0:\n",
        "   # If true, print that it is zero.\n",
        "   print(\"It is zero\")\n",
        "else:\n",
        "   # If the above conditions are not met, print that it is a negative number.\n",
        "   print(\"It is a negative number\")\n"
      ],
      "metadata": {
        "colab": {
          "base_uri": "https://localhost:8080/"
        },
        "id": "QfTsPTCXViCN",
        "outputId": "62ebe232-4145-4eed-f193-c15f826f35bf"
      },
      "execution_count": 54,
      "outputs": [
        {
          "output_type": "stream",
          "name": "stdout",
          "text": [
            "Input a number: 15\n",
            "It is a positive number\n"
          ]
        }
      ]
    },
    {
      "cell_type": "code",
      "source": [
        "# Prompt the user to input a number and convert the input to a floating-point number.\n",
        "n = float(input('Input a number: '))\n",
        "\n",
        "# Use a conditional expression (ternary operator) to determine if the number is positive, zero, or negative.\n",
        "# The conditional expression checks if the number is greater than 0, equal to 0, or less than 0.\n",
        "# Depending on the condition met, it prints a corresponding message.\n",
        "print('Number is Positive.' if n > 0 else 'It is Zero!' if n == 0 else 'Number is Negative.')\n"
      ],
      "metadata": {
        "colab": {
          "base_uri": "https://localhost:8080/"
        },
        "id": "PI-ZU-lpVjCW",
        "outputId": "014268dd-7594-4ff6-c8c9-2bb142c75ed7"
      },
      "execution_count": 55,
      "outputs": [
        {
          "output_type": "stream",
          "name": "stdout",
          "text": [
            "Input a number: 0\n",
            "It is Zero!\n"
          ]
        }
      ]
    },
    {
      "cell_type": "code",
      "source": [
        "# Prompt the user to input a number and convert the input to a floating-point number.\n",
        "n = float(input(\"Input a number: \"))\n",
        "\n",
        "# Check if the input number is greater than or equal to 0.\n",
        "if n >= 0:\n",
        "    # If the number is zero, print that it is zero.\n",
        "    if n == 0:\n",
        "        print(\"It is Zero!\")\n",
        "    # If the number is greater than zero, print that it is a positive number.\n",
        "    else:\n",
        "        print(\"Number is Positive number.\")\n",
        "# If the number is less than zero, print that it is a negative number.\n",
        "else:\n",
        "    print(\"Number is Negative number.\")\n"
      ],
      "metadata": {
        "colab": {
          "base_uri": "https://localhost:8080/"
        },
        "id": "b4mUom5aVj4N",
        "outputId": "3c554578-60bc-486a-854f-5260c414b949"
      },
      "execution_count": 56,
      "outputs": [
        {
          "output_type": "stream",
          "name": "stdout",
          "text": [
            "Input a number: -8\n",
            "Number is Negative number.\n"
          ]
        }
      ]
    },
    {
      "cell_type": "markdown",
      "source": [
        "## #110\n",
        "Write a Python program to get numbers divisible by fifteen from a list using an anonymous function."
      ],
      "metadata": {
        "id": "BDXr4J9CVk0h"
      }
    },
    {
      "cell_type": "code",
      "source": [
        "# Create a list of numbers.\n",
        "num_list = [45, 55, 60, 37, 100, 105, 220]\n",
        "\n",
        "# Use an anonymous lambda function with the filter function to filter numbers in the list that are divisible by 15.\n",
        "result = list(filter(lambda x: (x % 15 == 0), num_list))\n",
        "\n",
        "# Print the numbers that are divisible by 15.\n",
        "print(\"Numbers divisible by 15 are\", result)\n"
      ],
      "metadata": {
        "colab": {
          "base_uri": "https://localhost:8080/"
        },
        "id": "w-JY-qh2VmmY",
        "outputId": "7d514c9a-b07a-41fc-ad32-b21fc59a0ee2"
      },
      "execution_count": 57,
      "outputs": [
        {
          "output_type": "stream",
          "name": "stdout",
          "text": [
            "Numbers divisible by 15 are [45, 60, 105]\n"
          ]
        }
      ]
    },
    {
      "cell_type": "code",
      "source": [
        "# Create a list of numbers.\n",
        "num_list = [45, 55, 60, 37, 100, 105, 220]\n",
        "\n",
        "# Print the original list of numbers.\n",
        "print(\"Original list:\", num_list)\n",
        "\n",
        "# Use an anonymous lambda function with the filter function to filter numbers in the list that are divisible by 15.\n",
        "result = list(filter(lambda x: (x % 15 == 0), num_list))\n",
        "\n",
        "# Print the numbers from the original list that are divisible by 15.\n",
        "print(\"Numbers of the said list divisible by 15 are:\", result)\n"
      ],
      "metadata": {
        "colab": {
          "base_uri": "https://localhost:8080/"
        },
        "id": "VsbznDqEVoFU",
        "outputId": "d9aea9a3-ca50-40b0-ac71-4b70f95b5d99"
      },
      "execution_count": 58,
      "outputs": [
        {
          "output_type": "stream",
          "name": "stdout",
          "text": [
            "Original list: [45, 55, 60, 37, 100, 105, 220]\n",
            "Numbers of the said list divisible by 15 are: [45, 60, 105]\n"
          ]
        }
      ]
    },
    {
      "cell_type": "code",
      "source": [
        "# Create a list of numbers.\n",
        "num_list = [45, 55, 60, 37, 100, 105, 220]\n",
        "\n",
        "# Print the original list of numbers.\n",
        "print(\"Original list:\", num_list)\n",
        "\n",
        "# Print a message indicating the list of numbers divisible by 15 will be displayed.\n",
        "print(\"\\nNumbers of the said list divisible by 15 are:\")\n",
        "\n",
        "# Filter the numbers in the list that are divisible by 15 using a list comprehension and a lambda function.\n",
        "# Convert the resulting list to a string and join it to a single string without spaces.\n",
        "result = str(''.join(filter(lambda x: x, str(list([i for i in num_list if i % 15 == 0])))))\n",
        "\n",
        "# Print the concatenated result.\n",
        "print(result)\n"
      ],
      "metadata": {
        "colab": {
          "base_uri": "https://localhost:8080/"
        },
        "id": "-GqK9RluVpAr",
        "outputId": "300436aa-6efe-4376-b932-923d91366e6f"
      },
      "execution_count": 2,
      "outputs": [
        {
          "output_type": "stream",
          "name": "stdout",
          "text": [
            "Original list: [45, 55, 60, 37, 100, 105, 220]\n",
            "\n",
            "Numbers of the said list divisible by 15 are:\n",
            "[45, 60, 105]\n"
          ]
        }
      ]
    },
    {
      "cell_type": "markdown",
      "source": [
        "## #111\n",
        "Write a Python program to make file lists from the current directory using a wildcard."
      ],
      "metadata": {
        "id": "FsxeFQZpVvbe"
      }
    },
    {
      "cell_type": "code",
      "source": [
        "# Import the glob module, which allows you to search for files using wildcard patterns\n",
        "import glob\n",
        "\n",
        "# Use the glob module to get a list of all files in the current directory\n",
        "file_list = glob.glob('*.*')\n",
        "\n",
        "# Print the list of all files in the current directory\n",
        "print(file_list)\n",
        "\n",
        "# Specific files\n",
        "# Use a wildcard pattern to search for Python (.py) files in the current directory\n",
        "print(glob.glob('*.py'))\n",
        "\n",
        "# Use a more specific pattern to search for files with names starting with a digit and any extension\n",
        "print(glob.glob('./[0-9].*'))\n"
      ],
      "metadata": {
        "colab": {
          "base_uri": "https://localhost:8080/"
        },
        "id": "06i9oq2OVw8c",
        "outputId": "7d028ae6-9f16-485c-d11e-d2e28ec5a12e"
      },
      "execution_count": 3,
      "outputs": [
        {
          "output_type": "stream",
          "name": "stdout",
          "text": [
            "[]\n",
            "[]\n",
            "[]\n"
          ]
        }
      ]
    },
    {
      "cell_type": "code",
      "source": [
        "# Import the Path class from the pathlib module to work with file paths\n",
        "from pathlib import Path\n",
        "# Iterate over all files and directories in the root directory (\"/\")\n",
        "for path in Path(\"/\").glob(\"*.*\"):\n",
        "    # Print the path (file or directory) to the console\n",
        "    print(path)\n"
      ],
      "metadata": {
        "colab": {
          "base_uri": "https://localhost:8080/"
        },
        "id": "e_KWZA0mVxxg",
        "outputId": "596d1910-f070-4caf-e966-c644a24e4449"
      },
      "execution_count": 4,
      "outputs": [
        {
          "output_type": "stream",
          "name": "stdout",
          "text": [
            "/.dockerenv\n",
            "/cuda-keyring_1.0-1_all.deb\n"
          ]
        }
      ]
    },
    {
      "cell_type": "markdown",
      "source": [
        "## #112\n",
        "Write a Python program to remove the first item from a specified list."
      ],
      "metadata": {
        "id": "4THjTCJrVzZr"
      }
    },
    {
      "cell_type": "code",
      "source": [
        "# Create a list of color names\n",
        "color = [\"Red\", \"Black\", \"Green\", \"White\", \"Orange\"]\n",
        "\n",
        "# Print the original list elements\n",
        "print(\"Original list elements:\")\n",
        "print(color)\n",
        "\n",
        "# Remove the first element (element at index 0) from the list\n",
        "del color[0]\n",
        "# Print the list after removing the first color\n",
        "print(\"After removing the first color: \")\n",
        "print(color)\n",
        "print()\n"
      ],
      "metadata": {
        "colab": {
          "base_uri": "https://localhost:8080/"
        },
        "id": "rPH91QjFV1QN",
        "outputId": "92ce2d68-6b0a-4c05-9e54-c56780aa9e78"
      },
      "execution_count": 5,
      "outputs": [
        {
          "output_type": "stream",
          "name": "stdout",
          "text": [
            "Original list elements:\n",
            "['Red', 'Black', 'Green', 'White', 'Orange']\n",
            "After removing the first color: \n",
            "['Black', 'Green', 'White', 'Orange']\n",
            "\n"
          ]
        }
      ]
    },
    {
      "cell_type": "code",
      "source": [
        "# Create a list of color names\n",
        "color = [\"Red\", \"Black\", \"Green\", \"White\", \"Orange\"]\n",
        "\n",
        "# Print the original list elements\n",
        "print(\"Original list elements:\")\n",
        "print(color)\n",
        "\n",
        "# Print a message indicating the operation that will be performed\n",
        "print(\"\\nAfter removing the first element from the said list:\")\n",
        "\n",
        "# Create a new list 'new_color' by slicing the original list from the second element (index 1) to the end\n",
        "new_color = color[1:]\n",
        "\n",
        "# Print the modified list after removing the first element\n",
        "print(new_color)\n"
      ],
      "metadata": {
        "colab": {
          "base_uri": "https://localhost:8080/"
        },
        "id": "1WUWzkl_V2sN",
        "outputId": "34ab214a-4aeb-465e-fb42-49ba10799088"
      },
      "execution_count": 6,
      "outputs": [
        {
          "output_type": "stream",
          "name": "stdout",
          "text": [
            "Original list elements:\n",
            "['Red', 'Black', 'Green', 'White', 'Orange']\n",
            "\n",
            "After removing the first element from the said list:\n",
            "['Black', 'Green', 'White', 'Orange']\n"
          ]
        }
      ]
    },
    {
      "cell_type": "code",
      "source": [
        "# Create a list of color names\n",
        "color = [\"Red\", \"Black\", \"Green\", \"White\", \"Orange\"]\n",
        "\n",
        "# Print a message indicating the original list elements\n",
        "print(\"Original list elements:\")\n",
        "\n",
        "# Print the original list elements\n",
        "print(color)\n",
        "\n",
        "# Print a message indicating the operation that will be performed\n",
        "print(\"\\nAfter removing the first element from the said list:\")\n",
        "\n",
        "# Remove the element \"Red\" from the list\n",
        "color.remove(\"Red\")\n",
        "\n",
        "# Print the modified list after removing the element\n",
        "print(color)\n"
      ],
      "metadata": {
        "colab": {
          "base_uri": "https://localhost:8080/"
        },
        "id": "i15gjXQcV3gq",
        "outputId": "af9ce261-0dce-4496-f8f5-b08567bfa47c"
      },
      "execution_count": 7,
      "outputs": [
        {
          "output_type": "stream",
          "name": "stdout",
          "text": [
            "Original list elements:\n",
            "['Red', 'Black', 'Green', 'White', 'Orange']\n",
            "\n",
            "After removing the first element from the said list:\n",
            "['Black', 'Green', 'White', 'Orange']\n"
          ]
        }
      ]
    },
    {
      "cell_type": "code",
      "source": [
        "# Define a function named \"tail\" that takes a list \"lst\" as input.\n",
        "def tail(lst):\n",
        "  # Check if the length of the list is greater than 1.\n",
        "  if len(lst) > 1:\n",
        "    # If the list has more than one element, return a new list containing all elements except the first one.\n",
        "    return lst[1:]\n",
        "  else:\n",
        "    # If the list has only one element or is empty, return the original list.\n",
        "    return lst\n",
        "\n",
        "# Call the \"tail\" function with different lists and print the results.\n",
        "print(tail([1, 2, 3, 4]))  # Should print [2, 3, 4]\n",
        "print(tail([1]))          # Should print [1] (no change)\n",
        "print(tail([\"Red\", \"Black\", \"Green\", \"White\", \"Orange\"]))  # Should print [\"Black\", \"Green\", \"White\", \"Orange\"]\n"
      ],
      "metadata": {
        "colab": {
          "base_uri": "https://localhost:8080/"
        },
        "id": "vq9ZQMp0V4g0",
        "outputId": "305940ec-0367-4825-f513-5b7ed9928deb"
      },
      "execution_count": 8,
      "outputs": [
        {
          "output_type": "stream",
          "name": "stdout",
          "text": [
            "[2, 3, 4]\n",
            "[1]\n",
            "['Black', 'Green', 'White', 'Orange']\n"
          ]
        }
      ]
    },
    {
      "cell_type": "markdown",
      "source": [
        "## #113\n",
        "Write a Python program that inputs a number and generates an error message if it is not a number."
      ],
      "metadata": {
        "id": "vYWXzmhHV5rg"
      }
    },
    {
      "cell_type": "code",
      "source": [
        "# Create an infinite loop using \"while True.\"\n",
        "while True:\n",
        "    try:\n",
        "        # Try to read an integer input from the user and store it in variable \"a.\"\n",
        "        a = int(input(\"Input a number: \"))\n",
        "        # If successful, break out of the loop and continue with the next code.\n",
        "        break\n",
        "    except ValueError:\n",
        "        # If the input is not a valid integer, an exception (ValueError) is raised.\n",
        "        # In that case, print an error message and prompt the user to try again.\n",
        "        print(\"\\nThis is not a number. Try again...\")\n",
        "        print()\n"
      ],
      "metadata": {
        "colab": {
          "base_uri": "https://localhost:8080/"
        },
        "id": "EGGf4fAEV7v-",
        "outputId": "ec6f09d1-f590-4842-ff89-783f2c0c7b1d"
      },
      "execution_count": 9,
      "outputs": [
        {
          "name": "stdout",
          "output_type": "stream",
          "text": [
            "Input a number: dbs\n",
            "\n",
            "This is not a number. Try again...\n",
            "\n",
            "Input a number: afe\n",
            "\n",
            "This is not a number. Try again...\n",
            "\n",
            "Input a number: 185\n"
          ]
        }
      ]
    },
    {
      "cell_type": "code",
      "source": [
        "# Define a variable \"x\" and initialize it with the float value 1.23.\n",
        "x = 1.23\n",
        "\n",
        "# Check if \"x\" is an integer by using the \"is_integer()\" method, which returns a boolean value.\n",
        "x_int = x.is_integer()\n",
        "\n",
        "# Print a message to indicate that we are checking if \"x\" is an integer.\n",
        "print(\"Check if x is an integer!\")\n",
        "\n",
        "# Print the result of the check for \"x\" being an integer.\n",
        "print(x_int)\n",
        "\n",
        "# Define a variable \"y\" and initialize it with the float value 1.0.\n",
        "y = 1.0\n",
        "\n",
        "# Check if \"y\" is an integer by using the \"is_integer()\" method, which returns a boolean value.\n",
        "y_int = y.is_integer()\n",
        "\n",
        "# Print a message to indicate that we are checking if \"y\" is an integer.\n",
        "print(\"Check if y is an integer!\")\n",
        "\n",
        "# Print the result of the check for \"y\" being an integer.\n",
        "print(y_int)\n"
      ],
      "metadata": {
        "colab": {
          "base_uri": "https://localhost:8080/"
        },
        "id": "qRdZysA8V9e5",
        "outputId": "81503117-d97a-4a65-c31d-fe4d13255e7d"
      },
      "execution_count": 10,
      "outputs": [
        {
          "output_type": "stream",
          "name": "stdout",
          "text": [
            "Check if x is an integer!\n",
            "False\n",
            "Check if y is an integer!\n",
            "True\n"
          ]
        }
      ]
    },
    {
      "cell_type": "code",
      "source": [
        "# Define a variable \"x\" and initialize it with the float value 1.0.\n",
        "x = 1.0\n",
        "\n",
        "# Check if \"x\" is an integer by using the \"isinstance()\" function, which returns a boolean value.\n",
        "x_int = isinstance(x, int)\n",
        "\n",
        "# Print a message to indicate that we are checking if \"x\" is an integer.\n",
        "print(\"Check if x is an integer!\")\n",
        "\n",
        "# Print the result of the check for \"x\" being an integer.\n",
        "print(x_int)\n",
        "\n",
        "# Define a variable \"y\" and initialize it with the integer value 1.\n",
        "y = 1\n",
        "\n",
        "# Check if \"y\" is an integer by using the \"isinstance()\" function, which returns a boolean value.\n",
        "y_int = isinstance(y, int)\n",
        "\n",
        "# Print a message to indicate that we are checking if \"y\" is an integer.\n",
        "print(\"Check if y is an integer!\")\n",
        "\n",
        "# Print the result of the check for \"y\" being an integer.\n",
        "print(y_int)\n"
      ],
      "metadata": {
        "colab": {
          "base_uri": "https://localhost:8080/"
        },
        "id": "wTLPJr-TV-RB",
        "outputId": "52946d73-f8bb-42a6-dcb7-0e0d0c71d17f"
      },
      "execution_count": 11,
      "outputs": [
        {
          "output_type": "stream",
          "name": "stdout",
          "text": [
            "Check if x is an integer!\n",
            "False\n",
            "Check if y is an integer!\n",
            "True\n"
          ]
        }
      ]
    },
    {
      "cell_type": "markdown",
      "source": [
        "## #114\n",
        "Write a Python program to filter positive numbers from a list.\n",
        "\n",
        "Positive Numbers: Any number above zero is known as a positive number. Positive numbers are written without any sign or a '+' sign in front of them and they are counted up from zero, i.e. 1, + 2, 3, +4 etc."
      ],
      "metadata": {
        "id": "gl36opNEV_8h"
      }
    },
    {
      "cell_type": "code",
      "source": [
        "# Define a list named \"nums\" containing a series of integers.\n",
        "nums = [34, 1, 0, -23, 12, -88]\n",
        "\n",
        "# Print a message along with the original list of numbers.\n",
        "print(\"Original numbers in the list: \", nums)\n",
        "\n",
        "# Create a new list \"new_nums\" by using the \"filter\" function with a lambda function\n",
        "# that filters out positive numbers from the \"nums\" list.\n",
        "new_nums = list(filter(lambda x: x > 0, nums))\n",
        "\n",
        "# Print a message along with the list of positive numbers from the \"nums\" list.\n",
        "print(\"Positive numbers in the said list: \", new_nums)\n"
      ],
      "metadata": {
        "colab": {
          "base_uri": "https://localhost:8080/"
        },
        "id": "FewgBpW-WBXr",
        "outputId": "c6dbea84-55b8-4676-8d80-132f57ba7121"
      },
      "execution_count": 12,
      "outputs": [
        {
          "output_type": "stream",
          "name": "stdout",
          "text": [
            "Original numbers in the list:  [34, 1, 0, -23, 12, -88]\n",
            "Positive numbers in the said list:  [34, 1, 12]\n"
          ]
        }
      ]
    },
    {
      "cell_type": "code",
      "source": [
        "# Define a list named \"nums\" containing a series of integers.\n",
        "nums = [34, 1, 0, -23, 12, -88]\n",
        "\n",
        "# Print a message along with the original list of numbers.\n",
        "print(\"Original numbers in the list: \", nums)\n",
        "\n",
        "# Print a message indicating that positive numbers in the list will be listed.\n",
        "print(\"Positive numbers in the said list: \")\n",
        "\n",
        "# Iterate through each number in the \"nums\" list.\n",
        "for pos_nums in nums:\n",
        "    # Check if the number is greater than 0 (positive).\n",
        "    if pos_nums > 0:\n",
        "        # Print positive numbers on the same line with a space separator.\n",
        "        print(pos_nums, end=\" \")\n"
      ],
      "metadata": {
        "colab": {
          "base_uri": "https://localhost:8080/"
        },
        "id": "LIjGlvI4WC0q",
        "outputId": "c9a9be1e-5daa-4933-b56d-11da9bcfe178"
      },
      "execution_count": 13,
      "outputs": [
        {
          "output_type": "stream",
          "name": "stdout",
          "text": [
            "Original numbers in the list:  [34, 1, 0, -23, 12, -88]\n",
            "Positive numbers in the said list: \n",
            "34 1 12 "
          ]
        }
      ]
    },
    {
      "cell_type": "code",
      "source": [
        "# Define a list named \"nums\" containing a series of integers.\n",
        "nums = [34, 1, 0, -23, 12, -88]\n",
        "\n",
        "# Print a message along with the original list of numbers.\n",
        "print(\"Original numbers in the list: \", nums)\n",
        "\n",
        "# Create a new list \"pos_nums\" using a list comprehension to filter positive numbers from \"nums.\"\n",
        "# Positive numbers are those greater than 0.\n",
        "pos_nums = [n for n in nums if n > 0]\n",
        "\n",
        "# Print a message indicating that positive numbers in the list will be listed,\n",
        "# followed by the positive numbers separated by a space.\n",
        "print(\"Positive numbers in the said list: \", *pos_nums)\n"
      ],
      "metadata": {
        "colab": {
          "base_uri": "https://localhost:8080/"
        },
        "id": "U-3IpaSBWDoC",
        "outputId": "051d1262-309e-4cef-8ff9-f0f9ae4c0446"
      },
      "execution_count": 14,
      "outputs": [
        {
          "output_type": "stream",
          "name": "stdout",
          "text": [
            "Original numbers in the list:  [34, 1, 0, -23, 12, -88]\n",
            "Positive numbers in the said list:  34 1 12\n"
          ]
        }
      ]
    },
    {
      "cell_type": "markdown",
      "source": [
        "## #115\n",
        "Write a Python program to compute the product of a list of integers (without using a for loop)."
      ],
      "metadata": {
        "id": "Ee3tILcJWFb9"
      }
    },
    {
      "cell_type": "code",
      "source": [
        "# Import the 'reduce' function from the 'functools' module.\n",
        "from functools import reduce\n",
        "\n",
        "# Define a list named 'nums' containing a series of integers.\n",
        "nums = [10, 20, 30]\n",
        "\n",
        "# Print a message along with the original list of numbers.\n",
        "print(\"Original list numbers:\")\n",
        "print(nums)\n",
        "\n",
        "# Calculate the product of the numbers in the list 'nums' using the 'reduce' function\n",
        "# and a lambda function that multiplies two numbers.\n",
        "nums_product = reduce((lambda x, y: x * y), nums)\n",
        "\n",
        "# Print the product of the numbers, obtained without using a for loop.\n",
        "print(\"\\nProduct of the said numbers (without using a for loop):\", nums_product)\n"
      ],
      "metadata": {
        "colab": {
          "base_uri": "https://localhost:8080/"
        },
        "id": "_oaZRtvsWHF5",
        "outputId": "6b469263-37cb-42ad-fd43-406a5c2b02b7"
      },
      "execution_count": 15,
      "outputs": [
        {
          "output_type": "stream",
          "name": "stdout",
          "text": [
            "Original list numbers:\n",
            "[10, 20, 30]\n",
            "\n",
            "Product of the said numbers (without using a for loop): 6000\n"
          ]
        }
      ]
    },
    {
      "cell_type": "code",
      "source": [
        "# Import the 'math' module to access the 'prod' function.\n",
        "import math\n",
        "\n",
        "# Define a list named 'nums' containing a series of integers.\n",
        "nums = [10, 20, 30]\n",
        "\n",
        "# Print a message indicating the original list of numbers.\n",
        "print(\"Original list numbers:\")\n",
        "print(nums)\n",
        "\n",
        "# Calculate the product of the numbers in the list 'nums' using the 'prod' function\n",
        "# from the 'math' module.\n",
        "nums_product = math.prod(nums)\n",
        "\n",
        "# Print the product of the numbers, obtained without using a for loop.\n",
        "print(\"\\nProduct of the said numbers (without using a for loop):\", nums_product)\n"
      ],
      "metadata": {
        "colab": {
          "base_uri": "https://localhost:8080/"
        },
        "id": "pMfgrlNPWIII",
        "outputId": "b9835689-d2af-4956-8616-96fb4e8f83da"
      },
      "execution_count": 16,
      "outputs": [
        {
          "output_type": "stream",
          "name": "stdout",
          "text": [
            "Original list numbers:\n",
            "[10, 20, 30]\n",
            "\n",
            "Product of the said numbers (without using a for loop): 6000\n"
          ]
        }
      ]
    },
    {
      "cell_type": "markdown",
      "source": [
        "## #116\n",
        "Write a Python program to print Unicode characters."
      ],
      "metadata": {
        "id": "LWmnk7SmWJ96"
      }
    },
    {
      "cell_type": "code",
      "source": [
        "# Create a Unicode string by specifying each character's Unicode escape sequence.\n",
        "str = u'\\u0050\\u0079\\u0074\\u0068\\u006f\\u006e \\u0045\\u0078\\u0065\\u0072\\u0063\\u0069\\u0073\\u0065\\u0073 \\u002d \\u0077\\u0033\\u0072\\u0065\\u0073\\u006f\\u0075\\u0072\\u0063\\u0065'\n",
        "\n",
        "# Print a blank line for separation.\n",
        "print()\n",
        "\n",
        "# Print the Unicode string, which will be displayed as \"Python Exercises - w3resource\".\n",
        "print(str)\n",
        "\n",
        "# Print another blank line for separation.\n",
        "print()\n"
      ],
      "metadata": {
        "colab": {
          "base_uri": "https://localhost:8080/"
        },
        "id": "CctIN_XGWLDw",
        "outputId": "00b0d486-b295-4fee-b5ff-3202242cd614"
      },
      "execution_count": 17,
      "outputs": [
        {
          "output_type": "stream",
          "name": "stdout",
          "text": [
            "\n",
            "Python Exercises - w3resource\n",
            "\n"
          ]
        }
      ]
    },
    {
      "cell_type": "markdown",
      "source": [
        "## #117\n",
        "Write a Python program to prove that two string variables of the same value point to the same memory location."
      ],
      "metadata": {
        "id": "tHlfm8F6WOAw"
      }
    },
    {
      "cell_type": "code",
      "source": [
        "# Define two string variables, str1 and str2, both containing the string \"Python\".\n",
        "str1 = \"Python\"\n",
        "str2 = \"Python\"\n",
        "\n",
        "# Print the memory location (in hexadecimal) of str1 and str2 using the id() function.\n",
        "print(\"\\nMemory location of str1 =\", hex(id(str1)))\n",
        "print(\"Memory location of str2 =\", hex(id(str2)))\n",
        "\n",
        "# Print a blank line for separation.\n",
        "print()\n"
      ],
      "metadata": {
        "colab": {
          "base_uri": "https://localhost:8080/"
        },
        "id": "Agtl8yrUWQNF",
        "outputId": "10b79863-8378-41c0-ced0-67437853bc91"
      },
      "execution_count": 18,
      "outputs": [
        {
          "output_type": "stream",
          "name": "stdout",
          "text": [
            "\n",
            "Memory location of str1 = 0x7de1d8ac75b0\n",
            "Memory location of str2 = 0x7de1d8ac75b0\n",
            "\n"
          ]
        }
      ]
    },
    {
      "cell_type": "markdown",
      "source": [
        "## #118\n",
        "Write a Python program to create a bytearray from a list."
      ],
      "metadata": {
        "id": "ZEKQ2tmfWSXh"
      }
    },
    {
      "cell_type": "code",
      "source": [
        "# Print a blank line for separation.\n",
        "print()\n",
        "\n",
        "# Create a list of integers called nums.\n",
        "nums = [10, 20, 56, 35, 17, 99]\n",
        "\n",
        "# Create a bytearray from the list of integers.\n",
        "values = bytearray(nums)\n",
        "\n",
        "# Iterate through the elements of the bytearray and print each element.\n",
        "for x in values:\n",
        "    print(x)\n",
        "\n",
        "# Print a blank line for separation.\n",
        "print()\n"
      ],
      "metadata": {
        "colab": {
          "base_uri": "https://localhost:8080/"
        },
        "id": "PU0MN31eWT8y",
        "outputId": "dd10794a-f4f9-43e1-ce0f-f707471e8533"
      },
      "execution_count": 19,
      "outputs": [
        {
          "output_type": "stream",
          "name": "stdout",
          "text": [
            "\n",
            "10\n",
            "20\n",
            "56\n",
            "35\n",
            "17\n",
            "99\n",
            "\n"
          ]
        }
      ]
    },
    {
      "cell_type": "markdown",
      "source": [
        "## #119\n",
        "Write a Python program to round a floating-point number to a specified number of decimal places."
      ],
      "metadata": {
        "id": "bHcQ2qU8WVaf"
      }
    },
    {
      "cell_type": "code",
      "source": [
        "# Define the order amount as a floating-point number.\n",
        "order_amt = 212.374\n",
        "\n",
        "# Print the total order amount with 6 decimal places.\n",
        "print('\\nThe total order amount comes to %f' % order_amt)\n",
        "\n",
        "# Print the total order amount with 2 decimal places using string formatting.\n",
        "print('The total order amount comes to %.2f' % order_amt)\n",
        "\n",
        "# Print a blank line for formatting.\n",
        "print()\n"
      ],
      "metadata": {
        "colab": {
          "base_uri": "https://localhost:8080/"
        },
        "id": "Vtr7pLnLWWv8",
        "outputId": "66cd7c64-ccca-4882-bff6-cfb4af4e9e9c"
      },
      "execution_count": 20,
      "outputs": [
        {
          "output_type": "stream",
          "name": "stdout",
          "text": [
            "\n",
            "The total order amount comes to 212.374000\n",
            "The total order amount comes to 212.37\n",
            "\n"
          ]
        }
      ]
    },
    {
      "cell_type": "code",
      "source": [
        "# Define the order amount as a floating-point number.\n",
        "order_amt = 212.374\n",
        "\n",
        "# Print the total order amount with 6 decimal places using format.\n",
        "print(\"\\nThe total order amount comes to {:0.6f}\".format(order_amt))\n",
        "\n",
        "# Print the total order amount with 2 decimal places using format.\n",
        "print(\"\\nThe total order amount comes to {:0.2f}\".format(order_amt))\n"
      ],
      "metadata": {
        "colab": {
          "base_uri": "https://localhost:8080/"
        },
        "id": "WFEIiUOqWXfL",
        "outputId": "817f0675-2715-46b5-c01f-9fdbfd27ce7b"
      },
      "execution_count": 21,
      "outputs": [
        {
          "output_type": "stream",
          "name": "stdout",
          "text": [
            "\n",
            "The total order amount comes to 212.374000\n",
            "\n",
            "The total order amount comes to 212.37\n"
          ]
        }
      ]
    },
    {
      "cell_type": "markdown",
      "source": [
        "## #120\n",
        "Write a Python program to format a specified string and limit the length of a string."
      ],
      "metadata": {
        "id": "uIruD3HgWZak"
      }
    },
    {
      "cell_type": "code",
      "source": [
        "# Define a string containing a numeric value.\n",
        "str_num = \"1234567890\"\n",
        "\n",
        "# Print the original string.\n",
        "print(\"Original string:\", str_num)\n",
        "\n",
        "# Print the first 6 characters of the string.\n",
        "print('%.6s' % str_num)\n",
        "\n",
        "# Print the first 9 characters of the string.\n",
        "print('%.9s' % str_num)\n",
        "\n",
        "# Print the entire string (first 10 characters) as it is.\n",
        "print('%.10s' % str_num)\n"
      ],
      "metadata": {
        "colab": {
          "base_uri": "https://localhost:8080/"
        },
        "id": "Q1mxruJyWaxs",
        "outputId": "62a14aca-8815-4284-9499-7073592ef922"
      },
      "execution_count": 22,
      "outputs": [
        {
          "output_type": "stream",
          "name": "stdout",
          "text": [
            "Original string: 1234567890\n",
            "123456\n",
            "123456789\n",
            "1234567890\n"
          ]
        }
      ]
    },
    {
      "cell_type": "markdown",
      "source": [
        "## #121\n",
        "Write a Python program to determine if a variable is defined or not"
      ],
      "metadata": {
        "id": "JmeqB1wdXGfS"
      }
    },
    {
      "cell_type": "code",
      "source": [
        "# Try to execute a block of code\n",
        "try:\n",
        "  x = 1\n",
        "except NameError:\n",
        "  print(\"Variable is not defined....!\")\n",
        "else:\n",
        "  print(\"Variable is defined.\")\n",
        "\n",
        "# Try to execute another block of code that references an undefined variable\n",
        "try:\n",
        "  fry\n",
        "except NameError:\n",
        "  print(\"Variable is not defined....!\")\n",
        "else:\n",
        "  print(\"Variable is defined.\")"
      ],
      "metadata": {
        "id": "sXVk2l7ZXKzi",
        "outputId": "aff26d3b-c597-4f40-de85-d4881e4d156e",
        "colab": {
          "base_uri": "https://localhost:8080/"
        }
      },
      "execution_count": 25,
      "outputs": [
        {
          "output_type": "stream",
          "name": "stdout",
          "text": [
            "Variable is defined.\n",
            "Variable is not defined....!\n"
          ]
        }
      ]
    },
    {
      "cell_type": "markdown",
      "source": [
        "## #122\n",
        "Write a Python program to empty a variable without destroying it\n",
        "\n",
        "type() returns the type of an object, which when called produces an 'empty' new value\n",
        "\n",
        "Sample data: n=20\n",
        "d = {\"x\":200}\n",
        "Expected Output: 0\n",
        "{}"
      ],
      "metadata": {
        "id": "yLD6QnmnXp2c"
      }
    },
    {
      "cell_type": "code",
      "source": [
        "# Define a variable n with a value of 20.\n",
        "n = 20\n",
        "\n",
        "# Define a dictionary d with a key \"x\" and a value of 200\n",
        "d = {\"x\": 200}\n",
        "\n",
        "# Define a list 1 with elements 1, 3, and 5\n",
        "l = [1, 3, 5]\n",
        "\n",
        "# Define a tuple t with elements 5, 7, and 8\n",
        "t = (5, 7, 8)\n",
        "\n",
        "# Print the type of n and create an instance of that type with no arguments\n",
        "print(type(n)())\n",
        "\n",
        "# Print the type of d and create an instance of that type with no arguments\n",
        "print(type(d)())\n",
        "\n",
        "# Print the type of l and create an instance of that type with no arguments\n",
        "print(type(l)())\n",
        "\n",
        "# Print the type of t and create an instance of that type with no arguments\n",
        "print(type(t)())"
      ],
      "metadata": {
        "id": "8wLHOXZAX5sB",
        "outputId": "a24719ff-5f5c-48cb-93e0-088c21efb5e1",
        "colab": {
          "base_uri": "https://localhost:8080/"
        }
      },
      "execution_count": 26,
      "outputs": [
        {
          "output_type": "stream",
          "name": "stdout",
          "text": [
            "0\n",
            "{}\n",
            "[]\n",
            "()\n"
          ]
        }
      ]
    },
    {
      "cell_type": "code",
      "source": [
        "# Define a function called Empty_Var that takes a list lst as input\n",
        "def Empty_Var(lst):\n",
        "  # Create a new list by initializing elements of the same type as those in the input list\n",
        "  return [type(i)() for i in lst]\n",
        "\n",
        "# Create a list called lst containing various types of objects\n",
        "lst = [\"python\", {\"x\": 12}, [10, 12, \"sfsd\"], (4, 5), 200]\n",
        "\n",
        "# Print the original objects contained in the list\n",
        "print(\"Original objects:\")\n",
        "print(lst)\n",
        "\n",
        "# Print a message and result of emptying the variables without destroying them\n",
        "print(\"\\nEmpty the said variables without destroying them:\")\n",
        "print(Empty_Var(lst))"
      ],
      "metadata": {
        "id": "E2BB27ziYj00",
        "outputId": "f2242597-fe7a-4aa8-f8a4-862a069dcb5e",
        "colab": {
          "base_uri": "https://localhost:8080/"
        }
      },
      "execution_count": 29,
      "outputs": [
        {
          "output_type": "stream",
          "name": "stdout",
          "text": [
            "Original objects:\n",
            "['python', {'x': 12}, [10, 12, 'sfsd'], (4, 5), 200]\n",
            "\n",
            "Empty the said variables without destroying them:\n",
            "['', {}, [], (), 0]\n"
          ]
        }
      ]
    },
    {
      "cell_type": "markdown",
      "source": [
        "## #123\n",
        "Write a Python program to determine the largest and smallest integers, longs, and floats"
      ],
      "metadata": {
        "id": "OC75n_Y3ZM5j"
      }
    },
    {
      "cell_type": "code",
      "source": [
        "# Import the sys module to access system-related information\n",
        "import sys\n",
        "\n",
        "# Print information about the float data type\n",
        "print(\"Float value information: \", sys.float_info)\n",
        "\n",
        "# Print information about the data type (Note: there is no sys.int_info, this is incorrect)\n",
        "print(\"\\nInteger value information: \", sys.int_info)\n",
        "\n",
        "# Print the maximum size of an integer that can be represented on the current system\n",
        "print(\"\\nMaximum size of an integer: \", sys.maxsize)"
      ],
      "metadata": {
        "id": "OLu7ZO83ZEJ7",
        "outputId": "e81ef09b-4536-4f87-c204-200d75c0e796",
        "colab": {
          "base_uri": "https://localhost:8080/"
        }
      },
      "execution_count": 30,
      "outputs": [
        {
          "output_type": "stream",
          "name": "stdout",
          "text": [
            "Float value information:  sys.float_info(max=1.7976931348623157e+308, max_exp=1024, max_10_exp=308, min=2.2250738585072014e-308, min_exp=-1021, min_10_exp=-307, dig=15, mant_dig=53, epsilon=2.220446049250313e-16, radix=2, rounds=1)\n",
            "\n",
            "Integer value information:  sys.int_info(bits_per_digit=30, sizeof_digit=4, default_max_str_digits=4300, str_digits_check_threshold=640)\n",
            "\n",
            "Maximum size of an integer:  9223372036854775807\n"
          ]
        }
      ]
    },
    {
      "cell_type": "markdown",
      "source": [
        "## #124\n",
        "Write a Python program to check whether multiple variables have the same value"
      ],
      "metadata": {
        "id": "WqOpLgJqZ0hR"
      }
    },
    {
      "cell_type": "code",
      "source": [
        "# Assign the value 20 to the variable x\n",
        "x = 20\n",
        "\n",
        "# Assign the value 20 to the variable y\n",
        "y = 20\n",
        "\n",
        "# Assign the value 20 to the variable z\n",
        "z = 20\n",
        "\n",
        "# Check if all variables have the value 20 using the equality (==) operator\n",
        "if x == y == z == 20:\n",
        "  print(\"All variables have the same value!\")"
      ],
      "metadata": {
        "id": "IMSufyJYZ5dO",
        "outputId": "ea08495a-a519-431a-c143-fea4e1f099a7",
        "colab": {
          "base_uri": "https://localhost:8080/"
        }
      },
      "execution_count": 31,
      "outputs": [
        {
          "output_type": "stream",
          "name": "stdout",
          "text": [
            "All variables have the same value!\n"
          ]
        }
      ]
    },
    {
      "cell_type": "code",
      "source": [
        "# Define a function that checks if all variables passed as arguments have the same value\n",
        "def multiple_variables_equality(*vars):\n",
        "  # Iterate through the variables in the argument list\n",
        "  for x in vars:\n",
        "    # Check if the current variable is not equal to the first variable\n",
        "    if x != vars[0]:\n",
        "      return \"All variables do not have the same value.\"\n",
        "  return \"All variables have the same value.\"\n",
        "\n",
        "# Call the function with different sets of variables and print the result\n",
        "print(multiple_variables_equality(2, 3, 2, 2, 2, 2))\n",
        "print(multiple_variables_equality(10, 10, 10, 10))\n",
        "print(multiple_variables_equality(-3, -3, -3, -3))"
      ],
      "metadata": {
        "id": "sBINzrDCaJ-f",
        "outputId": "7639d3e2-2df8-4503-e5ae-1655f7345390",
        "colab": {
          "base_uri": "https://localhost:8080/"
        }
      },
      "execution_count": 32,
      "outputs": [
        {
          "output_type": "stream",
          "name": "stdout",
          "text": [
            "All variables do not have the same value.\n",
            "All variables have the same value.\n",
            "All variables have the same value.\n"
          ]
        }
      ]
    },
    {
      "cell_type": "markdown",
      "source": [
        "## #125\n",
        "Write a Python program to sum all counts in a collection"
      ],
      "metadata": {
        "id": "sz-rFV35awAc"
      }
    },
    {
      "cell_type": "code",
      "source": [
        "# Import the 'collections' module, which provides the 'Counter' class\n",
        "import collections\n",
        "\n",
        "# Define a list of numbers\n",
        "num = [2, 2, 4, 6, 6, 8, 6, 10, 4]\n",
        "\n",
        "# Use 'collections.Counter' to count the occurrences of each number and sum the values\n",
        "# 'sum(collections.Counter(num).values())' calculates the sum of these counts\n",
        "result = sum(collections.Counter(num).values())\n",
        "\n",
        "# Print the result, which is the sum of the counts\n",
        "print(result)"
      ],
      "metadata": {
        "id": "qMZMua_1a0G_",
        "outputId": "b92cf1e7-f45f-45dd-df72-c332042c8b8e",
        "colab": {
          "base_uri": "https://localhost:8080/"
        }
      },
      "execution_count": 33,
      "outputs": [
        {
          "output_type": "stream",
          "name": "stdout",
          "text": [
            "9\n"
          ]
        }
      ]
    },
    {
      "cell_type": "code",
      "source": [
        "# Create a list 'nums' containing various integer values\n",
        "nums = [2, 2, 4, 6, 6, 8, 6, 10, 4]\n",
        "\n",
        "# Calculate and print the length (number of elements) of the 'nums' list\n",
        "print(len(nums))"
      ],
      "metadata": {
        "id": "FnhROPQ8bMe4",
        "outputId": "bdfd46fc-f07e-47a8-d081-b9b65c28acb7",
        "colab": {
          "base_uri": "https://localhost:8080/"
        }
      },
      "execution_count": 34,
      "outputs": [
        {
          "output_type": "stream",
          "name": "stdout",
          "text": [
            "9\n"
          ]
        }
      ]
    },
    {
      "cell_type": "markdown",
      "source": [
        "## #126\n",
        "Write a Python program to get the actual module object for a given object"
      ],
      "metadata": {
        "id": "M4zBcZPXba2o"
      }
    },
    {
      "cell_type": "code",
      "source": [
        "# Import the 'getmodule' function from the 'inspect' module\n",
        "from inspect import getmodule\n",
        "\n",
        "# Import the 'sqrt' function from the 'math' module\n",
        "from math import sqrt\n",
        "\n",
        "# Use the 'getmodule' function to get the module where the 'sqrt' function is defined\n",
        "# Then, print the module information for the 'sqrt' function\n",
        "print(getmodule(sqrt))"
      ],
      "metadata": {
        "id": "fq5azYN-blyg",
        "outputId": "1c2a529d-bad3-4e07-b0dc-90ea8822e6d6",
        "colab": {
          "base_uri": "https://localhost:8080/"
        }
      },
      "execution_count": 35,
      "outputs": [
        {
          "output_type": "stream",
          "name": "stdout",
          "text": [
            "<module 'math' (built-in)>\n"
          ]
        }
      ]
    },
    {
      "cell_type": "code",
      "source": [
        "# Import the 'inspect' module\n",
        "import inspect\n",
        "\n",
        "# Define a function named 'add' that takes two arguments, 'x' and 'y'\n",
        "def add(x, y):\n",
        "  return x + y\n",
        "\n",
        "# Use the 'inspect.getmodule' function to get the module where the 'add' function is defined\n",
        "# Then, print the module information for the 'add' function\n",
        "print(inspect.getmodule(add))"
      ],
      "metadata": {
        "id": "72qt6ZKjb5X6",
        "outputId": "59a6c9e8-75de-4287-b3c1-1e7927f96e35",
        "colab": {
          "base_uri": "https://localhost:8080/"
        }
      },
      "execution_count": 36,
      "outputs": [
        {
          "output_type": "stream",
          "name": "stdout",
          "text": [
            "<module '__main__'>\n"
          ]
        }
      ]
    },
    {
      "cell_type": "markdown",
      "source": [
        "## #127\n",
        "Write a Python program to check whether an integer fits in 64 bits"
      ],
      "metadata": {
        "id": "KvHSzEAdcPhM"
      }
    },
    {
      "cell_type": "code",
      "source": [
        "# Assign the integer value 30 to the variable 'int_val'.\n",
        "int_val = 30\n",
        "\n",
        "# Check if the bit length of 'int_val' is less than or equal to 63.\n",
        "if int_val.bit_length() <= 63:\n",
        "    # Print the bit length of the minimum 64-bit signed integer (-2^63).\n",
        "    print((-2 ** 63).bit_length())\n",
        "\n",
        "    # Print the bit length of the maximum 64-bit signed integer (2^63 - 1).\n",
        "    print((2 ** 63).bit_length())"
      ],
      "metadata": {
        "id": "PGGOa7PJcTp-",
        "outputId": "829e95ab-cfee-455c-dbcd-03bf5aac40ef",
        "colab": {
          "base_uri": "https://localhost:8080/"
        }
      },
      "execution_count": 38,
      "outputs": [
        {
          "output_type": "stream",
          "name": "stdout",
          "text": [
            "64\n",
            "64\n"
          ]
        }
      ]
    },
    {
      "cell_type": "markdown",
      "source": [
        "## #128\n",
        "Write a Python program to check whether lowercase letters exist in a string"
      ],
      "metadata": {
        "id": "uPIufFeUc3AC"
      }
    },
    {
      "cell_type": "code",
      "source": [
        "# ASsign the string 'A8238i823acdeOUEI' to the variable 'str1'\n",
        "str1 = 'A8238i823acdeOUEI'\n",
        "\n",
        "# Check if there is any lowercase character in the string 'str1'\n",
        "# The 'any' function returns True if at least one character is lowercase\n",
        "print(any(c.islower() for c in str1))"
      ],
      "metadata": {
        "id": "Etm3j-5Ec2fD",
        "outputId": "d232e722-3d93-4b22-f03c-44b6708736fb",
        "colab": {
          "base_uri": "https://localhost:8080/"
        }
      },
      "execution_count": 39,
      "outputs": [
        {
          "output_type": "stream",
          "name": "stdout",
          "text": [
            "True\n"
          ]
        }
      ]
    },
    {
      "cell_type": "code",
      "source": [
        "# Define a function 'lower_case_str' that takes a text as input\n",
        "def lower_case_str(text):\n",
        "  # Initalize a counter variable 'ctr' to keep track of lowercase characters\n",
        "  ctr = 0\n",
        "\n",
        "  # Iterate through each character in the 'text'\n",
        "  for char in text:\n",
        "    # Check if the character's Unicode value falls within the lowercase letters range\n",
        "    if (ord(char) >= 97 and ord(char) <= 122):\n",
        "      ctr = ctr + 1\n",
        "\n",
        "  # If 'ctr' is greater than 0, it means at least one lowercase character was found\n",
        "  if (ctr > 0):\n",
        "    return True\n",
        "\n",
        "# Define a string 'str1' with mixed characters\n",
        "str1 = 'A8238i823acdeOUEI'\n",
        "print(\"Original string:\", str1)\n",
        "\n",
        "# Call the 'lower_case_str' function to check if lowercase letters exist in 'str1'\n",
        "print(\"Lowercase letters exist in the said string: \", lower_case_str(str1))\n",
        "\n",
        "# Repeat the above steps for different strings\n",
        "str1 = 'PYTHON'\n",
        "print(\"\\nOriginal string:\", str1)\n",
        "print(\"Lowercase letters exist in the said string: \", lower_case_str(str1))\n",
        "\n",
        "str1 = 'javascript'\n",
        "print(\"\\nOriginal string:\", str1)\n",
        "print(\"Lowercase letters exist in the said string: \", lower_case_str(str1))"
      ],
      "metadata": {
        "id": "oxdF0HmadOFq",
        "outputId": "f43a8bf2-f845-4b38-e274-6ce5f734bc7e",
        "colab": {
          "base_uri": "https://localhost:8080/"
        }
      },
      "execution_count": 40,
      "outputs": [
        {
          "output_type": "stream",
          "name": "stdout",
          "text": [
            "Original string: A8238i823acdeOUEI\n",
            "Lowercase letters exist in the said string:  True\n",
            "\n",
            "Original string: PYTHON\n",
            "Lowercase letters exist in the said string:  None\n",
            "\n",
            "Original string: javascript\n",
            "Lowercase letters exist in the said string:  True\n"
          ]
        }
      ]
    },
    {
      "cell_type": "code",
      "source": [
        "# Define a function 'lower_case_str' that takes a text as input\n",
        "def lower_case_str(text):\n",
        "  # Check if the entire text is in lowercase using 'islower()' method\n",
        "  if text.islower():\n",
        "    return True\n",
        "  return False\n",
        "\n",
        "# Print a message to indicate the purpose of the code\n",
        "print(\"Check if all input alphabets are small!\")\n",
        "\n",
        "# Define a string 'str1' with mixed characters\n",
        "str1 = 'A8238i823acdeOUEI'\n",
        "print(\"\\nOriginal string:\", str1)\n",
        "\n",
        "# Call the 'lower_case_str' function to check if all characters in 'str1' are lowercase\n",
        "print(\"Lowercase letters in the said string: \", lower_case_str(str1))\n",
        "\n",
        "# Repeat the above steps for different strings\n",
        "str1 = 'PYTHON'\n",
        "print(\"\\nOriginal string:\", str1)\n",
        "print(\"Lowercase letters exist in the said string: \", lower_case_str(str1))\n",
        "\n",
        "str1 = 'javascript'\n",
        "print(\"\\nOriginal string:\", str1)\n",
        "print(\"Lowercase letters exist in the said string: \", lower_case_str(str1))"
      ],
      "metadata": {
        "id": "3KFvKEvceaEl",
        "outputId": "2c43009b-b8a0-4f26-ada4-a174f238e905",
        "colab": {
          "base_uri": "https://localhost:8080/"
        }
      },
      "execution_count": 42,
      "outputs": [
        {
          "output_type": "stream",
          "name": "stdout",
          "text": [
            "Check if all input alphabets are small!\n",
            "\n",
            "Original string: A8238i823acdeOUEI\n",
            "Lowercase letters in the said string:  False\n",
            "\n",
            "Original string: PYTHON\n",
            "Lowercase letters exist in the said string:  False\n",
            "\n",
            "Original string: javascript\n",
            "Lowercase letters exist in the said string:  True\n"
          ]
        }
      ]
    },
    {
      "cell_type": "markdown",
      "source": [
        "## #129\n",
        "Write a Python program to add leading zeroes to a string"
      ],
      "metadata": {
        "id": "Ga0Qg_effVrH"
      }
    },
    {
      "cell_type": "code",
      "source": [
        "# Define the original string 'str1'\n",
        "str1 = '122.22'\n",
        "print(\"Original String: \", str1)\n",
        "\n",
        "# Print a message to indicate the prupose of the code\n",
        "print(\"\\nAdded trailling zeros:\")\n",
        "\n",
        "# Use the 'ljust' method to add trailling zeros to 'str1' to make its total width 8\n",
        "str1 = str1.ljust(8, '0')\n",
        "print(str1)\n",
        "\n",
        "# Repeat the process to make the total width 10\n",
        "str1 = str1.ljust(10, '0')\n",
        "print(str1)\n",
        "\n",
        "# Print a message to indicate the addition of leading zeros\n",
        "print(\"\\nAdded leading zeros:\")\n",
        "\n",
        "# Reset 'str1' to the original value\n",
        "str1 = '122.22'\n",
        "\n",
        "# Use the 'rjust' method to add leading zeros to 'str1' to make its total width 8\n",
        "str1 = str1.rjust(8, '0')\n",
        "print(str1)\n",
        "\n",
        "# Repeat the process to make the total width 10\n",
        "str1 = str1.rjust(10, '0')\n",
        "print(str1)"
      ],
      "metadata": {
        "id": "UcxeX7q9fZZA",
        "outputId": "a6b3743c-fcc4-43fa-ab42-145c01a20b6f",
        "colab": {
          "base_uri": "https://localhost:8080/"
        }
      },
      "execution_count": 43,
      "outputs": [
        {
          "output_type": "stream",
          "name": "stdout",
          "text": [
            "Original String:  122.22\n",
            "\n",
            "Added trailling zeros:\n",
            "122.2200\n",
            "122.220000\n",
            "\n",
            "Added leading zeros:\n",
            "00122.22\n",
            "0000122.22\n"
          ]
        }
      ]
    },
    {
      "cell_type": "code",
      "source": [
        "# Define the original string 'str1'\n",
        "str1 = '122.22'\n",
        "print(\"Original String: \", str1)\n",
        "\n",
        "# Print a message to indicate the purpose of the code\n",
        "print(\"\\nAdded trailling zeros:\")\n",
        "\n",
        "# Define a format text with left alignment and total width of 8\n",
        "f_text = '{:<08}'\n",
        "\n",
        "# Use the 'format' method to add trailing zeros to 'str1' according to the format text\n",
        "str1 = f_text.format(str1)\n",
        "print(str1)\n",
        "\n",
        "# Define a format text with left alignment and total width of 10\n",
        "f_text = '{:<010}'\n",
        "\n",
        "# Repeat the process to make the total width 10\n",
        "str1 = f_text.format(str1)\n",
        "print(str1)\n",
        "\n",
        "# Print a message to indicate the addition of leading zeros\n",
        "print(\"\\nAdded leading zeros:\")\n",
        "\n",
        "# Reset a 'str1' to the original value\n",
        "str1 = '122.22'\n",
        "\n",
        "# Define a format text with right alignment and total width of 8\n",
        "f_text = '{:>08}'\n",
        "\n",
        "# Use the 'format' method to add leading zeros to 'str1' according to the format text\n",
        "str1 = f_text.format(str1)\n",
        "print(str1)\n",
        "\n",
        "# Define a format text with right alightment and total width of 10\n",
        "f_text = '{:>010}'\n",
        "\n",
        "# Repeat the process to make the total width 10\n",
        "str1 = f_text.format(str1)\n",
        "print(str1)"
      ],
      "metadata": {
        "id": "VsQQ-xEKiRfE",
        "outputId": "ac541536-94f1-4899-cd1f-becde7b75158",
        "colab": {
          "base_uri": "https://localhost:8080/"
        }
      },
      "execution_count": 47,
      "outputs": [
        {
          "output_type": "stream",
          "name": "stdout",
          "text": [
            "Original String:  122.22\n",
            "\n",
            "Added trailling zeros:\n",
            "122.2200\n",
            "122.220000\n",
            "\n",
            "Added leading zeros:\n",
            "00122.22\n",
            "0000122.22\n"
          ]
        }
      ]
    },
    {
      "cell_type": "markdown",
      "source": [
        "## #130\n",
        "Write a Python program that uses double quotes to display strings"
      ],
      "metadata": {
        "id": "PMjYVcV2jj_n"
      }
    },
    {
      "cell_type": "code",
      "source": [
        "# Import the 'json' module to work with JSON data\n",
        "import json\n",
        "# Create a Python dictionary with key-value pairs\n",
        "data = {'Alex': 1, 'Suresh': 2, 'Agnessa': 3}\n",
        "\n",
        "# Use the 'json.dumps()' function to convert the dictionary to a JSON-formatted string and print it\n",
        "json_string = json.dumps(data)\n",
        "print(json_string)"
      ],
      "metadata": {
        "id": "11zM55CBjojG",
        "outputId": "ef61eea5-8145-45a1-88e1-326882a4e6b9",
        "colab": {
          "base_uri": "https://localhost:8080/"
        }
      },
      "execution_count": 48,
      "outputs": [
        {
          "output_type": "stream",
          "name": "stdout",
          "text": [
            "{\"Alex\": 1, \"Suresh\": 2, \"Agnessa\": 3}\n"
          ]
        }
      ]
    },
    {
      "cell_type": "markdown",
      "source": [
        "## #131\n",
        "Write a Python program to split a variable length string into variables"
      ],
      "metadata": {
        "id": "5a_ztnKRkDwW"
      }
    },
    {
      "cell_type": "code",
      "source": [
        "# Create a list of variables 'x', 'y', and 'z'\n",
        "var_list = ['a', 'b', 'c']\n",
        "\n",
        "# Assign the first three elements of 'var_list' to 'x', 'y', and 'z'. Use [None] * 3 to ensure enough elements are available\n",
        "x, y, z = (var_list + [None] * 3)[:3]\n",
        "\n",
        "# Print the values of 'x', 'y', and 'z'\n",
        "print(x, y, z)\n",
        "\n",
        "# Create a new list of variables 'x', and 'y'\n",
        "var_list = [100, 20.25]\n",
        "\n",
        "# Assign the first two elements of 'var_list' to 'x' and 'y'. Use [None] * 2 to ensure enough elements are available\n",
        "x, y = (var_list + [None] * 2)[:2]\n",
        "\n",
        "# Print the values of 'x' and 'y'\n",
        "print(x, y)"
      ],
      "metadata": {
        "id": "iC5mbqVQkHxN",
        "outputId": "07c1d3e7-4c4d-448f-b0c0-e161420359fd",
        "colab": {
          "base_uri": "https://localhost:8080/"
        }
      },
      "execution_count": 49,
      "outputs": [
        {
          "output_type": "stream",
          "name": "stdout",
          "text": [
            "a b c\n",
            "100 20.25\n"
          ]
        }
      ]
    },
    {
      "cell_type": "code",
      "source": [
        "# Create a list 'var_list' containing elements 'a', 'b', 'c', 'd', and 'e'.\n",
        "var_list = ['a', 'b', 'c', 'd', 'e']\n",
        "\n",
        "# Assign each element of 'var_list' to variables 'v', 'w', 'x', 'y', and 'z' in that order\n",
        "v, w, x, y, z = var_list\n",
        "\n",
        "# Print the values of variables 'v', 'q', 'x', 'y', and 'z'\n",
        "print(v, w, x, y, z)"
      ],
      "metadata": {
        "id": "oZ4ozqfVksoQ",
        "outputId": "7d17e2f1-cd31-4ed7-ba58-eea22f32cf1b",
        "colab": {
          "base_uri": "https://localhost:8080/"
        }
      },
      "execution_count": 50,
      "outputs": [
        {
          "output_type": "stream",
          "name": "stdout",
          "text": [
            "a b c d e\n"
          ]
        }
      ]
    },
    {
      "cell_type": "markdown",
      "source": [
        "## #132\n",
        "Write a Python program to list the home directory without an absolute path"
      ],
      "metadata": {
        "id": "gnwtJi0elKCv"
      }
    },
    {
      "cell_type": "code",
      "source": [
        "# Import the 'os.path' module to work with file paths and directories\n",
        "import os.path\n",
        "# Use the 'os.path.expanduser()' function to expand the '~' character to the user's home directory\n",
        "# It returns the absolute path to the user's home directory\n",
        "print(os.path.expanduser('~'))"
      ],
      "metadata": {
        "id": "wZ-_dHC-lOzH",
        "outputId": "4760b15f-a1c2-44ba-a012-a87396d6f639",
        "colab": {
          "base_uri": "https://localhost:8080/"
        }
      },
      "execution_count": 51,
      "outputs": [
        {
          "output_type": "stream",
          "name": "stdout",
          "text": [
            "/root\n"
          ]
        }
      ]
    },
    {
      "cell_type": "markdown",
      "source": [
        "## #133\n",
        "Write a Python program to calculate the time runs (difference between start and current time) of a program"
      ],
      "metadata": {
        "id": "7zMJ6zojlfIy"
      }
    },
    {
      "cell_type": "code",
      "source": [
        "# Import the 'default_timer' function from the 'timeit' module to measure elapsed time\n",
        "from timeit import default_timer\n",
        "# Define a function 'timer' that takes an argument 'n'.\n",
        "def timer(n):\n",
        "  # Record the current time using the 'default_timer' function\n",
        "  start = default_timer()\n",
        "\n",
        "  # Some code here (in this case, a loop to print numbers from 0 to 'n')\n",
        "  for row in range(0, n):\n",
        "    print(row)\n",
        "\n",
        "  # Calculate the elapsed time by subtracting the start time from the current time,\n",
        "  # and print the result.\n",
        "  print(default_timer() - start)\n",
        "\n",
        "# Call the 'timer' function with different values of 'n' to measure the execution time\n",
        "timer(5)\n",
        "timer(15)"
      ],
      "metadata": {
        "id": "PFO3iwz9ll44",
        "outputId": "c614f86a-a43d-4b82-8cf4-4973160b71e7",
        "colab": {
          "base_uri": "https://localhost:8080/"
        }
      },
      "execution_count": 52,
      "outputs": [
        {
          "output_type": "stream",
          "name": "stdout",
          "text": [
            "0\n",
            "1\n",
            "2\n",
            "3\n",
            "4\n",
            "0.00017207000018970575\n",
            "0\n",
            "1\n",
            "2\n",
            "3\n",
            "4\n",
            "5\n",
            "6\n",
            "7\n",
            "8\n",
            "9\n",
            "10\n",
            "11\n",
            "12\n",
            "13\n",
            "14\n",
            "0.004938605999996071\n"
          ]
        }
      ]
    }
  ]
}